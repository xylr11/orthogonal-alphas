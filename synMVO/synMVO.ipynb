{
 "cells": [
  {
   "cell_type": "code",
   "execution_count": 59,
   "id": "bfa7ef9b",
   "metadata": {},
   "outputs": [],
   "source": [
    "import polars as pl\n",
    "import seaborn as sns\n",
    "from matplotlib import pyplot as plt\n",
    "import numpy as np\n",
    "import sf_quant.data as sfd\n",
    "import sf_quant.optimizer as sfo\n",
    "from tqdm import tqdm\n",
    "import datetime as dt"
   ]
  },
  {
   "cell_type": "code",
   "execution_count": 10,
   "id": "df546b4c",
   "metadata": {},
   "outputs": [
    {
     "data": {
      "text/html": [
       "<div><style>\n",
       ".dataframe > thead > tr,\n",
       ".dataframe > tbody > tr {\n",
       "  text-align: right;\n",
       "  white-space: pre-wrap;\n",
       "}\n",
       "</style>\n",
       "<small>shape: (20_764_025, 23)</small><table border=\"1\" class=\"dataframe\"><thead><tr><th>date</th><th>barrid</th><th>ticker</th><th>price</th><th>return</th><th>specific_return</th><th>specific_risk</th><th>historical_beta</th><th>predicted_beta</th><th>market_cap</th><th>daily_volume</th><th>bid_ask_spread</th><th>log_return</th><th>momentum</th><th>meanrev</th><th>bab</th><th>momentum_z</th><th>meanrev_z</th><th>bab_z</th><th>momentum_alpha</th><th>meanrev_alpha</th><th>bab_alpha</th><th>fwd_return</th></tr><tr><td>date</td><td>str</td><td>str</td><td>f64</td><td>f64</td><td>f64</td><td>f64</td><td>f64</td><td>f64</td><td>f64</td><td>f64</td><td>f64</td><td>f64</td><td>f64</td><td>f64</td><td>f64</td><td>f64</td><td>f64</td><td>f64</td><td>f64</td><td>f64</td><td>f64</td><td>f64</td></tr></thead><tbody><tr><td>2013-07-31</td><td>&quot;USA06Z1&quot;</td><td>&quot;MDXG&quot;</td><td>6.26</td><td>-0.001595</td><td>-0.00788</td><td>0.550569</td><td>0.328385</td><td>0.34349</td><td>6.006157e8</td><td>121693.0</td><td>0.01</td><td>-0.001596</td><td>null</td><td>null</td><td>-0.34349</td><td>null</td><td>null</td><td>2.149267</td><td>null</td><td>null</td><td>0.059166</td><td>0.009585</td></tr><tr><td>2013-08-01</td><td>&quot;USA06Z1&quot;</td><td>&quot;MDXG&quot;</td><td>6.32</td><td>0.009585</td><td>0.00365</td><td>0.55028</td><td>0.334989</td><td>0.353329</td><td>6.0865392e8</td><td>131728.0</td><td>0.01</td><td>0.009539</td><td>null</td><td>null</td><td>-0.353329</td><td>null</td><td>null</td><td>2.111728</td><td>null</td><td>null</td><td>0.058102</td><td>-0.001582</td></tr><tr><td>2013-08-02</td><td>&quot;USA06Z1&quot;</td><td>&quot;MDXG&quot;</td><td>6.31</td><td>-0.001582</td><td>-0.00731</td><td>0.548074</td><td>0.330713</td><td>0.363624</td><td>6.0769086e8</td><td>43252.0</td><td>0.01</td><td>-0.001583</td><td>null</td><td>null</td><td>-0.363624</td><td>null</td><td>null</td><td>2.086144</td><td>null</td><td>null</td><td>0.057168</td><td>0.022187</td></tr><tr><td>2013-08-05</td><td>&quot;USA06Z1&quot;</td><td>&quot;MDXG&quot;</td><td>6.45</td><td>0.022187</td><td>0.01936</td><td>0.547667</td><td>0.324494</td><td>0.356596</td><td>6.211737e8</td><td>70944.0</td><td>0.02</td><td>0.021944</td><td>null</td><td>null</td><td>-0.356596</td><td>null</td><td>null</td><td>2.098288</td><td>null</td><td>null</td><td>0.057458</td><td>-0.024806</td></tr><tr><td>2013-08-06</td><td>&quot;USA06Z1&quot;</td><td>&quot;MDXG&quot;</td><td>6.29</td><td>-0.024806</td><td>-0.00528</td><td>0.546922</td><td>0.366323</td><td>0.399196</td><td>6.0576474e8</td><td>77085.0</td><td>0.01</td><td>-0.025119</td><td>null</td><td>null</td><td>-0.399196</td><td>null</td><td>null</td><td>2.001238</td><td>null</td><td>null</td><td>0.054726</td><td>-0.081081</td></tr><tr><td>&hellip;</td><td>&hellip;</td><td>&hellip;</td><td>&hellip;</td><td>&hellip;</td><td>&hellip;</td><td>&hellip;</td><td>&hellip;</td><td>&hellip;</td><td>&hellip;</td><td>&hellip;</td><td>&hellip;</td><td>&hellip;</td><td>&hellip;</td><td>&hellip;</td><td>&hellip;</td><td>&hellip;</td><td>&hellip;</td><td>&hellip;</td><td>&hellip;</td><td>&hellip;</td><td>&hellip;</td><td>&hellip;</td></tr><tr><td>2025-09-09</td><td>&quot;USBRKA2&quot;</td><td>&quot;GLIBA&quot;</td><td>36.225</td><td>-0.004261</td><td>0.01121</td><td>0.208427</td><td>0.236481</td><td>0.302514</td><td>1.3226e8</td><td>31025.0</td><td>0.11</td><td>-0.00427</td><td>null</td><td>-0.007341</td><td>-0.302514</td><td>null</td><td>0.37369</td><td>2.013268</td><td>null</td><td>0.003894</td><td>0.020981</td><td>0.000414</td></tr><tr><td>2025-09-10</td><td>&quot;USBRKA2&quot;</td><td>&quot;GLIBA&quot;</td><td>36.24</td><td>0.000414</td><td>0.02305</td><td>0.209547</td><td>0.252015</td><td>0.29845</td><td>1.3231e8</td><td>6298.0</td><td>0.21</td><td>0.000414</td><td>null</td><td>-0.020066</td><td>-0.29845</td><td>null</td><td>0.247624</td><td>2.007619</td><td>null</td><td>0.002594</td><td>0.021035</td><td>0.022351</td></tr><tr><td>2025-09-11</td><td>&quot;USBRKA2&quot;</td><td>&quot;GLIBA&quot;</td><td>37.05</td><td>0.022351</td><td>0.00213</td><td>0.214807</td><td>0.256752</td><td>0.31384</td><td>1.3527e8</td><td>26857.0</td><td>0.25</td><td>0.022105</td><td>null</td><td>-0.065239</td><td>-0.31384</td><td>null</td><td>0.07841</td><td>1.987568</td><td>null</td><td>0.000842</td><td>0.021347</td><td>-0.023752</td></tr><tr><td>2025-09-12</td><td>&quot;USBRKA2&quot;</td><td>&quot;GLIBA&quot;</td><td>36.17</td><td>-0.023752</td><td>-0.00733</td><td>0.219429</td><td>0.257401</td><td>0.328961</td><td>1.3205e8</td><td>8983.0</td><td>0.16</td><td>-0.024039</td><td>null</td><td>-0.043797</td><td>-0.328961</td><td>null</td><td>-0.046662</td><td>1.958489</td><td>null</td><td>-0.000512</td><td>0.021488</td><td>-0.012441</td></tr><tr><td>2025-09-15</td><td>&quot;USBRKA2&quot;</td><td>&quot;GLIBA&quot;</td><td>35.72</td><td>-0.012441</td><td>-0.00794</td><td>0.217817</td><td>0.252982</td><td>0.331983</td><td>1.3041e8</td><td>25995.0</td><td>0.13</td><td>-0.012519</td><td>null</td><td>-0.051115</td><td>-0.331983</td><td>null</td><td>-0.258525</td><td>1.932001</td><td>null</td><td>-0.002816</td><td>0.021041</td><td>null</td></tr></tbody></table></div>"
      ],
      "text/plain": [
       "shape: (20_764_025, 23)\n",
       "┌────────────┬─────────┬────────┬────────┬───┬──────────────┬─────────────┬───────────┬────────────┐\n",
       "│ date       ┆ barrid  ┆ ticker ┆ price  ┆ … ┆ momentum_alp ┆ meanrev_alp ┆ bab_alpha ┆ fwd_return │\n",
       "│ ---        ┆ ---     ┆ ---    ┆ ---    ┆   ┆ ha           ┆ ha          ┆ ---       ┆ ---        │\n",
       "│ date       ┆ str     ┆ str    ┆ f64    ┆   ┆ ---          ┆ ---         ┆ f64       ┆ f64        │\n",
       "│            ┆         ┆        ┆        ┆   ┆ f64          ┆ f64         ┆           ┆            │\n",
       "╞════════════╪═════════╪════════╪════════╪═══╪══════════════╪═════════════╪═══════════╪════════════╡\n",
       "│ 2013-07-31 ┆ USA06Z1 ┆ MDXG   ┆ 6.26   ┆ … ┆ null         ┆ null        ┆ 0.059166  ┆ 0.009585   │\n",
       "│ 2013-08-01 ┆ USA06Z1 ┆ MDXG   ┆ 6.32   ┆ … ┆ null         ┆ null        ┆ 0.058102  ┆ -0.001582  │\n",
       "│ 2013-08-02 ┆ USA06Z1 ┆ MDXG   ┆ 6.31   ┆ … ┆ null         ┆ null        ┆ 0.057168  ┆ 0.022187   │\n",
       "│ 2013-08-05 ┆ USA06Z1 ┆ MDXG   ┆ 6.45   ┆ … ┆ null         ┆ null        ┆ 0.057458  ┆ -0.024806  │\n",
       "│ 2013-08-06 ┆ USA06Z1 ┆ MDXG   ┆ 6.29   ┆ … ┆ null         ┆ null        ┆ 0.054726  ┆ -0.081081  │\n",
       "│ …          ┆ …       ┆ …      ┆ …      ┆ … ┆ …            ┆ …           ┆ …         ┆ …          │\n",
       "│ 2025-09-09 ┆ USBRKA2 ┆ GLIBA  ┆ 36.225 ┆ … ┆ null         ┆ 0.003894    ┆ 0.020981  ┆ 0.000414   │\n",
       "│ 2025-09-10 ┆ USBRKA2 ┆ GLIBA  ┆ 36.24  ┆ … ┆ null         ┆ 0.002594    ┆ 0.021035  ┆ 0.022351   │\n",
       "│ 2025-09-11 ┆ USBRKA2 ┆ GLIBA  ┆ 37.05  ┆ … ┆ null         ┆ 0.000842    ┆ 0.021347  ┆ -0.023752  │\n",
       "│ 2025-09-12 ┆ USBRKA2 ┆ GLIBA  ┆ 36.17  ┆ … ┆ null         ┆ -0.000512   ┆ 0.021488  ┆ -0.012441  │\n",
       "│ 2025-09-15 ┆ USBRKA2 ┆ GLIBA  ┆ 35.72  ┆ … ┆ null         ┆ -0.002816   ┆ 0.021041  ┆ null       │\n",
       "└────────────┴─────────┴────────┴────────┴───┴──────────────┴─────────────┴───────────┴────────────┘"
      ]
     },
     "execution_count": 10,
     "metadata": {},
     "output_type": "execute_result"
    }
   ],
   "source": [
    "alpha_data = pl.read_parquet(\"../signal_weights/signal_data.parquet\").with_columns(pl.col('return').shift(-1).over('barrid').alias('fwd_return'))\n",
    "\n",
    "alpha_data"
   ]
  },
  {
   "cell_type": "code",
   "execution_count": 5,
   "id": "03403557",
   "metadata": {},
   "outputs": [
    {
     "data": {
      "text/html": [
       "<div><style>\n",
       ".dataframe > thead > tr,\n",
       ".dataframe > tbody > tr {\n",
       "  text-align: right;\n",
       "  white-space: pre-wrap;\n",
       "}\n",
       "</style>\n",
       "<small>shape: (20_764_025, 5)</small><table border=\"1\" class=\"dataframe\"><thead><tr><th>date</th><th>barrid</th><th>bab_weight</th><th>meanrev_weight</th><th>momentum_weight</th></tr><tr><td>date</td><td>str</td><td>f64</td><td>f64</td><td>f64</td></tr></thead><tbody><tr><td>1995-06-30</td><td>&quot;USAA191&quot;</td><td>-1.0844e-20</td><td>null</td><td>null</td></tr><tr><td>1995-06-30</td><td>&quot;USAA1W1&quot;</td><td>-9.1201e-22</td><td>null</td><td>null</td></tr><tr><td>1995-06-30</td><td>&quot;USAA1Y1&quot;</td><td>-4.8273e-21</td><td>null</td><td>null</td></tr><tr><td>1995-06-30</td><td>&quot;USAA2L1&quot;</td><td>-4.2673e-21</td><td>null</td><td>null</td></tr><tr><td>1995-06-30</td><td>&quot;USAA311&quot;</td><td>-9.2198e-21</td><td>null</td><td>null</td></tr><tr><td>&hellip;</td><td>&hellip;</td><td>&hellip;</td><td>&hellip;</td><td>&hellip;</td></tr><tr><td>2025-09-15</td><td>&quot;USBQZR1&quot;</td><td>-6.9890e-22</td><td>-1.3553e-20</td><td>null</td></tr><tr><td>2025-09-15</td><td>&quot;USBRGT1&quot;</td><td>-3.7165e-21</td><td>-3.4045e-19</td><td>null</td></tr><tr><td>2025-09-15</td><td>&quot;USBRH21&quot;</td><td>-2.6956e-21</td><td>-9.9263e-20</td><td>null</td></tr><tr><td>2025-09-15</td><td>&quot;USBRKA1&quot;</td><td>-5.5406e-21</td><td>-4.3920e-19</td><td>null</td></tr><tr><td>2025-09-15</td><td>&quot;USBRKA2&quot;</td><td>-4.9619e-21</td><td>-4.2459e-19</td><td>null</td></tr></tbody></table></div>"
      ],
      "text/plain": [
       "shape: (20_764_025, 5)\n",
       "┌────────────┬─────────┬─────────────┬────────────────┬─────────────────┐\n",
       "│ date       ┆ barrid  ┆ bab_weight  ┆ meanrev_weight ┆ momentum_weight │\n",
       "│ ---        ┆ ---     ┆ ---         ┆ ---            ┆ ---             │\n",
       "│ date       ┆ str     ┆ f64         ┆ f64            ┆ f64             │\n",
       "╞════════════╪═════════╪═════════════╪════════════════╪═════════════════╡\n",
       "│ 1995-06-30 ┆ USAA191 ┆ -1.0844e-20 ┆ null           ┆ null            │\n",
       "│ 1995-06-30 ┆ USAA1W1 ┆ -9.1201e-22 ┆ null           ┆ null            │\n",
       "│ 1995-06-30 ┆ USAA1Y1 ┆ -4.8273e-21 ┆ null           ┆ null            │\n",
       "│ 1995-06-30 ┆ USAA2L1 ┆ -4.2673e-21 ┆ null           ┆ null            │\n",
       "│ 1995-06-30 ┆ USAA311 ┆ -9.2198e-21 ┆ null           ┆ null            │\n",
       "│ …          ┆ …       ┆ …           ┆ …              ┆ …               │\n",
       "│ 2025-09-15 ┆ USBQZR1 ┆ -6.9890e-22 ┆ -1.3553e-20    ┆ null            │\n",
       "│ 2025-09-15 ┆ USBRGT1 ┆ -3.7165e-21 ┆ -3.4045e-19    ┆ null            │\n",
       "│ 2025-09-15 ┆ USBRH21 ┆ -2.6956e-21 ┆ -9.9263e-20    ┆ null            │\n",
       "│ 2025-09-15 ┆ USBRKA1 ┆ -5.5406e-21 ┆ -4.3920e-19    ┆ null            │\n",
       "│ 2025-09-15 ┆ USBRKA2 ┆ -4.9619e-21 ┆ -4.2459e-19    ┆ null            │\n",
       "└────────────┴─────────┴─────────────┴────────────────┴─────────────────┘"
      ]
     },
     "execution_count": 5,
     "metadata": {},
     "output_type": "execute_result"
    }
   ],
   "source": [
    "weights_data = pl.read_parquet(\"../signal_weights/weights/updated_weights_pivot.parquet\")\n",
    "\n",
    "weights_data"
   ]
  },
  {
   "cell_type": "code",
   "execution_count": 11,
   "id": "0ea29783",
   "metadata": {},
   "outputs": [
    {
     "data": {
      "text/html": [
       "<div><style>\n",
       ".dataframe > thead > tr,\n",
       ".dataframe > tbody > tr {\n",
       "  text-align: right;\n",
       "  white-space: pre-wrap;\n",
       "}\n",
       "</style>\n",
       "<small>shape: (20_764_025, 11)</small><table border=\"1\" class=\"dataframe\"><thead><tr><th>date</th><th>barrid</th><th>return</th><th>fwd_return</th><th>predicted_beta</th><th>momentum_alpha</th><th>meanrev_alpha</th><th>bab_alpha</th><th>momentum_weight</th><th>meanrev_weight</th><th>bab_weight</th></tr><tr><td>date</td><td>str</td><td>f64</td><td>f64</td><td>f64</td><td>f64</td><td>f64</td><td>f64</td><td>f64</td><td>f64</td><td>f64</td></tr></thead><tbody><tr><td>1995-06-30</td><td>&quot;USAA191&quot;</td><td>0.051471</td><td>-0.013986</td><td>0.823795</td><td>null</td><td>null</td><td>0.003645</td><td>null</td><td>null</td><td>-1.0844e-20</td></tr><tr><td>1995-06-30</td><td>&quot;USAA1W1&quot;</td><td>0.057971</td><td>0.0</td><td>1.105022</td><td>null</td><td>null</td><td>-0.010093</td><td>null</td><td>null</td><td>-9.1201e-22</td></tr><tr><td>1995-06-30</td><td>&quot;USAA1Y1&quot;</td><td>0.028777</td><td>-0.017483</td><td>1.636947</td><td>null</td><td>null</td><td>-0.027408</td><td>null</td><td>null</td><td>-4.8273e-21</td></tr><tr><td>1995-06-30</td><td>&quot;USAA2L1&quot;</td><td>0.036585</td><td>0.002941</td><td>0.725292</td><td>null</td><td>null</td><td>0.010805</td><td>null</td><td>null</td><td>-4.2673e-21</td></tr><tr><td>1995-06-30</td><td>&quot;USAA311&quot;</td><td>0.020134</td><td>-0.006579</td><td>0.798643</td><td>null</td><td>null</td><td>0.005402</td><td>null</td><td>null</td><td>-9.2198e-21</td></tr><tr><td>&hellip;</td><td>&hellip;</td><td>&hellip;</td><td>&hellip;</td><td>&hellip;</td><td>&hellip;</td><td>&hellip;</td><td>&hellip;</td><td>&hellip;</td><td>&hellip;</td><td>&hellip;</td></tr><tr><td>2025-09-15</td><td>&quot;USBQZR1&quot;</td><td>-0.041651</td><td>null</td><td>1.365701</td><td>null</td><td>-0.159387</td><td>-0.024335</td><td>null</td><td>-1.3553e-20</td><td>-6.9890e-22</td></tr><tr><td>2025-09-15</td><td>&quot;USBRGT1&quot;</td><td>0.0</td><td>null</td><td>1.264243</td><td>null</td><td>0.012975</td><td>-0.005506</td><td>null</td><td>-3.4045e-19</td><td>-3.7165e-21</td></tr><tr><td>2025-09-15</td><td>&quot;USBRH21&quot;</td><td>0.011281</td><td>null</td><td>1.364664</td><td>null</td><td>-0.003457</td><td>-0.019368</td><td>null</td><td>-9.9263e-20</td><td>-2.6956e-21</td></tr><tr><td>2025-09-15</td><td>&quot;USBRKA1&quot;</td><td>-0.021757</td><td>null</td><td>0.319354</td><td>null</td><td>-0.001337</td><td>0.021217</td><td>null</td><td>-4.3920e-19</td><td>-5.5406e-21</td></tr><tr><td>2025-09-15</td><td>&quot;USBRKA2&quot;</td><td>-0.012441</td><td>null</td><td>0.331983</td><td>null</td><td>-0.002816</td><td>0.021041</td><td>null</td><td>-4.2459e-19</td><td>-4.9619e-21</td></tr></tbody></table></div>"
      ],
      "text/plain": [
       "shape: (20_764_025, 11)\n",
       "┌────────────┬─────────┬───────────┬───────────┬───┬───────────┬───────────┬───────────┬───────────┐\n",
       "│ date       ┆ barrid  ┆ return    ┆ fwd_retur ┆ … ┆ bab_alpha ┆ momentum_ ┆ meanrev_w ┆ bab_weigh │\n",
       "│ ---        ┆ ---     ┆ ---       ┆ n         ┆   ┆ ---       ┆ weight    ┆ eight     ┆ t         │\n",
       "│ date       ┆ str     ┆ f64       ┆ ---       ┆   ┆ f64       ┆ ---       ┆ ---       ┆ ---       │\n",
       "│            ┆         ┆           ┆ f64       ┆   ┆           ┆ f64       ┆ f64       ┆ f64       │\n",
       "╞════════════╪═════════╪═══════════╪═══════════╪═══╪═══════════╪═══════════╪═══════════╪═══════════╡\n",
       "│ 1995-06-30 ┆ USAA191 ┆ 0.051471  ┆ -0.013986 ┆ … ┆ 0.003645  ┆ null      ┆ null      ┆ -1.0844e- │\n",
       "│            ┆         ┆           ┆           ┆   ┆           ┆           ┆           ┆ 20        │\n",
       "│ 1995-06-30 ┆ USAA1W1 ┆ 0.057971  ┆ 0.0       ┆ … ┆ -0.010093 ┆ null      ┆ null      ┆ -9.1201e- │\n",
       "│            ┆         ┆           ┆           ┆   ┆           ┆           ┆           ┆ 22        │\n",
       "│ 1995-06-30 ┆ USAA1Y1 ┆ 0.028777  ┆ -0.017483 ┆ … ┆ -0.027408 ┆ null      ┆ null      ┆ -4.8273e- │\n",
       "│            ┆         ┆           ┆           ┆   ┆           ┆           ┆           ┆ 21        │\n",
       "│ 1995-06-30 ┆ USAA2L1 ┆ 0.036585  ┆ 0.002941  ┆ … ┆ 0.010805  ┆ null      ┆ null      ┆ -4.2673e- │\n",
       "│            ┆         ┆           ┆           ┆   ┆           ┆           ┆           ┆ 21        │\n",
       "│ 1995-06-30 ┆ USAA311 ┆ 0.020134  ┆ -0.006579 ┆ … ┆ 0.005402  ┆ null      ┆ null      ┆ -9.2198e- │\n",
       "│            ┆         ┆           ┆           ┆   ┆           ┆           ┆           ┆ 21        │\n",
       "│ …          ┆ …       ┆ …         ┆ …         ┆ … ┆ …         ┆ …         ┆ …         ┆ …         │\n",
       "│ 2025-09-15 ┆ USBQZR1 ┆ -0.041651 ┆ null      ┆ … ┆ -0.024335 ┆ null      ┆ -1.3553e- ┆ -6.9890e- │\n",
       "│            ┆         ┆           ┆           ┆   ┆           ┆           ┆ 20        ┆ 22        │\n",
       "│ 2025-09-15 ┆ USBRGT1 ┆ 0.0       ┆ null      ┆ … ┆ -0.005506 ┆ null      ┆ -3.4045e- ┆ -3.7165e- │\n",
       "│            ┆         ┆           ┆           ┆   ┆           ┆           ┆ 19        ┆ 21        │\n",
       "│ 2025-09-15 ┆ USBRH21 ┆ 0.011281  ┆ null      ┆ … ┆ -0.019368 ┆ null      ┆ -9.9263e- ┆ -2.6956e- │\n",
       "│            ┆         ┆           ┆           ┆   ┆           ┆           ┆ 20        ┆ 21        │\n",
       "│ 2025-09-15 ┆ USBRKA1 ┆ -0.021757 ┆ null      ┆ … ┆ 0.021217  ┆ null      ┆ -4.3920e- ┆ -5.5406e- │\n",
       "│            ┆         ┆           ┆           ┆   ┆           ┆           ┆ 19        ┆ 21        │\n",
       "│ 2025-09-15 ┆ USBRKA2 ┆ -0.012441 ┆ null      ┆ … ┆ 0.021041  ┆ null      ┆ -4.2459e- ┆ -4.9619e- │\n",
       "│            ┆         ┆           ┆           ┆   ┆           ┆           ┆ 19        ┆ 21        │\n",
       "└────────────┴─────────┴───────────┴───────────┴───┴───────────┴───────────┴───────────┴───────────┘"
      ]
     },
     "execution_count": 11,
     "metadata": {},
     "output_type": "execute_result"
    }
   ],
   "source": [
    "df = alpha_data.join(weights_data, on=[\"date\", \"barrid\"], how=\"inner\").select(['date', 'barrid', 'return', 'fwd_return', 'predicted_beta', 'momentum_alpha', 'meanrev_alpha', 'bab_alpha', 'momentum_weight', 'meanrev_weight', 'bab_weight'])\n",
    "\n",
    "df"
   ]
  },
  {
   "cell_type": "code",
   "execution_count": 33,
   "id": "5ea596ac",
   "metadata": {},
   "outputs": [
    {
     "data": {
      "text/html": [
       "<div><style>\n",
       ".dataframe > thead > tr,\n",
       ".dataframe > tbody > tr {\n",
       "  text-align: right;\n",
       "  white-space: pre-wrap;\n",
       "}\n",
       "</style>\n",
       "<small>shape: (22_806, 3)</small><table border=\"1\" class=\"dataframe\"><thead><tr><th>date</th><th>portfolio</th><th>alpha</th></tr><tr><td>date</td><td>str</td><td>f64</td></tr></thead><tbody><tr><td>1995-06-30</td><td>&quot;momentum&quot;</td><td>0.0</td></tr><tr><td>1995-07-03</td><td>&quot;momentum&quot;</td><td>0.0</td></tr><tr><td>1995-07-05</td><td>&quot;momentum&quot;</td><td>0.0</td></tr><tr><td>1995-07-06</td><td>&quot;momentum&quot;</td><td>0.0</td></tr><tr><td>1995-07-07</td><td>&quot;momentum&quot;</td><td>0.0</td></tr><tr><td>&hellip;</td><td>&hellip;</td><td>&hellip;</td></tr><tr><td>2025-09-09</td><td>&quot;bab&quot;</td><td>0.011151</td></tr><tr><td>2025-09-10</td><td>&quot;bab&quot;</td><td>0.010666</td></tr><tr><td>2025-09-11</td><td>&quot;bab&quot;</td><td>0.011057</td></tr><tr><td>2025-09-12</td><td>&quot;bab&quot;</td><td>0.010894</td></tr><tr><td>2025-09-15</td><td>&quot;bab&quot;</td><td>0.010745</td></tr></tbody></table></div>"
      ],
      "text/plain": [
       "shape: (22_806, 3)\n",
       "┌────────────┬───────────┬──────────┐\n",
       "│ date       ┆ portfolio ┆ alpha    │\n",
       "│ ---        ┆ ---       ┆ ---      │\n",
       "│ date       ┆ str       ┆ f64      │\n",
       "╞════════════╪═══════════╪══════════╡\n",
       "│ 1995-06-30 ┆ momentum  ┆ 0.0      │\n",
       "│ 1995-07-03 ┆ momentum  ┆ 0.0      │\n",
       "│ 1995-07-05 ┆ momentum  ┆ 0.0      │\n",
       "│ 1995-07-06 ┆ momentum  ┆ 0.0      │\n",
       "│ 1995-07-07 ┆ momentum  ┆ 0.0      │\n",
       "│ …          ┆ …         ┆ …        │\n",
       "│ 2025-09-09 ┆ bab       ┆ 0.011151 │\n",
       "│ 2025-09-10 ┆ bab       ┆ 0.010666 │\n",
       "│ 2025-09-11 ┆ bab       ┆ 0.011057 │\n",
       "│ 2025-09-12 ┆ bab       ┆ 0.010894 │\n",
       "│ 2025-09-15 ┆ bab       ┆ 0.010745 │\n",
       "└────────────┴───────────┴──────────┘"
      ]
     },
     "execution_count": 33,
     "metadata": {},
     "output_type": "execute_result"
    }
   ],
   "source": [
    "momentum_alphas = df.group_by('date').agg((pl.col('momentum_alpha') * pl.col('momentum_weight')).sum().alias('momentum')).sort('date')\n",
    "meanrev_alphas = df.group_by('date').agg((pl.col('meanrev_alpha') * pl.col('meanrev_weight')).sum().alias('meanrev')).sort('date')\n",
    "bab_alphas = df.group_by('date').agg((pl.col('bab_alpha') * pl.col('bab_weight')).sum().alias('bab')).sort('date')\n",
    "\n",
    "alphas = momentum_alphas.join(meanrev_alphas, on=[\"date\"], how=\"inner\").join(bab_alphas, on=[\"date\"], how=\"inner\")\n",
    "\n",
    "alphas = alphas.unpivot(\n",
    "    index=[\"date\"],\n",
    "    on=[\"momentum\", \"meanrev\", \"bab\"],\n",
    "    variable_name=\"portfolio\",\n",
    "    value_name=\"alpha\"   \n",
    ")\n",
    "\n",
    "alphas"
   ]
  },
  {
   "cell_type": "code",
   "execution_count": 32,
   "id": "68de9585",
   "metadata": {},
   "outputs": [
    {
     "data": {
      "text/html": [
       "<div><style>\n",
       ".dataframe > thead > tr,\n",
       ".dataframe > tbody > tr {\n",
       "  text-align: right;\n",
       "  white-space: pre-wrap;\n",
       "}\n",
       "</style>\n",
       "<small>shape: (22_806, 3)</small><table border=\"1\" class=\"dataframe\"><thead><tr><th>date</th><th>portfolio</th><th>fwd_return</th></tr><tr><td>date</td><td>str</td><td>f64</td></tr></thead><tbody><tr><td>1995-06-30</td><td>&quot;momentum&quot;</td><td>0.0</td></tr><tr><td>1995-07-03</td><td>&quot;momentum&quot;</td><td>0.0</td></tr><tr><td>1995-07-05</td><td>&quot;momentum&quot;</td><td>0.0</td></tr><tr><td>1995-07-06</td><td>&quot;momentum&quot;</td><td>0.0</td></tr><tr><td>1995-07-07</td><td>&quot;momentum&quot;</td><td>0.0</td></tr><tr><td>&hellip;</td><td>&hellip;</td><td>&hellip;</td></tr><tr><td>2025-09-09</td><td>&quot;bab&quot;</td><td>-0.001612</td></tr><tr><td>2025-09-10</td><td>&quot;bab&quot;</td><td>0.01412</td></tr><tr><td>2025-09-11</td><td>&quot;bab&quot;</td><td>-0.002666</td></tr><tr><td>2025-09-12</td><td>&quot;bab&quot;</td><td>0.008112</td></tr><tr><td>2025-09-15</td><td>&quot;bab&quot;</td><td>0.0</td></tr></tbody></table></div>"
      ],
      "text/plain": [
       "shape: (22_806, 3)\n",
       "┌────────────┬───────────┬────────────┐\n",
       "│ date       ┆ portfolio ┆ fwd_return │\n",
       "│ ---        ┆ ---       ┆ ---        │\n",
       "│ date       ┆ str       ┆ f64        │\n",
       "╞════════════╪═══════════╪════════════╡\n",
       "│ 1995-06-30 ┆ momentum  ┆ 0.0        │\n",
       "│ 1995-07-03 ┆ momentum  ┆ 0.0        │\n",
       "│ 1995-07-05 ┆ momentum  ┆ 0.0        │\n",
       "│ 1995-07-06 ┆ momentum  ┆ 0.0        │\n",
       "│ 1995-07-07 ┆ momentum  ┆ 0.0        │\n",
       "│ …          ┆ …         ┆ …          │\n",
       "│ 2025-09-09 ┆ bab       ┆ -0.001612  │\n",
       "│ 2025-09-10 ┆ bab       ┆ 0.01412    │\n",
       "│ 2025-09-11 ┆ bab       ┆ -0.002666  │\n",
       "│ 2025-09-12 ┆ bab       ┆ 0.008112   │\n",
       "│ 2025-09-15 ┆ bab       ┆ 0.0        │\n",
       "└────────────┴───────────┴────────────┘"
      ]
     },
     "execution_count": 32,
     "metadata": {},
     "output_type": "execute_result"
    }
   ],
   "source": [
    "momentum_fwd_returns = df.group_by('date').agg((pl.col('fwd_return') * pl.col('momentum_weight')).sum().alias('momentum')).sort('date')\n",
    "meanrev_fwd_returns = df.group_by('date').agg((pl.col('fwd_return') * pl.col('meanrev_weight')).sum().alias('meanrev')).sort('date')\n",
    "bab_fwd_returns = df.group_by('date').agg((pl.col('fwd_return') * pl.col('bab_weight')).sum().alias('bab')).sort('date')\n",
    "\n",
    "fwd_returns = momentum_fwd_returns.join(meanrev_fwd_returns, on=[\"date\"], how=\"inner\").join(bab_fwd_returns, on=[\"date\"], how=\"inner\")\n",
    "fwd_returns = fwd_returns.unpivot(\n",
    "    index=[\"date\"],                    # columns to keep as-is\n",
    "    on=[\"momentum\", \"meanrev\", \"bab\"],  # columns to unpivot\n",
    "    variable_name=\"portfolio\",          # name for new column with old column names\n",
    "    value_name=\"fwd_return\"             # name for new column with values\n",
    ")\n",
    "\n",
    "fwd_returns"
   ]
  },
  {
   "cell_type": "code",
   "execution_count": 35,
   "id": "2ba738c6",
   "metadata": {},
   "outputs": [
    {
     "data": {
      "text/html": [
       "<div><style>\n",
       ".dataframe > thead > tr,\n",
       ".dataframe > tbody > tr {\n",
       "  text-align: right;\n",
       "  white-space: pre-wrap;\n",
       "}\n",
       "</style>\n",
       "<small>shape: (22_806, 4)</small><table border=\"1\" class=\"dataframe\"><thead><tr><th>date</th><th>portfolio</th><th>alpha</th><th>fwd_return</th></tr><tr><td>date</td><td>str</td><td>f64</td><td>f64</td></tr></thead><tbody><tr><td>1995-06-30</td><td>&quot;momentum&quot;</td><td>0.0</td><td>0.0</td></tr><tr><td>1995-06-30</td><td>&quot;meanrev&quot;</td><td>0.0</td><td>0.0</td></tr><tr><td>1995-06-30</td><td>&quot;bab&quot;</td><td>0.007734</td><td>0.003396</td></tr><tr><td>1995-07-03</td><td>&quot;momentum&quot;</td><td>0.0</td><td>0.0</td></tr><tr><td>1995-07-03</td><td>&quot;meanrev&quot;</td><td>0.0</td><td>0.0</td></tr><tr><td>&hellip;</td><td>&hellip;</td><td>&hellip;</td><td>&hellip;</td></tr><tr><td>2025-09-12</td><td>&quot;meanrev&quot;</td><td>0.09756</td><td>-0.011655</td></tr><tr><td>2025-09-12</td><td>&quot;bab&quot;</td><td>0.010894</td><td>0.008112</td></tr><tr><td>2025-09-15</td><td>&quot;momentum&quot;</td><td>0.153725</td><td>0.0</td></tr><tr><td>2025-09-15</td><td>&quot;meanrev&quot;</td><td>0.100701</td><td>0.0</td></tr><tr><td>2025-09-15</td><td>&quot;bab&quot;</td><td>0.010745</td><td>0.0</td></tr></tbody></table></div>"
      ],
      "text/plain": [
       "shape: (22_806, 4)\n",
       "┌────────────┬───────────┬──────────┬────────────┐\n",
       "│ date       ┆ portfolio ┆ alpha    ┆ fwd_return │\n",
       "│ ---        ┆ ---       ┆ ---      ┆ ---        │\n",
       "│ date       ┆ str       ┆ f64      ┆ f64        │\n",
       "╞════════════╪═══════════╪══════════╪════════════╡\n",
       "│ 1995-06-30 ┆ momentum  ┆ 0.0      ┆ 0.0        │\n",
       "│ 1995-06-30 ┆ meanrev   ┆ 0.0      ┆ 0.0        │\n",
       "│ 1995-06-30 ┆ bab       ┆ 0.007734 ┆ 0.003396   │\n",
       "│ 1995-07-03 ┆ momentum  ┆ 0.0      ┆ 0.0        │\n",
       "│ 1995-07-03 ┆ meanrev   ┆ 0.0      ┆ 0.0        │\n",
       "│ …          ┆ …         ┆ …        ┆ …          │\n",
       "│ 2025-09-12 ┆ meanrev   ┆ 0.09756  ┆ -0.011655  │\n",
       "│ 2025-09-12 ┆ bab       ┆ 0.010894 ┆ 0.008112   │\n",
       "│ 2025-09-15 ┆ momentum  ┆ 0.153725 ┆ 0.0        │\n",
       "│ 2025-09-15 ┆ meanrev   ┆ 0.100701 ┆ 0.0        │\n",
       "│ 2025-09-15 ┆ bab       ┆ 0.010745 ┆ 0.0        │\n",
       "└────────────┴───────────┴──────────┴────────────┘"
      ]
     },
     "execution_count": 35,
     "metadata": {},
     "output_type": "execute_result"
    }
   ],
   "source": [
    "portfolio_data = alphas.join(fwd_returns, on=['date', 'portfolio'], how='inner').sort('date')\n",
    "\n",
    "portfolio_data"
   ]
  },
  {
   "cell_type": "code",
   "execution_count": null,
   "id": "65b8f2b1",
   "metadata": {},
   "outputs": [
    {
     "name": "stderr",
     "output_type": "stream",
     "text": [
      "  0%|          | 0/7600 [00:00<?, ?it/s]"
     ]
    },
    {
     "name": "stderr",
     "output_type": "stream",
     "text": [
      "100%|██████████| 7600/7600 [01:10<00:00, 108.20it/s]\n"
     ]
    }
   ],
   "source": [
    "portfolio_data_wide = portfolio_data.pivot(\n",
    "    values=\"fwd_return\",\n",
    "    index=\"date\",\n",
    "    on=\"portfolio\"\n",
    ").sort(\"date\")\n",
    "\n",
    "dates = portfolio_data_wide[\"date\"].to_numpy()\n",
    "returns_matrix = portfolio_data_wide.drop(\"date\").to_numpy()  # shape: (n_days, n_portfolios)\n",
    "portfolios = portfolio_data_wide.drop(\"date\").columns\n",
    "\n",
    "rolling_window = 2\n",
    "cov_matrices = {}\n",
    "weights = {}\n",
    "\n",
    "for i in tqdm(range(rolling_window, len(dates))):\n",
    "    window_returns = returns_matrix[i - rolling_window : i, :]\n",
    "    cov_matrix = np.cov(window_returns, rowvar=False)\n",
    "    cov_matrices[dates[i]] = cov_matrix\n",
    "    constraints = [\n",
    "        sfo.FullInvestment(),\n",
    "        sfo.LongOnly(),\n",
    "        sfo.NoBuyingOnMargin(),\n",
    "        # sfo.UnitBeta()\n",
    "    ]\n",
    "\n",
    "    target_date = dates[i].astype(\"M8[D]\").astype(object)  # convert numpy.datetime64[D] → datetime.date\n",
    "    alpha_vector = portfolio_data.filter(pl.col('date').eq(target_date)).select('alpha').to_numpy()\n",
    "\n",
    "    weights[dates[i]] = sfo.mve_optimizer(\n",
    "        ids=[\"momentum\", \"meanrev\", \"bab\"],\n",
    "        alphas=alpha_vector,\n",
    "        covariance_matrix=cov_matrix,\n",
    "        constraints=constraints,\n",
    "        gamma=2\n",
    "    )\n"
   ]
  },
  {
   "cell_type": "code",
   "execution_count": 57,
   "id": "a2ee5be1",
   "metadata": {},
   "outputs": [],
   "source": [
    "weights_list = []\n",
    "for date_, df in weights.items():\n",
    "    # Convert numpy.datetime64 → Python date\n",
    "    if isinstance(date_, np.datetime64):\n",
    "        date_ = date_.astype(\"M8[D]\").astype(object)  # ensures it's a datetime.date\n",
    "    \n",
    "    # If still a datetime, convert down to date\n",
    "    if isinstance(date_, dt.datetime):\n",
    "        date_ = date_.date()\n",
    "    \n",
    "    df_with_date = df.with_columns(\n",
    "        pl.lit(date_).alias(\"date\").cast(pl.Date)\n",
    "    )\n",
    "    weights_list.append(df_with_date)\n",
    "\n",
    "weights_all = pl.concat(weights_list)\n",
    "weights_all = weights_all.rename({'barrid': 'portfolio'})\n",
    "portfolio_data = portfolio_data.join(weights_all, on=['date', 'portfolio'], how='inner')"
   ]
  },
  {
   "cell_type": "code",
   "execution_count": 58,
   "id": "e97ea41b",
   "metadata": {},
   "outputs": [
    {
     "data": {
      "text/html": [
       "<div><style>\n",
       ".dataframe > thead > tr,\n",
       ".dataframe > tbody > tr {\n",
       "  text-align: right;\n",
       "  white-space: pre-wrap;\n",
       "}\n",
       "</style>\n",
       "<small>shape: (7_600, 2)</small><table border=\"1\" class=\"dataframe\"><thead><tr><th>date</th><th>fwd_return</th></tr><tr><td>date</td><td>f64</td></tr></thead><tbody><tr><td>1995-07-05</td><td>0.015761</td></tr><tr><td>1995-07-06</td><td>0.013632</td></tr><tr><td>1995-07-07</td><td>0.007163</td></tr><tr><td>1995-07-10</td><td>-0.001239</td></tr><tr><td>1995-07-11</td><td>0.015558</td></tr><tr><td>&hellip;</td><td>&hellip;</td></tr><tr><td>2025-09-09</td><td>-0.013806</td></tr><tr><td>2025-09-10</td><td>0.021175</td></tr><tr><td>2025-09-11</td><td>0.012507</td></tr><tr><td>2025-09-12</td><td>0.007418</td></tr><tr><td>2025-09-15</td><td>0.0</td></tr></tbody></table></div>"
      ],
      "text/plain": [
       "shape: (7_600, 2)\n",
       "┌────────────┬────────────┐\n",
       "│ date       ┆ fwd_return │\n",
       "│ ---        ┆ ---        │\n",
       "│ date       ┆ f64        │\n",
       "╞════════════╪════════════╡\n",
       "│ 1995-07-05 ┆ 0.015761   │\n",
       "│ 1995-07-06 ┆ 0.013632   │\n",
       "│ 1995-07-07 ┆ 0.007163   │\n",
       "│ 1995-07-10 ┆ -0.001239  │\n",
       "│ 1995-07-11 ┆ 0.015558   │\n",
       "│ …          ┆ …          │\n",
       "│ 2025-09-09 ┆ -0.013806  │\n",
       "│ 2025-09-10 ┆ 0.021175   │\n",
       "│ 2025-09-11 ┆ 0.012507   │\n",
       "│ 2025-09-12 ┆ 0.007418   │\n",
       "│ 2025-09-15 ┆ 0.0        │\n",
       "└────────────┴────────────┘"
      ]
     },
     "execution_count": 58,
     "metadata": {},
     "output_type": "execute_result"
    }
   ],
   "source": [
    "synMVO_ret = portfolio_data.group_by('date').agg((pl.col('fwd_return') * pl.col('weight')).sum().alias('fwd_return'))\n",
    "\n",
    "synMVO_ret"
   ]
  },
  {
   "cell_type": "code",
   "execution_count": 64,
   "id": "ea7e3edf",
   "metadata": {},
   "outputs": [
    {
     "data": {
      "image/png": "[encoded data removed]",
      "text/plain": [
       "<Figure size 1200x600 with 1 Axes>"
      ]
     },
     "metadata": {},
     "output_type": "display_data"
    }
   ],
   "source": [
    "# Calculate cumulative returns\n",
    "synMVO_cum_ret = ( \n",
    "    synMVO_ret.with_columns(\n",
    "    pl.col('fwd_return').log1p().alias('log_return')\n",
    "    )\n",
    "    .with_columns(\n",
    "    pl.col('log_return').cum_sum().alias('cum_log_return')\n",
    "    )\n",
    ")\n",
    "\n",
    "# Plot cumulative returns\n",
    "plt.figure(figsize=(12, 6))\n",
    "plt.plot(synMVO_cum_ret[\"date\"], synMVO_cum_ret[\"cum_log_return\"], label=\"Cumulative Log Return\")\n",
    "plt.title(\"Cumulative Log Synthetic MVO Returns\")\n",
    "plt.xlabel(\"Date\")\n",
    "plt.ylabel(\"Cumulative Log Return\")\n",
    "plt.legend()\n",
    "plt.grid(True)\n",
    "plt.show()"
   ]
  },
  {
   "cell_type": "code",
   "execution_count": 65,
   "id": "ee0dc9ca",
   "metadata": {},
   "outputs": [],
   "source": [
    "def compute_sharpe_ratio(df: pl.DataFrame, return_col: str = \"eqWtRet\") -> float:\n",
    "    \"\"\"\n",
    "    Compute annualized Sharpe ratio from daily portfolio returns.\n",
    "    \n",
    "    Args:\n",
    "        df (pl.DataFrame): Must contain one row per date with a return column in decimal space.\n",
    "        return_col (str): Column containing daily returns.\n",
    "    \n",
    "    Returns:\n",
    "        float: Annualized Sharpe ratio.\n",
    "    \"\"\"\n",
    "    # Extract daily returns\n",
    "    daily_rets = df[return_col].to_numpy()\n",
    "\n",
    "    mean_return = daily_rets.mean()\n",
    "    std_return = daily_rets.std(ddof=1)\n",
    "\n",
    "    # Annualized Sharpe (sqrt(252) for daily frequency)\n",
    "    sharpe_annualized = (mean_return / std_return) * np.sqrt(252)\n",
    "\n",
    "    return sharpe_annualized"
   ]
  },
  {
   "cell_type": "code",
   "execution_count": 66,
   "id": "ac9d43d5",
   "metadata": {},
   "outputs": [
    {
     "data": {
      "text/plain": [
       "np.float64(2.5457595061977876)"
      ]
     },
     "execution_count": 66,
     "metadata": {},
     "output_type": "execute_result"
    }
   ],
   "source": [
    "compute_sharpe_ratio(synMVO_cum_ret, return_col='fwd_return')"
   ]
  }
 ],
 "metadata": {
  "kernelspec": {
   "display_name": "orthogonal-alphas",
   "language": "python",
   "name": "python3"
  },
  "language_info": {
   "codemirror_mode": {
    "name": "ipython",
    "version": 3
   },
   "file_extension": ".py",
   "mimetype": "text/x-python",
   "name": "python",
   "nbconvert_exporter": "python",
   "pygments_lexer": "ipython3",
   "version": "3.13.7"
  }
 },
 "nbformat": 4,
 "nbformat_minor": 5
}
