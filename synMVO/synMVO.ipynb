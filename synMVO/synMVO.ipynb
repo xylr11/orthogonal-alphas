{
 "cells": [
  {
   "cell_type": "code",
   "execution_count": 1,
   "id": "bfa7ef9b",
   "metadata": {},
   "outputs": [
    {
     "name": "stderr",
     "output_type": "stream",
     "text": [
      "/home/kylecm11/silver_fund/orthogonal-alphas/.venv/lib/python3.13/site-packages/tqdm/auto.py:21: TqdmWarning: IProgress not found. Please update jupyter and ipywidgets. See https://ipywidgets.readthedocs.io/en/stable/user_install.html\n",
      "  from .autonotebook import tqdm as notebook_tqdm\n",
      "2025-10-02 19:57:32,000\tINFO util.py:154 -- Missing packages: ['ipywidgets']. Run `pip install -U ipywidgets`, then restart the notebook server for rich notebook output.\n"
     ]
    }
   ],
   "source": [
    "import polars as pl\n",
    "import seaborn as sns\n",
    "from matplotlib import pyplot as plt\n",
    "import numpy as np\n",
    "import sf_quant.data as sfd\n",
    "import sf_quant.optimizer as sfo\n",
    "import sf_quant.performance as sfp\n",
    "from tqdm import tqdm\n",
    "import datetime as dt"
   ]
  },
  {
   "cell_type": "code",
   "execution_count": 2,
   "id": "df546b4c",
   "metadata": {},
   "outputs": [
    {
     "data": {
      "text/html": [
       "<div><style>\n",
       ".dataframe > thead > tr,\n",
       ".dataframe > tbody > tr {\n",
       "  text-align: right;\n",
       "  white-space: pre-wrap;\n",
       "}\n",
       "</style>\n",
       "<small>shape: (20_764_025, 23)</small><table border=\"1\" class=\"dataframe\"><thead><tr><th>date</th><th>barrid</th><th>ticker</th><th>price</th><th>return</th><th>specific_return</th><th>specific_risk</th><th>historical_beta</th><th>predicted_beta</th><th>market_cap</th><th>daily_volume</th><th>bid_ask_spread</th><th>log_return</th><th>momentum</th><th>meanrev</th><th>bab</th><th>momentum_z</th><th>meanrev_z</th><th>bab_z</th><th>momentum_alpha</th><th>meanrev_alpha</th><th>bab_alpha</th><th>fwd_return</th></tr><tr><td>date</td><td>str</td><td>str</td><td>f64</td><td>f64</td><td>f64</td><td>f64</td><td>f64</td><td>f64</td><td>f64</td><td>f64</td><td>f64</td><td>f64</td><td>f64</td><td>f64</td><td>f64</td><td>f64</td><td>f64</td><td>f64</td><td>f64</td><td>f64</td><td>f64</td><td>f64</td></tr></thead><tbody><tr><td>2013-07-31</td><td>&quot;USA06Z1&quot;</td><td>&quot;MDXG&quot;</td><td>6.26</td><td>-0.001595</td><td>-0.00788</td><td>0.550569</td><td>0.328385</td><td>0.34349</td><td>6.006157e8</td><td>121693.0</td><td>0.01</td><td>-0.001596</td><td>null</td><td>null</td><td>-0.34349</td><td>null</td><td>null</td><td>2.149267</td><td>null</td><td>null</td><td>0.059166</td><td>0.009585</td></tr><tr><td>2013-08-01</td><td>&quot;USA06Z1&quot;</td><td>&quot;MDXG&quot;</td><td>6.32</td><td>0.009585</td><td>0.00365</td><td>0.55028</td><td>0.334989</td><td>0.353329</td><td>6.0865392e8</td><td>131728.0</td><td>0.01</td><td>0.009539</td><td>null</td><td>null</td><td>-0.353329</td><td>null</td><td>null</td><td>2.111728</td><td>null</td><td>null</td><td>0.058102</td><td>-0.001582</td></tr><tr><td>2013-08-02</td><td>&quot;USA06Z1&quot;</td><td>&quot;MDXG&quot;</td><td>6.31</td><td>-0.001582</td><td>-0.00731</td><td>0.548074</td><td>0.330713</td><td>0.363624</td><td>6.0769086e8</td><td>43252.0</td><td>0.01</td><td>-0.001583</td><td>null</td><td>null</td><td>-0.363624</td><td>null</td><td>null</td><td>2.086144</td><td>null</td><td>null</td><td>0.057168</td><td>0.022187</td></tr><tr><td>2013-08-05</td><td>&quot;USA06Z1&quot;</td><td>&quot;MDXG&quot;</td><td>6.45</td><td>0.022187</td><td>0.01936</td><td>0.547667</td><td>0.324494</td><td>0.356596</td><td>6.211737e8</td><td>70944.0</td><td>0.02</td><td>0.021944</td><td>null</td><td>null</td><td>-0.356596</td><td>null</td><td>null</td><td>2.098288</td><td>null</td><td>null</td><td>0.057458</td><td>-0.024806</td></tr><tr><td>2013-08-06</td><td>&quot;USA06Z1&quot;</td><td>&quot;MDXG&quot;</td><td>6.29</td><td>-0.024806</td><td>-0.00528</td><td>0.546922</td><td>0.366323</td><td>0.399196</td><td>6.0576474e8</td><td>77085.0</td><td>0.01</td><td>-0.025119</td><td>null</td><td>null</td><td>-0.399196</td><td>null</td><td>null</td><td>2.001238</td><td>null</td><td>null</td><td>0.054726</td><td>-0.081081</td></tr><tr><td>&hellip;</td><td>&hellip;</td><td>&hellip;</td><td>&hellip;</td><td>&hellip;</td><td>&hellip;</td><td>&hellip;</td><td>&hellip;</td><td>&hellip;</td><td>&hellip;</td><td>&hellip;</td><td>&hellip;</td><td>&hellip;</td><td>&hellip;</td><td>&hellip;</td><td>&hellip;</td><td>&hellip;</td><td>&hellip;</td><td>&hellip;</td><td>&hellip;</td><td>&hellip;</td><td>&hellip;</td><td>&hellip;</td></tr><tr><td>2025-09-09</td><td>&quot;USBRKA2&quot;</td><td>&quot;GLIBA&quot;</td><td>36.225</td><td>-0.004261</td><td>0.01121</td><td>0.208427</td><td>0.236481</td><td>0.302514</td><td>1.3226e8</td><td>31025.0</td><td>0.11</td><td>-0.00427</td><td>null</td><td>-0.007341</td><td>-0.302514</td><td>null</td><td>0.37369</td><td>2.013268</td><td>null</td><td>0.003894</td><td>0.020981</td><td>0.000414</td></tr><tr><td>2025-09-10</td><td>&quot;USBRKA2&quot;</td><td>&quot;GLIBA&quot;</td><td>36.24</td><td>0.000414</td><td>0.02305</td><td>0.209547</td><td>0.252015</td><td>0.29845</td><td>1.3231e8</td><td>6298.0</td><td>0.21</td><td>0.000414</td><td>null</td><td>-0.020066</td><td>-0.29845</td><td>null</td><td>0.247624</td><td>2.007619</td><td>null</td><td>0.002594</td><td>0.021035</td><td>0.022351</td></tr><tr><td>2025-09-11</td><td>&quot;USBRKA2&quot;</td><td>&quot;GLIBA&quot;</td><td>37.05</td><td>0.022351</td><td>0.00213</td><td>0.214807</td><td>0.256752</td><td>0.31384</td><td>1.3527e8</td><td>26857.0</td><td>0.25</td><td>0.022105</td><td>null</td><td>-0.065239</td><td>-0.31384</td><td>null</td><td>0.07841</td><td>1.987568</td><td>null</td><td>0.000842</td><td>0.021347</td><td>-0.023752</td></tr><tr><td>2025-09-12</td><td>&quot;USBRKA2&quot;</td><td>&quot;GLIBA&quot;</td><td>36.17</td><td>-0.023752</td><td>-0.00733</td><td>0.219429</td><td>0.257401</td><td>0.328961</td><td>1.3205e8</td><td>8983.0</td><td>0.16</td><td>-0.024039</td><td>null</td><td>-0.043797</td><td>-0.328961</td><td>null</td><td>-0.046662</td><td>1.958489</td><td>null</td><td>-0.000512</td><td>0.021488</td><td>-0.012441</td></tr><tr><td>2025-09-15</td><td>&quot;USBRKA2&quot;</td><td>&quot;GLIBA&quot;</td><td>35.72</td><td>-0.012441</td><td>-0.00794</td><td>0.217817</td><td>0.252982</td><td>0.331983</td><td>1.3041e8</td><td>25995.0</td><td>0.13</td><td>-0.012519</td><td>null</td><td>-0.051115</td><td>-0.331983</td><td>null</td><td>-0.258525</td><td>1.932001</td><td>null</td><td>-0.002816</td><td>0.021041</td><td>null</td></tr></tbody></table></div>"
      ],
      "text/plain": [
       "shape: (20_764_025, 23)\n",
       "┌────────────┬─────────┬────────┬────────┬───┬──────────────┬─────────────┬───────────┬────────────┐\n",
       "│ date       ┆ barrid  ┆ ticker ┆ price  ┆ … ┆ momentum_alp ┆ meanrev_alp ┆ bab_alpha ┆ fwd_return │\n",
       "│ ---        ┆ ---     ┆ ---    ┆ ---    ┆   ┆ ha           ┆ ha          ┆ ---       ┆ ---        │\n",
       "│ date       ┆ str     ┆ str    ┆ f64    ┆   ┆ ---          ┆ ---         ┆ f64       ┆ f64        │\n",
       "│            ┆         ┆        ┆        ┆   ┆ f64          ┆ f64         ┆           ┆            │\n",
       "╞════════════╪═════════╪════════╪════════╪═══╪══════════════╪═════════════╪═══════════╪════════════╡\n",
       "│ 2013-07-31 ┆ USA06Z1 ┆ MDXG   ┆ 6.26   ┆ … ┆ null         ┆ null        ┆ 0.059166  ┆ 0.009585   │\n",
       "│ 2013-08-01 ┆ USA06Z1 ┆ MDXG   ┆ 6.32   ┆ … ┆ null         ┆ null        ┆ 0.058102  ┆ -0.001582  │\n",
       "│ 2013-08-02 ┆ USA06Z1 ┆ MDXG   ┆ 6.31   ┆ … ┆ null         ┆ null        ┆ 0.057168  ┆ 0.022187   │\n",
       "│ 2013-08-05 ┆ USA06Z1 ┆ MDXG   ┆ 6.45   ┆ … ┆ null         ┆ null        ┆ 0.057458  ┆ -0.024806  │\n",
       "│ 2013-08-06 ┆ USA06Z1 ┆ MDXG   ┆ 6.29   ┆ … ┆ null         ┆ null        ┆ 0.054726  ┆ -0.081081  │\n",
       "│ …          ┆ …       ┆ …      ┆ …      ┆ … ┆ …            ┆ …           ┆ …         ┆ …          │\n",
       "│ 2025-09-09 ┆ USBRKA2 ┆ GLIBA  ┆ 36.225 ┆ … ┆ null         ┆ 0.003894    ┆ 0.020981  ┆ 0.000414   │\n",
       "│ 2025-09-10 ┆ USBRKA2 ┆ GLIBA  ┆ 36.24  ┆ … ┆ null         ┆ 0.002594    ┆ 0.021035  ┆ 0.022351   │\n",
       "│ 2025-09-11 ┆ USBRKA2 ┆ GLIBA  ┆ 37.05  ┆ … ┆ null         ┆ 0.000842    ┆ 0.021347  ┆ -0.023752  │\n",
       "│ 2025-09-12 ┆ USBRKA2 ┆ GLIBA  ┆ 36.17  ┆ … ┆ null         ┆ -0.000512   ┆ 0.021488  ┆ -0.012441  │\n",
       "│ 2025-09-15 ┆ USBRKA2 ┆ GLIBA  ┆ 35.72  ┆ … ┆ null         ┆ -0.002816   ┆ 0.021041  ┆ null       │\n",
       "└────────────┴─────────┴────────┴────────┴───┴──────────────┴─────────────┴───────────┴────────────┘"
      ]
     },
     "execution_count": 2,
     "metadata": {},
     "output_type": "execute_result"
    }
   ],
   "source": [
    "alpha_data = pl.read_parquet(\"../signal_weights/signal_data.parquet\").with_columns(pl.col('return').shift(-1).over('barrid').alias('fwd_return'))\n",
    "\n",
    "alpha_data"
   ]
  },
  {
   "cell_type": "code",
   "execution_count": 3,
   "id": "03403557",
   "metadata": {},
   "outputs": [
    {
     "data": {
      "text/html": [
       "<div><style>\n",
       ".dataframe > thead > tr,\n",
       ".dataframe > tbody > tr {\n",
       "  text-align: right;\n",
       "  white-space: pre-wrap;\n",
       "}\n",
       "</style>\n",
       "<small>shape: (20_764_025, 5)</small><table border=\"1\" class=\"dataframe\"><thead><tr><th>date</th><th>barrid</th><th>bab_weight</th><th>meanrev_weight</th><th>momentum_weight</th></tr><tr><td>date</td><td>str</td><td>f64</td><td>f64</td><td>f64</td></tr></thead><tbody><tr><td>1995-06-30</td><td>&quot;USAA191&quot;</td><td>-1.0844e-20</td><td>null</td><td>null</td></tr><tr><td>1995-06-30</td><td>&quot;USAA1W1&quot;</td><td>-9.1201e-22</td><td>null</td><td>null</td></tr><tr><td>1995-06-30</td><td>&quot;USAA1Y1&quot;</td><td>-4.8273e-21</td><td>null</td><td>null</td></tr><tr><td>1995-06-30</td><td>&quot;USAA2L1&quot;</td><td>-4.2673e-21</td><td>null</td><td>null</td></tr><tr><td>1995-06-30</td><td>&quot;USAA311&quot;</td><td>-9.2198e-21</td><td>null</td><td>null</td></tr><tr><td>&hellip;</td><td>&hellip;</td><td>&hellip;</td><td>&hellip;</td><td>&hellip;</td></tr><tr><td>2025-09-15</td><td>&quot;USBQZR1&quot;</td><td>-6.9890e-22</td><td>-1.3553e-20</td><td>null</td></tr><tr><td>2025-09-15</td><td>&quot;USBRGT1&quot;</td><td>-3.7165e-21</td><td>-3.4045e-19</td><td>null</td></tr><tr><td>2025-09-15</td><td>&quot;USBRH21&quot;</td><td>-2.6956e-21</td><td>-9.9263e-20</td><td>null</td></tr><tr><td>2025-09-15</td><td>&quot;USBRKA1&quot;</td><td>-5.5406e-21</td><td>-4.3920e-19</td><td>null</td></tr><tr><td>2025-09-15</td><td>&quot;USBRKA2&quot;</td><td>-4.9619e-21</td><td>-4.2459e-19</td><td>null</td></tr></tbody></table></div>"
      ],
      "text/plain": [
       "shape: (20_764_025, 5)\n",
       "┌────────────┬─────────┬─────────────┬────────────────┬─────────────────┐\n",
       "│ date       ┆ barrid  ┆ bab_weight  ┆ meanrev_weight ┆ momentum_weight │\n",
       "│ ---        ┆ ---     ┆ ---         ┆ ---            ┆ ---             │\n",
       "│ date       ┆ str     ┆ f64         ┆ f64            ┆ f64             │\n",
       "╞════════════╪═════════╪═════════════╪════════════════╪═════════════════╡\n",
       "│ 1995-06-30 ┆ USAA191 ┆ -1.0844e-20 ┆ null           ┆ null            │\n",
       "│ 1995-06-30 ┆ USAA1W1 ┆ -9.1201e-22 ┆ null           ┆ null            │\n",
       "│ 1995-06-30 ┆ USAA1Y1 ┆ -4.8273e-21 ┆ null           ┆ null            │\n",
       "│ 1995-06-30 ┆ USAA2L1 ┆ -4.2673e-21 ┆ null           ┆ null            │\n",
       "│ 1995-06-30 ┆ USAA311 ┆ -9.2198e-21 ┆ null           ┆ null            │\n",
       "│ …          ┆ …       ┆ …           ┆ …              ┆ …               │\n",
       "│ 2025-09-15 ┆ USBQZR1 ┆ -6.9890e-22 ┆ -1.3553e-20    ┆ null            │\n",
       "│ 2025-09-15 ┆ USBRGT1 ┆ -3.7165e-21 ┆ -3.4045e-19    ┆ null            │\n",
       "│ 2025-09-15 ┆ USBRH21 ┆ -2.6956e-21 ┆ -9.9263e-20    ┆ null            │\n",
       "│ 2025-09-15 ┆ USBRKA1 ┆ -5.5406e-21 ┆ -4.3920e-19    ┆ null            │\n",
       "│ 2025-09-15 ┆ USBRKA2 ┆ -4.9619e-21 ┆ -4.2459e-19    ┆ null            │\n",
       "└────────────┴─────────┴─────────────┴────────────────┴─────────────────┘"
      ]
     },
     "execution_count": 3,
     "metadata": {},
     "output_type": "execute_result"
    }
   ],
   "source": [
    "weights_data = pl.read_parquet(\"../signal_weights/weights/updated_weights_pivot.parquet\")\n",
    "\n",
    "weights_data"
   ]
  },
  {
   "cell_type": "code",
   "execution_count": 4,
   "id": "0ea29783",
   "metadata": {},
   "outputs": [
    {
     "data": {
      "text/html": [
       "<div><style>\n",
       ".dataframe > thead > tr,\n",
       ".dataframe > tbody > tr {\n",
       "  text-align: right;\n",
       "  white-space: pre-wrap;\n",
       "}\n",
       "</style>\n",
       "<small>shape: (20_764_025, 11)</small><table border=\"1\" class=\"dataframe\"><thead><tr><th>date</th><th>barrid</th><th>return</th><th>fwd_return</th><th>predicted_beta</th><th>momentum_alpha</th><th>meanrev_alpha</th><th>bab_alpha</th><th>momentum_weight</th><th>meanrev_weight</th><th>bab_weight</th></tr><tr><td>date</td><td>str</td><td>f64</td><td>f64</td><td>f64</td><td>f64</td><td>f64</td><td>f64</td><td>f64</td><td>f64</td><td>f64</td></tr></thead><tbody><tr><td>1995-06-30</td><td>&quot;USAA191&quot;</td><td>0.051471</td><td>-0.013986</td><td>0.823795</td><td>null</td><td>null</td><td>0.003645</td><td>null</td><td>null</td><td>-1.0844e-20</td></tr><tr><td>1995-06-30</td><td>&quot;USAA1W1&quot;</td><td>0.057971</td><td>0.0</td><td>1.105022</td><td>null</td><td>null</td><td>-0.010093</td><td>null</td><td>null</td><td>-9.1201e-22</td></tr><tr><td>1995-06-30</td><td>&quot;USAA1Y1&quot;</td><td>0.028777</td><td>-0.017483</td><td>1.636947</td><td>null</td><td>null</td><td>-0.027408</td><td>null</td><td>null</td><td>-4.8273e-21</td></tr><tr><td>1995-06-30</td><td>&quot;USAA2L1&quot;</td><td>0.036585</td><td>0.002941</td><td>0.725292</td><td>null</td><td>null</td><td>0.010805</td><td>null</td><td>null</td><td>-4.2673e-21</td></tr><tr><td>1995-06-30</td><td>&quot;USAA311&quot;</td><td>0.020134</td><td>-0.006579</td><td>0.798643</td><td>null</td><td>null</td><td>0.005402</td><td>null</td><td>null</td><td>-9.2198e-21</td></tr><tr><td>&hellip;</td><td>&hellip;</td><td>&hellip;</td><td>&hellip;</td><td>&hellip;</td><td>&hellip;</td><td>&hellip;</td><td>&hellip;</td><td>&hellip;</td><td>&hellip;</td><td>&hellip;</td></tr><tr><td>2025-09-15</td><td>&quot;USBQZR1&quot;</td><td>-0.041651</td><td>null</td><td>1.365701</td><td>null</td><td>-0.159387</td><td>-0.024335</td><td>null</td><td>-1.3553e-20</td><td>-6.9890e-22</td></tr><tr><td>2025-09-15</td><td>&quot;USBRGT1&quot;</td><td>0.0</td><td>null</td><td>1.264243</td><td>null</td><td>0.012975</td><td>-0.005506</td><td>null</td><td>-3.4045e-19</td><td>-3.7165e-21</td></tr><tr><td>2025-09-15</td><td>&quot;USBRH21&quot;</td><td>0.011281</td><td>null</td><td>1.364664</td><td>null</td><td>-0.003457</td><td>-0.019368</td><td>null</td><td>-9.9263e-20</td><td>-2.6956e-21</td></tr><tr><td>2025-09-15</td><td>&quot;USBRKA1&quot;</td><td>-0.021757</td><td>null</td><td>0.319354</td><td>null</td><td>-0.001337</td><td>0.021217</td><td>null</td><td>-4.3920e-19</td><td>-5.5406e-21</td></tr><tr><td>2025-09-15</td><td>&quot;USBRKA2&quot;</td><td>-0.012441</td><td>null</td><td>0.331983</td><td>null</td><td>-0.002816</td><td>0.021041</td><td>null</td><td>-4.2459e-19</td><td>-4.9619e-21</td></tr></tbody></table></div>"
      ],
      "text/plain": [
       "shape: (20_764_025, 11)\n",
       "┌────────────┬─────────┬───────────┬───────────┬───┬───────────┬───────────┬───────────┬───────────┐\n",
       "│ date       ┆ barrid  ┆ return    ┆ fwd_retur ┆ … ┆ bab_alpha ┆ momentum_ ┆ meanrev_w ┆ bab_weigh │\n",
       "│ ---        ┆ ---     ┆ ---       ┆ n         ┆   ┆ ---       ┆ weight    ┆ eight     ┆ t         │\n",
       "│ date       ┆ str     ┆ f64       ┆ ---       ┆   ┆ f64       ┆ ---       ┆ ---       ┆ ---       │\n",
       "│            ┆         ┆           ┆ f64       ┆   ┆           ┆ f64       ┆ f64       ┆ f64       │\n",
       "╞════════════╪═════════╪═══════════╪═══════════╪═══╪═══════════╪═══════════╪═══════════╪═══════════╡\n",
       "│ 1995-06-30 ┆ USAA191 ┆ 0.051471  ┆ -0.013986 ┆ … ┆ 0.003645  ┆ null      ┆ null      ┆ -1.0844e- │\n",
       "│            ┆         ┆           ┆           ┆   ┆           ┆           ┆           ┆ 20        │\n",
       "│ 1995-06-30 ┆ USAA1W1 ┆ 0.057971  ┆ 0.0       ┆ … ┆ -0.010093 ┆ null      ┆ null      ┆ -9.1201e- │\n",
       "│            ┆         ┆           ┆           ┆   ┆           ┆           ┆           ┆ 22        │\n",
       "│ 1995-06-30 ┆ USAA1Y1 ┆ 0.028777  ┆ -0.017483 ┆ … ┆ -0.027408 ┆ null      ┆ null      ┆ -4.8273e- │\n",
       "│            ┆         ┆           ┆           ┆   ┆           ┆           ┆           ┆ 21        │\n",
       "│ 1995-06-30 ┆ USAA2L1 ┆ 0.036585  ┆ 0.002941  ┆ … ┆ 0.010805  ┆ null      ┆ null      ┆ -4.2673e- │\n",
       "│            ┆         ┆           ┆           ┆   ┆           ┆           ┆           ┆ 21        │\n",
       "│ 1995-06-30 ┆ USAA311 ┆ 0.020134  ┆ -0.006579 ┆ … ┆ 0.005402  ┆ null      ┆ null      ┆ -9.2198e- │\n",
       "│            ┆         ┆           ┆           ┆   ┆           ┆           ┆           ┆ 21        │\n",
       "│ …          ┆ …       ┆ …         ┆ …         ┆ … ┆ …         ┆ …         ┆ …         ┆ …         │\n",
       "│ 2025-09-15 ┆ USBQZR1 ┆ -0.041651 ┆ null      ┆ … ┆ -0.024335 ┆ null      ┆ -1.3553e- ┆ -6.9890e- │\n",
       "│            ┆         ┆           ┆           ┆   ┆           ┆           ┆ 20        ┆ 22        │\n",
       "│ 2025-09-15 ┆ USBRGT1 ┆ 0.0       ┆ null      ┆ … ┆ -0.005506 ┆ null      ┆ -3.4045e- ┆ -3.7165e- │\n",
       "│            ┆         ┆           ┆           ┆   ┆           ┆           ┆ 19        ┆ 21        │\n",
       "│ 2025-09-15 ┆ USBRH21 ┆ 0.011281  ┆ null      ┆ … ┆ -0.019368 ┆ null      ┆ -9.9263e- ┆ -2.6956e- │\n",
       "│            ┆         ┆           ┆           ┆   ┆           ┆           ┆ 20        ┆ 21        │\n",
       "│ 2025-09-15 ┆ USBRKA1 ┆ -0.021757 ┆ null      ┆ … ┆ 0.021217  ┆ null      ┆ -4.3920e- ┆ -5.5406e- │\n",
       "│            ┆         ┆           ┆           ┆   ┆           ┆           ┆ 19        ┆ 21        │\n",
       "│ 2025-09-15 ┆ USBRKA2 ┆ -0.012441 ┆ null      ┆ … ┆ 0.021041  ┆ null      ┆ -4.2459e- ┆ -4.9619e- │\n",
       "│            ┆         ┆           ┆           ┆   ┆           ┆           ┆ 19        ┆ 21        │\n",
       "└────────────┴─────────┴───────────┴───────────┴───┴───────────┴───────────┴───────────┴───────────┘"
      ]
     },
     "execution_count": 4,
     "metadata": {},
     "output_type": "execute_result"
    }
   ],
   "source": [
    "big_data = alpha_data.join(weights_data, on=[\"date\", \"barrid\"], how=\"inner\").select(['date', 'barrid', 'return', 'fwd_return', 'predicted_beta', 'momentum_alpha', 'meanrev_alpha', 'bab_alpha', 'momentum_weight', 'meanrev_weight', 'bab_weight'])\n",
    "\n",
    "big_data"
   ]
  },
  {
   "cell_type": "code",
   "execution_count": 5,
   "id": "5ea596ac",
   "metadata": {},
   "outputs": [
    {
     "data": {
      "text/html": [
       "<div><style>\n",
       ".dataframe > thead > tr,\n",
       ".dataframe > tbody > tr {\n",
       "  text-align: right;\n",
       "  white-space: pre-wrap;\n",
       "}\n",
       "</style>\n",
       "<small>shape: (22_806, 3)</small><table border=\"1\" class=\"dataframe\"><thead><tr><th>date</th><th>portfolio</th><th>alpha</th></tr><tr><td>date</td><td>str</td><td>f64</td></tr></thead><tbody><tr><td>1995-06-30</td><td>&quot;momentum&quot;</td><td>0.0</td></tr><tr><td>1995-07-03</td><td>&quot;momentum&quot;</td><td>0.0</td></tr><tr><td>1995-07-05</td><td>&quot;momentum&quot;</td><td>0.0</td></tr><tr><td>1995-07-06</td><td>&quot;momentum&quot;</td><td>0.0</td></tr><tr><td>1995-07-07</td><td>&quot;momentum&quot;</td><td>0.0</td></tr><tr><td>&hellip;</td><td>&hellip;</td><td>&hellip;</td></tr><tr><td>2025-09-09</td><td>&quot;bab&quot;</td><td>0.011151</td></tr><tr><td>2025-09-10</td><td>&quot;bab&quot;</td><td>0.010666</td></tr><tr><td>2025-09-11</td><td>&quot;bab&quot;</td><td>0.011057</td></tr><tr><td>2025-09-12</td><td>&quot;bab&quot;</td><td>0.010894</td></tr><tr><td>2025-09-15</td><td>&quot;bab&quot;</td><td>0.010745</td></tr></tbody></table></div>"
      ],
      "text/plain": [
       "shape: (22_806, 3)\n",
       "┌────────────┬───────────┬──────────┐\n",
       "│ date       ┆ portfolio ┆ alpha    │\n",
       "│ ---        ┆ ---       ┆ ---      │\n",
       "│ date       ┆ str       ┆ f64      │\n",
       "╞════════════╪═══════════╪══════════╡\n",
       "│ 1995-06-30 ┆ momentum  ┆ 0.0      │\n",
       "│ 1995-07-03 ┆ momentum  ┆ 0.0      │\n",
       "│ 1995-07-05 ┆ momentum  ┆ 0.0      │\n",
       "│ 1995-07-06 ┆ momentum  ┆ 0.0      │\n",
       "│ 1995-07-07 ┆ momentum  ┆ 0.0      │\n",
       "│ …          ┆ …         ┆ …        │\n",
       "│ 2025-09-09 ┆ bab       ┆ 0.011151 │\n",
       "│ 2025-09-10 ┆ bab       ┆ 0.010666 │\n",
       "│ 2025-09-11 ┆ bab       ┆ 0.011057 │\n",
       "│ 2025-09-12 ┆ bab       ┆ 0.010894 │\n",
       "│ 2025-09-15 ┆ bab       ┆ 0.010745 │\n",
       "└────────────┴───────────┴──────────┘"
      ]
     },
     "execution_count": 5,
     "metadata": {},
     "output_type": "execute_result"
    }
   ],
   "source": [
    "momentum_alphas = big_data.group_by('date').agg((pl.col('momentum_alpha') * pl.col('momentum_weight')).sum().alias('momentum')).sort('date')\n",
    "meanrev_alphas = big_data.group_by('date').agg((pl.col('meanrev_alpha') * pl.col('meanrev_weight')).sum().alias('meanrev')).sort('date')\n",
    "bab_alphas = big_data.group_by('date').agg((pl.col('bab_alpha') * pl.col('bab_weight')).sum().alias('bab')).sort('date')\n",
    "\n",
    "alphas = momentum_alphas.join(meanrev_alphas, on=[\"date\"], how=\"inner\").join(bab_alphas, on=[\"date\"], how=\"inner\")\n",
    "\n",
    "alphas = alphas.unpivot(\n",
    "    index=[\"date\"],\n",
    "    on=[\"momentum\", \"meanrev\", \"bab\"],\n",
    "    variable_name=\"portfolio\",\n",
    "    value_name=\"alpha\"   \n",
    ")\n",
    "\n",
    "alphas"
   ]
  },
  {
   "cell_type": "code",
   "execution_count": 6,
   "id": "68de9585",
   "metadata": {},
   "outputs": [
    {
     "data": {
      "text/html": [
       "<div><style>\n",
       ".dataframe > thead > tr,\n",
       ".dataframe > tbody > tr {\n",
       "  text-align: right;\n",
       "  white-space: pre-wrap;\n",
       "}\n",
       "</style>\n",
       "<small>shape: (22_806, 3)</small><table border=\"1\" class=\"dataframe\"><thead><tr><th>date</th><th>portfolio</th><th>fwd_return</th></tr><tr><td>date</td><td>str</td><td>f64</td></tr></thead><tbody><tr><td>1995-06-30</td><td>&quot;momentum&quot;</td><td>0.0</td></tr><tr><td>1995-07-03</td><td>&quot;momentum&quot;</td><td>0.0</td></tr><tr><td>1995-07-05</td><td>&quot;momentum&quot;</td><td>0.0</td></tr><tr><td>1995-07-06</td><td>&quot;momentum&quot;</td><td>0.0</td></tr><tr><td>1995-07-07</td><td>&quot;momentum&quot;</td><td>0.0</td></tr><tr><td>&hellip;</td><td>&hellip;</td><td>&hellip;</td></tr><tr><td>2025-09-09</td><td>&quot;bab&quot;</td><td>-0.001612</td></tr><tr><td>2025-09-10</td><td>&quot;bab&quot;</td><td>0.01412</td></tr><tr><td>2025-09-11</td><td>&quot;bab&quot;</td><td>-0.002666</td></tr><tr><td>2025-09-12</td><td>&quot;bab&quot;</td><td>0.008112</td></tr><tr><td>2025-09-15</td><td>&quot;bab&quot;</td><td>0.0</td></tr></tbody></table></div>"
      ],
      "text/plain": [
       "shape: (22_806, 3)\n",
       "┌────────────┬───────────┬────────────┐\n",
       "│ date       ┆ portfolio ┆ fwd_return │\n",
       "│ ---        ┆ ---       ┆ ---        │\n",
       "│ date       ┆ str       ┆ f64        │\n",
       "╞════════════╪═══════════╪════════════╡\n",
       "│ 1995-06-30 ┆ momentum  ┆ 0.0        │\n",
       "│ 1995-07-03 ┆ momentum  ┆ 0.0        │\n",
       "│ 1995-07-05 ┆ momentum  ┆ 0.0        │\n",
       "│ 1995-07-06 ┆ momentum  ┆ 0.0        │\n",
       "│ 1995-07-07 ┆ momentum  ┆ 0.0        │\n",
       "│ …          ┆ …         ┆ …          │\n",
       "│ 2025-09-09 ┆ bab       ┆ -0.001612  │\n",
       "│ 2025-09-10 ┆ bab       ┆ 0.01412    │\n",
       "│ 2025-09-11 ┆ bab       ┆ -0.002666  │\n",
       "│ 2025-09-12 ┆ bab       ┆ 0.008112   │\n",
       "│ 2025-09-15 ┆ bab       ┆ 0.0        │\n",
       "└────────────┴───────────┴────────────┘"
      ]
     },
     "execution_count": 6,
     "metadata": {},
     "output_type": "execute_result"
    }
   ],
   "source": [
    "momentum_fwd_returns = big_data.group_by('date').agg((pl.col('fwd_return') * pl.col('momentum_weight')).sum().alias('momentum')).sort('date')\n",
    "meanrev_fwd_returns = big_data.group_by('date').agg((pl.col('fwd_return') * pl.col('meanrev_weight')).sum().alias('meanrev')).sort('date')\n",
    "bab_fwd_returns = big_data.group_by('date').agg((pl.col('fwd_return') * pl.col('bab_weight')).sum().alias('bab')).sort('date')\n",
    "\n",
    "fwd_returns = momentum_fwd_returns.join(meanrev_fwd_returns, on=[\"date\"], how=\"inner\").join(bab_fwd_returns, on=[\"date\"], how=\"inner\")\n",
    "fwd_returns = fwd_returns.unpivot(\n",
    "    index=[\"date\"],                    # columns to keep as-is\n",
    "    on=[\"momentum\", \"meanrev\", \"bab\"],  # columns to unpivot\n",
    "    variable_name=\"portfolio\",          # name for new column with old column names\n",
    "    value_name=\"fwd_return\"             # name for new column with values\n",
    ")\n",
    "\n",
    "fwd_returns"
   ]
  },
  {
   "cell_type": "code",
   "execution_count": 7,
   "id": "2ba738c6",
   "metadata": {},
   "outputs": [
    {
     "data": {
      "text/html": [
       "<div><style>\n",
       ".dataframe > thead > tr,\n",
       ".dataframe > tbody > tr {\n",
       "  text-align: right;\n",
       "  white-space: pre-wrap;\n",
       "}\n",
       "</style>\n",
       "<small>shape: (22_806, 4)</small><table border=\"1\" class=\"dataframe\"><thead><tr><th>date</th><th>portfolio</th><th>alpha</th><th>fwd_return</th></tr><tr><td>date</td><td>str</td><td>f64</td><td>f64</td></tr></thead><tbody><tr><td>1995-06-30</td><td>&quot;momentum&quot;</td><td>0.0</td><td>0.0</td></tr><tr><td>1995-06-30</td><td>&quot;meanrev&quot;</td><td>0.0</td><td>0.0</td></tr><tr><td>1995-06-30</td><td>&quot;bab&quot;</td><td>0.007734</td><td>0.003396</td></tr><tr><td>1995-07-03</td><td>&quot;momentum&quot;</td><td>0.0</td><td>0.0</td></tr><tr><td>1995-07-03</td><td>&quot;meanrev&quot;</td><td>0.0</td><td>0.0</td></tr><tr><td>&hellip;</td><td>&hellip;</td><td>&hellip;</td><td>&hellip;</td></tr><tr><td>2025-09-12</td><td>&quot;meanrev&quot;</td><td>0.09756</td><td>-0.011655</td></tr><tr><td>2025-09-12</td><td>&quot;bab&quot;</td><td>0.010894</td><td>0.008112</td></tr><tr><td>2025-09-15</td><td>&quot;momentum&quot;</td><td>0.153725</td><td>0.0</td></tr><tr><td>2025-09-15</td><td>&quot;meanrev&quot;</td><td>0.100701</td><td>0.0</td></tr><tr><td>2025-09-15</td><td>&quot;bab&quot;</td><td>0.010745</td><td>0.0</td></tr></tbody></table></div>"
      ],
      "text/plain": [
       "shape: (22_806, 4)\n",
       "┌────────────┬───────────┬──────────┬────────────┐\n",
       "│ date       ┆ portfolio ┆ alpha    ┆ fwd_return │\n",
       "│ ---        ┆ ---       ┆ ---      ┆ ---        │\n",
       "│ date       ┆ str       ┆ f64      ┆ f64        │\n",
       "╞════════════╪═══════════╪══════════╪════════════╡\n",
       "│ 1995-06-30 ┆ momentum  ┆ 0.0      ┆ 0.0        │\n",
       "│ 1995-06-30 ┆ meanrev   ┆ 0.0      ┆ 0.0        │\n",
       "│ 1995-06-30 ┆ bab       ┆ 0.007734 ┆ 0.003396   │\n",
       "│ 1995-07-03 ┆ momentum  ┆ 0.0      ┆ 0.0        │\n",
       "│ 1995-07-03 ┆ meanrev   ┆ 0.0      ┆ 0.0        │\n",
       "│ …          ┆ …         ┆ …        ┆ …          │\n",
       "│ 2025-09-12 ┆ meanrev   ┆ 0.09756  ┆ -0.011655  │\n",
       "│ 2025-09-12 ┆ bab       ┆ 0.010894 ┆ 0.008112   │\n",
       "│ 2025-09-15 ┆ momentum  ┆ 0.153725 ┆ 0.0        │\n",
       "│ 2025-09-15 ┆ meanrev   ┆ 0.100701 ┆ 0.0        │\n",
       "│ 2025-09-15 ┆ bab       ┆ 0.010745 ┆ 0.0        │\n",
       "└────────────┴───────────┴──────────┴────────────┘"
      ]
     },
     "execution_count": 7,
     "metadata": {},
     "output_type": "execute_result"
    }
   ],
   "source": [
    "portfolio_data = alphas.join(fwd_returns, on=['date', 'portfolio'], how='inner').sort('date')\n",
    "\n",
    "portfolio_data"
   ]
  },
  {
   "cell_type": "code",
   "execution_count": null,
   "id": "65b8f2b1",
   "metadata": {},
   "outputs": [
    {
     "name": "stderr",
     "output_type": "stream",
     "text": [
      "  0%|          | 0/7598 [00:00<?, ?it/s]"
     ]
    },
    {
     "name": "stderr",
     "output_type": "stream",
     "text": [
      "100%|██████████| 7598/7598 [01:03<00:00, 119.63it/s]\n"
     ]
    }
   ],
   "source": [
    "portfolio_data_wide = portfolio_data.pivot(\n",
    "    values=\"fwd_return\",\n",
    "    index=\"date\",\n",
    "    on=\"portfolio\"\n",
    ").sort(\"date\")\n",
    "\n",
    "dates = portfolio_data_wide[\"date\"].to_numpy()\n",
    "returns_matrix = portfolio_data_wide.drop(\"date\").to_numpy()  # shape: (n_days, n_portfolios)\n",
    "portfolios = portfolio_data_wide.drop(\"date\").columns\n",
    "\n",
    "rolling_window = 2\n",
    "cov_matrices = {}\n",
    "weights = {}\n",
    "\n",
    "for i in tqdm(range(rolling_window, len(dates))):\n",
    "    window_returns = returns_matrix[i - rolling_window : i, :]\n",
    "    cov_matrix = np.cov(window_returns, rowvar=False)\n",
    "    cov_matrices[dates[i]] = cov_matrix\n",
    "    constraints = [\n",
    "        sfo.FullInvestment(),\n",
    "        sfo.LongOnly(),\n",
    "        sfo.NoBuyingOnMargin(),\n",
    "        # sfo.UnitBeta()\n",
    "    ]\n",
    "\n",
    "    target_date = dates[i].astype(\"M8[D]\").astype(object)  # convert numpy.datetime64[D] → datetime.date\n",
    "    alpha_vector = portfolio_data.filter(pl.col('date').eq(target_date)).select('alpha').to_numpy()\n",
    "\n",
    "    weights[dates[i]] = sfo.mve_optimizer(\n",
    "        ids=[\"momentum\", \"meanrev\", \"bab\"],\n",
    "        alphas=alpha_vector,\n",
    "        covariance_matrix=cov_matrix,\n",
    "        constraints=constraints,\n",
    "        gamma=20\n",
    "    )\n"
   ]
  },
  {
   "cell_type": "code",
   "execution_count": 52,
   "id": "a2ee5be1",
   "metadata": {},
   "outputs": [],
   "source": [
    "weights_list = []\n",
    "for date_, df in weights.items():\n",
    "    # Convert numpy.datetime64 → Python date\n",
    "    if isinstance(date_, np.datetime64):\n",
    "        date_ = date_.astype(\"M8[D]\").astype(object)  # ensures it's a datetime.date\n",
    "    \n",
    "    # If still a datetime, convert down to date\n",
    "    if isinstance(date_, dt.datetime):\n",
    "        date_ = date_.date()\n",
    "    \n",
    "    df_with_date = df.with_columns(\n",
    "        pl.lit(date_).alias(\"date\").cast(pl.Date)\n",
    "    )\n",
    "    weights_list.append(df_with_date)\n",
    "\n",
    "weights_all = pl.concat(weights_list)\n",
    "weights_all = weights_all.rename({'barrid': 'portfolio'})\n",
    "portfolio_data = portfolio_data.join(weights_all, on=['date', 'portfolio'], how='inner')"
   ]
  },
  {
   "cell_type": "code",
   "execution_count": 57,
   "id": "47c39020",
   "metadata": {},
   "outputs": [
    {
     "data": {
      "text/plain": [
       "Text(0.5, 1.0, 'Synthetic Weights vs. Time')"
      ]
     },
     "execution_count": 57,
     "metadata": {},
     "output_type": "execute_result"
    },
    {
     "data": {
      "image/png": "[encoded data removed]",
      "text/plain": [
       "<Figure size 1000x600 with 1 Axes>"
      ]
     },
     "metadata": {},
     "output_type": "display_data"
    }
   ],
   "source": [
    "plt.figure(figsize=(10, 6))\n",
    "sns.lineplot(portfolio_data, x='date', y='weight', hue='portfolio')\n",
    "plt.xlabel('Date')\n",
    "plt.ylabel('Weight')\n",
    "plt.title('Synthetic Weights vs. Time')"
   ]
  },
  {
   "cell_type": "code",
   "execution_count": null,
   "id": "07bc54bf",
   "metadata": {},
   "outputs": [
    {
     "data": {
      "text/html": [
       "<div><style>\n",
       ".dataframe > thead > tr,\n",
       ".dataframe > tbody > tr {\n",
       "  text-align: right;\n",
       "  white-space: pre-wrap;\n",
       "}\n",
       "</style>\n",
       "<small>shape: (20_764_025, 11)</small><table border=\"1\" class=\"dataframe\"><thead><tr><th>date</th><th>barrid</th><th>return</th><th>fwd_return</th><th>predicted_beta</th><th>momentum_alpha</th><th>meanrev_alpha</th><th>bab_alpha</th><th>momentum_weight</th><th>meanrev_weight</th><th>bab_weight</th></tr><tr><td>date</td><td>str</td><td>f64</td><td>f64</td><td>f64</td><td>f64</td><td>f64</td><td>f64</td><td>f64</td><td>f64</td><td>f64</td></tr></thead><tbody><tr><td>1995-06-30</td><td>&quot;USAA191&quot;</td><td>0.051471</td><td>-0.013986</td><td>0.823795</td><td>null</td><td>null</td><td>0.003645</td><td>0.0</td><td>0.0</td><td>-1.0844e-20</td></tr><tr><td>1995-06-30</td><td>&quot;USAA1W1&quot;</td><td>0.057971</td><td>0.0</td><td>1.105022</td><td>null</td><td>null</td><td>-0.010093</td><td>0.0</td><td>0.0</td><td>-9.1201e-22</td></tr><tr><td>1995-06-30</td><td>&quot;USAA1Y1&quot;</td><td>0.028777</td><td>-0.017483</td><td>1.636947</td><td>null</td><td>null</td><td>-0.027408</td><td>0.0</td><td>0.0</td><td>-4.8273e-21</td></tr><tr><td>1995-06-30</td><td>&quot;USAA2L1&quot;</td><td>0.036585</td><td>0.002941</td><td>0.725292</td><td>null</td><td>null</td><td>0.010805</td><td>0.0</td><td>0.0</td><td>-4.2673e-21</td></tr><tr><td>1995-06-30</td><td>&quot;USAA311&quot;</td><td>0.020134</td><td>-0.006579</td><td>0.798643</td><td>null</td><td>null</td><td>0.005402</td><td>0.0</td><td>0.0</td><td>-9.2198e-21</td></tr><tr><td>&hellip;</td><td>&hellip;</td><td>&hellip;</td><td>&hellip;</td><td>&hellip;</td><td>&hellip;</td><td>&hellip;</td><td>&hellip;</td><td>&hellip;</td><td>&hellip;</td><td>&hellip;</td></tr><tr><td>2025-09-15</td><td>&quot;USBQZR1&quot;</td><td>-0.041651</td><td>null</td><td>1.365701</td><td>null</td><td>-0.159387</td><td>-0.024335</td><td>0.0</td><td>-1.3553e-20</td><td>-6.9890e-22</td></tr><tr><td>2025-09-15</td><td>&quot;USBRGT1&quot;</td><td>0.0</td><td>null</td><td>1.264243</td><td>null</td><td>0.012975</td><td>-0.005506</td><td>0.0</td><td>-3.4045e-19</td><td>-3.7165e-21</td></tr><tr><td>2025-09-15</td><td>&quot;USBRH21&quot;</td><td>0.011281</td><td>null</td><td>1.364664</td><td>null</td><td>-0.003457</td><td>-0.019368</td><td>0.0</td><td>-9.9263e-20</td><td>-2.6956e-21</td></tr><tr><td>2025-09-15</td><td>&quot;USBRKA1&quot;</td><td>-0.021757</td><td>null</td><td>0.319354</td><td>null</td><td>-0.001337</td><td>0.021217</td><td>0.0</td><td>-4.3920e-19</td><td>-5.5406e-21</td></tr><tr><td>2025-09-15</td><td>&quot;USBRKA2&quot;</td><td>-0.012441</td><td>null</td><td>0.331983</td><td>null</td><td>-0.002816</td><td>0.021041</td><td>0.0</td><td>-4.2459e-19</td><td>-4.9619e-21</td></tr></tbody></table></div>"
      ],
      "text/plain": [
       "shape: (20_764_025, 11)\n",
       "┌────────────┬─────────┬───────────┬───────────┬───┬───────────┬───────────┬───────────┬───────────┐\n",
       "│ date       ┆ barrid  ┆ return    ┆ fwd_retur ┆ … ┆ bab_alpha ┆ momentum_ ┆ meanrev_w ┆ bab_weigh │\n",
       "│ ---        ┆ ---     ┆ ---       ┆ n         ┆   ┆ ---       ┆ weight    ┆ eight     ┆ t         │\n",
       "│ date       ┆ str     ┆ f64       ┆ ---       ┆   ┆ f64       ┆ ---       ┆ ---       ┆ ---       │\n",
       "│            ┆         ┆           ┆ f64       ┆   ┆           ┆ f64       ┆ f64       ┆ f64       │\n",
       "╞════════════╪═════════╪═══════════╪═══════════╪═══╪═══════════╪═══════════╪═══════════╪═══════════╡\n",
       "│ 1995-06-30 ┆ USAA191 ┆ 0.051471  ┆ -0.013986 ┆ … ┆ 0.003645  ┆ 0.0       ┆ 0.0       ┆ -1.0844e- │\n",
       "│            ┆         ┆           ┆           ┆   ┆           ┆           ┆           ┆ 20        │\n",
       "│ 1995-06-30 ┆ USAA1W1 ┆ 0.057971  ┆ 0.0       ┆ … ┆ -0.010093 ┆ 0.0       ┆ 0.0       ┆ -9.1201e- │\n",
       "│            ┆         ┆           ┆           ┆   ┆           ┆           ┆           ┆ 22        │\n",
       "│ 1995-06-30 ┆ USAA1Y1 ┆ 0.028777  ┆ -0.017483 ┆ … ┆ -0.027408 ┆ 0.0       ┆ 0.0       ┆ -4.8273e- │\n",
       "│            ┆         ┆           ┆           ┆   ┆           ┆           ┆           ┆ 21        │\n",
       "│ 1995-06-30 ┆ USAA2L1 ┆ 0.036585  ┆ 0.002941  ┆ … ┆ 0.010805  ┆ 0.0       ┆ 0.0       ┆ -4.2673e- │\n",
       "│            ┆         ┆           ┆           ┆   ┆           ┆           ┆           ┆ 21        │\n",
       "│ 1995-06-30 ┆ USAA311 ┆ 0.020134  ┆ -0.006579 ┆ … ┆ 0.005402  ┆ 0.0       ┆ 0.0       ┆ -9.2198e- │\n",
       "│            ┆         ┆           ┆           ┆   ┆           ┆           ┆           ┆ 21        │\n",
       "│ …          ┆ …       ┆ …         ┆ …         ┆ … ┆ …         ┆ …         ┆ …         ┆ …         │\n",
       "│ 2025-09-15 ┆ USBQZR1 ┆ -0.041651 ┆ null      ┆ … ┆ -0.024335 ┆ 0.0       ┆ -1.3553e- ┆ -6.9890e- │\n",
       "│            ┆         ┆           ┆           ┆   ┆           ┆           ┆ 20        ┆ 22        │\n",
       "│ 2025-09-15 ┆ USBRGT1 ┆ 0.0       ┆ null      ┆ … ┆ -0.005506 ┆ 0.0       ┆ -3.4045e- ┆ -3.7165e- │\n",
       "│            ┆         ┆           ┆           ┆   ┆           ┆           ┆ 19        ┆ 21        │\n",
       "│ 2025-09-15 ┆ USBRH21 ┆ 0.011281  ┆ null      ┆ … ┆ -0.019368 ┆ 0.0       ┆ -9.9263e- ┆ -2.6956e- │\n",
       "│            ┆         ┆           ┆           ┆   ┆           ┆           ┆ 20        ┆ 21        │\n",
       "│ 2025-09-15 ┆ USBRKA1 ┆ -0.021757 ┆ null      ┆ … ┆ 0.021217  ┆ 0.0       ┆ -4.3920e- ┆ -5.5406e- │\n",
       "│            ┆         ┆           ┆           ┆   ┆           ┆           ┆ 19        ┆ 21        │\n",
       "│ 2025-09-15 ┆ USBRKA2 ┆ -0.012441 ┆ null      ┆ … ┆ 0.021041  ┆ 0.0       ┆ -4.2459e- ┆ -4.9619e- │\n",
       "│            ┆         ┆           ┆           ┆   ┆           ┆           ┆ 19        ┆ 21        │\n",
       "└────────────┴─────────┴───────────┴───────────┴───┴───────────┴───────────┴───────────┴───────────┘"
      ]
     },
     "execution_count": 18,
     "metadata": {},
     "output_type": "execute_result"
    }
   ],
   "source": [
    "big_data = (\n",
    "    big_data\n",
    "    .with_columns(pl.col('momentum_weight').fill_null(0)\n",
    "    )\n",
    "    .with_columns(pl.col('meanrev_weight').fill_null(0)\n",
    "    )\n",
    "    .with_columns(pl.col('bab_weight').fill_null(0)\n",
    "    )\n",
    ")"
   ]
  },
  {
   "cell_type": "code",
   "execution_count": 19,
   "id": "0edf5ed9",
   "metadata": {},
   "outputs": [
    {
     "data": {
      "text/html": [
       "<div><style>\n",
       ".dataframe > thead > tr,\n",
       ".dataframe > tbody > tr {\n",
       "  text-align: right;\n",
       "  white-space: pre-wrap;\n",
       "}\n",
       "</style>\n",
       "<small>shape: (20_758_115, 15)</small><table border=\"1\" class=\"dataframe\"><thead><tr><th>date</th><th>barrid</th><th>return</th><th>fwd_return</th><th>predicted_beta</th><th>momentum_alpha</th><th>meanrev_alpha</th><th>bab_alpha</th><th>momentum_weight</th><th>meanrev_weight</th><th>bab_weight</th><th>momentum_mw</th><th>meanrev_mw</th><th>bab_mw</th><th>total_weight</th></tr><tr><td>date</td><td>str</td><td>f64</td><td>f64</td><td>f64</td><td>f64</td><td>f64</td><td>f64</td><td>f64</td><td>f64</td><td>f64</td><td>f64</td><td>f64</td><td>f64</td><td>f64</td></tr></thead><tbody><tr><td>1995-07-05</td><td>&quot;USAA191&quot;</td><td>0.0</td><td>-0.007092</td><td>0.825965</td><td>null</td><td>null</td><td>0.003532</td><td>0.0</td><td>0.0</td><td>-8.7919e-21</td><td>0.435047</td><td>0.435047</td><td>0.129906</td><td>-1.1421e-21</td></tr><tr><td>1995-07-05</td><td>&quot;USAA1W1&quot;</td><td>-0.061644</td><td>-0.007299</td><td>1.107636</td><td>null</td><td>null</td><td>-0.010226</td><td>0.0</td><td>0.0</td><td>-4.1150e-22</td><td>0.435047</td><td>0.435047</td><td>0.129906</td><td>-5.3457e-23</td></tr><tr><td>1995-07-05</td><td>&quot;USAA1Y1&quot;</td><td>0.046263</td><td>0.0</td><td>1.631187</td><td>null</td><td>null</td><td>-0.026971</td><td>0.0</td><td>0.0</td><td>-4.7758e-21</td><td>0.435047</td><td>0.435047</td><td>0.129906</td><td>-6.2041e-22</td></tr><tr><td>1995-07-05</td><td>&quot;USAA2L1&quot;</td><td>0.008798</td><td>-0.052326</td><td>0.657783</td><td>null</td><td>null</td><td>0.013757</td><td>0.0</td><td>0.0</td><td>-3.4944e-21</td><td>0.435047</td><td>0.435047</td><td>0.129906</td><td>-4.5394e-22</td></tr><tr><td>1995-07-05</td><td>&quot;USAA311&quot;</td><td>0.019868</td><td>0.051948</td><td>0.795065</td><td>null</td><td>null</td><td>0.005505</td><td>0.0</td><td>0.0</td><td>-7.0238e-21</td><td>0.435047</td><td>0.435047</td><td>0.129906</td><td>-9.1244e-22</td></tr><tr><td>&hellip;</td><td>&hellip;</td><td>&hellip;</td><td>&hellip;</td><td>&hellip;</td><td>&hellip;</td><td>&hellip;</td><td>&hellip;</td><td>&hellip;</td><td>&hellip;</td><td>&hellip;</td><td>&hellip;</td><td>&hellip;</td><td>&hellip;</td><td>&hellip;</td></tr><tr><td>2025-09-15</td><td>&quot;USBQZR1&quot;</td><td>-0.041651</td><td>null</td><td>1.365701</td><td>null</td><td>-0.159387</td><td>-0.024335</td><td>0.0</td><td>-1.3553e-20</td><td>-6.9890e-22</td><td>0.792856</td><td>-3.3686e-23</td><td>0.207144</td><td>-1.4477e-22</td></tr><tr><td>2025-09-15</td><td>&quot;USBRGT1&quot;</td><td>0.0</td><td>null</td><td>1.264243</td><td>null</td><td>0.012975</td><td>-0.005506</td><td>0.0</td><td>-3.4045e-19</td><td>-3.7165e-21</td><td>0.792856</td><td>-3.3686e-23</td><td>0.207144</td><td>-7.6985e-22</td></tr><tr><td>2025-09-15</td><td>&quot;USBRH21&quot;</td><td>0.011281</td><td>null</td><td>1.364664</td><td>null</td><td>-0.003457</td><td>-0.019368</td><td>0.0</td><td>-9.9263e-20</td><td>-2.6956e-21</td><td>0.792856</td><td>-3.3686e-23</td><td>0.207144</td><td>-5.5837e-22</td></tr><tr><td>2025-09-15</td><td>&quot;USBRKA1&quot;</td><td>-0.021757</td><td>null</td><td>0.319354</td><td>null</td><td>-0.001337</td><td>0.021217</td><td>0.0</td><td>-4.3920e-19</td><td>-5.5406e-21</td><td>0.792856</td><td>-3.3686e-23</td><td>0.207144</td><td>-1.1477e-21</td></tr><tr><td>2025-09-15</td><td>&quot;USBRKA2&quot;</td><td>-0.012441</td><td>null</td><td>0.331983</td><td>null</td><td>-0.002816</td><td>0.021041</td><td>0.0</td><td>-4.2459e-19</td><td>-4.9619e-21</td><td>0.792856</td><td>-3.3686e-23</td><td>0.207144</td><td>-1.0278e-21</td></tr></tbody></table></div>"
      ],
      "text/plain": [
       "shape: (20_758_115, 15)\n",
       "┌────────────┬─────────┬───────────┬────────────┬───┬───────────┬───────────┬──────────┬───────────┐\n",
       "│ date       ┆ barrid  ┆ return    ┆ fwd_return ┆ … ┆ momentum_ ┆ meanrev_m ┆ bab_mw   ┆ total_wei │\n",
       "│ ---        ┆ ---     ┆ ---       ┆ ---        ┆   ┆ mw        ┆ w         ┆ ---      ┆ ght       │\n",
       "│ date       ┆ str     ┆ f64       ┆ f64        ┆   ┆ ---       ┆ ---       ┆ f64      ┆ ---       │\n",
       "│            ┆         ┆           ┆            ┆   ┆ f64       ┆ f64       ┆          ┆ f64       │\n",
       "╞════════════╪═════════╪═══════════╪════════════╪═══╪═══════════╪═══════════╪══════════╪═══════════╡\n",
       "│ 1995-07-05 ┆ USAA191 ┆ 0.0       ┆ -0.007092  ┆ … ┆ 0.435047  ┆ 0.435047  ┆ 0.129906 ┆ -1.1421e- │\n",
       "│            ┆         ┆           ┆            ┆   ┆           ┆           ┆          ┆ 21        │\n",
       "│ 1995-07-05 ┆ USAA1W1 ┆ -0.061644 ┆ -0.007299  ┆ … ┆ 0.435047  ┆ 0.435047  ┆ 0.129906 ┆ -5.3457e- │\n",
       "│            ┆         ┆           ┆            ┆   ┆           ┆           ┆          ┆ 23        │\n",
       "│ 1995-07-05 ┆ USAA1Y1 ┆ 0.046263  ┆ 0.0        ┆ … ┆ 0.435047  ┆ 0.435047  ┆ 0.129906 ┆ -6.2041e- │\n",
       "│            ┆         ┆           ┆            ┆   ┆           ┆           ┆          ┆ 22        │\n",
       "│ 1995-07-05 ┆ USAA2L1 ┆ 0.008798  ┆ -0.052326  ┆ … ┆ 0.435047  ┆ 0.435047  ┆ 0.129906 ┆ -4.5394e- │\n",
       "│            ┆         ┆           ┆            ┆   ┆           ┆           ┆          ┆ 22        │\n",
       "│ 1995-07-05 ┆ USAA311 ┆ 0.019868  ┆ 0.051948   ┆ … ┆ 0.435047  ┆ 0.435047  ┆ 0.129906 ┆ -9.1244e- │\n",
       "│            ┆         ┆           ┆            ┆   ┆           ┆           ┆          ┆ 22        │\n",
       "│ …          ┆ …       ┆ …         ┆ …          ┆ … ┆ …         ┆ …         ┆ …        ┆ …         │\n",
       "│ 2025-09-15 ┆ USBQZR1 ┆ -0.041651 ┆ null       ┆ … ┆ 0.792856  ┆ -3.3686e- ┆ 0.207144 ┆ -1.4477e- │\n",
       "│            ┆         ┆           ┆            ┆   ┆           ┆ 23        ┆          ┆ 22        │\n",
       "│ 2025-09-15 ┆ USBRGT1 ┆ 0.0       ┆ null       ┆ … ┆ 0.792856  ┆ -3.3686e- ┆ 0.207144 ┆ -7.6985e- │\n",
       "│            ┆         ┆           ┆            ┆   ┆           ┆ 23        ┆          ┆ 22        │\n",
       "│ 2025-09-15 ┆ USBRH21 ┆ 0.011281  ┆ null       ┆ … ┆ 0.792856  ┆ -3.3686e- ┆ 0.207144 ┆ -5.5837e- │\n",
       "│            ┆         ┆           ┆            ┆   ┆           ┆ 23        ┆          ┆ 22        │\n",
       "│ 2025-09-15 ┆ USBRKA1 ┆ -0.021757 ┆ null       ┆ … ┆ 0.792856  ┆ -3.3686e- ┆ 0.207144 ┆ -1.1477e- │\n",
       "│            ┆         ┆           ┆            ┆   ┆           ┆ 23        ┆          ┆ 21        │\n",
       "│ 2025-09-15 ┆ USBRKA2 ┆ -0.012441 ┆ null       ┆ … ┆ 0.792856  ┆ -3.3686e- ┆ 0.207144 ┆ -1.0278e- │\n",
       "│            ┆         ┆           ┆            ┆   ┆           ┆ 23        ┆          ┆ 21        │\n",
       "└────────────┴─────────┴───────────┴────────────┴───┴───────────┴───────────┴──────────┴───────────┘"
      ]
     },
     "execution_count": 19,
     "metadata": {},
     "output_type": "execute_result"
    }
   ],
   "source": [
    "# 1. Pivot meta-weights long → wide\n",
    "meta_wide = (\n",
    "    portfolio_data\n",
    "    .pivot(values=\"weight\", index=\"date\", on=\"portfolio\")\n",
    "    .rename({\"momentum\": \"momentum_mw\", \"meanrev\": \"meanrev_mw\", \"bab\": \"bab_mw\"})\n",
    ")\n",
    "\n",
    "# 2. Join with asset-level table\n",
    "combined = big_data.join(meta_wide, on=\"date\", how=\"inner\")\n",
    "\n",
    "# 3. Compute portfolio weights\n",
    "final_weights = combined.with_columns([\n",
    "    (pl.col(\"momentum_weight\") * pl.col(\"momentum_mw\") +\n",
    "     pl.col(\"meanrev_weight\")  * pl.col(\"meanrev_mw\")  +\n",
    "     pl.col(\"bab_weight\")      * pl.col(\"bab_mw\")\n",
    "    ).alias(\"total_weight\")\n",
    "])\n",
    "\n",
    "final_weights\n"
   ]
  },
  {
   "cell_type": "code",
   "execution_count": 20,
   "id": "e4585c0a",
   "metadata": {},
   "outputs": [
    {
     "name": "stdout",
     "output_type": "stream",
     "text": [
      "shape: (7_600, 2)\n",
      "┌────────────┬──────────────┐\n",
      "│ date       ┆ total_weight │\n",
      "│ ---        ┆ ---          │\n",
      "│ date       ┆ f64          │\n",
      "╞════════════╪══════════════╡\n",
      "│ 2009-11-05 ┆ 1.0          │\n",
      "│ 2003-01-09 ┆ 1.0          │\n",
      "│ 2001-12-12 ┆ 1.0          │\n",
      "│ 2022-01-18 ┆ 1.0          │\n",
      "│ 2021-04-28 ┆ 1.0          │\n",
      "│ …          ┆ …            │\n",
      "│ 2016-08-26 ┆ 1.0          │\n",
      "│ 2002-04-19 ┆ 1.0          │\n",
      "│ 2010-03-10 ┆ 1.0          │\n",
      "│ 2014-11-07 ┆ 1.0          │\n",
      "│ 2009-10-30 ┆ 1.0          │\n",
      "└────────────┴──────────────┘\n",
      "7488.242362781969\n",
      "(7600, 1)\n"
     ]
    }
   ],
   "source": [
    "print(final_weights.group_by('date').agg(pl.col('total_weight').sum()))\n",
    "print(final_weights['total_weight'].sum())\n",
    "print(final_weights.select('date').unique().to_numpy().shape)"
   ]
  },
  {
   "cell_type": "code",
   "execution_count": 21,
   "id": "411e610d",
   "metadata": {},
   "outputs": [
    {
     "name": "stdout",
     "output_type": "stream",
     "text": [
      "shape: (7_600, 2)\n",
      "┌────────────┬────────┐\n",
      "│ date       ┆ barrid │\n",
      "│ ---        ┆ ---    │\n",
      "│ date       ┆ u32    │\n",
      "╞════════════╪════════╡\n",
      "│ 2007-05-03 ┆ 2805   │\n",
      "│ 2005-11-22 ┆ 2878   │\n",
      "│ 2004-10-28 ┆ 2847   │\n",
      "│ 2015-03-24 ┆ 2814   │\n",
      "│ 2006-12-20 ┆ 2832   │\n",
      "│ …          ┆ …      │\n",
      "│ 2011-08-19 ┆ 2584   │\n",
      "│ 2004-02-03 ┆ 2833   │\n",
      "│ 2005-03-02 ┆ 2824   │\n",
      "│ 2025-08-14 ┆ 2692   │\n",
      "│ 2000-07-03 ┆ 2925   │\n",
      "└────────────┴────────┘\n"
     ]
    }
   ],
   "source": [
    "print(final_weights.group_by('date').agg(pl.col('barrid').n_unique()))"
   ]
  },
  {
   "cell_type": "code",
   "execution_count": null,
   "id": "85bbba1b",
   "metadata": {},
   "outputs": [
    {
     "data": {
      "text/html": [
       "<div><style>\n",
       ".dataframe > thead > tr,\n",
       ".dataframe > tbody > tr {\n",
       "  text-align: right;\n",
       "  white-space: pre-wrap;\n",
       "}\n",
       "</style>\n",
       "<small>shape: (22_800, 3)</small><table border=\"1\" class=\"dataframe\"><thead><tr><th>date</th><th>portfolio</th><th>return</th></tr><tr><td>date</td><td>str</td><td>f64</td></tr></thead><tbody><tr><td>1995-07-05</td><td>&quot;active&quot;</td><td>-0.009485</td></tr><tr><td>1995-07-05</td><td>&quot;benchmark&quot;</td><td>0.011535</td></tr><tr><td>1995-07-05</td><td>&quot;total&quot;</td><td>0.002047</td></tr><tr><td>1995-07-06</td><td>&quot;active&quot;</td><td>-0.005824</td></tr><tr><td>1995-07-06</td><td>&quot;benchmark&quot;</td><td>0.006099</td></tr><tr><td>&hellip;</td><td>&hellip;</td><td>&hellip;</td></tr><tr><td>2025-09-12</td><td>&quot;benchmark&quot;</td><td>0.004897</td></tr><tr><td>2025-09-12</td><td>&quot;total&quot;</td><td>0.007418</td></tr><tr><td>2025-09-15</td><td>&quot;active&quot;</td><td>0.0</td></tr><tr><td>2025-09-15</td><td>&quot;benchmark&quot;</td><td>0.0</td></tr><tr><td>2025-09-15</td><td>&quot;total&quot;</td><td>0.0</td></tr></tbody></table></div>"
      ],
      "text/plain": [
       "shape: (22_800, 3)\n",
       "┌────────────┬───────────┬───────────┐\n",
       "│ date       ┆ portfolio ┆ return    │\n",
       "│ ---        ┆ ---       ┆ ---       │\n",
       "│ date       ┆ str       ┆ f64       │\n",
       "╞════════════╪═══════════╪═══════════╡\n",
       "│ 1995-07-05 ┆ active    ┆ -0.009485 │\n",
       "│ 1995-07-05 ┆ benchmark ┆ 0.011535  │\n",
       "│ 1995-07-05 ┆ total     ┆ 0.002047  │\n",
       "│ 1995-07-06 ┆ active    ┆ -0.005824 │\n",
       "│ 1995-07-06 ┆ benchmark ┆ 0.006099  │\n",
       "│ …          ┆ …         ┆ …         │\n",
       "│ 2025-09-12 ┆ benchmark ┆ 0.004897  │\n",
       "│ 2025-09-12 ┆ total     ┆ 0.007418  │\n",
       "│ 2025-09-15 ┆ active    ┆ 0.0       │\n",
       "│ 2025-09-15 ┆ benchmark ┆ 0.0       │\n",
       "│ 2025-09-15 ┆ total     ┆ 0.0       │\n",
       "└────────────┴───────────┴───────────┘"
      ]
     },
     "execution_count": 48,
     "metadata": {},
     "output_type": "execute_result"
    }
   ],
   "source": [
    "start = final_weights[\"date\"].min()\n",
    "end = final_weights[\"date\"].max()\n",
    "\n",
    "columns = [\"date\", \"barrid\", \"fwd_return\"]\n",
    "\n",
    "returns = sfd.load_assets(start=start, end=end, in_universe=True, columns=columns)\n",
    "\n",
    "benchmark = sfd.load_benchmark(start=start, end=end)\n",
    "\n",
    "synMVO_ret = (\n",
    "    returns.join(final_weights, on=[\"date\", \"barrid\"], how=\"left\")\n",
    "    .join(benchmark, on=[\"date\", \"barrid\"], how=\"left\", suffix=\"_bmk\")\n",
    "    .with_columns(pl.col(\"fwd_return\").truediv(100))\n",
    "    .with_columns(pl.col(\"weight\").sub(\"weight_bmk\").alias(\"weight_act\"))\n",
    "    .with_columns(pl.col('weight', 'weight_act', 'weight_bmk').fill_null(0))\n",
    "    .rename({\"weight\": \"total\", \"weight_bmk\": \"benchmark\", \"weight_act\": \"active\"})\n",
    "    .unpivot(\n",
    "        index=[\"date\", \"barrid\", \"fwd_return\"],\n",
    "        variable_name=\"portfolio\",\n",
    "        value_name=\"weight\",\n",
    "    )\n",
    "    .group_by(\"date\", \"portfolio\")\n",
    "    .agg(pl.col(\"fwd_return\").mul(\"weight\").sum().alias(\"return\"))\n",
    "    .sort(\"date\", \"portfolio\")\n",
    ")\n",
    "\n",
    "synMVO_ret"
   ]
  },
  {
   "cell_type": "code",
   "execution_count": null,
   "id": "578e07fd",
   "metadata": {},
   "outputs": [
    {
     "data": {
      "text/html": [
       "<div><style>\n",
       ".dataframe > thead > tr,\n",
       ".dataframe > tbody > tr {\n",
       "  text-align: right;\n",
       "  white-space: pre-wrap;\n",
       "}\n",
       "</style>\n",
       "<small>shape: (7_600, 3)</small><table border=\"1\" class=\"dataframe\"><thead><tr><th>portfolio</th><th>date</th><th>weight</th></tr><tr><td>str</td><td>date</td><td>f64</td></tr></thead><tbody><tr><td>&quot;benchmark&quot;</td><td>2023-06-20</td><td>1.0</td></tr><tr><td>&quot;benchmark&quot;</td><td>2023-02-08</td><td>1.0</td></tr><tr><td>&quot;benchmark&quot;</td><td>2020-06-10</td><td>1.0</td></tr><tr><td>&quot;benchmark&quot;</td><td>2022-11-04</td><td>1.0</td></tr><tr><td>&quot;benchmark&quot;</td><td>2022-08-24</td><td>1.0</td></tr><tr><td>&hellip;</td><td>&hellip;</td><td>&hellip;</td></tr><tr><td>&quot;benchmark&quot;</td><td>2016-02-11</td><td>1.0</td></tr><tr><td>&quot;benchmark&quot;</td><td>2023-03-06</td><td>1.0</td></tr><tr><td>&quot;benchmark&quot;</td><td>2023-08-01</td><td>1.0</td></tr><tr><td>&quot;benchmark&quot;</td><td>2022-09-23</td><td>1.0</td></tr><tr><td>&quot;benchmark&quot;</td><td>2023-03-14</td><td>1.0</td></tr></tbody></table></div>"
      ],
      "text/plain": [
       "shape: (7_600, 3)\n",
       "┌───────────┬────────────┬────────┐\n",
       "│ portfolio ┆ date       ┆ weight │\n",
       "│ ---       ┆ ---        ┆ ---    │\n",
       "│ str       ┆ date       ┆ f64    │\n",
       "╞═══════════╪════════════╪════════╡\n",
       "│ benchmark ┆ 2023-06-20 ┆ 1.0    │\n",
       "│ benchmark ┆ 2023-02-08 ┆ 1.0    │\n",
       "│ benchmark ┆ 2020-06-10 ┆ 1.0    │\n",
       "│ benchmark ┆ 2022-11-04 ┆ 1.0    │\n",
       "│ benchmark ┆ 2022-08-24 ┆ 1.0    │\n",
       "│ …         ┆ …          ┆ …      │\n",
       "│ benchmark ┆ 2016-02-11 ┆ 1.0    │\n",
       "│ benchmark ┆ 2023-03-06 ┆ 1.0    │\n",
       "│ benchmark ┆ 2023-08-01 ┆ 1.0    │\n",
       "│ benchmark ┆ 2022-09-23 ┆ 1.0    │\n",
       "│ benchmark ┆ 2023-03-14 ┆ 1.0    │\n",
       "└───────────┴────────────┴────────┘"
      ]
     },
     "execution_count": 34,
     "metadata": {},
     "output_type": "execute_result"
    }
   ],
   "source": [
    "synMVO_ret.group_by('portfolio', 'date').agg(pl.col('weight').sum()).filter(pl.col('portfolio').eq('benchmark')).sort('weight')"
   ]
  },
  {
   "cell_type": "code",
   "execution_count": null,
   "id": "53da20c7",
   "metadata": {},
   "outputs": [],
   "source": [
    "synMVO_ret = synMVO_ret.with_columns(pl.col('return').add(1).cum_prod().log1p().over('portfolio').alias('cumulative_return'))"
   ]
  },
  {
   "cell_type": "code",
   "execution_count": null,
   "id": "acc8babd",
   "metadata": {},
   "outputs": [
    {
     "data": {
      "text/plain": [
       "Text(0, 0.5, 'Cumulative Log Return (%)')"
      ]
     },
     "execution_count": 46,
     "metadata": {},
     "output_type": "execute_result"
    },
    {
     "data": {
      "image/png": "[encoded data removed]",
      "text/plain": [
       "<Figure size 1000x600 with 1 Axes>"
      ]
     },
     "metadata": {},
     "output_type": "display_data"
    }
   ],
   "source": [
    "plt.figure(figsize=(10, 6))\n",
    "sns.lineplot(synMVO_ret, x='date', y='cumulative_return', hue='portfolio')\n",
    "plt.ylabel('Cumulative Log Return (%)')"
   ]
  },
  {
   "cell_type": "code",
   "execution_count": null,
   "id": "f9ebe38b",
   "metadata": {},
   "outputs": [
    {
     "data": {
      "text/html": [
       "<div><style>\n",
       ".dataframe > thead > tr,\n",
       ".dataframe > tbody > tr {\n",
       "  text-align: right;\n",
       "  white-space: pre-wrap;\n",
       "}\n",
       "</style>\n",
       "<small>shape: (3, 6)</small><table border=\"1\" class=\"dataframe\"><thead><tr><th>Portfolio</th><th>Count</th><th>Mean Return (%)</th><th>Volatility (%)</th><th>Total Return (%)</th><th>Sharpe</th></tr><tr><td>str</td><td>u32</td><td>f64</td><td>f64</td><td>f64</td><td>f64</td></tr></thead><tbody><tr><td>&quot;Active&quot;</td><td>4201</td><td>6.37</td><td>17.26</td><td>126.57</td><td>0.37</td></tr><tr><td>&quot;Benchmark&quot;</td><td>4201</td><td>15.26</td><td>18.62</td><td>852.5</td><td>0.82</td></tr><tr><td>&quot;Total&quot;</td><td>4201</td><td>21.46</td><td>25.08</td><td>2020.94</td><td>0.86</td></tr></tbody></table></div>"
      ],
      "text/plain": [
       "shape: (3, 6)\n",
       "┌───────────┬───────┬─────────────────┬────────────────┬──────────────────┬────────┐\n",
       "│ Portfolio ┆ Count ┆ Mean Return (%) ┆ Volatility (%) ┆ Total Return (%) ┆ Sharpe │\n",
       "│ ---       ┆ ---   ┆ ---             ┆ ---            ┆ ---              ┆ ---    │\n",
       "│ str       ┆ u32   ┆ f64             ┆ f64            ┆ f64              ┆ f64    │\n",
       "╞═══════════╪═══════╪═════════════════╪════════════════╪══════════════════╪════════╡\n",
       "│ Active    ┆ 4201  ┆ 6.37            ┆ 17.26          ┆ 126.57           ┆ 0.37   │\n",
       "│ Benchmark ┆ 4201  ┆ 15.26           ┆ 18.62          ┆ 852.5            ┆ 0.82   │\n",
       "│ Total     ┆ 4201  ┆ 21.46           ┆ 25.08          ┆ 2020.94          ┆ 0.86   │\n",
       "└───────────┴───────┴─────────────────┴────────────────┴──────────────────┴────────┘"
      ]
     },
     "execution_count": 47,
     "metadata": {},
     "output_type": "execute_result"
    }
   ],
   "source": [
    "sfp.generate_summary_table(synMVO_ret)"
   ]
  }
 ],
 "metadata": {
  "kernelspec": {
   "display_name": "orthogonal-alphas",
   "language": "python",
   "name": "python3"
  },
  "language_info": {
   "codemirror_mode": {
    "name": "ipython",
    "version": 3
   },
   "file_extension": ".py",
   "mimetype": "text/x-python",
   "name": "python",
   "nbconvert_exporter": "python",
   "pygments_lexer": "ipython3",
   "version": "3.13.7"
  }
 },
 "nbformat": 4,
 "nbformat_minor": 5
}
