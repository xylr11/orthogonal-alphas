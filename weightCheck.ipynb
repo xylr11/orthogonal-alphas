{
 "cells": [
  {
   "cell_type": "code",
   "execution_count": 1,
   "id": "0ba8c316",
   "metadata": {},
   "outputs": [],
   "source": [
    "# Import necessary packages\n",
    "\n",
    "import polars as pl"
   ]
  },
  {
   "cell_type": "code",
   "execution_count": 2,
   "id": "2bc1cf29",
   "metadata": {},
   "outputs": [
    {
     "data": {
      "text/plain": [
       "' \\nConstraints we have:\\n- Full investment\\n- Unit beta\\n- No buying on margin\\n- Long only\\n'"
      ]
     },
     "execution_count": 2,
     "metadata": {},
     "output_type": "execute_result"
    }
   ],
   "source": [
    "''' \n",
    "Constraints we have:\n",
    "- Full investment\n",
    "- Unit beta\n",
    "- No buying on margin\n",
    "- Long only\n",
    "'''"
   ]
  },
  {
   "cell_type": "code",
   "execution_count": 3,
   "id": "c45187fc",
   "metadata": {},
   "outputs": [],
   "source": [
    "# Read weights\n",
    "\n",
    "weights = pl.read_parquet('signal_weights/weights/all_weights_pivot.parquet')\n",
    "r3000_daily = pl.read_parquet('russell_3000_daily.parquet')"
   ]
  },
  {
   "cell_type": "code",
   "execution_count": 4,
   "id": "0f3c8bda",
   "metadata": {},
   "outputs": [
    {
     "data": {
      "text/html": [
       "<div><style>\n",
       ".dataframe > thead > tr,\n",
       ".dataframe > tbody > tr {\n",
       "  text-align: right;\n",
       "  white-space: pre-wrap;\n",
       "}\n",
       "</style>\n",
       "<small>shape: (22_363_472, 12)</small><table border=\"1\" class=\"dataframe\"><thead><tr><th>date</th><th>barrid</th><th>ticker</th><th>price</th><th>return</th><th>specific_return</th><th>specific_risk</th><th>historical_beta</th><th>predicted_beta</th><th>market_cap</th><th>daily_volume</th><th>bid_ask_spread</th></tr><tr><td>date</td><td>str</td><td>str</td><td>f64</td><td>f64</td><td>f64</td><td>f64</td><td>f64</td><td>f64</td><td>f64</td><td>f64</td><td>f64</td></tr></thead><tbody><tr><td>2013-07-31</td><td>&quot;USA06Z1&quot;</td><td>&quot;MDXG&quot;</td><td>6.26</td><td>-0.1595</td><td>-0.788</td><td>55.056916</td><td>0.328385</td><td>0.34349</td><td>6.006157e8</td><td>121693.0</td><td>0.01</td></tr><tr><td>2013-08-01</td><td>&quot;USA06Z1&quot;</td><td>&quot;MDXG&quot;</td><td>6.32</td><td>0.9585</td><td>0.365</td><td>55.028021</td><td>0.334989</td><td>0.353329</td><td>6.0865392e8</td><td>131728.0</td><td>0.01</td></tr><tr><td>2013-08-02</td><td>&quot;USA06Z1&quot;</td><td>&quot;MDXG&quot;</td><td>6.31</td><td>-0.1582</td><td>-0.731</td><td>54.807402</td><td>0.330713</td><td>0.363624</td><td>6.0769086e8</td><td>43252.0</td><td>0.01</td></tr><tr><td>2013-08-05</td><td>&quot;USA06Z1&quot;</td><td>&quot;MDXG&quot;</td><td>6.45</td><td>2.2187</td><td>1.936</td><td>54.76671</td><td>0.324494</td><td>0.356596</td><td>6.211737e8</td><td>70944.0</td><td>0.02</td></tr><tr><td>2013-08-06</td><td>&quot;USA06Z1&quot;</td><td>&quot;MDXG&quot;</td><td>6.29</td><td>-2.4806</td><td>-0.528</td><td>54.692162</td><td>0.366323</td><td>0.399196</td><td>6.0576474e8</td><td>77085.0</td><td>0.01</td></tr><tr><td>&hellip;</td><td>&hellip;</td><td>&hellip;</td><td>&hellip;</td><td>&hellip;</td><td>&hellip;</td><td>&hellip;</td><td>&hellip;</td><td>&hellip;</td><td>&hellip;</td><td>&hellip;</td><td>&hellip;</td></tr><tr><td>2025-09-09</td><td>&quot;USBRKA2&quot;</td><td>&quot;GLIBA&quot;</td><td>36.225</td><td>-0.4261</td><td>1.121</td><td>20.842679</td><td>0.236481</td><td>0.302514</td><td>1.3226e8</td><td>31025.0</td><td>0.11</td></tr><tr><td>2025-09-10</td><td>&quot;USBRKA2&quot;</td><td>&quot;GLIBA&quot;</td><td>36.24</td><td>0.0414</td><td>2.305</td><td>20.954701</td><td>0.252015</td><td>0.29845</td><td>1.3231e8</td><td>6298.0</td><td>0.21</td></tr><tr><td>2025-09-11</td><td>&quot;USBRKA2&quot;</td><td>&quot;GLIBA&quot;</td><td>37.05</td><td>2.2351</td><td>0.213</td><td>21.480703</td><td>0.256752</td><td>0.31384</td><td>1.3527e8</td><td>26857.0</td><td>0.25</td></tr><tr><td>2025-09-12</td><td>&quot;USBRKA2&quot;</td><td>&quot;GLIBA&quot;</td><td>36.17</td><td>-2.3752</td><td>-0.733</td><td>21.942939</td><td>0.257401</td><td>0.328961</td><td>1.3205e8</td><td>8983.0</td><td>0.16</td></tr><tr><td>2025-09-15</td><td>&quot;USBRKA2&quot;</td><td>&quot;GLIBA&quot;</td><td>35.72</td><td>-1.2441</td><td>-0.794</td><td>21.781675</td><td>0.252982</td><td>0.331983</td><td>1.3041e8</td><td>25995.0</td><td>0.13</td></tr></tbody></table></div>"
      ],
      "text/plain": [
       "shape: (22_363_472, 12)\n",
       "┌────────────┬─────────┬────────┬────────┬───┬─────────────┬─────────────┬────────────┬────────────┐\n",
       "│ date       ┆ barrid  ┆ ticker ┆ price  ┆ … ┆ predicted_b ┆ market_cap  ┆ daily_volu ┆ bid_ask_sp │\n",
       "│ ---        ┆ ---     ┆ ---    ┆ ---    ┆   ┆ eta         ┆ ---         ┆ me         ┆ read       │\n",
       "│ date       ┆ str     ┆ str    ┆ f64    ┆   ┆ ---         ┆ f64         ┆ ---        ┆ ---        │\n",
       "│            ┆         ┆        ┆        ┆   ┆ f64         ┆             ┆ f64        ┆ f64        │\n",
       "╞════════════╪═════════╪════════╪════════╪═══╪═════════════╪═════════════╪════════════╪════════════╡\n",
       "│ 2013-07-31 ┆ USA06Z1 ┆ MDXG   ┆ 6.26   ┆ … ┆ 0.34349     ┆ 6.006157e8  ┆ 121693.0   ┆ 0.01       │\n",
       "│ 2013-08-01 ┆ USA06Z1 ┆ MDXG   ┆ 6.32   ┆ … ┆ 0.353329    ┆ 6.0865392e8 ┆ 131728.0   ┆ 0.01       │\n",
       "│ 2013-08-02 ┆ USA06Z1 ┆ MDXG   ┆ 6.31   ┆ … ┆ 0.363624    ┆ 6.0769086e8 ┆ 43252.0    ┆ 0.01       │\n",
       "│ 2013-08-05 ┆ USA06Z1 ┆ MDXG   ┆ 6.45   ┆ … ┆ 0.356596    ┆ 6.211737e8  ┆ 70944.0    ┆ 0.02       │\n",
       "│ 2013-08-06 ┆ USA06Z1 ┆ MDXG   ┆ 6.29   ┆ … ┆ 0.399196    ┆ 6.0576474e8 ┆ 77085.0    ┆ 0.01       │\n",
       "│ …          ┆ …       ┆ …      ┆ …      ┆ … ┆ …           ┆ …           ┆ …          ┆ …          │\n",
       "│ 2025-09-09 ┆ USBRKA2 ┆ GLIBA  ┆ 36.225 ┆ … ┆ 0.302514    ┆ 1.3226e8    ┆ 31025.0    ┆ 0.11       │\n",
       "│ 2025-09-10 ┆ USBRKA2 ┆ GLIBA  ┆ 36.24  ┆ … ┆ 0.29845     ┆ 1.3231e8    ┆ 6298.0     ┆ 0.21       │\n",
       "│ 2025-09-11 ┆ USBRKA2 ┆ GLIBA  ┆ 37.05  ┆ … ┆ 0.31384     ┆ 1.3527e8    ┆ 26857.0    ┆ 0.25       │\n",
       "│ 2025-09-12 ┆ USBRKA2 ┆ GLIBA  ┆ 36.17  ┆ … ┆ 0.328961    ┆ 1.3205e8    ┆ 8983.0     ┆ 0.16       │\n",
       "│ 2025-09-15 ┆ USBRKA2 ┆ GLIBA  ┆ 35.72  ┆ … ┆ 0.331983    ┆ 1.3041e8    ┆ 25995.0    ┆ 0.13       │\n",
       "└────────────┴─────────┴────────┴────────┴───┴─────────────┴─────────────┴────────────┴────────────┘"
      ]
     },
     "execution_count": 4,
     "metadata": {},
     "output_type": "execute_result"
    }
   ],
   "source": [
    "r3000_daily"
   ]
  },
  {
   "cell_type": "code",
   "execution_count": 5,
   "id": "a1caa62e",
   "metadata": {},
   "outputs": [
    {
     "data": {
      "text/html": [
       "<div><style>\n",
       ".dataframe > thead > tr,\n",
       ".dataframe > tbody > tr {\n",
       "  text-align: right;\n",
       "  white-space: pre-wrap;\n",
       "}\n",
       "</style>\n",
       "<small>shape: (20_764_025, 5)</small><table border=\"1\" class=\"dataframe\"><thead><tr><th>date</th><th>barrid</th><th>bab_weight</th><th>meanrev_weight</th><th>momentum_weight</th></tr><tr><td>date</td><td>str</td><td>f64</td><td>f64</td><td>f64</td></tr></thead><tbody><tr><td>1995-06-30</td><td>&quot;USAA191&quot;</td><td>-1.0844e-20</td><td>null</td><td>null</td></tr><tr><td>1995-06-30</td><td>&quot;USAA1W1&quot;</td><td>-9.1201e-22</td><td>null</td><td>null</td></tr><tr><td>1995-06-30</td><td>&quot;USAA1Y1&quot;</td><td>-4.8273e-21</td><td>null</td><td>null</td></tr><tr><td>1995-06-30</td><td>&quot;USAA2L1&quot;</td><td>-4.2673e-21</td><td>null</td><td>null</td></tr><tr><td>1995-06-30</td><td>&quot;USAA311&quot;</td><td>-9.2198e-21</td><td>null</td><td>null</td></tr><tr><td>&hellip;</td><td>&hellip;</td><td>&hellip;</td><td>&hellip;</td><td>&hellip;</td></tr><tr><td>2025-09-15</td><td>&quot;USBQZR1&quot;</td><td>-6.9890e-22</td><td>-6.1406e-20</td><td>null</td></tr><tr><td>2025-09-15</td><td>&quot;USBRGT1&quot;</td><td>-3.7165e-21</td><td>-6.0722e-19</td><td>null</td></tr><tr><td>2025-09-15</td><td>&quot;USBRH21&quot;</td><td>-2.6956e-21</td><td>-2.1598e-19</td><td>null</td></tr><tr><td>2025-09-15</td><td>&quot;USBRKA1&quot;</td><td>-5.5406e-21</td><td>-8.6297e-19</td><td>null</td></tr><tr><td>2025-09-15</td><td>&quot;USBRKA2&quot;</td><td>-4.9619e-21</td><td>-8.4225e-19</td><td>null</td></tr></tbody></table></div>"
      ],
      "text/plain": [
       "shape: (20_764_025, 5)\n",
       "┌────────────┬─────────┬─────────────┬────────────────┬─────────────────┐\n",
       "│ date       ┆ barrid  ┆ bab_weight  ┆ meanrev_weight ┆ momentum_weight │\n",
       "│ ---        ┆ ---     ┆ ---         ┆ ---            ┆ ---             │\n",
       "│ date       ┆ str     ┆ f64         ┆ f64            ┆ f64             │\n",
       "╞════════════╪═════════╪═════════════╪════════════════╪═════════════════╡\n",
       "│ 1995-06-30 ┆ USAA191 ┆ -1.0844e-20 ┆ null           ┆ null            │\n",
       "│ 1995-06-30 ┆ USAA1W1 ┆ -9.1201e-22 ┆ null           ┆ null            │\n",
       "│ 1995-06-30 ┆ USAA1Y1 ┆ -4.8273e-21 ┆ null           ┆ null            │\n",
       "│ 1995-06-30 ┆ USAA2L1 ┆ -4.2673e-21 ┆ null           ┆ null            │\n",
       "│ 1995-06-30 ┆ USAA311 ┆ -9.2198e-21 ┆ null           ┆ null            │\n",
       "│ …          ┆ …       ┆ …           ┆ …              ┆ …               │\n",
       "│ 2025-09-15 ┆ USBQZR1 ┆ -6.9890e-22 ┆ -6.1406e-20    ┆ null            │\n",
       "│ 2025-09-15 ┆ USBRGT1 ┆ -3.7165e-21 ┆ -6.0722e-19    ┆ null            │\n",
       "│ 2025-09-15 ┆ USBRH21 ┆ -2.6956e-21 ┆ -2.1598e-19    ┆ null            │\n",
       "│ 2025-09-15 ┆ USBRKA1 ┆ -5.5406e-21 ┆ -8.6297e-19    ┆ null            │\n",
       "│ 2025-09-15 ┆ USBRKA2 ┆ -4.9619e-21 ┆ -8.4225e-19    ┆ null            │\n",
       "└────────────┴─────────┴─────────────┴────────────────┴─────────────────┘"
      ]
     },
     "execution_count": 5,
     "metadata": {},
     "output_type": "execute_result"
    }
   ],
   "source": [
    "weights"
   ]
  },
  {
   "cell_type": "code",
   "execution_count": 19,
   "id": "b5fefbde",
   "metadata": {},
   "outputs": [],
   "source": [
    "mergedWt = r3000_daily.join(\n",
    "    weights,\n",
    "    on=[\"date\", \"barrid\"],\n",
    "    how=\"inner\"\n",
    ")\n",
    "\n",
    "df = mergedWt\n",
    "\n",
    "tol = 1e-6"
   ]
  },
  {
   "cell_type": "code",
   "execution_count": 20,
   "id": "13b1ca26",
   "metadata": {},
   "outputs": [
    {
     "data": {
      "text/plain": [
       "(True, True, True)"
      ]
     },
     "execution_count": 20,
     "metadata": {},
     "output_type": "execute_result"
    }
   ],
   "source": [
    "# --- 1. Full investment ---\n",
    "# For each signal, the daily weights across all securities should sum to 1\n",
    "full_investment = (\n",
    "    df.group_by(\"date\")\n",
    "      .agg([\n",
    "          # Daily sum of weights (ignores nulls)\n",
    "          pl.sum(\"bab_weight\").alias(\"bab_sum\"),\n",
    "          pl.sum(\"meanrev_weight\").alias(\"meanrev_sum\"),\n",
    "          pl.sum(\"momentum_weight\").alias(\"momentum_sum\"),\n",
    "\n",
    "          # Count how many non-null weights exist for that signal/day\n",
    "          # (used to detect inactive signals where all weights are null)\n",
    "          pl.count(\"bab_weight\").alias(\"bab_count\"),\n",
    "          pl.count(\"meanrev_weight\").alias(\"meanrev_count\"),\n",
    "          pl.count(\"momentum_weight\").alias(\"momentum_count\"),\n",
    "      ])\n",
    "      .with_columns([\n",
    "          # Check constraint: sum ≈ 1 (within tolerance)\n",
    "          # If no weights (count = 0), return None (skip that day)\n",
    "          pl.when(pl.col(\"bab_count\") > 0)\n",
    "            .then(((pl.col(\"bab_sum\") - 1).abs() < tol))\n",
    "            .otherwise(None).alias(\"bab_full_investment_ok\"),\n",
    "\n",
    "          pl.when(pl.col(\"meanrev_count\") > 0)\n",
    "            .then(((pl.col(\"meanrev_sum\") - 1).abs() < tol))\n",
    "            .otherwise(None).alias(\"meanrev_full_investment_ok\"),\n",
    "\n",
    "          pl.when(pl.col(\"momentum_count\") > 0)\n",
    "            .then(((pl.col(\"momentum_sum\") - 1).abs() < tol))\n",
    "            .otherwise(None).alias(\"momentum_full_investment_ok\"),\n",
    "      ])\n",
    "      # Drop intermediate counts; only keep sums + booleans\n",
    "      .drop([\"bab_count\", \"meanrev_count\", \"momentum_count\"]) \n",
    ")\n",
    "\n",
    "# Collapse across all dates:\n",
    "# .all() checks if every row is True (ignores nulls unless all null)\n",
    "# .row(0) extracts as a tuple (bab_ok, meanrev_ok, momentum_ok)\n",
    "full_investment_ok = (\n",
    "    full_investment\n",
    "    .select([\n",
    "        pl.col(\"bab_full_investment_ok\").all(),\n",
    "        pl.col(\"meanrev_full_investment_ok\").all(),\n",
    "        pl.col(\"momentum_full_investment_ok\").all()\n",
    "    ])\n",
    "    .row(0)\n",
    ")\n",
    "\n",
    "full_investment_ok"
   ]
  },
  {
   "cell_type": "code",
   "execution_count": 21,
   "id": "45bd6024",
   "metadata": {},
   "outputs": [
    {
     "data": {
      "text/plain": [
       "(True, True, True)"
      ]
     },
     "execution_count": 21,
     "metadata": {},
     "output_type": "execute_result"
    }
   ],
   "source": [
    "# --- 2. Unit beta ---\n",
    "# For each signal, the sum of (weight × predicted_beta) per day should equal 1\n",
    "unit_beta = (\n",
    "    df.with_columns([\n",
    "        # Calculate daily weighted betas per signal\n",
    "        (df[\"bab_weight\"] * df[\"predicted_beta\"]).alias(\"bab_beta\"),\n",
    "        (df[\"meanrev_weight\"] * df[\"predicted_beta\"]).alias(\"meanrev_beta\"),\n",
    "        (df[\"momentum_weight\"] * df[\"predicted_beta\"]).alias(\"momentum_beta\"),\n",
    "    ])\n",
    "    .group_by(\"date\")\n",
    "    .agg([\n",
    "        # Aggregate by day: sum of weighted betas\n",
    "        pl.sum(\"bab_beta\").alias(\"bab_beta_sum\"),\n",
    "        pl.sum(\"meanrev_beta\").alias(\"meanrev_beta_sum\"),\n",
    "        pl.sum(\"momentum_beta\").alias(\"momentum_beta_sum\"),\n",
    "\n",
    "        # Also keep weight sums for the OR condition\n",
    "        pl.sum(\"bab_weight\").alias(\"bab_weight_sum\"),\n",
    "        pl.sum(\"meanrev_weight\").alias(\"meanrev_weight_sum\"),\n",
    "        pl.sum(\"momentum_weight\").alias(\"momentum_weight_sum\"),\n",
    "    ])\n",
    "    .with_columns([\n",
    "        pl.when(pl.col(\"bab_beta_sum\").is_not_null())\n",
    "          .then(\n",
    "              ((pl.col(\"bab_beta_sum\") - 1).abs() < tol) |\n",
    "              (pl.col(\"bab_weight_sum\") == 0)\n",
    "          )\n",
    "          .otherwise(None).alias(\"bab_unit_beta_ok\"),\n",
    "\n",
    "        pl.when(pl.col(\"meanrev_beta_sum\").is_not_null())\n",
    "          .then(\n",
    "              ((pl.col(\"meanrev_beta_sum\") - 1).abs() < tol) |\n",
    "              (pl.col(\"meanrev_weight_sum\") == 0)\n",
    "          )\n",
    "          .otherwise(None).alias(\"meanrev_unit_beta_ok\"),\n",
    "\n",
    "        pl.when(pl.col(\"momentum_beta_sum\").is_not_null())\n",
    "          .then(\n",
    "              ((pl.col(\"momentum_beta_sum\") - 1).abs() < tol) |\n",
    "              (pl.col(\"momentum_weight_sum\") == 0)\n",
    "          )\n",
    "          .otherwise(None).alias(\"momentum_unit_beta_ok\"),\n",
    "    ])\n",
    ")\n",
    "\n",
    "unit_beta_ok = (\n",
    "    unit_beta\n",
    "    .select([\n",
    "        pl.col(\"bab_unit_beta_ok\").all(),\n",
    "        pl.col(\"meanrev_unit_beta_ok\").all(),\n",
    "        pl.col(\"momentum_unit_beta_ok\").all()\n",
    "    ])\n",
    "    .row(0)\n",
    ")\n",
    "\n",
    "unit_beta_ok"
   ]
  },
  {
   "cell_type": "code",
   "execution_count": 14,
   "id": "503bd57f",
   "metadata": {},
   "outputs": [
    {
     "data": {
      "text/html": [
       "<div><style>\n",
       ".dataframe > thead > tr,\n",
       ".dataframe > tbody > tr {\n",
       "  text-align: right;\n",
       "  white-space: pre-wrap;\n",
       "}\n",
       "</style>\n",
       "<small>shape: (50, 7)</small><table border=\"1\" class=\"dataframe\"><thead><tr><th>date</th><th>bab_beta_sum</th><th>meanrev_beta_sum</th><th>momentum_beta_sum</th><th>bab_unit_beta_ok</th><th>meanrev_unit_beta_ok</th><th>momentum_unit_beta_ok</th></tr><tr><td>date</td><td>f64</td><td>f64</td><td>f64</td><td>bool</td><td>bool</td><td>bool</td></tr></thead><tbody><tr><td>1996-03-14</td><td>1.0</td><td>1.0</td><td>0.0</td><td>true</td><td>true</td><td>false</td></tr><tr><td>1995-11-07</td><td>1.0</td><td>1.0</td><td>0.0</td><td>true</td><td>true</td><td>false</td></tr><tr><td>1995-11-13</td><td>1.0</td><td>1.0</td><td>0.0</td><td>true</td><td>true</td><td>false</td></tr><tr><td>1995-07-05</td><td>1.0</td><td>0.0</td><td>0.0</td><td>true</td><td>false</td><td>false</td></tr><tr><td>1996-03-20</td><td>1.0</td><td>1.0</td><td>0.0</td><td>true</td><td>true</td><td>false</td></tr><tr><td>&hellip;</td><td>&hellip;</td><td>&hellip;</td><td>&hellip;</td><td>&hellip;</td><td>&hellip;</td><td>&hellip;</td></tr><tr><td>1995-08-31</td><td>1.0</td><td>1.0</td><td>0.0</td><td>true</td><td>true</td><td>false</td></tr><tr><td>1996-01-12</td><td>1.0</td><td>1.0</td><td>0.0</td><td>true</td><td>true</td><td>false</td></tr><tr><td>1996-05-22</td><td>1.0</td><td>1.0</td><td>0.0</td><td>true</td><td>true</td><td>false</td></tr><tr><td>1995-09-06</td><td>1.0</td><td>1.0</td><td>0.0</td><td>true</td><td>true</td><td>false</td></tr><tr><td>1996-01-15</td><td>1.0</td><td>1.0</td><td>0.0</td><td>true</td><td>true</td><td>false</td></tr></tbody></table></div>"
      ],
      "text/plain": [
       "shape: (50, 7)\n",
       "┌────────────┬──────────────┬──────────────┬─────────────┬─────────────┬─────────────┬─────────────┐\n",
       "│ date       ┆ bab_beta_sum ┆ meanrev_beta ┆ momentum_be ┆ bab_unit_be ┆ meanrev_uni ┆ momentum_un │\n",
       "│ ---        ┆ ---          ┆ _sum         ┆ ta_sum      ┆ ta_ok       ┆ t_beta_ok   ┆ it_beta_ok  │\n",
       "│ date       ┆ f64          ┆ ---          ┆ ---         ┆ ---         ┆ ---         ┆ ---         │\n",
       "│            ┆              ┆ f64          ┆ f64         ┆ bool        ┆ bool        ┆ bool        │\n",
       "╞════════════╪══════════════╪══════════════╪═════════════╪═════════════╪═════════════╪═════════════╡\n",
       "│ 1996-03-14 ┆ 1.0          ┆ 1.0          ┆ 0.0         ┆ true        ┆ true        ┆ false       │\n",
       "│ 1995-11-07 ┆ 1.0          ┆ 1.0          ┆ 0.0         ┆ true        ┆ true        ┆ false       │\n",
       "│ 1995-11-13 ┆ 1.0          ┆ 1.0          ┆ 0.0         ┆ true        ┆ true        ┆ false       │\n",
       "│ 1995-07-05 ┆ 1.0          ┆ 0.0          ┆ 0.0         ┆ true        ┆ false       ┆ false       │\n",
       "│ 1996-03-20 ┆ 1.0          ┆ 1.0          ┆ 0.0         ┆ true        ┆ true        ┆ false       │\n",
       "│ …          ┆ …            ┆ …            ┆ …           ┆ …           ┆ …           ┆ …           │\n",
       "│ 1995-08-31 ┆ 1.0          ┆ 1.0          ┆ 0.0         ┆ true        ┆ true        ┆ false       │\n",
       "│ 1996-01-12 ┆ 1.0          ┆ 1.0          ┆ 0.0         ┆ true        ┆ true        ┆ false       │\n",
       "│ 1996-05-22 ┆ 1.0          ┆ 1.0          ┆ 0.0         ┆ true        ┆ true        ┆ false       │\n",
       "│ 1995-09-06 ┆ 1.0          ┆ 1.0          ┆ 0.0         ┆ true        ┆ true        ┆ false       │\n",
       "│ 1996-01-15 ┆ 1.0          ┆ 1.0          ┆ 0.0         ┆ true        ┆ true        ┆ false       │\n",
       "└────────────┴──────────────┴──────────────┴─────────────┴─────────────┴─────────────┴─────────────┘"
      ]
     },
     "execution_count": 14,
     "metadata": {},
     "output_type": "execute_result"
    }
   ],
   "source": [
    "failed_unit_beta = (\n",
    "    unit_beta\n",
    "    .filter(\n",
    "        (~pl.col(\"bab_unit_beta_ok\")) |\n",
    "        (~pl.col(\"meanrev_unit_beta_ok\")) |\n",
    "        (~pl.col(\"momentum_unit_beta_ok\"))\n",
    "    )\n",
    ")\n",
    "\n",
    "failed_unit_beta.head(50)"
   ]
  },
  {
   "cell_type": "code",
   "execution_count": 29,
   "id": "65a84a65",
   "metadata": {},
   "outputs": [
    {
     "data": {
      "text/plain": [
       "(False, False, False)"
      ]
     },
     "execution_count": 29,
     "metadata": {},
     "output_type": "execute_result"
    }
   ],
   "source": [
    "# --- 3. Long only ---\n",
    "# For each signal, all weights should be >= 0 (no shorts allowed)\n",
    "min_weights = (\n",
    "    df.group_by(\"date\")\n",
    "      .agg([\n",
    "          # Find the minimum weight per signal per day\n",
    "          pl.min(\"bab_weight\").alias(\"bab_min\"),\n",
    "          pl.min(\"meanrev_weight\").alias(\"meanrev_min\"),\n",
    "          pl.min(\"momentum_weight\").alias(\"momentum_min\"),\n",
    "      ])\n",
    "      .with_columns([\n",
    "          # Check constraint: min >= 0\n",
    "          # If all weights are null → result = None\n",
    "          pl.when(pl.col(\"bab_min\").is_not_null())\n",
    "            .then(pl.col(\"bab_min\") >= -tol)\n",
    "            .otherwise(None).alias(\"bab_long_only_ok\"),\n",
    "\n",
    "          pl.when(pl.col(\"meanrev_min\").is_not_null())\n",
    "            .then(pl.col(\"meanrev_min\") >= -tol)\n",
    "            .otherwise(None).alias(\"meanrev_long_only_ok\"),\n",
    "\n",
    "          pl.when(pl.col(\"momentum_min\").is_not_null())\n",
    "            .then(pl.col(\"momentum_min\") >= -tol)\n",
    "            .otherwise(None).alias(\"momentum_long_only_ok\"),\n",
    "      ])\n",
    ")\n",
    "\n",
    "long_only_ok = (\n",
    "    min_weights\n",
    "    .select([\n",
    "        pl.col(\"bab_long_only_ok\").all(),\n",
    "        pl.col(\"meanrev_long_only_ok\").all(),\n",
    "        pl.col(\"momentum_long_only_ok\").all()\n",
    "    ])\n",
    "    .row(0)\n",
    ")\n",
    "\n",
    "long_only_ok"
   ]
  },
  {
   "cell_type": "code",
   "execution_count": 35,
   "id": "1bc4a99a",
   "metadata": {},
   "outputs": [
    {
     "data": {
      "text/html": [
       "<div><style>\n",
       ".dataframe > thead > tr,\n",
       ".dataframe > tbody > tr {\n",
       "  text-align: right;\n",
       "  white-space: pre-wrap;\n",
       "}\n",
       "</style>\n",
       "<small>shape: (1_019, 7)</small><table border=\"1\" class=\"dataframe\"><thead><tr><th>date</th><th>bab_min</th><th>meanrev_min</th><th>momentum_min</th><th>bab_long_only_ok</th><th>meanrev_long_only_ok</th><th>momentum_long_only_ok</th></tr><tr><td>date</td><td>f64</td><td>f64</td><td>f64</td><td>bool</td><td>bool</td><td>bool</td></tr></thead><tbody><tr><td>2003-01-27</td><td>-0.000002</td><td>-1.0827e-19</td><td>-3.2482e-20</td><td>false</td><td>true</td><td>true</td></tr><tr><td>2014-07-11</td><td>-0.000002</td><td>-2.0183e-7</td><td>-3.0368e-7</td><td>false</td><td>true</td><td>true</td></tr><tr><td>2015-08-20</td><td>-0.000004</td><td>-2.6170e-7</td><td>-4.2220e-7</td><td>false</td><td>true</td><td>true</td></tr><tr><td>2017-05-24</td><td>-0.000001</td><td>-2.3660e-7</td><td>-3.5092e-7</td><td>false</td><td>true</td><td>true</td></tr><tr><td>1996-12-04</td><td>-0.000002</td><td>-5.9493e-17</td><td>-3.6315e-7</td><td>false</td><td>true</td><td>true</td></tr><tr><td>&hellip;</td><td>&hellip;</td><td>&hellip;</td><td>&hellip;</td><td>&hellip;</td><td>&hellip;</td><td>&hellip;</td></tr><tr><td>2014-02-21</td><td>-0.000003</td><td>-1.5094e-7</td><td>-2.3550e-7</td><td>false</td><td>true</td><td>true</td></tr><tr><td>1996-03-08</td><td>-0.000002</td><td>-1.6845e-17</td><td>null</td><td>false</td><td>true</td><td>null</td></tr><tr><td>2019-07-01</td><td>-0.000002</td><td>-2.2868e-7</td><td>-6.4427e-7</td><td>false</td><td>true</td><td>true</td></tr><tr><td>2001-03-16</td><td>-0.000001</td><td>-3.4546e-7</td><td>-0.000002</td><td>false</td><td>true</td><td>false</td></tr><tr><td>2008-09-23</td><td>-0.000001</td><td>-2.6807e-7</td><td>-4.3328e-19</td><td>false</td><td>true</td><td>true</td></tr></tbody></table></div>"
      ],
      "text/plain": [
       "shape: (1_019, 7)\n",
       "┌────────────┬───────────┬─────────────┬──────────────┬──────────────┬──────────────┬──────────────┐\n",
       "│ date       ┆ bab_min   ┆ meanrev_min ┆ momentum_min ┆ bab_long_onl ┆ meanrev_long ┆ momentum_lon │\n",
       "│ ---        ┆ ---       ┆ ---         ┆ ---          ┆ y_ok         ┆ _only_ok     ┆ g_only_ok    │\n",
       "│ date       ┆ f64       ┆ f64         ┆ f64          ┆ ---          ┆ ---          ┆ ---          │\n",
       "│            ┆           ┆             ┆              ┆ bool         ┆ bool         ┆ bool         │\n",
       "╞════════════╪═══════════╪═════════════╪══════════════╪══════════════╪══════════════╪══════════════╡\n",
       "│ 2003-01-27 ┆ -0.000002 ┆ -1.0827e-19 ┆ -3.2482e-20  ┆ false        ┆ true         ┆ true         │\n",
       "│ 2014-07-11 ┆ -0.000002 ┆ -2.0183e-7  ┆ -3.0368e-7   ┆ false        ┆ true         ┆ true         │\n",
       "│ 2015-08-20 ┆ -0.000004 ┆ -2.6170e-7  ┆ -4.2220e-7   ┆ false        ┆ true         ┆ true         │\n",
       "│ 2017-05-24 ┆ -0.000001 ┆ -2.3660e-7  ┆ -3.5092e-7   ┆ false        ┆ true         ┆ true         │\n",
       "│ 1996-12-04 ┆ -0.000002 ┆ -5.9493e-17 ┆ -3.6315e-7   ┆ false        ┆ true         ┆ true         │\n",
       "│ …          ┆ …         ┆ …           ┆ …            ┆ …            ┆ …            ┆ …            │\n",
       "│ 2014-02-21 ┆ -0.000003 ┆ -1.5094e-7  ┆ -2.3550e-7   ┆ false        ┆ true         ┆ true         │\n",
       "│ 1996-03-08 ┆ -0.000002 ┆ -1.6845e-17 ┆ null         ┆ false        ┆ true         ┆ null         │\n",
       "│ 2019-07-01 ┆ -0.000002 ┆ -2.2868e-7  ┆ -6.4427e-7   ┆ false        ┆ true         ┆ true         │\n",
       "│ 2001-03-16 ┆ -0.000001 ┆ -3.4546e-7  ┆ -0.000002    ┆ false        ┆ true         ┆ false        │\n",
       "│ 2008-09-23 ┆ -0.000001 ┆ -2.6807e-7  ┆ -4.3328e-19  ┆ false        ┆ true         ┆ true         │\n",
       "└────────────┴───────────┴─────────────┴──────────────┴──────────────┴──────────────┴──────────────┘"
      ]
     },
     "execution_count": 35,
     "metadata": {},
     "output_type": "execute_result"
    }
   ],
   "source": [
    "failed_long_only = (\n",
    "    min_weights\n",
    "    .filter(\n",
    "        (~pl.col(\"bab_long_only_ok\")) |\n",
    "        (~pl.col(\"meanrev_long_only_ok\")) |\n",
    "        (~pl.col(\"momentum_long_only_ok\"))\n",
    "    )\n",
    ")\n",
    "\n",
    "failed_long_only\n"
   ]
  },
  {
   "cell_type": "code",
   "execution_count": 37,
   "id": "b6adaab9",
   "metadata": {},
   "outputs": [
    {
     "data": {
      "text/plain": [
       "(False, False, False)"
      ]
     },
     "execution_count": 37,
     "metadata": {},
     "output_type": "execute_result"
    }
   ],
   "source": [
    "# --- 4. No Margin ---\n",
    "# Gross exposure (sum of absolute weights) must be <= 1\n",
    "gross_weights = (\n",
    "    df.with_columns([\n",
    "        df[\"bab_weight\"].abs().alias(\"bab_abs\"),\n",
    "        df[\"meanrev_weight\"].abs().alias(\"meanrev_abs\"),\n",
    "        df[\"momentum_weight\"].abs().alias(\"momentum_abs\"),\n",
    "    ])\n",
    "    .group_by(\"date\")\n",
    "    .agg([\n",
    "        pl.sum(\"bab_abs\").alias(\"bab_gross\"),\n",
    "        pl.sum(\"meanrev_abs\").alias(\"meanrev_gross\"),\n",
    "        pl.sum(\"momentum_abs\").alias(\"momentum_gross\"),\n",
    "    ])\n",
    "    .with_columns([\n",
    "        pl.when(pl.col(\"bab_gross\").is_not_null())\n",
    "          .then(pl.col(\"bab_gross\") <= 1 + tol)\n",
    "          .otherwise(None).alias(\"bab_no_margin_ok\"),\n",
    "\n",
    "        pl.when(pl.col(\"meanrev_gross\").is_not_null())\n",
    "          .then(pl.col(\"meanrev_gross\") <= 1 + tol)\n",
    "          .otherwise(None).alias(\"meanrev_no_margin_ok\"),\n",
    "\n",
    "        pl.when(pl.col(\"momentum_gross\").is_not_null())\n",
    "          .then(pl.col(\"momentum_gross\") <= 1 + tol)\n",
    "          .otherwise(None).alias(\"momentum_no_margin_ok\"),\n",
    "    ])\n",
    ")\n",
    "\n",
    "no_margin_ok = (\n",
    "    gross_weights\n",
    "    .select([\n",
    "        pl.col(\"bab_no_margin_ok\").all(),\n",
    "        pl.col(\"meanrev_no_margin_ok\").all(),\n",
    "        pl.col(\"momentum_no_margin_ok\").all()\n",
    "    ])\n",
    "    .row(0)\n",
    ")\n",
    "\n",
    "no_margin_ok"
   ]
  },
  {
   "cell_type": "code",
   "execution_count": 39,
   "id": "27fb879a",
   "metadata": {},
   "outputs": [
    {
     "data": {
      "text/html": [
       "<div><style>\n",
       ".dataframe > thead > tr,\n",
       ".dataframe > tbody > tr {\n",
       "  text-align: right;\n",
       "  white-space: pre-wrap;\n",
       "}\n",
       "</style>\n",
       "<small>shape: (6_227, 7)</small><table border=\"1\" class=\"dataframe\"><thead><tr><th>date</th><th>bab_gross</th><th>meanrev_gross</th><th>momentum_gross</th><th>bab_no_margin_ok</th><th>meanrev_no_margin_ok</th><th>momentum_no_margin_ok</th></tr><tr><td>date</td><td>f64</td><td>f64</td><td>f64</td><td>bool</td><td>bool</td><td>bool</td></tr></thead><tbody><tr><td>2007-09-26</td><td>1.0</td><td>1.000522</td><td>1.000809</td><td>true</td><td>false</td><td>false</td></tr><tr><td>2014-11-28</td><td>1.0</td><td>1.00043</td><td>1.000551</td><td>true</td><td>false</td><td>false</td></tr><tr><td>2015-03-24</td><td>1.0</td><td>1.000592</td><td>1.000938</td><td>true</td><td>false</td><td>false</td></tr><tr><td>2000-07-06</td><td>1.001493</td><td>1.0</td><td>1.0</td><td>false</td><td>true</td><td>true</td></tr><tr><td>2018-06-21</td><td>1.0</td><td>1.000691</td><td>1.000894</td><td>true</td><td>false</td><td>false</td></tr><tr><td>&hellip;</td><td>&hellip;</td><td>&hellip;</td><td>&hellip;</td><td>&hellip;</td><td>&hellip;</td><td>&hellip;</td></tr><tr><td>2023-06-05</td><td>1.0025</td><td>1.0</td><td>1.0</td><td>false</td><td>true</td><td>true</td></tr><tr><td>2001-03-01</td><td>1.0</td><td>1.000473</td><td>1.0</td><td>true</td><td>false</td><td>true</td></tr><tr><td>2011-03-29</td><td>1.0</td><td>1.00039</td><td>1.000543</td><td>true</td><td>false</td><td>false</td></tr><tr><td>2008-05-06</td><td>1.002195</td><td>1.000459</td><td>1.000848</td><td>false</td><td>false</td><td>false</td></tr><tr><td>2019-11-15</td><td>1.0</td><td>1.00049</td><td>1.001096</td><td>true</td><td>false</td><td>false</td></tr></tbody></table></div>"
      ],
      "text/plain": [
       "shape: (6_227, 7)\n",
       "┌────────────┬───────────┬──────────────┬──────────────┬──────────────┬──────────────┬─────────────┐\n",
       "│ date       ┆ bab_gross ┆ meanrev_gros ┆ momentum_gro ┆ bab_no_margi ┆ meanrev_no_m ┆ momentum_no │\n",
       "│ ---        ┆ ---       ┆ s            ┆ ss           ┆ n_ok         ┆ argin_ok     ┆ _margin_ok  │\n",
       "│ date       ┆ f64       ┆ ---          ┆ ---          ┆ ---          ┆ ---          ┆ ---         │\n",
       "│            ┆           ┆ f64          ┆ f64          ┆ bool         ┆ bool         ┆ bool        │\n",
       "╞════════════╪═══════════╪══════════════╪══════════════╪══════════════╪══════════════╪═════════════╡\n",
       "│ 2007-09-26 ┆ 1.0       ┆ 1.000522     ┆ 1.000809     ┆ true         ┆ false        ┆ false       │\n",
       "│ 2014-11-28 ┆ 1.0       ┆ 1.00043      ┆ 1.000551     ┆ true         ┆ false        ┆ false       │\n",
       "│ 2015-03-24 ┆ 1.0       ┆ 1.000592     ┆ 1.000938     ┆ true         ┆ false        ┆ false       │\n",
       "│ 2000-07-06 ┆ 1.001493  ┆ 1.0          ┆ 1.0          ┆ false        ┆ true         ┆ true        │\n",
       "│ 2018-06-21 ┆ 1.0       ┆ 1.000691     ┆ 1.000894     ┆ true         ┆ false        ┆ false       │\n",
       "│ …          ┆ …         ┆ …            ┆ …            ┆ …            ┆ …            ┆ …           │\n",
       "│ 2023-06-05 ┆ 1.0025    ┆ 1.0          ┆ 1.0          ┆ false        ┆ true         ┆ true        │\n",
       "│ 2001-03-01 ┆ 1.0       ┆ 1.000473     ┆ 1.0          ┆ true         ┆ false        ┆ true        │\n",
       "│ 2011-03-29 ┆ 1.0       ┆ 1.00039      ┆ 1.000543     ┆ true         ┆ false        ┆ false       │\n",
       "│ 2008-05-06 ┆ 1.002195  ┆ 1.000459     ┆ 1.000848     ┆ false        ┆ false        ┆ false       │\n",
       "│ 2019-11-15 ┆ 1.0       ┆ 1.00049      ┆ 1.001096     ┆ true         ┆ false        ┆ false       │\n",
       "└────────────┴───────────┴──────────────┴──────────────┴──────────────┴──────────────┴─────────────┘"
      ]
     },
     "execution_count": 39,
     "metadata": {},
     "output_type": "execute_result"
    }
   ],
   "source": [
    "failed_no_margin = (\n",
    "    gross_weights\n",
    "    .filter(\n",
    "        (pl.col(\"bab_no_margin_ok\") == False) |\n",
    "        (pl.col(\"meanrev_no_margin_ok\") == False) |\n",
    "        (pl.col(\"momentum_no_margin_ok\") == False)\n",
    "    )\n",
    ")\n",
    "\n",
    "failed_no_margin"
   ]
  },
  {
   "cell_type": "code",
   "execution_count": null,
   "id": "b96ebe0b",
   "metadata": {},
   "outputs": [],
   "source": []
  }
 ],
 "metadata": {
  "kernelspec": {
   "display_name": "orthogonal-alphas",
   "language": "python",
   "name": "python3"
  },
  "language_info": {
   "codemirror_mode": {
    "name": "ipython",
    "version": 3
   },
   "file_extension": ".py",
   "mimetype": "text/x-python",
   "name": "python",
   "nbconvert_exporter": "python",
   "pygments_lexer": "ipython3",
   "version": "3.13.7"
  }
 },
 "nbformat": 4,
 "nbformat_minor": 5
}
