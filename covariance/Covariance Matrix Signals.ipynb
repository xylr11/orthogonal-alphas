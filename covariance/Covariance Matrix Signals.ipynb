{
 "cells": [
  {
   "cell_type": "code",
   "execution_count": 2,
   "id": "e84c6efd",
   "metadata": {},
   "outputs": [],
   "source": [
    "import polars as pl\n",
    "import datetime as dt\n",
    "import numpy as np"
   ]
  },
  {
   "cell_type": "code",
   "execution_count": 63,
   "id": "20491e75",
   "metadata": {},
   "outputs": [],
   "source": [
    "def compute_weights(covariance, expected_returns):\n",
    "    return (lambda x: x/np.sum(x))(np.linalg.solve(covariance, expected_returns))\n",
    "\n",
    "\n",
    "def weights_error(cov_est, cov_real, expected_returns):\n",
    "    return np.linalg.norm(compute_weights(cov_est, expected_returns) - compute_weights(cov_real, expected_returns))\n"
   ]
  },
  {
   "cell_type": "code",
   "execution_count": 64,
   "id": "c832c811",
   "metadata": {},
   "outputs": [
    {
     "ename": "ValueError",
     "evalue": "solve1: Input operand 1 has a mismatch in its core dimension 0, with gufunc signature (m,m),(m)->(m) (size 3 is different from 9)",
     "output_type": "error",
     "traceback": [
      "\u001b[31m---------------------------------------------------------------------------\u001b[39m",
      "\u001b[31mValueError\u001b[39m                                Traceback (most recent call last)",
      "\u001b[36mCell\u001b[39m\u001b[36m \u001b[39m\u001b[32mIn[64]\u001b[39m\u001b[32m, line 39\u001b[39m\n\u001b[32m     36\u001b[39m \u001b[38;5;28;01mfor\u001b[39;00m i \u001b[38;5;129;01min\u001b[39;00m \u001b[38;5;28mrange\u001b[39m(\u001b[32m1\u001b[39m, \u001b[38;5;28mlen\u001b[39m-\u001b[32m1\u001b[39m):\n\u001b[32m     37\u001b[39m     cov_matrix_est.append(recurse(cov_matrix_real[i], cov_matrix_est[i-\u001b[32m1\u001b[39m], weekday[i], r, c))\n\u001b[32m---> \u001b[39m\u001b[32m39\u001b[39m error = [\u001b[43mweights_error\u001b[49m\u001b[43m(\u001b[49m\u001b[43mcov_est\u001b[49m\u001b[43m=\u001b[49m\u001b[43mcov_matrix_est\u001b[49m\u001b[43m[\u001b[49m\u001b[43mi\u001b[49m\u001b[43m]\u001b[49m\u001b[43m,\u001b[49m\u001b[43m \u001b[49m\u001b[43mcov_real\u001b[49m\u001b[43m=\u001b[49m\u001b[43mcov_matrix_real\u001b[49m\u001b[43m[\u001b[49m\u001b[43mi\u001b[49m\u001b[43m+\u001b[49m\u001b[32;43m1\u001b[39;49m\u001b[43m]\u001b[49m\u001b[43m,\u001b[49m\u001b[43m \u001b[49m\u001b[43mexpected_returns\u001b[49m\u001b[43m=\u001b[49m\u001b[43mexpected_returns\u001b[49m\u001b[43m[\u001b[49m\u001b[43mi\u001b[49m\u001b[43m]\u001b[49m\u001b[43m)\u001b[49m \u001b[38;5;28;01mfor\u001b[39;00m i \u001b[38;5;129;01min\u001b[39;00m \u001b[38;5;28mrange\u001b[39m(\u001b[32m1\u001b[39m, \u001b[38;5;28mlen\u001b[39m - \u001b[32m1\u001b[39m)]\n\u001b[32m     42\u001b[39m \u001b[38;5;28mprint\u001b[39m(np.average(error))\n",
      "\u001b[36mCell\u001b[39m\u001b[36m \u001b[39m\u001b[32mIn[63]\u001b[39m\u001b[32m, line 6\u001b[39m, in \u001b[36mweights_error\u001b[39m\u001b[34m(cov_est, cov_real, expected_returns)\u001b[39m\n\u001b[32m      5\u001b[39m \u001b[38;5;28;01mdef\u001b[39;00m\u001b[38;5;250m \u001b[39m\u001b[34mweights_error\u001b[39m(cov_est, cov_real, expected_returns):\n\u001b[32m----> \u001b[39m\u001b[32m6\u001b[39m     \u001b[38;5;28;01mreturn\u001b[39;00m np.linalg.norm(\u001b[43mcompute_weights\u001b[49m\u001b[43m(\u001b[49m\u001b[43mcov_est\u001b[49m\u001b[43m,\u001b[49m\u001b[43m \u001b[49m\u001b[43mexpected_returns\u001b[49m\u001b[43m)\u001b[49m - compute_weights(cov_real, expected_returns))\n",
      "\u001b[36mCell\u001b[39m\u001b[36m \u001b[39m\u001b[32mIn[63]\u001b[39m\u001b[32m, line 2\u001b[39m, in \u001b[36mcompute_weights\u001b[39m\u001b[34m(covariance, expected_returns)\u001b[39m\n\u001b[32m      1\u001b[39m \u001b[38;5;28;01mdef\u001b[39;00m\u001b[38;5;250m \u001b[39m\u001b[34mcompute_weights\u001b[39m(covariance, expected_returns):\n\u001b[32m----> \u001b[39m\u001b[32m2\u001b[39m     \u001b[38;5;28;01mreturn\u001b[39;00m (\u001b[38;5;28;01mlambda\u001b[39;00m x: x/np.sum(x))(\u001b[43mnp\u001b[49m\u001b[43m.\u001b[49m\u001b[43mlinalg\u001b[49m\u001b[43m.\u001b[49m\u001b[43msolve\u001b[49m\u001b[43m(\u001b[49m\u001b[43mcovariance\u001b[49m\u001b[43m,\u001b[49m\u001b[43m \u001b[49m\u001b[43mexpected_returns\u001b[49m\u001b[43m)\u001b[49m)\n",
      "\u001b[36mFile \u001b[39m\u001b[32m~/QuantBattle2025/orthogonal-alphas/.venv/lib/python3.13/site-packages/numpy/linalg/_linalg.py:471\u001b[39m, in \u001b[36msolve\u001b[39m\u001b[34m(a, b)\u001b[39m\n\u001b[32m    468\u001b[39m signature = \u001b[33m'\u001b[39m\u001b[33mDD->D\u001b[39m\u001b[33m'\u001b[39m \u001b[38;5;28;01mif\u001b[39;00m isComplexType(t) \u001b[38;5;28;01melse\u001b[39;00m \u001b[33m'\u001b[39m\u001b[33mdd->d\u001b[39m\u001b[33m'\u001b[39m\n\u001b[32m    469\u001b[39m \u001b[38;5;28;01mwith\u001b[39;00m errstate(call=_raise_linalgerror_singular, invalid=\u001b[33m'\u001b[39m\u001b[33mcall\u001b[39m\u001b[33m'\u001b[39m,\n\u001b[32m    470\u001b[39m               over=\u001b[33m'\u001b[39m\u001b[33mignore\u001b[39m\u001b[33m'\u001b[39m, divide=\u001b[33m'\u001b[39m\u001b[33mignore\u001b[39m\u001b[33m'\u001b[39m, under=\u001b[33m'\u001b[39m\u001b[33mignore\u001b[39m\u001b[33m'\u001b[39m):\n\u001b[32m--> \u001b[39m\u001b[32m471\u001b[39m     r = \u001b[43mgufunc\u001b[49m\u001b[43m(\u001b[49m\u001b[43ma\u001b[49m\u001b[43m,\u001b[49m\u001b[43m \u001b[49m\u001b[43mb\u001b[49m\u001b[43m,\u001b[49m\u001b[43m \u001b[49m\u001b[43msignature\u001b[49m\u001b[43m=\u001b[49m\u001b[43msignature\u001b[49m\u001b[43m)\u001b[49m\n\u001b[32m    473\u001b[39m \u001b[38;5;28;01mreturn\u001b[39;00m wrap(r.astype(result_t, copy=\u001b[38;5;28;01mFalse\u001b[39;00m))\n",
      "\u001b[31mValueError\u001b[39m: solve1: Input operand 1 has a mismatch in its core dimension 0, with gufunc signature (m,m),(m)->(m) (size 3 is different from 9)"
     ]
    }
   ],
   "source": [
    "start_date = dt.date(1996,7,3) #min value 1996,7,3\n",
    "end_date = dt.date(2024, 12, 31) #max value 2024, 12, 31\n",
    "\n",
    "bab = pl.read_parquet(\"signal_bab.parquet\").filter(pl.col(\"date\").is_between(start_date, end_date)) #1\n",
    "meanrev = pl.read_parquet(\"signal_meanrev.parquet\").filter(pl.col(\"date\").is_between(start_date, end_date)) #2\n",
    "momentum = pl.read_parquet(\"signal_momentum.parquet\").filter(pl.col(\"date\").is_between(start_date, end_date)) #3\n",
    "\n",
    "expected_returns_data = pl.read_parquet(\"qMatrix.parquet\").filter(pl.col(\"date\").is_between(start_date, end_date))\n",
    "\n",
    "weekday = list(map(lambda date : date.weekday(), bab.select(pl.col(\"date\").alias(\"date\")).to_series().to_list())) \n",
    "returns1 = bab.select(pl.col(\"bab_return\").alias(\"return1\")).to_numpy()\n",
    "returns2 = meanrev.select(pl.col(\"meanrev_return\").alias(\"return2\")).to_numpy()\n",
    "returns3 = momentum.select(pl.col(\"momentum_return\").alias(\"return3\")).to_numpy()\n",
    "\n",
    "len = returns1.size\n",
    "\n",
    "returns = [np.array([returns1[i], returns2[i], returns3[i]]) for i in range(0, len)]\n",
    "\n",
    "expected_returns = expected_returns_data.select(\n",
    "    pl.col(\"bab_er\").alias(\"er1\"),\n",
    "    pl.col(\"meanrev_er\").alias(\"er2\"),\n",
    "    pl.col(\"momentum_er\").alias(\"er3\")\n",
    ").to_numpy()\n",
    "\n",
    "cov_matrix_real = [(np.outer((returns[i] - expected_returns[i]), (returns[i] - expected_returns[i]))) for i in range(0, len)]\n",
    "\n",
    "def recurse(x_new, x_prev, day, r, c) : #Converges to the geometrically weighted mean.\n",
    "    if (day == 0): return (1-r)*x_new + (c*x_new + (1-c)*x_prev)*(r + r*r) + r*r*r*x_prev #If the day is monday, we use an alternative formula because weekends are non-trading days.\n",
    "    else: return (1-r)*x_new + r*x_prev\n",
    "\n",
    "r = 0.9\n",
    "c = 0.5\n",
    "\n",
    "#Remember, the estimated covariance matrix is the expected covariance matrix for the next day.\n",
    "cov_matrix_est = [cov_matrix_real[0]]\n",
    "for i in range(1, len-1):\n",
    "    cov_matrix_est.append(recurse(cov_matrix_real[i], cov_matrix_est[i-1], weekday[i], r, c))\n",
    "\n",
    "error = [weights_error(cov_est=cov_matrix_est[i], cov_real=cov_matrix_real[i+1], expected_returns=expected_returns[i]) for i in range(1, len - 1)]\n",
    "\n",
    "\n",
    "print(np.average(error))\n",
    "\n"
   ]
  },
  {
   "cell_type": "code",
   "execution_count": 10,
   "id": "44371c99",
   "metadata": {},
   "outputs": [],
   "source": [
    "signal_data = pl.read_parquet(\"signal_data.parquet\")\n",
    "weights = pl.read_parquet(\"updated_weights.parquet\")"
   ]
  },
  {
   "cell_type": "code",
   "execution_count": 12,
   "id": "fcc799d7",
   "metadata": {},
   "outputs": [
    {
     "name": "stdout",
     "output_type": "stream",
     "text": [
      "shape: (20_764_025, 5)\n",
      "┌────────────┬─────────┬─────────────┬────────────────┬─────────────────┐\n",
      "│ date       ┆ barrid  ┆ bab_weight  ┆ meanrev_weight ┆ momentum_weight │\n",
      "│ ---        ┆ ---     ┆ ---         ┆ ---            ┆ ---             │\n",
      "│ date       ┆ str     ┆ f64         ┆ f64            ┆ f64             │\n",
      "╞════════════╪═════════╪═════════════╪════════════════╪═════════════════╡\n",
      "│ 1995-06-30 ┆ USAA191 ┆ -1.0844e-20 ┆ null           ┆ null            │\n",
      "│ 1995-06-30 ┆ USAA1W1 ┆ -9.1201e-22 ┆ null           ┆ null            │\n",
      "│ 1995-06-30 ┆ USAA1Y1 ┆ -4.8273e-21 ┆ null           ┆ null            │\n",
      "│ 1995-06-30 ┆ USAA2L1 ┆ -4.2673e-21 ┆ null           ┆ null            │\n",
      "│ 1995-06-30 ┆ USAA311 ┆ -9.2198e-21 ┆ null           ┆ null            │\n",
      "│ …          ┆ …       ┆ …           ┆ …              ┆ …               │\n",
      "│ 2025-09-15 ┆ USBQZR1 ┆ -6.9890e-22 ┆ -1.3553e-20    ┆ null            │\n",
      "│ 2025-09-15 ┆ USBRGT1 ┆ -3.7165e-21 ┆ -3.4045e-19    ┆ null            │\n",
      "│ 2025-09-15 ┆ USBRH21 ┆ -2.6956e-21 ┆ -9.9263e-20    ┆ null            │\n",
      "│ 2025-09-15 ┆ USBRKA1 ┆ -5.5406e-21 ┆ -4.3920e-19    ┆ null            │\n",
      "│ 2025-09-15 ┆ USBRKA2 ┆ -4.9619e-21 ┆ -4.2459e-19    ┆ null            │\n",
      "└────────────┴─────────┴─────────────┴────────────────┴─────────────────┘\n"
     ]
    }
   ],
   "source": [
    "print(weights)"
   ]
  },
  {
   "cell_type": "code",
   "execution_count": null,
   "id": "463fd6f9",
   "metadata": {},
   "outputs": [],
   "source": [
    "signal_weights = pl.read_parquet(\"../signal_weights/weights/all_weights_pivot.parquet\")"
   ]
  },
  {
   "cell_type": "code",
   "execution_count": 13,
   "id": "44406864",
   "metadata": {},
   "outputs": [
    {
     "name": "stdout",
     "output_type": "stream",
     "text": [
      "shape: (20_764_025, 5)\n",
      "┌────────────┬─────────┬─────────────┬────────────────┬─────────────────┐\n",
      "│ date       ┆ barrid  ┆ bab_weight  ┆ meanrev_weight ┆ momentum_weight │\n",
      "│ ---        ┆ ---     ┆ ---         ┆ ---            ┆ ---             │\n",
      "│ date       ┆ str     ┆ f64         ┆ f64            ┆ f64             │\n",
      "╞════════════╪═════════╪═════════════╪════════════════╪═════════════════╡\n",
      "│ 1995-06-30 ┆ USAA191 ┆ -1.0844e-20 ┆ null           ┆ null            │\n",
      "│ 1995-06-30 ┆ USAA1W1 ┆ -9.1201e-22 ┆ null           ┆ null            │\n",
      "│ 1995-06-30 ┆ USAA1Y1 ┆ -4.8273e-21 ┆ null           ┆ null            │\n",
      "│ 1995-06-30 ┆ USAA2L1 ┆ -4.2673e-21 ┆ null           ┆ null            │\n",
      "│ 1995-06-30 ┆ USAA311 ┆ -9.2198e-21 ┆ null           ┆ null            │\n",
      "│ …          ┆ …       ┆ …           ┆ …              ┆ …               │\n",
      "│ 2025-09-15 ┆ USBQZR1 ┆ -6.9890e-22 ┆ -6.1406e-20    ┆ null            │\n",
      "│ 2025-09-15 ┆ USBRGT1 ┆ -3.7165e-21 ┆ -6.0722e-19    ┆ null            │\n",
      "│ 2025-09-15 ┆ USBRH21 ┆ -2.6956e-21 ┆ -2.1598e-19    ┆ null            │\n",
      "│ 2025-09-15 ┆ USBRKA1 ┆ -5.5406e-21 ┆ -8.6297e-19    ┆ null            │\n",
      "│ 2025-09-15 ┆ USBRKA2 ┆ -4.9619e-21 ┆ -8.4225e-19    ┆ null            │\n",
      "└────────────┴─────────┴─────────────┴────────────────┴─────────────────┘\n"
     ]
    }
   ],
   "source": [
    "print(signal_weights)"
   ]
  },
  {
   "cell_type": "code",
   "execution_count": null,
   "id": "a9c02080",
   "metadata": {},
   "outputs": [],
   "source": []
  }
 ],
 "metadata": {
  "kernelspec": {
   "display_name": "orthogonal-alphas",
   "language": "python",
   "name": "python3"
  },
  "language_info": {
   "codemirror_mode": {
    "name": "ipython",
    "version": 3
   },
   "file_extension": ".py",
   "mimetype": "text/x-python",
   "name": "python",
   "nbconvert_exporter": "python",
   "pygments_lexer": "ipython3",
   "version": "3.13.7"
  }
 },
 "nbformat": 4,
 "nbformat_minor": 5
}
