{
 "cells": [
  {
   "attachments": {
    "image.png": {
     "image/png": "[encoded data removed]"
    }
   },
   "cell_type": "markdown",
   "id": "dc415eba",
   "metadata": {},
   "source": [
    "We have from BL that:\n",
    "\n",
    "![image.png](attachment:image.png)\n",
    "\n",
    "Where we have that:\n",
    "- tau = Tuning constant (we will set tau=0.05)\n",
    "- Sigma = Covariance Matrix from Barra\n",
    "- P = Our signal weights\n",
    "- Pi = The CAPM E[r] for a security\n",
    "- Omega = Covariance matrix for our signals OR a diagonal matrix with entries = (q_s * (1/SR_s))^2\n",
    "- Q = w_s * alpha_s OR a ML approach to getting expected returns for each signal"
   ]
  },
  {
   "cell_type": "code",
   "execution_count": null,
   "id": "abf20b59",
   "metadata": {},
   "outputs": [],
   "source": []
  }
 ],
 "metadata": {
  "kernelspec": {
   "display_name": "sf_quant",
   "language": "python",
   "name": "python3"
  },
  "language_info": {
   "codemirror_mode": {
    "name": "ipython",
    "version": 3
   },
   "file_extension": ".py",
   "mimetype": "text/x-python",
   "name": "python",
   "nbconvert_exporter": "python",
   "pygments_lexer": "ipython3",
   "version": "3.11.13"
  }
 },
 "nbformat": 4,
 "nbformat_minor": 5
}
