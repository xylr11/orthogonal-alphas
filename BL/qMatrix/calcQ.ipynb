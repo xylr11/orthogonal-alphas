{
 "cells": [
  {
   "cell_type": "markdown",
   "id": "5b47c3ae",
   "metadata": {},
   "source": [
    "We can either get a q matrix by:\n",
    "- a ML approach to predict expected returns for our alphas, or\n",
    "- w_s * alpha_s"
   ]
  },
  {
   "cell_type": "code",
   "execution_count": 1,
   "id": "dae6713e",
   "metadata": {},
   "outputs": [
    {
     "name": "stderr",
     "output_type": "stream",
     "text": [
      "/home/jaic007/.local/lib/python3.11/site-packages/tqdm/auto.py:21: TqdmWarning: IProgress not found. Please update jupyter and ipywidgets. See https://ipywidgets.readthedocs.io/en/stable/user_install.html\n",
      "  from .autonotebook import tqdm as notebook_tqdm\n",
      "2025-10-01 13:26:09,094\tINFO util.py:154 -- Missing packages: ['ipywidgets']. Run `pip install -U ipywidgets`, then restart the notebook server for rich notebook output.\n"
     ]
    }
   ],
   "source": [
    "import sf_quant.data as sfd\n",
    "import polars as pl\n",
    "import numpy as np\n",
    "import datetime as dt\n",
    "import matplotlib.pyplot as plt"
   ]
  },
  {
   "cell_type": "code",
   "execution_count": 2,
   "id": "012a3ffc",
   "metadata": {},
   "outputs": [
    {
     "data": {
      "text/html": [
       "<div><style>\n",
       ".dataframe > thead > tr,\n",
       ".dataframe > tbody > tr {\n",
       "  text-align: right;\n",
       "  white-space: pre-wrap;\n",
       "}\n",
       "</style>\n",
       "<small>shape: (20_764_025, 5)</small><table border=\"1\" class=\"dataframe\"><thead><tr><th>date</th><th>barrid</th><th>bab_weight</th><th>meanrev_weight</th><th>momentum_weight</th></tr><tr><td>date</td><td>str</td><td>f64</td><td>f64</td><td>f64</td></tr></thead><tbody><tr><td>1995-06-30</td><td>&quot;USAA191&quot;</td><td>-1.0844e-20</td><td>null</td><td>null</td></tr><tr><td>1995-06-30</td><td>&quot;USAA1W1&quot;</td><td>-9.1201e-22</td><td>null</td><td>null</td></tr><tr><td>1995-06-30</td><td>&quot;USAA1Y1&quot;</td><td>-4.8273e-21</td><td>null</td><td>null</td></tr><tr><td>1995-06-30</td><td>&quot;USAA2L1&quot;</td><td>-4.2673e-21</td><td>null</td><td>null</td></tr><tr><td>1995-06-30</td><td>&quot;USAA311&quot;</td><td>-9.2198e-21</td><td>null</td><td>null</td></tr><tr><td>&hellip;</td><td>&hellip;</td><td>&hellip;</td><td>&hellip;</td><td>&hellip;</td></tr><tr><td>2025-09-15</td><td>&quot;USBQZR1&quot;</td><td>-6.9890e-22</td><td>-1.3553e-20</td><td>null</td></tr><tr><td>2025-09-15</td><td>&quot;USBRGT1&quot;</td><td>-3.7165e-21</td><td>-3.4045e-19</td><td>null</td></tr><tr><td>2025-09-15</td><td>&quot;USBRH21&quot;</td><td>-2.6956e-21</td><td>-9.9263e-20</td><td>null</td></tr><tr><td>2025-09-15</td><td>&quot;USBRKA1&quot;</td><td>-5.5406e-21</td><td>-4.3920e-19</td><td>null</td></tr><tr><td>2025-09-15</td><td>&quot;USBRKA2&quot;</td><td>-4.9619e-21</td><td>-4.2459e-19</td><td>null</td></tr></tbody></table></div>"
      ],
      "text/plain": [
       "shape: (20_764_025, 5)\n",
       "┌────────────┬─────────┬─────────────┬────────────────┬─────────────────┐\n",
       "│ date       ┆ barrid  ┆ bab_weight  ┆ meanrev_weight ┆ momentum_weight │\n",
       "│ ---        ┆ ---     ┆ ---         ┆ ---            ┆ ---             │\n",
       "│ date       ┆ str     ┆ f64         ┆ f64            ┆ f64             │\n",
       "╞════════════╪═════════╪═════════════╪════════════════╪═════════════════╡\n",
       "│ 1995-06-30 ┆ USAA191 ┆ -1.0844e-20 ┆ null           ┆ null            │\n",
       "│ 1995-06-30 ┆ USAA1W1 ┆ -9.1201e-22 ┆ null           ┆ null            │\n",
       "│ 1995-06-30 ┆ USAA1Y1 ┆ -4.8273e-21 ┆ null           ┆ null            │\n",
       "│ 1995-06-30 ┆ USAA2L1 ┆ -4.2673e-21 ┆ null           ┆ null            │\n",
       "│ 1995-06-30 ┆ USAA311 ┆ -9.2198e-21 ┆ null           ┆ null            │\n",
       "│ …          ┆ …       ┆ …           ┆ …              ┆ …               │\n",
       "│ 2025-09-15 ┆ USBQZR1 ┆ -6.9890e-22 ┆ -1.3553e-20    ┆ null            │\n",
       "│ 2025-09-15 ┆ USBRGT1 ┆ -3.7165e-21 ┆ -3.4045e-19    ┆ null            │\n",
       "│ 2025-09-15 ┆ USBRH21 ┆ -2.6956e-21 ┆ -9.9263e-20    ┆ null            │\n",
       "│ 2025-09-15 ┆ USBRKA1 ┆ -5.5406e-21 ┆ -4.3920e-19    ┆ null            │\n",
       "│ 2025-09-15 ┆ USBRKA2 ┆ -4.9619e-21 ┆ -4.2459e-19    ┆ null            │\n",
       "└────────────┴─────────┴─────────────┴────────────────┴─────────────────┘"
      ]
     },
     "execution_count": 2,
     "metadata": {},
     "output_type": "execute_result"
    }
   ],
   "source": [
    "signal_weights = pl.read_parquet(\"../../signal_weights.parquet\")\n",
    "\n",
    "signal_weights"
   ]
  },
  {
   "cell_type": "code",
   "execution_count": 3,
   "id": "46fe82bb",
   "metadata": {},
   "outputs": [],
   "source": [
    "bab_alpha = pl.read_parquet(\"/home/jaic007/silverFund/combineSignal/signalCalc/signalAlphas/bab_alpha.parquet\")\n",
    "\n",
    "meanrev_alpha = pl.read_parquet(\"/home/jaic007/silverFund/combineSignal/signalCalc/signalAlphas/meanrev_alpha.parquet\")\n",
    "\n",
    "mom_alpha = pl.read_parquet(\"/home/jaic007/silverFund/combineSignal/signalCalc/signalAlphas/mom_alpha.parquet\")\n",
    "\n",
    "bab_alpha_renamed = bab_alpha.select(['date', 'barrid', 'alpha']).rename({'alpha': 'bab_alpha'})\n",
    "mom_alpha_renamed = mom_alpha.select(['date', 'barrid', 'alpha']).rename({'alpha': 'momentum_alpha'})\n",
    "meanrev_alpha_renamed = meanrev_alpha.select(['date', 'barrid', 'alpha']).rename({'alpha': 'meanrev_alpha'})\n",
    "\n",
    "# Perform a full outer join with coalesce to handle the duplicate key columns\n",
    "combined_alpha = (\n",
    "    bab_alpha_renamed\n",
    "    .join(mom_alpha_renamed, on=['date', 'barrid'], how='full', coalesce=True)\n",
    "    .join(meanrev_alpha_renamed, on=['date', 'barrid'], how='full', coalesce=True)\n",
    ")\n",
    "\n",
    "# Sort by date and barrid for cleaner output\n",
    "combined_alpha = combined_alpha.sort(['date', 'barrid'])"
   ]
  },
  {
   "cell_type": "code",
   "execution_count": 4,
   "id": "a6c089b9",
   "metadata": {},
   "outputs": [
    {
     "data": {
      "text/html": [
       "<div><style>\n",
       ".dataframe > thead > tr,\n",
       ".dataframe > tbody > tr {\n",
       "  text-align: right;\n",
       "  white-space: pre-wrap;\n",
       "}\n",
       "</style>\n",
       "<small>shape: (20_298_696, 5)</small><table border=\"1\" class=\"dataframe\"><thead><tr><th>date</th><th>barrid</th><th>bab_alpha</th><th>momentum_alpha</th><th>meanrev_alpha</th></tr><tr><td>date</td><td>str</td><td>f64</td><td>f64</td><td>f64</td></tr></thead><tbody><tr><td>1995-07-03</td><td>&quot;USAA191&quot;</td><td>-0.003302</td><td>null</td><td>null</td></tr><tr><td>1995-07-03</td><td>&quot;USAA1W1&quot;</td><td>0.032054</td><td>null</td><td>null</td></tr><tr><td>1995-07-03</td><td>&quot;USAA1Y1&quot;</td><td>-0.014456</td><td>null</td><td>null</td></tr><tr><td>1995-07-03</td><td>&quot;USAA2L1&quot;</td><td>0.017932</td><td>null</td><td>null</td></tr><tr><td>1995-07-03</td><td>&quot;USAA311&quot;</td><td>0.003537</td><td>null</td><td>null</td></tr><tr><td>&hellip;</td><td>&hellip;</td><td>&hellip;</td><td>&hellip;</td><td>&hellip;</td></tr><tr><td>2024-12-31</td><td>&quot;USBQFF1&quot;</td><td>0.021174</td><td>null</td><td>-0.019814</td></tr><tr><td>2024-12-31</td><td>&quot;USBQGD1&quot;</td><td>0.019763</td><td>null</td><td>0.001263</td></tr><tr><td>2024-12-31</td><td>&quot;USBQLB1&quot;</td><td>0.022202</td><td>null</td><td>-0.00764</td></tr><tr><td>2024-12-31</td><td>&quot;USBQLU1&quot;</td><td>0.00477</td><td>null</td><td>-0.004014</td></tr><tr><td>2024-12-31</td><td>&quot;USBQOR1&quot;</td><td>-0.006598</td><td>null</td><td>null</td></tr></tbody></table></div>"
      ],
      "text/plain": [
       "shape: (20_298_696, 5)\n",
       "┌────────────┬─────────┬───────────┬────────────────┬───────────────┐\n",
       "│ date       ┆ barrid  ┆ bab_alpha ┆ momentum_alpha ┆ meanrev_alpha │\n",
       "│ ---        ┆ ---     ┆ ---       ┆ ---            ┆ ---           │\n",
       "│ date       ┆ str     ┆ f64       ┆ f64            ┆ f64           │\n",
       "╞════════════╪═════════╪═══════════╪════════════════╪═══════════════╡\n",
       "│ 1995-07-03 ┆ USAA191 ┆ -0.003302 ┆ null           ┆ null          │\n",
       "│ 1995-07-03 ┆ USAA1W1 ┆ 0.032054  ┆ null           ┆ null          │\n",
       "│ 1995-07-03 ┆ USAA1Y1 ┆ -0.014456 ┆ null           ┆ null          │\n",
       "│ 1995-07-03 ┆ USAA2L1 ┆ 0.017932  ┆ null           ┆ null          │\n",
       "│ 1995-07-03 ┆ USAA311 ┆ 0.003537  ┆ null           ┆ null          │\n",
       "│ …          ┆ …       ┆ …         ┆ …              ┆ …             │\n",
       "│ 2024-12-31 ┆ USBQFF1 ┆ 0.021174  ┆ null           ┆ -0.019814     │\n",
       "│ 2024-12-31 ┆ USBQGD1 ┆ 0.019763  ┆ null           ┆ 0.001263      │\n",
       "│ 2024-12-31 ┆ USBQLB1 ┆ 0.022202  ┆ null           ┆ -0.00764      │\n",
       "│ 2024-12-31 ┆ USBQLU1 ┆ 0.00477   ┆ null           ┆ -0.004014     │\n",
       "│ 2024-12-31 ┆ USBQOR1 ┆ -0.006598 ┆ null           ┆ null          │\n",
       "└────────────┴─────────┴───────────┴────────────────┴───────────────┘"
      ]
     },
     "execution_count": 4,
     "metadata": {},
     "output_type": "execute_result"
    }
   ],
   "source": [
    "combined_alpha"
   ]
  },
  {
   "cell_type": "code",
   "execution_count": 5,
   "id": "30657b73",
   "metadata": {},
   "outputs": [],
   "source": [
    "# Join the combined alphas with signal weights\n",
    "qMatrix = combined_alpha.join(\n",
    "    signal_weights,\n",
    "    on=['date', 'barrid'],\n",
    "    how='left'  # or 'inner' if you only want matching rows\n",
    ")\n",
    "\n",
    "# Multiply each alpha by its respective weight to get signal expected returns\n",
    "qMatrix = qMatrix.with_columns([\n",
    "    (pl.col('bab_alpha') * pl.col('bab_weight')).alias('bab_er'),\n",
    "    (pl.col('momentum_alpha') * pl.col('momentum_weight')).alias('momentum_er'),\n",
    "    (pl.col('meanrev_alpha') * pl.col('meanrev_weight')).alias('meanrev_er')\n",
    "])\n",
    "\n",
    "# If you want to keep only the essential columns:\n",
    "qMatrix = qMatrix.select([\n",
    "    'date',\n",
    "    'barrid',\n",
    "    'bab_er',\n",
    "    'momentum_er',\n",
    "    'meanrev_er'\n",
    "])"
   ]
  },
  {
   "cell_type": "code",
   "execution_count": 7,
   "id": "a81fc791",
   "metadata": {},
   "outputs": [
    {
     "data": {
      "text/html": [
       "<div><style>\n",
       ".dataframe > thead > tr,\n",
       ".dataframe > tbody > tr {\n",
       "  text-align: right;\n",
       "  white-space: pre-wrap;\n",
       "}\n",
       "</style>\n",
       "<small>shape: (20_298_696, 5)</small><table border=\"1\" class=\"dataframe\"><thead><tr><th>date</th><th>barrid</th><th>bab_er</th><th>momentum_er</th><th>meanrev_er</th></tr><tr><td>date</td><td>str</td><td>f64</td><td>f64</td><td>f64</td></tr></thead><tbody><tr><td>1995-07-03</td><td>&quot;USAA191&quot;</td><td>2.6152e-23</td><td>null</td><td>null</td></tr><tr><td>1995-07-03</td><td>&quot;USAA1W1&quot;</td><td>-1.8986e-23</td><td>null</td><td>null</td></tr><tr><td>1995-07-03</td><td>&quot;USAA1Y1&quot;</td><td>7.7330e-23</td><td>null</td><td>null</td></tr><tr><td>1995-07-03</td><td>&quot;USAA2L1&quot;</td><td>-5.9099e-23</td><td>null</td><td>null</td></tr><tr><td>1995-07-03</td><td>&quot;USAA311&quot;</td><td>-2.4240e-23</td><td>null</td><td>null</td></tr><tr><td>&hellip;</td><td>&hellip;</td><td>&hellip;</td><td>&hellip;</td><td>&hellip;</td></tr><tr><td>2024-12-31</td><td>&quot;USBQFF1&quot;</td><td>0.000035</td><td>null</td><td>1.4599e-9</td></tr><tr><td>2024-12-31</td><td>&quot;USBQGD1&quot;</td><td>-1.3423e-22</td><td>null</td><td>-5.0275e-11</td></tr><tr><td>2024-12-31</td><td>&quot;USBQLB1&quot;</td><td>-1.2665e-22</td><td>null</td><td>3.8366e-10</td></tr><tr><td>2024-12-31</td><td>&quot;USBQLU1&quot;</td><td>-3.9287e-23</td><td>null</td><td>4.5593e-10</td></tr><tr><td>2024-12-31</td><td>&quot;USBQOR1&quot;</td><td>4.2037e-23</td><td>null</td><td>null</td></tr></tbody></table></div>"
      ],
      "text/plain": [
       "shape: (20_298_696, 5)\n",
       "┌────────────┬─────────┬─────────────┬─────────────┬─────────────┐\n",
       "│ date       ┆ barrid  ┆ bab_er      ┆ momentum_er ┆ meanrev_er  │\n",
       "│ ---        ┆ ---     ┆ ---         ┆ ---         ┆ ---         │\n",
       "│ date       ┆ str     ┆ f64         ┆ f64         ┆ f64         │\n",
       "╞════════════╪═════════╪═════════════╪═════════════╪═════════════╡\n",
       "│ 1995-07-03 ┆ USAA191 ┆ 2.6152e-23  ┆ null        ┆ null        │\n",
       "│ 1995-07-03 ┆ USAA1W1 ┆ -1.8986e-23 ┆ null        ┆ null        │\n",
       "│ 1995-07-03 ┆ USAA1Y1 ┆ 7.7330e-23  ┆ null        ┆ null        │\n",
       "│ 1995-07-03 ┆ USAA2L1 ┆ -5.9099e-23 ┆ null        ┆ null        │\n",
       "│ 1995-07-03 ┆ USAA311 ┆ -2.4240e-23 ┆ null        ┆ null        │\n",
       "│ …          ┆ …       ┆ …           ┆ …           ┆ …           │\n",
       "│ 2024-12-31 ┆ USBQFF1 ┆ 0.000035    ┆ null        ┆ 1.4599e-9   │\n",
       "│ 2024-12-31 ┆ USBQGD1 ┆ -1.3423e-22 ┆ null        ┆ -5.0275e-11 │\n",
       "│ 2024-12-31 ┆ USBQLB1 ┆ -1.2665e-22 ┆ null        ┆ 3.8366e-10  │\n",
       "│ 2024-12-31 ┆ USBQLU1 ┆ -3.9287e-23 ┆ null        ┆ 4.5593e-10  │\n",
       "│ 2024-12-31 ┆ USBQOR1 ┆ 4.2037e-23  ┆ null        ┆ null        │\n",
       "└────────────┴─────────┴─────────────┴─────────────┴─────────────┘"
      ]
     },
     "execution_count": 7,
     "metadata": {},
     "output_type": "execute_result"
    }
   ],
   "source": [
    "qMatrix"
   ]
  },
  {
   "cell_type": "code",
   "execution_count": 9,
   "id": "99eb6d8c",
   "metadata": {},
   "outputs": [
    {
     "data": {
      "text/html": [
       "<div><style>\n",
       ".dataframe > thead > tr,\n",
       ".dataframe > tbody > tr {\n",
       "  text-align: right;\n",
       "  white-space: pre-wrap;\n",
       "}\n",
       "</style>\n",
       "<small>shape: (7_426, 4)</small><table border=\"1\" class=\"dataframe\"><thead><tr><th>date</th><th>bab_er</th><th>momentum_er</th><th>meanrev_er</th></tr><tr><td>date</td><td>f64</td><td>f64</td><td>f64</td></tr></thead><tbody><tr><td>1995-07-03</td><td>-0.002372</td><td>0.0</td><td>0.0</td></tr><tr><td>1995-07-05</td><td>-0.002456</td><td>0.0</td><td>0.0</td></tr><tr><td>1995-07-06</td><td>-0.002549</td><td>0.0</td><td>0.0</td></tr><tr><td>1995-07-07</td><td>-0.002443</td><td>0.0</td><td>0.0</td></tr><tr><td>1995-07-10</td><td>-0.002684</td><td>0.0</td><td>0.0</td></tr><tr><td>&hellip;</td><td>&hellip;</td><td>&hellip;</td><td>&hellip;</td></tr><tr><td>2024-12-24</td><td>0.003805</td><td>0.030739</td><td>0.045066</td></tr><tr><td>2024-12-26</td><td>0.003904</td><td>0.03071</td><td>0.042249</td></tr><tr><td>2024-12-27</td><td>0.003647</td><td>0.02877</td><td>0.043792</td></tr><tr><td>2024-12-30</td><td>0.003365</td><td>0.028493</td><td>0.041962</td></tr><tr><td>2024-12-31</td><td>0.002938</td><td>0.028549</td><td>0.047821</td></tr></tbody></table></div>"
      ],
      "text/plain": [
       "shape: (7_426, 4)\n",
       "┌────────────┬───────────┬─────────────┬────────────┐\n",
       "│ date       ┆ bab_er    ┆ momentum_er ┆ meanrev_er │\n",
       "│ ---        ┆ ---       ┆ ---         ┆ ---        │\n",
       "│ date       ┆ f64       ┆ f64         ┆ f64        │\n",
       "╞════════════╪═══════════╪═════════════╪════════════╡\n",
       "│ 1995-07-03 ┆ -0.002372 ┆ 0.0         ┆ 0.0        │\n",
       "│ 1995-07-05 ┆ -0.002456 ┆ 0.0         ┆ 0.0        │\n",
       "│ 1995-07-06 ┆ -0.002549 ┆ 0.0         ┆ 0.0        │\n",
       "│ 1995-07-07 ┆ -0.002443 ┆ 0.0         ┆ 0.0        │\n",
       "│ 1995-07-10 ┆ -0.002684 ┆ 0.0         ┆ 0.0        │\n",
       "│ …          ┆ …         ┆ …           ┆ …          │\n",
       "│ 2024-12-24 ┆ 0.003805  ┆ 0.030739    ┆ 0.045066   │\n",
       "│ 2024-12-26 ┆ 0.003904  ┆ 0.03071     ┆ 0.042249   │\n",
       "│ 2024-12-27 ┆ 0.003647  ┆ 0.02877     ┆ 0.043792   │\n",
       "│ 2024-12-30 ┆ 0.003365  ┆ 0.028493    ┆ 0.041962   │\n",
       "│ 2024-12-31 ┆ 0.002938  ┆ 0.028549    ┆ 0.047821   │\n",
       "└────────────┴───────────┴─────────────┴────────────┘"
      ]
     },
     "execution_count": 9,
     "metadata": {},
     "output_type": "execute_result"
    }
   ],
   "source": [
    "signal_er = (\n",
    "    qMatrix.group_by(\"date\")\n",
    "     .agg([\n",
    "         pl.col(\"bab_er\").sum().alias(\"bab_er\"),\n",
    "         pl.col(\"momentum_er\").sum().alias(\"momentum_er\"),\n",
    "         pl.col(\"meanrev_er\").sum().alias(\"meanrev_er\")\n",
    "     ])\n",
    "     .sort(\"date\")\n",
    ")\n",
    "\n",
    "signal_er"
   ]
  },
  {
   "cell_type": "code",
   "execution_count": 14,
   "id": "55768d4a",
   "metadata": {},
   "outputs": [
    {
     "data": {
      "text/html": [
       "<div><style>\n",
       ".dataframe > thead > tr,\n",
       ".dataframe > tbody > tr {\n",
       "  text-align: right;\n",
       "  white-space: pre-wrap;\n",
       "}\n",
       "</style>\n",
       "<small>shape: (7_601, 4)</small><table border=\"1\" class=\"dataframe\"><thead><tr><th>date</th><th>bab_return</th><th>meanrev_return</th><th>momentum_return</th></tr><tr><td>date</td><td>f64</td><td>f64</td><td>f64</td></tr></thead><tbody><tr><td>1995-06-30</td><td>0.003391</td><td>0.0</td><td>0.0</td></tr><tr><td>1995-07-03</td><td>0.006842</td><td>0.0</td><td>0.0</td></tr><tr><td>1995-07-05</td><td>0.015751</td><td>0.0</td><td>0.0</td></tr><tr><td>1995-07-06</td><td>0.011595</td><td>0.0</td><td>0.0</td></tr><tr><td>1995-07-07</td><td>0.007155</td><td>0.0</td><td>0.0</td></tr><tr><td>&hellip;</td><td>&hellip;</td><td>&hellip;</td><td>&hellip;</td></tr><tr><td>2025-09-08</td><td>0.008037</td><td>0.003606</td><td>0.018773</td></tr><tr><td>2025-09-09</td><td>-0.001619</td><td>0.000151</td><td>-0.013817</td></tr><tr><td>2025-09-10</td><td>0.014106</td><td>0.036719</td><td>0.021146</td></tr><tr><td>2025-09-11</td><td>-0.002669</td><td>-0.004925</td><td>0.012381</td></tr><tr><td>2025-09-12</td><td>0.008108</td><td>-0.011671</td><td>0.007403</td></tr></tbody></table></div>"
      ],
      "text/plain": [
       "shape: (7_601, 4)\n",
       "┌────────────┬────────────┬────────────────┬─────────────────┐\n",
       "│ date       ┆ bab_return ┆ meanrev_return ┆ momentum_return │\n",
       "│ ---        ┆ ---        ┆ ---            ┆ ---             │\n",
       "│ date       ┆ f64        ┆ f64            ┆ f64             │\n",
       "╞════════════╪════════════╪════════════════╪═════════════════╡\n",
       "│ 1995-06-30 ┆ 0.003391   ┆ 0.0            ┆ 0.0             │\n",
       "│ 1995-07-03 ┆ 0.006842   ┆ 0.0            ┆ 0.0             │\n",
       "│ 1995-07-05 ┆ 0.015751   ┆ 0.0            ┆ 0.0             │\n",
       "│ 1995-07-06 ┆ 0.011595   ┆ 0.0            ┆ 0.0             │\n",
       "│ 1995-07-07 ┆ 0.007155   ┆ 0.0            ┆ 0.0             │\n",
       "│ …          ┆ …          ┆ …              ┆ …               │\n",
       "│ 2025-09-08 ┆ 0.008037   ┆ 0.003606       ┆ 0.018773        │\n",
       "│ 2025-09-09 ┆ -0.001619  ┆ 0.000151       ┆ -0.013817       │\n",
       "│ 2025-09-10 ┆ 0.014106   ┆ 0.036719       ┆ 0.021146        │\n",
       "│ 2025-09-11 ┆ -0.002669  ┆ -0.004925      ┆ 0.012381        │\n",
       "│ 2025-09-12 ┆ 0.008108   ┆ -0.011671      ┆ 0.007403        │\n",
       "└────────────┴────────────┴────────────────┴─────────────────┘"
      ]
     },
     "execution_count": 14,
     "metadata": {},
     "output_type": "execute_result"
    }
   ],
   "source": [
    "signal_bab = pl.read_parquet(\"/home/jaic007/silverFund/combineSignal/signalCalc/signalReturns/signal_bab.parquet\")\n",
    "signal_meanrev = pl.read_parquet(\"/home/jaic007/silverFund/combineSignal/signalCalc/signalReturns/signal_meanrev.parquet\")\n",
    "signal_momentum = pl.read_parquet(\"/home/jaic007/silverFund/combineSignal/signalCalc/signalReturns/signal_momentum.parquet\")\n",
    "\n",
    "signals_daily = (\n",
    "    signal_bab\n",
    "    .join(signal_meanrev, on=\"date\", how=\"full\", suffix=\"_meanrev\")\n",
    "    .join(signal_momentum, on=\"date\", how=\"full\", suffix=\"_momentum\")\n",
    "    .sort(\"date\")\n",
    "    .select(['date', 'bab_return', 'meanrev_return', 'momentum_return'])\n",
    ")\n",
    "\n",
    "\n",
    "signals_daily"
   ]
  },
  {
   "cell_type": "code",
   "execution_count": 15,
   "id": "c7b0a25b",
   "metadata": {},
   "outputs": [
    {
     "data": {
      "text/html": [
       "<div><style>\n",
       ".dataframe > thead > tr,\n",
       ".dataframe > tbody > tr {\n",
       "  text-align: right;\n",
       "  white-space: pre-wrap;\n",
       "}\n",
       "</style>\n",
       "<small>shape: (7_426, 7)</small><table border=\"1\" class=\"dataframe\"><thead><tr><th>date</th><th>bab_er</th><th>momentum_er</th><th>meanrev_er</th><th>bab_return</th><th>meanrev_return</th><th>momentum_return</th></tr><tr><td>date</td><td>f64</td><td>f64</td><td>f64</td><td>f64</td><td>f64</td><td>f64</td></tr></thead><tbody><tr><td>1995-07-03</td><td>-0.002372</td><td>0.0</td><td>0.0</td><td>0.006842</td><td>0.0</td><td>0.0</td></tr><tr><td>1995-07-05</td><td>-0.002456</td><td>0.0</td><td>0.0</td><td>0.015751</td><td>0.0</td><td>0.0</td></tr><tr><td>1995-07-06</td><td>-0.002549</td><td>0.0</td><td>0.0</td><td>0.011595</td><td>0.0</td><td>0.0</td></tr><tr><td>1995-07-07</td><td>-0.002443</td><td>0.0</td><td>0.0</td><td>0.007155</td><td>0.0</td><td>0.0</td></tr><tr><td>1995-07-10</td><td>-0.002684</td><td>0.0</td><td>0.0</td><td>-0.001244</td><td>0.0</td><td>0.0</td></tr><tr><td>&hellip;</td><td>&hellip;</td><td>&hellip;</td><td>&hellip;</td><td>&hellip;</td><td>&hellip;</td><td>&hellip;</td></tr><tr><td>2024-12-24</td><td>0.003805</td><td>0.030739</td><td>0.045066</td><td>0.001975</td><td>0.01208</td><td>0.012256</td></tr><tr><td>2024-12-26</td><td>0.003904</td><td>0.03071</td><td>0.042249</td><td>-0.009431</td><td>-0.015744</td><td>-0.024086</td></tr><tr><td>2024-12-27</td><td>0.003647</td><td>0.02877</td><td>0.043792</td><td>-0.008503</td><td>-0.021729</td><td>-0.022794</td></tr><tr><td>2024-12-30</td><td>0.003365</td><td>0.028493</td><td>0.041962</td><td>-0.001555</td><td>0.007854</td><td>-0.008189</td></tr><tr><td>2024-12-31</td><td>0.002938</td><td>0.028549</td><td>0.047821</td><td>0.000688</td><td>0.00838</td><td>0.007896</td></tr></tbody></table></div>"
      ],
      "text/plain": [
       "shape: (7_426, 7)\n",
       "┌────────────┬───────────┬─────────────┬────────────┬────────────┬────────────────┬────────────────┐\n",
       "│ date       ┆ bab_er    ┆ momentum_er ┆ meanrev_er ┆ bab_return ┆ meanrev_return ┆ momentum_retur │\n",
       "│ ---        ┆ ---       ┆ ---         ┆ ---        ┆ ---        ┆ ---            ┆ n              │\n",
       "│ date       ┆ f64       ┆ f64         ┆ f64        ┆ f64        ┆ f64            ┆ ---            │\n",
       "│            ┆           ┆             ┆            ┆            ┆                ┆ f64            │\n",
       "╞════════════╪═══════════╪═════════════╪════════════╪════════════╪════════════════╪════════════════╡\n",
       "│ 1995-07-03 ┆ -0.002372 ┆ 0.0         ┆ 0.0        ┆ 0.006842   ┆ 0.0            ┆ 0.0            │\n",
       "│ 1995-07-05 ┆ -0.002456 ┆ 0.0         ┆ 0.0        ┆ 0.015751   ┆ 0.0            ┆ 0.0            │\n",
       "│ 1995-07-06 ┆ -0.002549 ┆ 0.0         ┆ 0.0        ┆ 0.011595   ┆ 0.0            ┆ 0.0            │\n",
       "│ 1995-07-07 ┆ -0.002443 ┆ 0.0         ┆ 0.0        ┆ 0.007155   ┆ 0.0            ┆ 0.0            │\n",
       "│ 1995-07-10 ┆ -0.002684 ┆ 0.0         ┆ 0.0        ┆ -0.001244  ┆ 0.0            ┆ 0.0            │\n",
       "│ …          ┆ …         ┆ …           ┆ …          ┆ …          ┆ …              ┆ …              │\n",
       "│ 2024-12-24 ┆ 0.003805  ┆ 0.030739    ┆ 0.045066   ┆ 0.001975   ┆ 0.01208        ┆ 0.012256       │\n",
       "│ 2024-12-26 ┆ 0.003904  ┆ 0.03071     ┆ 0.042249   ┆ -0.009431  ┆ -0.015744      ┆ -0.024086      │\n",
       "│ 2024-12-27 ┆ 0.003647  ┆ 0.02877     ┆ 0.043792   ┆ -0.008503  ┆ -0.021729      ┆ -0.022794      │\n",
       "│ 2024-12-30 ┆ 0.003365  ┆ 0.028493    ┆ 0.041962   ┆ -0.001555  ┆ 0.007854       ┆ -0.008189      │\n",
       "│ 2024-12-31 ┆ 0.002938  ┆ 0.028549    ┆ 0.047821   ┆ 0.000688   ┆ 0.00838        ┆ 0.007896       │\n",
       "└────────────┴───────────┴─────────────┴────────────┴────────────┴────────────────┴────────────────┘"
      ]
     },
     "execution_count": 15,
     "metadata": {},
     "output_type": "execute_result"
    }
   ],
   "source": [
    "comparison = (\n",
    "    signal_er.join(signals_daily, on=\"date\", how=\"inner\")\n",
    "            .sort(\"date\")\n",
    ")\n",
    "\n",
    "comparison"
   ]
  },
  {
   "cell_type": "code",
   "execution_count": 17,
   "id": "57122230",
   "metadata": {},
   "outputs": [
    {
     "data": {
      "text/html": [
       "<div><style>\n",
       ".dataframe > thead > tr,\n",
       ".dataframe > tbody > tr {\n",
       "  text-align: right;\n",
       "  white-space: pre-wrap;\n",
       "}\n",
       "</style>\n",
       "<small>shape: (1, 3)</small><table border=\"1\" class=\"dataframe\"><thead><tr><th>bab_diff</th><th>momentum_diff</th><th>meanrev_diff</th></tr><tr><td>f64</td><td>f64</td><td>f64</td></tr></thead><tbody><tr><td>0.002913</td><td>0.033824</td><td>0.057651</td></tr></tbody></table></div>"
      ],
      "text/plain": [
       "shape: (1, 3)\n",
       "┌──────────┬───────────────┬──────────────┐\n",
       "│ bab_diff ┆ momentum_diff ┆ meanrev_diff │\n",
       "│ ---      ┆ ---           ┆ ---          │\n",
       "│ f64      ┆ f64           ┆ f64          │\n",
       "╞══════════╪═══════════════╪══════════════╡\n",
       "│ 0.002913 ┆ 0.033824      ┆ 0.057651     │\n",
       "└──────────┴───────────────┴──────────────┘"
      ]
     },
     "execution_count": 17,
     "metadata": {},
     "output_type": "execute_result"
    }
   ],
   "source": [
    "corrs = comparison.select([\n",
    "    pl.corr(\"bab_er\", \"bab_return\").alias(\"bab_corr\"),\n",
    "    pl.corr(\"momentum_er\", \"momentum_return\").alias(\"momentum_corr\"),\n",
    "    pl.corr(\"meanrev_er\", \"meanrev_return\").alias(\"meanrev_corr\")\n",
    "])\n",
    "\n",
    "diffs = comparison.select([\n",
    "    (pl.col(\"bab_er\") - pl.col(\"bab_return\")).mean().alias(\"bab_diff\"),\n",
    "    (pl.col(\"momentum_er\") - pl.col(\"momentum_return\")).mean().alias(\"momentum_diff\"),\n",
    "    (pl.col(\"meanrev_er\") - pl.col(\"meanrev_return\")).mean().alias(\"meanrev_diff\")\n",
    "])\n",
    "\n",
    "diffs"
   ]
  },
  {
   "cell_type": "code",
   "execution_count": null,
   "id": "18a7dc5a",
   "metadata": {},
   "outputs": [],
   "source": []
  }
 ],
 "metadata": {
  "kernelspec": {
   "display_name": "sf_quant",
   "language": "python",
   "name": "python3"
  },
  "language_info": {
   "codemirror_mode": {
    "name": "ipython",
    "version": 3
   },
   "file_extension": ".py",
   "mimetype": "text/x-python",
   "name": "python",
   "nbconvert_exporter": "python",
   "pygments_lexer": "ipython3",
   "version": "3.11.13"
  }
 },
 "nbformat": 4,
 "nbformat_minor": 5
}
