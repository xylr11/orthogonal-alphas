{
 "cells": [
  {
   "cell_type": "markdown",
   "id": "37088ca1",
   "metadata": {},
   "source": [
    "We can either get a omega matrix by:\n",
    "- a covariance matrix of our alphas, or\n",
    "- a diagonal matrix like brandon said\n",
    "\n",
    "we will calculate a diagonal matrix like brandon said which will be calculated as:\n",
    "the entries are [(1/SR_s) * q_s]^2\n",
    "\n",
    "where q_s is the signal expected return matrix (a 3x1 matrix for a day equal to w_s * alpha_s)"
   ]
  },
  {
   "cell_type": "code",
   "execution_count": 25,
   "id": "188c1bf6",
   "metadata": {},
   "outputs": [],
   "source": [
    "import sf_quant.data as sfd\n",
    "import polars as pl\n",
    "import numpy as np\n",
    "import datetime as dt\n",
    "import matplotlib.pyplot as plt"
   ]
  },
  {
   "cell_type": "code",
   "execution_count": 26,
   "id": "643c5b3f",
   "metadata": {},
   "outputs": [],
   "source": [
    "# Signal Returns:\n",
    "\n",
    "bab_return = pl.read_parquet(\"/home/jaic007/silverFund/combineSignal/signalCalc/signalReturns/signal_bab.parquet\")\n",
    "mom_return = pl.read_parquet(\"/home/jaic007/silverFund/combineSignal/signalCalc/signalReturns/signal_momentum.parquet\")\n",
    "meanrev_return = pl.read_parquet(\"/home/jaic007/silverFund/combineSignal/signalCalc/signalReturns/signal_meanrev.parquet\")"
   ]
  },
  {
   "cell_type": "code",
   "execution_count": 27,
   "id": "f792e6d3",
   "metadata": {},
   "outputs": [],
   "source": [
    "# Q Matrix\n",
    "\n",
    "qMatrix = pl.read_parquet(\"/home/jaic007/silverFund/combineSignal/BL/data/qMatrix.parquet\")"
   ]
  },
  {
   "cell_type": "code",
   "execution_count": 28,
   "id": "41f2d23d",
   "metadata": {},
   "outputs": [],
   "source": [
    "def compute_rolling_sharpe(df: pl.DataFrame, ret_col: str, window: int = (22*12)) -> pl.DataFrame:\n",
    "    \"\"\"\n",
    "    Compute rolling Sharpe ratio for one signal.\n",
    "    \"\"\"\n",
    "    return (\n",
    "        df.sort(\"date\")\n",
    "          .with_columns([\n",
    "              pl.col(ret_col).rolling_mean(window).alias(\"mean\"),\n",
    "              pl.col(ret_col).rolling_std(window).alias(\"std\")\n",
    "          ])\n",
    "          .with_columns([\n",
    "              (pl.col(\"mean\") / pl.col(\"std\")).alias(f\"{ret_col}_sharpe\")\n",
    "          ])\n",
    "          .select([\"date\", f\"{ret_col}_sharpe\"])\n",
    "    )"
   ]
  },
  {
   "cell_type": "code",
   "execution_count": 29,
   "id": "8c0592ce",
   "metadata": {},
   "outputs": [],
   "source": [
    "bab_sr = compute_rolling_sharpe(bab_return, \"bab_return\")\n",
    "mom_sr = compute_rolling_sharpe(mom_return, \"momentum_return\")\n",
    "meanrev_sr = compute_rolling_sharpe(meanrev_return, \"meanrev_return\")"
   ]
  },
  {
   "cell_type": "code",
   "execution_count": null,
   "id": "aaae9664",
   "metadata": {},
   "outputs": [],
   "source": [
    "# Join all of our signals calculated rolling sharpes\n",
    "rolling_sharpes = (\n",
    "    bab_sr.join(mom_sr, on=\"date\", how=\"full\", suffix=\"_mom\")\n",
    "          .join(meanrev_sr, on=\"date\", how=\"full\", suffix=\"_meanrev\")\n",
    "          .sort(\"date\")\n",
    "          .drop(['date_mom', 'date_meanrev'])\n",
    ")"
   ]
  },
  {
   "cell_type": "code",
   "execution_count": null,
   "id": "22f789e2",
   "metadata": {},
   "outputs": [],
   "source": [
    "# Join our rolling sharpes with qMatrix \n",
    "q_with_sr = qMatrix.join(rolling_sharpes, on=\"date\", how=\"inner\")"
   ]
  },
  {
   "cell_type": "code",
   "execution_count": 32,
   "id": "da015535",
   "metadata": {},
   "outputs": [
    {
     "data": {
      "text/html": [
       "<div><style>\n",
       ".dataframe > thead > tr,\n",
       ".dataframe > tbody > tr {\n",
       "  text-align: right;\n",
       "  white-space: pre-wrap;\n",
       "}\n",
       "</style>\n",
       "<small>shape: (7_426, 7)</small><table border=\"1\" class=\"dataframe\"><thead><tr><th>date</th><th>bab_er</th><th>momentum_er</th><th>meanrev_er</th><th>bab_return_sharpe</th><th>momentum_return_sharpe</th><th>meanrev_return_sharpe</th></tr><tr><td>date</td><td>f64</td><td>f64</td><td>f64</td><td>f64</td><td>f64</td><td>f64</td></tr></thead><tbody><tr><td>1995-07-03</td><td>-0.002372</td><td>0.0</td><td>0.0</td><td>null</td><td>null</td><td>null</td></tr><tr><td>1995-07-05</td><td>-0.002456</td><td>0.0</td><td>0.0</td><td>null</td><td>null</td><td>null</td></tr><tr><td>1995-07-06</td><td>-0.002549</td><td>0.0</td><td>0.0</td><td>null</td><td>null</td><td>null</td></tr><tr><td>1995-07-07</td><td>-0.002443</td><td>0.0</td><td>0.0</td><td>null</td><td>null</td><td>null</td></tr><tr><td>1995-07-10</td><td>-0.002684</td><td>0.0</td><td>0.0</td><td>null</td><td>null</td><td>null</td></tr><tr><td>&hellip;</td><td>&hellip;</td><td>&hellip;</td><td>&hellip;</td><td>&hellip;</td><td>&hellip;</td><td>&hellip;</td></tr><tr><td>2024-12-24</td><td>0.003805</td><td>0.030739</td><td>0.045066</td><td>0.102995</td><td>0.083353</td><td>0.012108</td></tr><tr><td>2024-12-26</td><td>0.003904</td><td>0.03071</td><td>0.042249</td><td>0.097064</td><td>0.073532</td><td>0.008225</td></tr><tr><td>2024-12-27</td><td>0.003647</td><td>0.02877</td><td>0.043792</td><td>0.092093</td><td>0.068387</td><td>0.006793</td></tr><tr><td>2024-12-30</td><td>0.003365</td><td>0.028493</td><td>0.041962</td><td>0.090324</td><td>0.064339</td><td>0.009329</td></tr><tr><td>2024-12-31</td><td>0.002938</td><td>0.028549</td><td>0.047821</td><td>0.08295</td><td>0.059707</td><td>0.005443</td></tr></tbody></table></div>"
      ],
      "text/plain": [
       "shape: (7_426, 7)\n",
       "┌────────────┬───────────┬─────────────┬────────────┬───────────────┬───────────────┬──────────────┐\n",
       "│ date       ┆ bab_er    ┆ momentum_er ┆ meanrev_er ┆ bab_return_sh ┆ momentum_retu ┆ meanrev_retu │\n",
       "│ ---        ┆ ---       ┆ ---         ┆ ---        ┆ arpe          ┆ rn_sharpe     ┆ rn_sharpe    │\n",
       "│ date       ┆ f64       ┆ f64         ┆ f64        ┆ ---           ┆ ---           ┆ ---          │\n",
       "│            ┆           ┆             ┆            ┆ f64           ┆ f64           ┆ f64          │\n",
       "╞════════════╪═══════════╪═════════════╪════════════╪═══════════════╪═══════════════╪══════════════╡\n",
       "│ 1995-07-03 ┆ -0.002372 ┆ 0.0         ┆ 0.0        ┆ null          ┆ null          ┆ null         │\n",
       "│ 1995-07-05 ┆ -0.002456 ┆ 0.0         ┆ 0.0        ┆ null          ┆ null          ┆ null         │\n",
       "│ 1995-07-06 ┆ -0.002549 ┆ 0.0         ┆ 0.0        ┆ null          ┆ null          ┆ null         │\n",
       "│ 1995-07-07 ┆ -0.002443 ┆ 0.0         ┆ 0.0        ┆ null          ┆ null          ┆ null         │\n",
       "│ 1995-07-10 ┆ -0.002684 ┆ 0.0         ┆ 0.0        ┆ null          ┆ null          ┆ null         │\n",
       "│ …          ┆ …         ┆ …           ┆ …          ┆ …             ┆ …             ┆ …            │\n",
       "│ 2024-12-24 ┆ 0.003805  ┆ 0.030739    ┆ 0.045066   ┆ 0.102995      ┆ 0.083353      ┆ 0.012108     │\n",
       "│ 2024-12-26 ┆ 0.003904  ┆ 0.03071     ┆ 0.042249   ┆ 0.097064      ┆ 0.073532      ┆ 0.008225     │\n",
       "│ 2024-12-27 ┆ 0.003647  ┆ 0.02877     ┆ 0.043792   ┆ 0.092093      ┆ 0.068387      ┆ 0.006793     │\n",
       "│ 2024-12-30 ┆ 0.003365  ┆ 0.028493    ┆ 0.041962   ┆ 0.090324      ┆ 0.064339      ┆ 0.009329     │\n",
       "│ 2024-12-31 ┆ 0.002938  ┆ 0.028549    ┆ 0.047821   ┆ 0.08295       ┆ 0.059707      ┆ 0.005443     │\n",
       "└────────────┴───────────┴─────────────┴────────────┴───────────────┴───────────────┴──────────────┘"
      ]
     },
     "execution_count": 32,
     "metadata": {},
     "output_type": "execute_result"
    }
   ],
   "source": [
    "q_with_sr"
   ]
  },
  {
   "cell_type": "code",
   "execution_count": null,
   "id": "e711a75e",
   "metadata": {},
   "outputs": [],
   "source": [
    "# Compute Omega diagonals as said by brandon \n",
    "omega_diag = (\n",
    "    q_with_sr\n",
    "    .with_columns([\n",
    "        ((pl.col(\"bab_er\") / pl.col(\"bab_return_sharpe\"))**2).alias(\"omega_bab\"),\n",
    "        ((pl.col(\"momentum_er\") / pl.col(\"momentum_return_sharpe\"))**2).alias(\"omega_momentum\"),\n",
    "        ((pl.col(\"meanrev_er\") / pl.col(\"meanrev_return_sharpe\"))**2).alias(\"omega_meanrev\"),\n",
    "    ])\n",
    "    .select([\"date\", \"omega_bab\", \"omega_momentum\", \"omega_meanrev\"])\n",
    ")"
   ]
  },
  {
   "cell_type": "code",
   "execution_count": 34,
   "id": "d7775ce2",
   "metadata": {},
   "outputs": [
    {
     "data": {
      "text/html": [
       "<div><style>\n",
       ".dataframe > thead > tr,\n",
       ".dataframe > tbody > tr {\n",
       "  text-align: right;\n",
       "  white-space: pre-wrap;\n",
       "}\n",
       "</style>\n",
       "<small>shape: (7_426, 4)</small><table border=\"1\" class=\"dataframe\"><thead><tr><th>date</th><th>omega_bab</th><th>omega_momentum</th><th>omega_meanrev</th></tr><tr><td>date</td><td>f64</td><td>f64</td><td>f64</td></tr></thead><tbody><tr><td>1995-07-03</td><td>null</td><td>null</td><td>null</td></tr><tr><td>1995-07-05</td><td>null</td><td>null</td><td>null</td></tr><tr><td>1995-07-06</td><td>null</td><td>null</td><td>null</td></tr><tr><td>1995-07-07</td><td>null</td><td>null</td><td>null</td></tr><tr><td>1995-07-10</td><td>null</td><td>null</td><td>null</td></tr><tr><td>&hellip;</td><td>&hellip;</td><td>&hellip;</td><td>&hellip;</td></tr><tr><td>2024-12-24</td><td>0.001365</td><td>0.135997</td><td>13.852293</td></tr><tr><td>2024-12-26</td><td>0.001618</td><td>0.174418</td><td>26.382974</td></tr><tr><td>2024-12-27</td><td>0.001569</td><td>0.176987</td><td>41.554983</td></tr><tr><td>2024-12-30</td><td>0.001388</td><td>0.196118</td><td>20.230527</td></tr><tr><td>2024-12-31</td><td>0.001255</td><td>0.22863</td><td>77.179497</td></tr></tbody></table></div>"
      ],
      "text/plain": [
       "shape: (7_426, 4)\n",
       "┌────────────┬───────────┬────────────────┬───────────────┐\n",
       "│ date       ┆ omega_bab ┆ omega_momentum ┆ omega_meanrev │\n",
       "│ ---        ┆ ---       ┆ ---            ┆ ---           │\n",
       "│ date       ┆ f64       ┆ f64            ┆ f64           │\n",
       "╞════════════╪═══════════╪════════════════╪═══════════════╡\n",
       "│ 1995-07-03 ┆ null      ┆ null           ┆ null          │\n",
       "│ 1995-07-05 ┆ null      ┆ null           ┆ null          │\n",
       "│ 1995-07-06 ┆ null      ┆ null           ┆ null          │\n",
       "│ 1995-07-07 ┆ null      ┆ null           ┆ null          │\n",
       "│ 1995-07-10 ┆ null      ┆ null           ┆ null          │\n",
       "│ …          ┆ …         ┆ …              ┆ …             │\n",
       "│ 2024-12-24 ┆ 0.001365  ┆ 0.135997       ┆ 13.852293     │\n",
       "│ 2024-12-26 ┆ 0.001618  ┆ 0.174418       ┆ 26.382974     │\n",
       "│ 2024-12-27 ┆ 0.001569  ┆ 0.176987       ┆ 41.554983     │\n",
       "│ 2024-12-30 ┆ 0.001388  ┆ 0.196118       ┆ 20.230527     │\n",
       "│ 2024-12-31 ┆ 0.001255  ┆ 0.22863        ┆ 77.179497     │\n",
       "└────────────┴───────────┴────────────────┴───────────────┘"
      ]
     },
     "execution_count": 34,
     "metadata": {},
     "output_type": "execute_result"
    }
   ],
   "source": [
    "omega_diag"
   ]
  },
  {
   "cell_type": "code",
   "execution_count": null,
   "id": "a0e32e3d",
   "metadata": {},
   "outputs": [],
   "source": []
  }
 ],
 "metadata": {
  "kernelspec": {
   "display_name": "sf_quant",
   "language": "python",
   "name": "python3"
  },
  "language_info": {
   "codemirror_mode": {
    "name": "ipython",
    "version": 3
   },
   "file_extension": ".py",
   "mimetype": "text/x-python",
   "name": "python",
   "nbconvert_exporter": "python",
   "pygments_lexer": "ipython3",
   "version": "3.11.13"
  }
 },
 "nbformat": 4,
 "nbformat_minor": 5
}
