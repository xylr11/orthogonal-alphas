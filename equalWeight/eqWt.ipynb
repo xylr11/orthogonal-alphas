{
 "cells": [
  {
   "cell_type": "code",
   "execution_count": 11,
   "id": "b136cd19",
   "metadata": {},
   "outputs": [],
   "source": [
    "# Import necessary packages\n",
    "\n",
    "import polars as pl\n",
    "import matplotlib.pyplot as plt\n",
    "import numpy as np"
   ]
  },
  {
   "cell_type": "code",
   "execution_count": 2,
   "id": "be38237d",
   "metadata": {},
   "outputs": [],
   "source": [
    "# Read weights\n",
    "\n",
    "weights = pl.read_parquet('../all_weights_pivot.parquet')\n",
    "data = pl.read_parquet('../russell_3000_daily.parquet')"
   ]
  },
  {
   "cell_type": "code",
   "execution_count": 3,
   "id": "3a9f5230",
   "metadata": {},
   "outputs": [
    {
     "data": {
      "text/html": [
       "<div><style>\n",
       ".dataframe > thead > tr,\n",
       ".dataframe > tbody > tr {\n",
       "  text-align: right;\n",
       "  white-space: pre-wrap;\n",
       "}\n",
       "</style>\n",
       "<small>shape: (22_363_472, 12)</small><table border=\"1\" class=\"dataframe\"><thead><tr><th>date</th><th>barrid</th><th>ticker</th><th>price</th><th>return</th><th>specific_return</th><th>specific_risk</th><th>historical_beta</th><th>predicted_beta</th><th>market_cap</th><th>daily_volume</th><th>bid_ask_spread</th></tr><tr><td>date</td><td>str</td><td>str</td><td>f64</td><td>f64</td><td>f64</td><td>f64</td><td>f64</td><td>f64</td><td>f64</td><td>f64</td><td>f64</td></tr></thead><tbody><tr><td>2013-07-31</td><td>&quot;USA06Z1&quot;</td><td>&quot;MDXG&quot;</td><td>6.26</td><td>-0.1595</td><td>-0.788</td><td>55.056916</td><td>0.328385</td><td>0.34349</td><td>6.006157e8</td><td>121693.0</td><td>0.01</td></tr><tr><td>2013-08-01</td><td>&quot;USA06Z1&quot;</td><td>&quot;MDXG&quot;</td><td>6.32</td><td>0.9585</td><td>0.365</td><td>55.028021</td><td>0.334989</td><td>0.353329</td><td>6.0865392e8</td><td>131728.0</td><td>0.01</td></tr><tr><td>2013-08-02</td><td>&quot;USA06Z1&quot;</td><td>&quot;MDXG&quot;</td><td>6.31</td><td>-0.1582</td><td>-0.731</td><td>54.807402</td><td>0.330713</td><td>0.363624</td><td>6.0769086e8</td><td>43252.0</td><td>0.01</td></tr><tr><td>2013-08-05</td><td>&quot;USA06Z1&quot;</td><td>&quot;MDXG&quot;</td><td>6.45</td><td>2.2187</td><td>1.936</td><td>54.76671</td><td>0.324494</td><td>0.356596</td><td>6.211737e8</td><td>70944.0</td><td>0.02</td></tr><tr><td>2013-08-06</td><td>&quot;USA06Z1&quot;</td><td>&quot;MDXG&quot;</td><td>6.29</td><td>-2.4806</td><td>-0.528</td><td>54.692162</td><td>0.366323</td><td>0.399196</td><td>6.0576474e8</td><td>77085.0</td><td>0.01</td></tr><tr><td>&hellip;</td><td>&hellip;</td><td>&hellip;</td><td>&hellip;</td><td>&hellip;</td><td>&hellip;</td><td>&hellip;</td><td>&hellip;</td><td>&hellip;</td><td>&hellip;</td><td>&hellip;</td><td>&hellip;</td></tr><tr><td>2025-09-09</td><td>&quot;USBRKA2&quot;</td><td>&quot;GLIBA&quot;</td><td>36.225</td><td>-0.4261</td><td>1.121</td><td>20.842679</td><td>0.236481</td><td>0.302514</td><td>1.3226e8</td><td>31025.0</td><td>0.11</td></tr><tr><td>2025-09-10</td><td>&quot;USBRKA2&quot;</td><td>&quot;GLIBA&quot;</td><td>36.24</td><td>0.0414</td><td>2.305</td><td>20.954701</td><td>0.252015</td><td>0.29845</td><td>1.3231e8</td><td>6298.0</td><td>0.21</td></tr><tr><td>2025-09-11</td><td>&quot;USBRKA2&quot;</td><td>&quot;GLIBA&quot;</td><td>37.05</td><td>2.2351</td><td>0.213</td><td>21.480703</td><td>0.256752</td><td>0.31384</td><td>1.3527e8</td><td>26857.0</td><td>0.25</td></tr><tr><td>2025-09-12</td><td>&quot;USBRKA2&quot;</td><td>&quot;GLIBA&quot;</td><td>36.17</td><td>-2.3752</td><td>-0.733</td><td>21.942939</td><td>0.257401</td><td>0.328961</td><td>1.3205e8</td><td>8983.0</td><td>0.16</td></tr><tr><td>2025-09-15</td><td>&quot;USBRKA2&quot;</td><td>&quot;GLIBA&quot;</td><td>35.72</td><td>-1.2441</td><td>-0.794</td><td>21.781675</td><td>0.252982</td><td>0.331983</td><td>1.3041e8</td><td>25995.0</td><td>0.13</td></tr></tbody></table></div>"
      ],
      "text/plain": [
       "shape: (22_363_472, 12)\n",
       "┌────────────┬─────────┬────────┬────────┬───┬─────────────┬─────────────┬────────────┬────────────┐\n",
       "│ date       ┆ barrid  ┆ ticker ┆ price  ┆ … ┆ predicted_b ┆ market_cap  ┆ daily_volu ┆ bid_ask_sp │\n",
       "│ ---        ┆ ---     ┆ ---    ┆ ---    ┆   ┆ eta         ┆ ---         ┆ me         ┆ read       │\n",
       "│ date       ┆ str     ┆ str    ┆ f64    ┆   ┆ ---         ┆ f64         ┆ ---        ┆ ---        │\n",
       "│            ┆         ┆        ┆        ┆   ┆ f64         ┆             ┆ f64        ┆ f64        │\n",
       "╞════════════╪═════════╪════════╪════════╪═══╪═════════════╪═════════════╪════════════╪════════════╡\n",
       "│ 2013-07-31 ┆ USA06Z1 ┆ MDXG   ┆ 6.26   ┆ … ┆ 0.34349     ┆ 6.006157e8  ┆ 121693.0   ┆ 0.01       │\n",
       "│ 2013-08-01 ┆ USA06Z1 ┆ MDXG   ┆ 6.32   ┆ … ┆ 0.353329    ┆ 6.0865392e8 ┆ 131728.0   ┆ 0.01       │\n",
       "│ 2013-08-02 ┆ USA06Z1 ┆ MDXG   ┆ 6.31   ┆ … ┆ 0.363624    ┆ 6.0769086e8 ┆ 43252.0    ┆ 0.01       │\n",
       "│ 2013-08-05 ┆ USA06Z1 ┆ MDXG   ┆ 6.45   ┆ … ┆ 0.356596    ┆ 6.211737e8  ┆ 70944.0    ┆ 0.02       │\n",
       "│ 2013-08-06 ┆ USA06Z1 ┆ MDXG   ┆ 6.29   ┆ … ┆ 0.399196    ┆ 6.0576474e8 ┆ 77085.0    ┆ 0.01       │\n",
       "│ …          ┆ …       ┆ …      ┆ …      ┆ … ┆ …           ┆ …           ┆ …          ┆ …          │\n",
       "│ 2025-09-09 ┆ USBRKA2 ┆ GLIBA  ┆ 36.225 ┆ … ┆ 0.302514    ┆ 1.3226e8    ┆ 31025.0    ┆ 0.11       │\n",
       "│ 2025-09-10 ┆ USBRKA2 ┆ GLIBA  ┆ 36.24  ┆ … ┆ 0.29845     ┆ 1.3231e8    ┆ 6298.0     ┆ 0.21       │\n",
       "│ 2025-09-11 ┆ USBRKA2 ┆ GLIBA  ┆ 37.05  ┆ … ┆ 0.31384     ┆ 1.3527e8    ┆ 26857.0    ┆ 0.25       │\n",
       "│ 2025-09-12 ┆ USBRKA2 ┆ GLIBA  ┆ 36.17  ┆ … ┆ 0.328961    ┆ 1.3205e8    ┆ 8983.0     ┆ 0.16       │\n",
       "│ 2025-09-15 ┆ USBRKA2 ┆ GLIBA  ┆ 35.72  ┆ … ┆ 0.331983    ┆ 1.3041e8    ┆ 25995.0    ┆ 0.13       │\n",
       "└────────────┴─────────┴────────┴────────┴───┴─────────────┴─────────────┴────────────┴────────────┘"
      ]
     },
     "execution_count": 3,
     "metadata": {},
     "output_type": "execute_result"
    }
   ],
   "source": [
    "data"
   ]
  },
  {
   "cell_type": "code",
   "execution_count": 4,
   "id": "2824cd54",
   "metadata": {},
   "outputs": [
    {
     "data": {
      "text/html": [
       "<div><style>\n",
       ".dataframe > thead > tr,\n",
       ".dataframe > tbody > tr {\n",
       "  text-align: right;\n",
       "  white-space: pre-wrap;\n",
       "}\n",
       "</style>\n",
       "<small>shape: (20_764_025, 5)</small><table border=\"1\" class=\"dataframe\"><thead><tr><th>date</th><th>barrid</th><th>bab_weight</th><th>meanrev_weight</th><th>momentum_weight</th></tr><tr><td>date</td><td>str</td><td>f64</td><td>f64</td><td>f64</td></tr></thead><tbody><tr><td>1995-06-30</td><td>&quot;USAA191&quot;</td><td>-1.0844e-20</td><td>null</td><td>null</td></tr><tr><td>1995-06-30</td><td>&quot;USAA1W1&quot;</td><td>-9.1201e-22</td><td>null</td><td>null</td></tr><tr><td>1995-06-30</td><td>&quot;USAA1Y1&quot;</td><td>-4.8273e-21</td><td>null</td><td>null</td></tr><tr><td>1995-06-30</td><td>&quot;USAA2L1&quot;</td><td>-4.2673e-21</td><td>null</td><td>null</td></tr><tr><td>1995-06-30</td><td>&quot;USAA311&quot;</td><td>-9.2198e-21</td><td>null</td><td>null</td></tr><tr><td>&hellip;</td><td>&hellip;</td><td>&hellip;</td><td>&hellip;</td><td>&hellip;</td></tr><tr><td>2025-09-15</td><td>&quot;USBQZR1&quot;</td><td>-6.9890e-22</td><td>-6.1406e-20</td><td>null</td></tr><tr><td>2025-09-15</td><td>&quot;USBRGT1&quot;</td><td>-3.7165e-21</td><td>-6.0722e-19</td><td>null</td></tr><tr><td>2025-09-15</td><td>&quot;USBRH21&quot;</td><td>-2.6956e-21</td><td>-2.1598e-19</td><td>null</td></tr><tr><td>2025-09-15</td><td>&quot;USBRKA1&quot;</td><td>-5.5406e-21</td><td>-8.6297e-19</td><td>null</td></tr><tr><td>2025-09-15</td><td>&quot;USBRKA2&quot;</td><td>-4.9619e-21</td><td>-8.4225e-19</td><td>null</td></tr></tbody></table></div>"
      ],
      "text/plain": [
       "shape: (20_764_025, 5)\n",
       "┌────────────┬─────────┬─────────────┬────────────────┬─────────────────┐\n",
       "│ date       ┆ barrid  ┆ bab_weight  ┆ meanrev_weight ┆ momentum_weight │\n",
       "│ ---        ┆ ---     ┆ ---         ┆ ---            ┆ ---             │\n",
       "│ date       ┆ str     ┆ f64         ┆ f64            ┆ f64             │\n",
       "╞════════════╪═════════╪═════════════╪════════════════╪═════════════════╡\n",
       "│ 1995-06-30 ┆ USAA191 ┆ -1.0844e-20 ┆ null           ┆ null            │\n",
       "│ 1995-06-30 ┆ USAA1W1 ┆ -9.1201e-22 ┆ null           ┆ null            │\n",
       "│ 1995-06-30 ┆ USAA1Y1 ┆ -4.8273e-21 ┆ null           ┆ null            │\n",
       "│ 1995-06-30 ┆ USAA2L1 ┆ -4.2673e-21 ┆ null           ┆ null            │\n",
       "│ 1995-06-30 ┆ USAA311 ┆ -9.2198e-21 ┆ null           ┆ null            │\n",
       "│ …          ┆ …       ┆ …           ┆ …              ┆ …               │\n",
       "│ 2025-09-15 ┆ USBQZR1 ┆ -6.9890e-22 ┆ -6.1406e-20    ┆ null            │\n",
       "│ 2025-09-15 ┆ USBRGT1 ┆ -3.7165e-21 ┆ -6.0722e-19    ┆ null            │\n",
       "│ 2025-09-15 ┆ USBRH21 ┆ -2.6956e-21 ┆ -2.1598e-19    ┆ null            │\n",
       "│ 2025-09-15 ┆ USBRKA1 ┆ -5.5406e-21 ┆ -8.6297e-19    ┆ null            │\n",
       "│ 2025-09-15 ┆ USBRKA2 ┆ -4.9619e-21 ┆ -8.4225e-19    ┆ null            │\n",
       "└────────────┴─────────┴─────────────┴────────────────┴─────────────────┘"
      ]
     },
     "execution_count": 4,
     "metadata": {},
     "output_type": "execute_result"
    }
   ],
   "source": [
    "weights"
   ]
  },
  {
   "cell_type": "code",
   "execution_count": 5,
   "id": "0cff484d",
   "metadata": {},
   "outputs": [],
   "source": [
    "weights_bab = (\n",
    "    weights\n",
    "    .select([\"date\", \"barrid\", \"bab_weight\"])\n",
    "    .rename({\"bab_weight\": \"weight\"})\n",
    "    .filter(pl.col(\"weight\").is_not_null())\n",
    "    .with_columns(pl.lit(\"bab\").alias(\"signal\"))\n",
    ")\n",
    "\n",
    "weights_meanrev = (\n",
    "    weights\n",
    "    .select([\"date\", \"barrid\", \"meanrev_weight\"])\n",
    "    .rename({\"meanrev_weight\": \"weight\"})\n",
    "    .filter(pl.col(\"weight\").is_not_null())\n",
    "    .with_columns(pl.lit(\"meanrev\").alias(\"signal\"))\n",
    ")\n",
    "\n",
    "weights_momentum = (\n",
    "    weights\n",
    "    .select([\"date\", \"barrid\", \"momentum_weight\"])\n",
    "    .rename({\"momentum_weight\": \"weight\"})\n",
    "    .filter(pl.col(\"weight\").is_not_null())\n",
    "    .with_columns(pl.lit(\"momentum\").alias(\"signal\"))\n",
    ")"
   ]
  },
  {
   "cell_type": "code",
   "execution_count": 6,
   "id": "06de8093",
   "metadata": {},
   "outputs": [],
   "source": [
    "def task_compute_returns(weights: pl.DataFrame, data: pl.DataFrame) -> pl.DataFrame:\n",
    "    \"\"\" \n",
    "    Compute the optimal portfolio returns.\n",
    "\n",
    "    Args:\n",
    "        weights (pl.DataFrame): Data frame containing barrid, date, and weight columns.\n",
    "        data (pl.DataFrame): Data frame containing barrid, date, and return columns\n",
    "\n",
    "    Returns:\n",
    "        pl.DataFrame: Data frame containing date, fwd_return, and cumulative_fwd_return_columns\n",
    "    \"\"\"\n",
    "    return (                 \n",
    "        #this should be data joined onto weights because data is more consistently available than weights\n",
    "        data\n",
    "        .join(weights, on=['date', 'barrid'], how='left')\n",
    "        .select('date', 'barrid', 'weight', 'return')\n",
    "        .with_columns(\n",
    "            pl.col('return').truediv(100).alias('return_ratio')\n",
    "        )\n",
    "        .sort('barrid', 'date')\n",
    "        #shift return_ratios back to line them up with the signal weights \n",
    "        .with_columns(\n",
    "            pl.col('return_ratio').shift(-1).over('barrid').alias('forward_return')\n",
    "        )\n",
    "        .drop_nulls('forward_return')\n",
    "        .sort('date')\n",
    "        .with_columns(\n",
    "            pl.col('forward_return').mul('weight').log1p().alias('daily_log_return')\n",
    "        )\n",
    "        .with_columns(\n",
    "            pl.col('daily_log_return').cum_sum().alias('cum_log_return')\n",
    "        )\n",
    "        .with_columns(\n",
    "            pl.col('cum_log_return').exp().pow(1/29).alias('average yearly return')\n",
    "        )\n",
    "    )  "
   ]
  },
  {
   "cell_type": "code",
   "execution_count": 7,
   "id": "50923644",
   "metadata": {},
   "outputs": [
    {
     "data": {
      "text/html": [
       "<div><style>\n",
       ".dataframe > thead > tr,\n",
       ".dataframe > tbody > tr {\n",
       "  text-align: right;\n",
       "  white-space: pre-wrap;\n",
       "}\n",
       "</style>\n",
       "<small>shape: (22_352_761, 9)</small><table border=\"1\" class=\"dataframe\"><thead><tr><th>date</th><th>barrid</th><th>weight</th><th>return</th><th>return_ratio</th><th>forward_return</th><th>daily_log_return</th><th>cum_log_return</th><th>average yearly return</th></tr><tr><td>date</td><td>str</td><td>f64</td><td>f64</td><td>f64</td><td>f64</td><td>f64</td><td>f64</td><td>f64</td></tr></thead><tbody><tr><td>1995-06-30</td><td>&quot;USAA191&quot;</td><td>-1.0844e-20</td><td>5.1471</td><td>0.051471</td><td>-0.013986</td><td>1.5166e-22</td><td>1.5166e-22</td><td>1.0</td></tr><tr><td>1995-06-30</td><td>&quot;USAA1W1&quot;</td><td>-9.1201e-22</td><td>5.7971</td><td>0.057971</td><td>0.0</td><td>-0.0</td><td>1.5166e-22</td><td>1.0</td></tr><tr><td>1995-06-30</td><td>&quot;USAA1Y1&quot;</td><td>-4.8273e-21</td><td>2.8777</td><td>0.028777</td><td>-0.017483</td><td>8.4396e-23</td><td>2.3606e-22</td><td>1.0</td></tr><tr><td>1995-06-30</td><td>&quot;USAA2L1&quot;</td><td>-4.2673e-21</td><td>3.6585</td><td>0.036585</td><td>0.002941</td><td>-1.2550e-23</td><td>2.2351e-22</td><td>1.0</td></tr><tr><td>1995-06-30</td><td>&quot;USAA311&quot;</td><td>-9.2198e-21</td><td>2.0134</td><td>0.020134</td><td>-0.006579</td><td>6.0657e-23</td><td>2.8416e-22</td><td>1.0</td></tr><tr><td>&hellip;</td><td>&hellip;</td><td>&hellip;</td><td>&hellip;</td><td>&hellip;</td><td>&hellip;</td><td>&hellip;</td><td>&hellip;</td><td>&hellip;</td></tr><tr><td>2025-09-12</td><td>&quot;USBQZR1&quot;</td><td>-7.1596e-8</td><td>4.2226</td><td>0.042226</td><td>-0.041651</td><td>2.9821e-9</td><td>3.516874</td><td>1.128931</td></tr><tr><td>2025-09-12</td><td>&quot;USBRGT1&quot;</td><td>-2.5436e-7</td><td>-3.7279</td><td>-0.037279</td><td>0.0</td><td>-0.0</td><td>3.516874</td><td>1.128931</td></tr><tr><td>2025-09-12</td><td>&quot;USBRH21&quot;</td><td>-1.8710e-7</td><td>-0.6405</td><td>-0.006405</td><td>0.011281</td><td>-2.1106e-9</td><td>3.516874</td><td>1.128931</td></tr><tr><td>2025-09-12</td><td>&quot;USBRKA1&quot;</td><td>-3.6611e-7</td><td>-1.5651</td><td>-0.015651</td><td>-0.021757</td><td>7.9655e-9</td><td>3.516874</td><td>1.128931</td></tr><tr><td>2025-09-12</td><td>&quot;USBRKA2&quot;</td><td>-3.2772e-7</td><td>-2.3752</td><td>-0.023752</td><td>-0.012441</td><td>4.0771e-9</td><td>3.516874</td><td>1.128931</td></tr></tbody></table></div>"
      ],
      "text/plain": [
       "shape: (22_352_761, 9)\n",
       "┌────────────┬─────────┬────────────┬─────────┬───┬────────────┬───────────┬───────────┬───────────┐\n",
       "│ date       ┆ barrid  ┆ weight     ┆ return  ┆ … ┆ forward_re ┆ daily_log ┆ cum_log_r ┆ average   │\n",
       "│ ---        ┆ ---     ┆ ---        ┆ ---     ┆   ┆ turn       ┆ _return   ┆ eturn     ┆ yearly    │\n",
       "│ date       ┆ str     ┆ f64        ┆ f64     ┆   ┆ ---        ┆ ---       ┆ ---       ┆ return    │\n",
       "│            ┆         ┆            ┆         ┆   ┆ f64        ┆ f64       ┆ f64       ┆ ---       │\n",
       "│            ┆         ┆            ┆         ┆   ┆            ┆           ┆           ┆ f64       │\n",
       "╞════════════╪═════════╪════════════╪═════════╪═══╪════════════╪═══════════╪═══════════╪═══════════╡\n",
       "│ 1995-06-30 ┆ USAA191 ┆ -1.0844e-2 ┆ 5.1471  ┆ … ┆ -0.013986  ┆ 1.5166e-2 ┆ 1.5166e-2 ┆ 1.0       │\n",
       "│            ┆         ┆ 0          ┆         ┆   ┆            ┆ 2         ┆ 2         ┆           │\n",
       "│ 1995-06-30 ┆ USAA1W1 ┆ -9.1201e-2 ┆ 5.7971  ┆ … ┆ 0.0        ┆ -0.0      ┆ 1.5166e-2 ┆ 1.0       │\n",
       "│            ┆         ┆ 2          ┆         ┆   ┆            ┆           ┆ 2         ┆           │\n",
       "│ 1995-06-30 ┆ USAA1Y1 ┆ -4.8273e-2 ┆ 2.8777  ┆ … ┆ -0.017483  ┆ 8.4396e-2 ┆ 2.3606e-2 ┆ 1.0       │\n",
       "│            ┆         ┆ 1          ┆         ┆   ┆            ┆ 3         ┆ 2         ┆           │\n",
       "│ 1995-06-30 ┆ USAA2L1 ┆ -4.2673e-2 ┆ 3.6585  ┆ … ┆ 0.002941   ┆ -1.2550e- ┆ 2.2351e-2 ┆ 1.0       │\n",
       "│            ┆         ┆ 1          ┆         ┆   ┆            ┆ 23        ┆ 2         ┆           │\n",
       "│ 1995-06-30 ┆ USAA311 ┆ -9.2198e-2 ┆ 2.0134  ┆ … ┆ -0.006579  ┆ 6.0657e-2 ┆ 2.8416e-2 ┆ 1.0       │\n",
       "│            ┆         ┆ 1          ┆         ┆   ┆            ┆ 3         ┆ 2         ┆           │\n",
       "│ …          ┆ …       ┆ …          ┆ …       ┆ … ┆ …          ┆ …         ┆ …         ┆ …         │\n",
       "│ 2025-09-12 ┆ USBQZR1 ┆ -7.1596e-8 ┆ 4.2226  ┆ … ┆ -0.041651  ┆ 2.9821e-9 ┆ 3.516874  ┆ 1.128931  │\n",
       "│ 2025-09-12 ┆ USBRGT1 ┆ -2.5436e-7 ┆ -3.7279 ┆ … ┆ 0.0        ┆ -0.0      ┆ 3.516874  ┆ 1.128931  │\n",
       "│ 2025-09-12 ┆ USBRH21 ┆ -1.8710e-7 ┆ -0.6405 ┆ … ┆ 0.011281   ┆ -2.1106e- ┆ 3.516874  ┆ 1.128931  │\n",
       "│            ┆         ┆            ┆         ┆   ┆            ┆ 9         ┆           ┆           │\n",
       "│ 2025-09-12 ┆ USBRKA1 ┆ -3.6611e-7 ┆ -1.5651 ┆ … ┆ -0.021757  ┆ 7.9655e-9 ┆ 3.516874  ┆ 1.128931  │\n",
       "│ 2025-09-12 ┆ USBRKA2 ┆ -3.2772e-7 ┆ -2.3752 ┆ … ┆ -0.012441  ┆ 4.0771e-9 ┆ 3.516874  ┆ 1.128931  │\n",
       "└────────────┴─────────┴────────────┴─────────┴───┴────────────┴───────────┴───────────┴───────────┘"
      ]
     },
     "execution_count": 7,
     "metadata": {},
     "output_type": "execute_result"
    }
   ],
   "source": [
    "returns_bab = task_compute_returns(weights_bab, data)\n",
    "\n",
    "returns_bab"
   ]
  },
  {
   "cell_type": "code",
   "execution_count": 8,
   "id": "9e05544b",
   "metadata": {},
   "outputs": [
    {
     "data": {
      "text/html": [
       "<div><style>\n",
       ".dataframe > thead > tr,\n",
       ".dataframe > tbody > tr {\n",
       "  text-align: right;\n",
       "  white-space: pre-wrap;\n",
       "}\n",
       "</style>\n",
       "<small>shape: (22_352_761, 9)</small><table border=\"1\" class=\"dataframe\"><thead><tr><th>date</th><th>barrid</th><th>weight</th><th>return</th><th>return_ratio</th><th>forward_return</th><th>daily_log_return</th><th>cum_log_return</th><th>average yearly return</th></tr><tr><td>date</td><td>str</td><td>f64</td><td>f64</td><td>f64</td><td>f64</td><td>f64</td><td>f64</td><td>f64</td></tr></thead><tbody><tr><td>1995-06-30</td><td>&quot;USAA191&quot;</td><td>null</td><td>5.1471</td><td>0.051471</td><td>-0.013986</td><td>null</td><td>null</td><td>null</td></tr><tr><td>1995-06-30</td><td>&quot;USAA1W1&quot;</td><td>null</td><td>5.7971</td><td>0.057971</td><td>0.0</td><td>null</td><td>null</td><td>null</td></tr><tr><td>1995-06-30</td><td>&quot;USAA1Y1&quot;</td><td>null</td><td>2.8777</td><td>0.028777</td><td>-0.017483</td><td>null</td><td>null</td><td>null</td></tr><tr><td>1995-06-30</td><td>&quot;USAA2L1&quot;</td><td>null</td><td>3.6585</td><td>0.036585</td><td>0.002941</td><td>null</td><td>null</td><td>null</td></tr><tr><td>1995-06-30</td><td>&quot;USAA311&quot;</td><td>null</td><td>2.0134</td><td>0.020134</td><td>-0.006579</td><td>null</td><td>null</td><td>null</td></tr><tr><td>&hellip;</td><td>&hellip;</td><td>&hellip;</td><td>&hellip;</td><td>&hellip;</td><td>&hellip;</td><td>&hellip;</td><td>&hellip;</td><td>&hellip;</td></tr><tr><td>2025-09-12</td><td>&quot;USBQZR1&quot;</td><td>-2.1191e-20</td><td>4.2226</td><td>0.042226</td><td>-0.041651</td><td>8.8264e-22</td><td>8.579102</td><td>1.344243</td></tr><tr><td>2025-09-12</td><td>&quot;USBRGT1&quot;</td><td>-9.4212e-19</td><td>-3.7279</td><td>-0.037279</td><td>0.0</td><td>-0.0</td><td>8.579102</td><td>1.344243</td></tr><tr><td>2025-09-12</td><td>&quot;USBRH21&quot;</td><td>-3.0491e-19</td><td>-0.6405</td><td>-0.006405</td><td>0.011281</td><td>-3.4397e-21</td><td>8.579102</td><td>1.344243</td></tr><tr><td>2025-09-12</td><td>&quot;USBRKA1&quot;</td><td>-1.4874e-18</td><td>-1.5651</td><td>-0.015651</td><td>-0.021757</td><td>3.2361e-20</td><td>8.579102</td><td>1.344243</td></tr><tr><td>2025-09-12</td><td>&quot;USBRKA2&quot;</td><td>-1.4333e-18</td><td>-2.3752</td><td>-0.023752</td><td>-0.012441</td><td>1.7832e-20</td><td>8.579102</td><td>1.344243</td></tr></tbody></table></div>"
      ],
      "text/plain": [
       "shape: (22_352_761, 9)\n",
       "┌────────────┬─────────┬────────────┬─────────┬───┬────────────┬───────────┬───────────┬───────────┐\n",
       "│ date       ┆ barrid  ┆ weight     ┆ return  ┆ … ┆ forward_re ┆ daily_log ┆ cum_log_r ┆ average   │\n",
       "│ ---        ┆ ---     ┆ ---        ┆ ---     ┆   ┆ turn       ┆ _return   ┆ eturn     ┆ yearly    │\n",
       "│ date       ┆ str     ┆ f64        ┆ f64     ┆   ┆ ---        ┆ ---       ┆ ---       ┆ return    │\n",
       "│            ┆         ┆            ┆         ┆   ┆ f64        ┆ f64       ┆ f64       ┆ ---       │\n",
       "│            ┆         ┆            ┆         ┆   ┆            ┆           ┆           ┆ f64       │\n",
       "╞════════════╪═════════╪════════════╪═════════╪═══╪════════════╪═══════════╪═══════════╪═══════════╡\n",
       "│ 1995-06-30 ┆ USAA191 ┆ null       ┆ 5.1471  ┆ … ┆ -0.013986  ┆ null      ┆ null      ┆ null      │\n",
       "│ 1995-06-30 ┆ USAA1W1 ┆ null       ┆ 5.7971  ┆ … ┆ 0.0        ┆ null      ┆ null      ┆ null      │\n",
       "│ 1995-06-30 ┆ USAA1Y1 ┆ null       ┆ 2.8777  ┆ … ┆ -0.017483  ┆ null      ┆ null      ┆ null      │\n",
       "│ 1995-06-30 ┆ USAA2L1 ┆ null       ┆ 3.6585  ┆ … ┆ 0.002941   ┆ null      ┆ null      ┆ null      │\n",
       "│ 1995-06-30 ┆ USAA311 ┆ null       ┆ 2.0134  ┆ … ┆ -0.006579  ┆ null      ┆ null      ┆ null      │\n",
       "│ …          ┆ …       ┆ …          ┆ …       ┆ … ┆ …          ┆ …         ┆ …         ┆ …         │\n",
       "│ 2025-09-12 ┆ USBQZR1 ┆ -2.1191e-2 ┆ 4.2226  ┆ … ┆ -0.041651  ┆ 8.8264e-2 ┆ 8.579102  ┆ 1.344243  │\n",
       "│            ┆         ┆ 0          ┆         ┆   ┆            ┆ 2         ┆           ┆           │\n",
       "│ 2025-09-12 ┆ USBRGT1 ┆ -9.4212e-1 ┆ -3.7279 ┆ … ┆ 0.0        ┆ -0.0      ┆ 8.579102  ┆ 1.344243  │\n",
       "│            ┆         ┆ 9          ┆         ┆   ┆            ┆           ┆           ┆           │\n",
       "│ 2025-09-12 ┆ USBRH21 ┆ -3.0491e-1 ┆ -0.6405 ┆ … ┆ 0.011281   ┆ -3.4397e- ┆ 8.579102  ┆ 1.344243  │\n",
       "│            ┆         ┆ 9          ┆         ┆   ┆            ┆ 21        ┆           ┆           │\n",
       "│ 2025-09-12 ┆ USBRKA1 ┆ -1.4874e-1 ┆ -1.5651 ┆ … ┆ -0.021757  ┆ 3.2361e-2 ┆ 8.579102  ┆ 1.344243  │\n",
       "│            ┆         ┆ 8          ┆         ┆   ┆            ┆ 0         ┆           ┆           │\n",
       "│ 2025-09-12 ┆ USBRKA2 ┆ -1.4333e-1 ┆ -2.3752 ┆ … ┆ -0.012441  ┆ 1.7832e-2 ┆ 8.579102  ┆ 1.344243  │\n",
       "│            ┆         ┆ 8          ┆         ┆   ┆            ┆ 0         ┆           ┆           │\n",
       "└────────────┴─────────┴────────────┴─────────┴───┴────────────┴───────────┴───────────┴───────────┘"
      ]
     },
     "execution_count": 8,
     "metadata": {},
     "output_type": "execute_result"
    }
   ],
   "source": [
    "returns_meanrev = task_compute_returns(weights_meanrev, data)\n",
    "\n",
    "returns_meanrev"
   ]
  },
  {
   "cell_type": "code",
   "execution_count": 9,
   "id": "e5b483f6",
   "metadata": {},
   "outputs": [
    {
     "data": {
      "text/html": [
       "<div><style>\n",
       ".dataframe > thead > tr,\n",
       ".dataframe > tbody > tr {\n",
       "  text-align: right;\n",
       "  white-space: pre-wrap;\n",
       "}\n",
       "</style>\n",
       "<small>shape: (22_352_761, 9)</small><table border=\"1\" class=\"dataframe\"><thead><tr><th>date</th><th>barrid</th><th>weight</th><th>return</th><th>return_ratio</th><th>forward_return</th><th>daily_log_return</th><th>cum_log_return</th><th>average yearly return</th></tr><tr><td>date</td><td>str</td><td>f64</td><td>f64</td><td>f64</td><td>f64</td><td>f64</td><td>f64</td><td>f64</td></tr></thead><tbody><tr><td>1995-06-30</td><td>&quot;USAA191&quot;</td><td>null</td><td>5.1471</td><td>0.051471</td><td>-0.013986</td><td>null</td><td>null</td><td>null</td></tr><tr><td>1995-06-30</td><td>&quot;USAA1W1&quot;</td><td>null</td><td>5.7971</td><td>0.057971</td><td>0.0</td><td>null</td><td>null</td><td>null</td></tr><tr><td>1995-06-30</td><td>&quot;USAA1Y1&quot;</td><td>null</td><td>2.8777</td><td>0.028777</td><td>-0.017483</td><td>null</td><td>null</td><td>null</td></tr><tr><td>1995-06-30</td><td>&quot;USAA2L1&quot;</td><td>null</td><td>3.6585</td><td>0.036585</td><td>0.002941</td><td>null</td><td>null</td><td>null</td></tr><tr><td>1995-06-30</td><td>&quot;USAA311&quot;</td><td>null</td><td>2.0134</td><td>0.020134</td><td>-0.006579</td><td>null</td><td>null</td><td>null</td></tr><tr><td>&hellip;</td><td>&hellip;</td><td>&hellip;</td><td>&hellip;</td><td>&hellip;</td><td>&hellip;</td><td>&hellip;</td><td>&hellip;</td><td>&hellip;</td></tr><tr><td>2025-09-12</td><td>&quot;USBQZR1&quot;</td><td>null</td><td>4.2226</td><td>0.042226</td><td>-0.041651</td><td>null</td><td>null</td><td>null</td></tr><tr><td>2025-09-12</td><td>&quot;USBRGT1&quot;</td><td>null</td><td>-3.7279</td><td>-0.037279</td><td>0.0</td><td>null</td><td>null</td><td>null</td></tr><tr><td>2025-09-12</td><td>&quot;USBRH21&quot;</td><td>null</td><td>-0.6405</td><td>-0.006405</td><td>0.011281</td><td>null</td><td>null</td><td>null</td></tr><tr><td>2025-09-12</td><td>&quot;USBRKA1&quot;</td><td>null</td><td>-1.5651</td><td>-0.015651</td><td>-0.021757</td><td>null</td><td>null</td><td>null</td></tr><tr><td>2025-09-12</td><td>&quot;USBRKA2&quot;</td><td>null</td><td>-2.3752</td><td>-0.023752</td><td>-0.012441</td><td>null</td><td>null</td><td>null</td></tr></tbody></table></div>"
      ],
      "text/plain": [
       "shape: (22_352_761, 9)\n",
       "┌────────────┬─────────┬────────┬─────────┬───┬──────────────┬─────────────┬─────────────┬─────────┐\n",
       "│ date       ┆ barrid  ┆ weight ┆ return  ┆ … ┆ forward_retu ┆ daily_log_r ┆ cum_log_ret ┆ average │\n",
       "│ ---        ┆ ---     ┆ ---    ┆ ---     ┆   ┆ rn           ┆ eturn       ┆ urn         ┆ yearly  │\n",
       "│ date       ┆ str     ┆ f64    ┆ f64     ┆   ┆ ---          ┆ ---         ┆ ---         ┆ return  │\n",
       "│            ┆         ┆        ┆         ┆   ┆ f64          ┆ f64         ┆ f64         ┆ ---     │\n",
       "│            ┆         ┆        ┆         ┆   ┆              ┆             ┆             ┆ f64     │\n",
       "╞════════════╪═════════╪════════╪═════════╪═══╪══════════════╪═════════════╪═════════════╪═════════╡\n",
       "│ 1995-06-30 ┆ USAA191 ┆ null   ┆ 5.1471  ┆ … ┆ -0.013986    ┆ null        ┆ null        ┆ null    │\n",
       "│ 1995-06-30 ┆ USAA1W1 ┆ null   ┆ 5.7971  ┆ … ┆ 0.0          ┆ null        ┆ null        ┆ null    │\n",
       "│ 1995-06-30 ┆ USAA1Y1 ┆ null   ┆ 2.8777  ┆ … ┆ -0.017483    ┆ null        ┆ null        ┆ null    │\n",
       "│ 1995-06-30 ┆ USAA2L1 ┆ null   ┆ 3.6585  ┆ … ┆ 0.002941     ┆ null        ┆ null        ┆ null    │\n",
       "│ 1995-06-30 ┆ USAA311 ┆ null   ┆ 2.0134  ┆ … ┆ -0.006579    ┆ null        ┆ null        ┆ null    │\n",
       "│ …          ┆ …       ┆ …      ┆ …       ┆ … ┆ …            ┆ …           ┆ …           ┆ …       │\n",
       "│ 2025-09-12 ┆ USBQZR1 ┆ null   ┆ 4.2226  ┆ … ┆ -0.041651    ┆ null        ┆ null        ┆ null    │\n",
       "│ 2025-09-12 ┆ USBRGT1 ┆ null   ┆ -3.7279 ┆ … ┆ 0.0          ┆ null        ┆ null        ┆ null    │\n",
       "│ 2025-09-12 ┆ USBRH21 ┆ null   ┆ -0.6405 ┆ … ┆ 0.011281     ┆ null        ┆ null        ┆ null    │\n",
       "│ 2025-09-12 ┆ USBRKA1 ┆ null   ┆ -1.5651 ┆ … ┆ -0.021757    ┆ null        ┆ null        ┆ null    │\n",
       "│ 2025-09-12 ┆ USBRKA2 ┆ null   ┆ -2.3752 ┆ … ┆ -0.012441    ┆ null        ┆ null        ┆ null    │\n",
       "└────────────┴─────────┴────────┴─────────┴───┴──────────────┴─────────────┴─────────────┴─────────┘"
      ]
     },
     "execution_count": 9,
     "metadata": {},
     "output_type": "execute_result"
    }
   ],
   "source": [
    "returns_momentum = task_compute_returns(weights_momentum, data)\n",
    "\n",
    "returns_momentum"
   ]
  },
  {
   "cell_type": "code",
   "execution_count": 10,
   "id": "06dca4a4",
   "metadata": {},
   "outputs": [
    {
     "data": {
      "image/png": "[encoded data removed]",
      "text/plain": [
       "<Figure size 1000x600 with 1 Axes>"
      ]
     },
     "metadata": {},
     "output_type": "display_data"
    }
   ],
   "source": [
    "plt.figure(figsize=(10, 6))\n",
    "\n",
    "# Plot each signal separately\n",
    "plt.plot(returns_bab[\"date\"], returns_bab[\"cum_log_return\"], label=\"bab\")\n",
    "plt.plot(returns_meanrev[\"date\"], returns_meanrev[\"cum_log_return\"], label=\"meanrev\")\n",
    "plt.plot(returns_momentum[\"date\"], returns_momentum[\"cum_log_return\"], label=\"momentum\")\n",
    "\n",
    "# Labels & legend\n",
    "plt.xlabel(None)\n",
    "plt.ylabel(\"Cumulative Log Return\")\n",
    "plt.title(\"Cumulative Log Returns by Signal\")\n",
    "plt.legend(loc=\"upper left\")\n",
    "plt.tight_layout()\n",
    "plt.show()"
   ]
  },
  {
   "cell_type": "code",
   "execution_count": 41,
   "id": "be8e0f47",
   "metadata": {},
   "outputs": [],
   "source": [
    "def compute_sharpe_ratio(df: pl.DataFrame, return_col: str = \"daily_log_return\") -> float:\n",
    "    \"\"\"\n",
    "    Compute annualized Sharpe ratio from daily returns.\n",
    "    Aggregates to daily signal returns (equal-weighted across barrid).\n",
    "    \"\"\"\n",
    "    # Aggregate per date\n",
    "    signal_returns = (\n",
    "        df.group_by(\"date\")\n",
    "          .agg(pl.col(return_col).sum().alias(\"signal_return\"))\n",
    "    )\n",
    "\n",
    "    # Mean and std\n",
    "    stats = (\n",
    "        signal_returns.select([\n",
    "            pl.col(\"signal_return\").mean().alias(\"mean_return\"),\n",
    "            pl.col(\"signal_return\").std(ddof=1).alias(\"std_return\")\n",
    "        ])\n",
    "        .to_dicts()[0]\n",
    "    )\n",
    "\n",
    "    mean_return = stats[\"mean_return\"]\n",
    "    std_return = stats[\"std_return\"]\n",
    "\n",
    "    # Daily and annualized Sharpe\n",
    "    sharpe_annualized = (mean_return / std_return) * np.sqrt(252)\n",
    "\n",
    "    return sharpe_annualized"
   ]
  },
  {
   "cell_type": "code",
   "execution_count": 42,
   "id": "c42aa0a1",
   "metadata": {},
   "outputs": [
    {
     "data": {
      "text/plain": [
       "(np.float64(0.5916097239570509),\n",
       " np.float64(0.8929685884967622),\n",
       " np.float64(0.5396186154771608))"
      ]
     },
     "execution_count": 42,
     "metadata": {},
     "output_type": "execute_result"
    }
   ],
   "source": [
    "compute_sharpe_ratio(returns_bab), compute_sharpe_ratio(returns_meanrev), compute_sharpe_ratio(returns_momentum)"
   ]
  },
  {
   "cell_type": "code",
   "execution_count": null,
   "id": "661bd08d",
   "metadata": {},
   "outputs": [],
   "source": []
  }
 ],
 "metadata": {
  "kernelspec": {
   "display_name": "dv_intern",
   "language": "python",
   "name": "python3"
  },
  "language_info": {
   "codemirror_mode": {
    "name": "ipython",
    "version": 3
   },
   "file_extension": ".py",
   "mimetype": "text/x-python",
   "name": "python",
   "nbconvert_exporter": "python",
   "pygments_lexer": "ipython3",
   "version": "3.13.5"
  }
 },
 "nbformat": 4,
 "nbformat_minor": 5
}
