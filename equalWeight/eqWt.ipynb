{
 "cells": [
  {
   "cell_type": "code",
   "execution_count": 1,
   "id": "b136cd19",
   "metadata": {},
   "outputs": [],
   "source": [
    "# Import necessary packages\n",
    "\n",
    "import polars as pl\n",
    "import matplotlib.pyplot as plt\n",
    "import seaborn as sns\n",
    "import datetime as dt"
   ]
  },
  {
   "cell_type": "code",
   "execution_count": 2,
   "id": "be38237d",
   "metadata": {},
   "outputs": [],
   "source": [
    "# Read weights\n",
    "\n",
    "weights = pl.read_parquet('../signal_weights/weights/all_weights_pivot.parquet')\n",
    "data = pl.read_parquet('../russell_3000_daily.parquet')"
   ]
  },
  {
   "cell_type": "code",
   "execution_count": 3,
   "id": "3a9f5230",
   "metadata": {},
   "outputs": [
    {
     "data": {
      "text/html": [
       "<div><style>\n",
       ".dataframe > thead > tr,\n",
       ".dataframe > tbody > tr {\n",
       "  text-align: right;\n",
       "  white-space: pre-wrap;\n",
       "}\n",
       "</style>\n",
       "<small>shape: (22_363_472, 12)</small><table border=\"1\" class=\"dataframe\"><thead><tr><th>date</th><th>barrid</th><th>ticker</th><th>price</th><th>return</th><th>specific_return</th><th>specific_risk</th><th>historical_beta</th><th>predicted_beta</th><th>market_cap</th><th>daily_volume</th><th>bid_ask_spread</th></tr><tr><td>date</td><td>str</td><td>str</td><td>f64</td><td>f64</td><td>f64</td><td>f64</td><td>f64</td><td>f64</td><td>f64</td><td>f64</td><td>f64</td></tr></thead><tbody><tr><td>2013-07-31</td><td>&quot;USA06Z1&quot;</td><td>&quot;MDXG&quot;</td><td>6.26</td><td>-0.1595</td><td>-0.788</td><td>55.056916</td><td>0.328385</td><td>0.34349</td><td>6.006157e8</td><td>121693.0</td><td>0.01</td></tr><tr><td>2013-08-01</td><td>&quot;USA06Z1&quot;</td><td>&quot;MDXG&quot;</td><td>6.32</td><td>0.9585</td><td>0.365</td><td>55.028021</td><td>0.334989</td><td>0.353329</td><td>6.0865392e8</td><td>131728.0</td><td>0.01</td></tr><tr><td>2013-08-02</td><td>&quot;USA06Z1&quot;</td><td>&quot;MDXG&quot;</td><td>6.31</td><td>-0.1582</td><td>-0.731</td><td>54.807402</td><td>0.330713</td><td>0.363624</td><td>6.0769086e8</td><td>43252.0</td><td>0.01</td></tr><tr><td>2013-08-05</td><td>&quot;USA06Z1&quot;</td><td>&quot;MDXG&quot;</td><td>6.45</td><td>2.2187</td><td>1.936</td><td>54.76671</td><td>0.324494</td><td>0.356596</td><td>6.211737e8</td><td>70944.0</td><td>0.02</td></tr><tr><td>2013-08-06</td><td>&quot;USA06Z1&quot;</td><td>&quot;MDXG&quot;</td><td>6.29</td><td>-2.4806</td><td>-0.528</td><td>54.692162</td><td>0.366323</td><td>0.399196</td><td>6.0576474e8</td><td>77085.0</td><td>0.01</td></tr><tr><td>&hellip;</td><td>&hellip;</td><td>&hellip;</td><td>&hellip;</td><td>&hellip;</td><td>&hellip;</td><td>&hellip;</td><td>&hellip;</td><td>&hellip;</td><td>&hellip;</td><td>&hellip;</td><td>&hellip;</td></tr><tr><td>2025-09-09</td><td>&quot;USBRKA2&quot;</td><td>&quot;GLIBA&quot;</td><td>36.225</td><td>-0.4261</td><td>1.121</td><td>20.842679</td><td>0.236481</td><td>0.302514</td><td>1.3226e8</td><td>31025.0</td><td>0.11</td></tr><tr><td>2025-09-10</td><td>&quot;USBRKA2&quot;</td><td>&quot;GLIBA&quot;</td><td>36.24</td><td>0.0414</td><td>2.305</td><td>20.954701</td><td>0.252015</td><td>0.29845</td><td>1.3231e8</td><td>6298.0</td><td>0.21</td></tr><tr><td>2025-09-11</td><td>&quot;USBRKA2&quot;</td><td>&quot;GLIBA&quot;</td><td>37.05</td><td>2.2351</td><td>0.213</td><td>21.480703</td><td>0.256752</td><td>0.31384</td><td>1.3527e8</td><td>26857.0</td><td>0.25</td></tr><tr><td>2025-09-12</td><td>&quot;USBRKA2&quot;</td><td>&quot;GLIBA&quot;</td><td>36.17</td><td>-2.3752</td><td>-0.733</td><td>21.942939</td><td>0.257401</td><td>0.328961</td><td>1.3205e8</td><td>8983.0</td><td>0.16</td></tr><tr><td>2025-09-15</td><td>&quot;USBRKA2&quot;</td><td>&quot;GLIBA&quot;</td><td>35.72</td><td>-1.2441</td><td>-0.794</td><td>21.781675</td><td>0.252982</td><td>0.331983</td><td>1.3041e8</td><td>25995.0</td><td>0.13</td></tr></tbody></table></div>"
      ],
      "text/plain": [
       "shape: (22_363_472, 12)\n",
       "┌────────────┬─────────┬────────┬────────┬───┬─────────────┬─────────────┬────────────┬────────────┐\n",
       "│ date       ┆ barrid  ┆ ticker ┆ price  ┆ … ┆ predicted_b ┆ market_cap  ┆ daily_volu ┆ bid_ask_sp │\n",
       "│ ---        ┆ ---     ┆ ---    ┆ ---    ┆   ┆ eta         ┆ ---         ┆ me         ┆ read       │\n",
       "│ date       ┆ str     ┆ str    ┆ f64    ┆   ┆ ---         ┆ f64         ┆ ---        ┆ ---        │\n",
       "│            ┆         ┆        ┆        ┆   ┆ f64         ┆             ┆ f64        ┆ f64        │\n",
       "╞════════════╪═════════╪════════╪════════╪═══╪═════════════╪═════════════╪════════════╪════════════╡\n",
       "│ 2013-07-31 ┆ USA06Z1 ┆ MDXG   ┆ 6.26   ┆ … ┆ 0.34349     ┆ 6.006157e8  ┆ 121693.0   ┆ 0.01       │\n",
       "│ 2013-08-01 ┆ USA06Z1 ┆ MDXG   ┆ 6.32   ┆ … ┆ 0.353329    ┆ 6.0865392e8 ┆ 131728.0   ┆ 0.01       │\n",
       "│ 2013-08-02 ┆ USA06Z1 ┆ MDXG   ┆ 6.31   ┆ … ┆ 0.363624    ┆ 6.0769086e8 ┆ 43252.0    ┆ 0.01       │\n",
       "│ 2013-08-05 ┆ USA06Z1 ┆ MDXG   ┆ 6.45   ┆ … ┆ 0.356596    ┆ 6.211737e8  ┆ 70944.0    ┆ 0.02       │\n",
       "│ 2013-08-06 ┆ USA06Z1 ┆ MDXG   ┆ 6.29   ┆ … ┆ 0.399196    ┆ 6.0576474e8 ┆ 77085.0    ┆ 0.01       │\n",
       "│ …          ┆ …       ┆ …      ┆ …      ┆ … ┆ …           ┆ …           ┆ …          ┆ …          │\n",
       "│ 2025-09-09 ┆ USBRKA2 ┆ GLIBA  ┆ 36.225 ┆ … ┆ 0.302514    ┆ 1.3226e8    ┆ 31025.0    ┆ 0.11       │\n",
       "│ 2025-09-10 ┆ USBRKA2 ┆ GLIBA  ┆ 36.24  ┆ … ┆ 0.29845     ┆ 1.3231e8    ┆ 6298.0     ┆ 0.21       │\n",
       "│ 2025-09-11 ┆ USBRKA2 ┆ GLIBA  ┆ 37.05  ┆ … ┆ 0.31384     ┆ 1.3527e8    ┆ 26857.0    ┆ 0.25       │\n",
       "│ 2025-09-12 ┆ USBRKA2 ┆ GLIBA  ┆ 36.17  ┆ … ┆ 0.328961    ┆ 1.3205e8    ┆ 8983.0     ┆ 0.16       │\n",
       "│ 2025-09-15 ┆ USBRKA2 ┆ GLIBA  ┆ 35.72  ┆ … ┆ 0.331983    ┆ 1.3041e8    ┆ 25995.0    ┆ 0.13       │\n",
       "└────────────┴─────────┴────────┴────────┴───┴─────────────┴─────────────┴────────────┴────────────┘"
      ]
     },
     "execution_count": 3,
     "metadata": {},
     "output_type": "execute_result"
    }
   ],
   "source": [
    "data"
   ]
  },
  {
   "cell_type": "code",
   "execution_count": 4,
   "id": "2824cd54",
   "metadata": {},
   "outputs": [
    {
     "data": {
      "text/html": [
       "<div><style>\n",
       ".dataframe > thead > tr,\n",
       ".dataframe > tbody > tr {\n",
       "  text-align: right;\n",
       "  white-space: pre-wrap;\n",
       "}\n",
       "</style>\n",
       "<small>shape: (20_764_025, 5)</small><table border=\"1\" class=\"dataframe\"><thead><tr><th>date</th><th>barrid</th><th>bab_weight</th><th>meanrev_weight</th><th>momentum_weight</th></tr><tr><td>date</td><td>str</td><td>f64</td><td>f64</td><td>f64</td></tr></thead><tbody><tr><td>1995-06-30</td><td>&quot;USAA191&quot;</td><td>-1.0844e-20</td><td>null</td><td>null</td></tr><tr><td>1995-06-30</td><td>&quot;USAA1W1&quot;</td><td>-9.1201e-22</td><td>null</td><td>null</td></tr><tr><td>1995-06-30</td><td>&quot;USAA1Y1&quot;</td><td>-4.8273e-21</td><td>null</td><td>null</td></tr><tr><td>1995-06-30</td><td>&quot;USAA2L1&quot;</td><td>-4.2673e-21</td><td>null</td><td>null</td></tr><tr><td>1995-06-30</td><td>&quot;USAA311&quot;</td><td>-9.2198e-21</td><td>null</td><td>null</td></tr><tr><td>&hellip;</td><td>&hellip;</td><td>&hellip;</td><td>&hellip;</td><td>&hellip;</td></tr><tr><td>2025-09-15</td><td>&quot;USBQZR1&quot;</td><td>-6.9890e-22</td><td>-6.1406e-20</td><td>null</td></tr><tr><td>2025-09-15</td><td>&quot;USBRGT1&quot;</td><td>-3.7165e-21</td><td>-6.0722e-19</td><td>null</td></tr><tr><td>2025-09-15</td><td>&quot;USBRH21&quot;</td><td>-2.6956e-21</td><td>-2.1598e-19</td><td>null</td></tr><tr><td>2025-09-15</td><td>&quot;USBRKA1&quot;</td><td>-5.5406e-21</td><td>-8.6297e-19</td><td>null</td></tr><tr><td>2025-09-15</td><td>&quot;USBRKA2&quot;</td><td>-4.9619e-21</td><td>-8.4225e-19</td><td>null</td></tr></tbody></table></div>"
      ],
      "text/plain": [
       "shape: (20_764_025, 5)\n",
       "┌────────────┬─────────┬─────────────┬────────────────┬─────────────────┐\n",
       "│ date       ┆ barrid  ┆ bab_weight  ┆ meanrev_weight ┆ momentum_weight │\n",
       "│ ---        ┆ ---     ┆ ---         ┆ ---            ┆ ---             │\n",
       "│ date       ┆ str     ┆ f64         ┆ f64            ┆ f64             │\n",
       "╞════════════╪═════════╪═════════════╪════════════════╪═════════════════╡\n",
       "│ 1995-06-30 ┆ USAA191 ┆ -1.0844e-20 ┆ null           ┆ null            │\n",
       "│ 1995-06-30 ┆ USAA1W1 ┆ -9.1201e-22 ┆ null           ┆ null            │\n",
       "│ 1995-06-30 ┆ USAA1Y1 ┆ -4.8273e-21 ┆ null           ┆ null            │\n",
       "│ 1995-06-30 ┆ USAA2L1 ┆ -4.2673e-21 ┆ null           ┆ null            │\n",
       "│ 1995-06-30 ┆ USAA311 ┆ -9.2198e-21 ┆ null           ┆ null            │\n",
       "│ …          ┆ …       ┆ …           ┆ …              ┆ …               │\n",
       "│ 2025-09-15 ┆ USBQZR1 ┆ -6.9890e-22 ┆ -6.1406e-20    ┆ null            │\n",
       "│ 2025-09-15 ┆ USBRGT1 ┆ -3.7165e-21 ┆ -6.0722e-19    ┆ null            │\n",
       "│ 2025-09-15 ┆ USBRH21 ┆ -2.6956e-21 ┆ -2.1598e-19    ┆ null            │\n",
       "│ 2025-09-15 ┆ USBRKA1 ┆ -5.5406e-21 ┆ -8.6297e-19    ┆ null            │\n",
       "│ 2025-09-15 ┆ USBRKA2 ┆ -4.9619e-21 ┆ -8.4225e-19    ┆ null            │\n",
       "└────────────┴─────────┴─────────────┴────────────────┴─────────────────┘"
      ]
     },
     "execution_count": 4,
     "metadata": {},
     "output_type": "execute_result"
    }
   ],
   "source": [
    "weights"
   ]
  },
  {
   "cell_type": "code",
   "execution_count": 5,
   "id": "0cff484d",
   "metadata": {},
   "outputs": [],
   "source": [
    "weights_bab = (\n",
    "    weights\n",
    "    .select([\"date\", \"barrid\", \"bab_weight\"])\n",
    "    .rename({\"bab_weight\": \"weight\"})\n",
    "    .filter(pl.col(\"weight\").is_not_null())\n",
    "    .with_columns(pl.lit(\"bab\").alias(\"signal\"))\n",
    ")\n",
    "\n",
    "weights_meanrev = (\n",
    "    weights\n",
    "    .select([\"date\", \"barrid\", \"meanrev_weight\"])\n",
    "    .rename({\"meanrev_weight\": \"weight\"})\n",
    "    .filter(pl.col(\"weight\").is_not_null())\n",
    "    .with_columns(pl.lit(\"meanrev\").alias(\"signal\"))\n",
    ")\n",
    "\n",
    "weights_momentum = (\n",
    "    weights\n",
    "    .select([\"date\", \"barrid\", \"momentum_weight\"])\n",
    "    .rename({\"momentum_weight\": \"weight\"})\n",
    "    .filter(pl.col(\"weight\").is_not_null())\n",
    "    .with_columns(pl.lit(\"momentum\").alias(\"signal\"))\n",
    ")"
   ]
  },
  {
   "cell_type": "code",
   "execution_count": 21,
   "id": "06de8093",
   "metadata": {},
   "outputs": [],
   "source": [
    "def task_compute_returns(weights: pl.DataFrame, data: pl.DataFrame) -> pl.DataFrame:\n",
    "    \"\"\" \n",
    "    Compute the optimal portfolio returns.\n",
    "\n",
    "    Args:\n",
    "        weights (pl.DataFrame): Data frame containing barrid, date, and weight columns.\n",
    "        data (pl.DataFrame): Data frame containing barrid, date, and return columns\n",
    "\n",
    "    Returns:\n",
    "        pl.DataFrame: Data frame containing date, fwd_return, and cumulative_fwd_return_columns\n",
    "    \"\"\"\n",
    "    return (                 \n",
    "        #this should be data joined onto weights because data is more consistently available than weights\n",
    "        data\n",
    "        .filter(pl.col('date').gt(dt.date(2008, 1, 1)))\n",
    "        .join(weights, on=['date', 'barrid'], how='left')\n",
    "        .select('date', 'barrid', 'weight', 'return')\n",
    "        .with_columns(\n",
    "            pl.col('return').truediv(100).alias('return_ratio')\n",
    "        )\n",
    "        .sort('barrid', 'date')\n",
    "        #shift return_ratios back to line them up with the signal weights \n",
    "        .with_columns(\n",
    "            pl.col('return_ratio').shift(-1).over('barrid').alias('forward_return')\n",
    "        )\n",
    "        .drop_nulls('forward_return')\n",
    "        .sort('date')\n",
    "        .with_columns(\n",
    "            pl.col('forward_return').mul('weight').log1p().alias('daily_log_return')\n",
    "        )\n",
    "        .with_columns(\n",
    "            pl.col('daily_log_return').cum_sum().alias('cum_log_return')\n",
    "        )\n",
    "        .with_columns(\n",
    "            pl.col('cum_log_return').exp().pow(1/29).alias('average yearly return')\n",
    "        )\n",
    "    )  "
   ]
  },
  {
   "cell_type": "code",
   "execution_count": 22,
   "id": "50923644",
   "metadata": {},
   "outputs": [
    {
     "data": {
      "text/html": [
       "<div><style>\n",
       ".dataframe > thead > tr,\n",
       ".dataframe > tbody > tr {\n",
       "  text-align: right;\n",
       "  white-space: pre-wrap;\n",
       "}\n",
       "</style>\n",
       "<small>shape: (13_175_514, 9)</small><table border=\"1\" class=\"dataframe\"><thead><tr><th>date</th><th>barrid</th><th>weight</th><th>return</th><th>return_ratio</th><th>forward_return</th><th>daily_log_return</th><th>cum_log_return</th><th>average yearly return</th></tr><tr><td>date</td><td>str</td><td>f64</td><td>f64</td><td>f64</td><td>f64</td><td>f64</td><td>f64</td><td>f64</td></tr></thead><tbody><tr><td>2008-01-02</td><td>&quot;USA1151&quot;</td><td>-4.5477e-21</td><td>-1.3716</td><td>-0.013716</td><td>-0.018963</td><td>8.6238e-23</td><td>8.6238e-23</td><td>1.0</td></tr><tr><td>2008-01-02</td><td>&quot;USA11I1&quot;</td><td>2.1218e-21</td><td>-2.1091</td><td>-0.021091</td><td>0.009849</td><td>2.0898e-23</td><td>1.0714e-22</td><td>1.0</td></tr><tr><td>2008-01-02</td><td>&quot;USA11J1&quot;</td><td>-4.2467e-21</td><td>-1.7456</td><td>-0.017456</td><td>-0.000635</td><td>2.6967e-24</td><td>1.0983e-22</td><td>1.0</td></tr><tr><td>2008-01-02</td><td>&quot;USA11Q2&quot;</td><td>-6.2363e-21</td><td>-7.3542</td><td>-0.073542</td><td>-0.018051</td><td>1.1257e-22</td><td>2.2240e-22</td><td>1.0</td></tr><tr><td>2008-01-02</td><td>&quot;USA11V1&quot;</td><td>-3.2484e-21</td><td>9.8291</td><td>0.098291</td><td>-0.025292</td><td>8.2158e-23</td><td>3.0456e-22</td><td>1.0</td></tr><tr><td>&hellip;</td><td>&hellip;</td><td>&hellip;</td><td>&hellip;</td><td>&hellip;</td><td>&hellip;</td><td>&hellip;</td><td>&hellip;</td><td>&hellip;</td></tr><tr><td>2025-09-12</td><td>&quot;USBQZR1&quot;</td><td>-7.1596e-8</td><td>4.2226</td><td>0.042226</td><td>-0.041651</td><td>2.9821e-9</td><td>1.912946</td><td>1.068188</td></tr><tr><td>2025-09-12</td><td>&quot;USBRGT1&quot;</td><td>-2.5436e-7</td><td>-3.7279</td><td>-0.037279</td><td>0.0</td><td>-0.0</td><td>1.912946</td><td>1.068188</td></tr><tr><td>2025-09-12</td><td>&quot;USBRH21&quot;</td><td>-1.8710e-7</td><td>-0.6405</td><td>-0.006405</td><td>0.011281</td><td>-2.1106e-9</td><td>1.912946</td><td>1.068188</td></tr><tr><td>2025-09-12</td><td>&quot;USBRKA1&quot;</td><td>-3.6611e-7</td><td>-1.5651</td><td>-0.015651</td><td>-0.021757</td><td>7.9655e-9</td><td>1.912946</td><td>1.068188</td></tr><tr><td>2025-09-12</td><td>&quot;USBRKA2&quot;</td><td>-3.2772e-7</td><td>-2.3752</td><td>-0.023752</td><td>-0.012441</td><td>4.0771e-9</td><td>1.912946</td><td>1.068188</td></tr></tbody></table></div>"
      ],
      "text/plain": [
       "shape: (13_175_514, 9)\n",
       "┌────────────┬─────────┬────────────┬─────────┬───┬────────────┬───────────┬───────────┬───────────┐\n",
       "│ date       ┆ barrid  ┆ weight     ┆ return  ┆ … ┆ forward_re ┆ daily_log ┆ cum_log_r ┆ average   │\n",
       "│ ---        ┆ ---     ┆ ---        ┆ ---     ┆   ┆ turn       ┆ _return   ┆ eturn     ┆ yearly    │\n",
       "│ date       ┆ str     ┆ f64        ┆ f64     ┆   ┆ ---        ┆ ---       ┆ ---       ┆ return    │\n",
       "│            ┆         ┆            ┆         ┆   ┆ f64        ┆ f64       ┆ f64       ┆ ---       │\n",
       "│            ┆         ┆            ┆         ┆   ┆            ┆           ┆           ┆ f64       │\n",
       "╞════════════╪═════════╪════════════╪═════════╪═══╪════════════╪═══════════╪═══════════╪═══════════╡\n",
       "│ 2008-01-02 ┆ USA1151 ┆ -4.5477e-2 ┆ -1.3716 ┆ … ┆ -0.018963  ┆ 8.6238e-2 ┆ 8.6238e-2 ┆ 1.0       │\n",
       "│            ┆         ┆ 1          ┆         ┆   ┆            ┆ 3         ┆ 3         ┆           │\n",
       "│ 2008-01-02 ┆ USA11I1 ┆ 2.1218e-21 ┆ -2.1091 ┆ … ┆ 0.009849   ┆ 2.0898e-2 ┆ 1.0714e-2 ┆ 1.0       │\n",
       "│            ┆         ┆            ┆         ┆   ┆            ┆ 3         ┆ 2         ┆           │\n",
       "│ 2008-01-02 ┆ USA11J1 ┆ -4.2467e-2 ┆ -1.7456 ┆ … ┆ -0.000635  ┆ 2.6967e-2 ┆ 1.0983e-2 ┆ 1.0       │\n",
       "│            ┆         ┆ 1          ┆         ┆   ┆            ┆ 4         ┆ 2         ┆           │\n",
       "│ 2008-01-02 ┆ USA11Q2 ┆ -6.2363e-2 ┆ -7.3542 ┆ … ┆ -0.018051  ┆ 1.1257e-2 ┆ 2.2240e-2 ┆ 1.0       │\n",
       "│            ┆         ┆ 1          ┆         ┆   ┆            ┆ 2         ┆ 2         ┆           │\n",
       "│ 2008-01-02 ┆ USA11V1 ┆ -3.2484e-2 ┆ 9.8291  ┆ … ┆ -0.025292  ┆ 8.2158e-2 ┆ 3.0456e-2 ┆ 1.0       │\n",
       "│            ┆         ┆ 1          ┆         ┆   ┆            ┆ 3         ┆ 2         ┆           │\n",
       "│ …          ┆ …       ┆ …          ┆ …       ┆ … ┆ …          ┆ …         ┆ …         ┆ …         │\n",
       "│ 2025-09-12 ┆ USBQZR1 ┆ -7.1596e-8 ┆ 4.2226  ┆ … ┆ -0.041651  ┆ 2.9821e-9 ┆ 1.912946  ┆ 1.068188  │\n",
       "│ 2025-09-12 ┆ USBRGT1 ┆ -2.5436e-7 ┆ -3.7279 ┆ … ┆ 0.0        ┆ -0.0      ┆ 1.912946  ┆ 1.068188  │\n",
       "│ 2025-09-12 ┆ USBRH21 ┆ -1.8710e-7 ┆ -0.6405 ┆ … ┆ 0.011281   ┆ -2.1106e- ┆ 1.912946  ┆ 1.068188  │\n",
       "│            ┆         ┆            ┆         ┆   ┆            ┆ 9         ┆           ┆           │\n",
       "│ 2025-09-12 ┆ USBRKA1 ┆ -3.6611e-7 ┆ -1.5651 ┆ … ┆ -0.021757  ┆ 7.9655e-9 ┆ 1.912946  ┆ 1.068188  │\n",
       "│ 2025-09-12 ┆ USBRKA2 ┆ -3.2772e-7 ┆ -2.3752 ┆ … ┆ -0.012441  ┆ 4.0771e-9 ┆ 1.912946  ┆ 1.068188  │\n",
       "└────────────┴─────────┴────────────┴─────────┴───┴────────────┴───────────┴───────────┴───────────┘"
      ]
     },
     "execution_count": 22,
     "metadata": {},
     "output_type": "execute_result"
    }
   ],
   "source": [
    "returns_bab = task_compute_returns(weights_bab, data)\n",
    "\n",
    "returns_bab"
   ]
  },
  {
   "cell_type": "code",
   "execution_count": 23,
   "id": "9e05544b",
   "metadata": {},
   "outputs": [
    {
     "data": {
      "text/html": [
       "<div><style>\n",
       ".dataframe > thead > tr,\n",
       ".dataframe > tbody > tr {\n",
       "  text-align: right;\n",
       "  white-space: pre-wrap;\n",
       "}\n",
       "</style>\n",
       "<small>shape: (13_175_514, 9)</small><table border=\"1\" class=\"dataframe\"><thead><tr><th>date</th><th>barrid</th><th>weight</th><th>return</th><th>return_ratio</th><th>forward_return</th><th>daily_log_return</th><th>cum_log_return</th><th>average yearly return</th></tr><tr><td>date</td><td>str</td><td>f64</td><td>f64</td><td>f64</td><td>f64</td><td>f64</td><td>f64</td><td>f64</td></tr></thead><tbody><tr><td>2008-01-02</td><td>&quot;USA1151&quot;</td><td>-4.9602e-8</td><td>-1.3716</td><td>-0.013716</td><td>-0.018963</td><td>9.4060e-10</td><td>9.4060e-10</td><td>1.0</td></tr><tr><td>2008-01-02</td><td>&quot;USA11I1&quot;</td><td>-8.4387e-8</td><td>-2.1091</td><td>-0.021091</td><td>0.009849</td><td>-8.3112e-10</td><td>1.0948e-10</td><td>1.0</td></tr><tr><td>2008-01-02</td><td>&quot;USA11J1&quot;</td><td>-7.3015e-8</td><td>-1.7456</td><td>-0.017456</td><td>-0.000635</td><td>4.6364e-11</td><td>1.5584e-10</td><td>1.0</td></tr><tr><td>2008-01-02</td><td>&quot;USA11Q2&quot;</td><td>-4.2960e-8</td><td>-7.3542</td><td>-0.073542</td><td>-0.018051</td><td>7.7548e-10</td><td>9.3132e-10</td><td>1.0</td></tr><tr><td>2008-01-02</td><td>&quot;USA11V1&quot;</td><td>0.193648</td><td>9.8291</td><td>0.098291</td><td>-0.025292</td><td>-0.00491</td><td>-0.00491</td><td>0.999831</td></tr><tr><td>&hellip;</td><td>&hellip;</td><td>&hellip;</td><td>&hellip;</td><td>&hellip;</td><td>&hellip;</td><td>&hellip;</td><td>&hellip;</td><td>&hellip;</td></tr><tr><td>2025-09-12</td><td>&quot;USBQZR1&quot;</td><td>-2.1191e-20</td><td>4.2226</td><td>0.042226</td><td>-0.041651</td><td>8.8264e-22</td><td>3.348443</td><td>1.122394</td></tr><tr><td>2025-09-12</td><td>&quot;USBRGT1&quot;</td><td>-9.4212e-19</td><td>-3.7279</td><td>-0.037279</td><td>0.0</td><td>-0.0</td><td>3.348443</td><td>1.122394</td></tr><tr><td>2025-09-12</td><td>&quot;USBRH21&quot;</td><td>-3.0491e-19</td><td>-0.6405</td><td>-0.006405</td><td>0.011281</td><td>-3.4397e-21</td><td>3.348443</td><td>1.122394</td></tr><tr><td>2025-09-12</td><td>&quot;USBRKA1&quot;</td><td>-1.4874e-18</td><td>-1.5651</td><td>-0.015651</td><td>-0.021757</td><td>3.2361e-20</td><td>3.348443</td><td>1.122394</td></tr><tr><td>2025-09-12</td><td>&quot;USBRKA2&quot;</td><td>-1.4333e-18</td><td>-2.3752</td><td>-0.023752</td><td>-0.012441</td><td>1.7832e-20</td><td>3.348443</td><td>1.122394</td></tr></tbody></table></div>"
      ],
      "text/plain": [
       "shape: (13_175_514, 9)\n",
       "┌────────────┬─────────┬────────────┬─────────┬───┬────────────┬───────────┬───────────┬───────────┐\n",
       "│ date       ┆ barrid  ┆ weight     ┆ return  ┆ … ┆ forward_re ┆ daily_log ┆ cum_log_r ┆ average   │\n",
       "│ ---        ┆ ---     ┆ ---        ┆ ---     ┆   ┆ turn       ┆ _return   ┆ eturn     ┆ yearly    │\n",
       "│ date       ┆ str     ┆ f64        ┆ f64     ┆   ┆ ---        ┆ ---       ┆ ---       ┆ return    │\n",
       "│            ┆         ┆            ┆         ┆   ┆ f64        ┆ f64       ┆ f64       ┆ ---       │\n",
       "│            ┆         ┆            ┆         ┆   ┆            ┆           ┆           ┆ f64       │\n",
       "╞════════════╪═════════╪════════════╪═════════╪═══╪════════════╪═══════════╪═══════════╪═══════════╡\n",
       "│ 2008-01-02 ┆ USA1151 ┆ -4.9602e-8 ┆ -1.3716 ┆ … ┆ -0.018963  ┆ 9.4060e-1 ┆ 9.4060e-1 ┆ 1.0       │\n",
       "│            ┆         ┆            ┆         ┆   ┆            ┆ 0         ┆ 0         ┆           │\n",
       "│ 2008-01-02 ┆ USA11I1 ┆ -8.4387e-8 ┆ -2.1091 ┆ … ┆ 0.009849   ┆ -8.3112e- ┆ 1.0948e-1 ┆ 1.0       │\n",
       "│            ┆         ┆            ┆         ┆   ┆            ┆ 10        ┆ 0         ┆           │\n",
       "│ 2008-01-02 ┆ USA11J1 ┆ -7.3015e-8 ┆ -1.7456 ┆ … ┆ -0.000635  ┆ 4.6364e-1 ┆ 1.5584e-1 ┆ 1.0       │\n",
       "│            ┆         ┆            ┆         ┆   ┆            ┆ 1         ┆ 0         ┆           │\n",
       "│ 2008-01-02 ┆ USA11Q2 ┆ -4.2960e-8 ┆ -7.3542 ┆ … ┆ -0.018051  ┆ 7.7548e-1 ┆ 9.3132e-1 ┆ 1.0       │\n",
       "│            ┆         ┆            ┆         ┆   ┆            ┆ 0         ┆ 0         ┆           │\n",
       "│ 2008-01-02 ┆ USA11V1 ┆ 0.193648   ┆ 9.8291  ┆ … ┆ -0.025292  ┆ -0.00491  ┆ -0.00491  ┆ 0.999831  │\n",
       "│ …          ┆ …       ┆ …          ┆ …       ┆ … ┆ …          ┆ …         ┆ …         ┆ …         │\n",
       "│ 2025-09-12 ┆ USBQZR1 ┆ -2.1191e-2 ┆ 4.2226  ┆ … ┆ -0.041651  ┆ 8.8264e-2 ┆ 3.348443  ┆ 1.122394  │\n",
       "│            ┆         ┆ 0          ┆         ┆   ┆            ┆ 2         ┆           ┆           │\n",
       "│ 2025-09-12 ┆ USBRGT1 ┆ -9.4212e-1 ┆ -3.7279 ┆ … ┆ 0.0        ┆ -0.0      ┆ 3.348443  ┆ 1.122394  │\n",
       "│            ┆         ┆ 9          ┆         ┆   ┆            ┆           ┆           ┆           │\n",
       "│ 2025-09-12 ┆ USBRH21 ┆ -3.0491e-1 ┆ -0.6405 ┆ … ┆ 0.011281   ┆ -3.4397e- ┆ 3.348443  ┆ 1.122394  │\n",
       "│            ┆         ┆ 9          ┆         ┆   ┆            ┆ 21        ┆           ┆           │\n",
       "│ 2025-09-12 ┆ USBRKA1 ┆ -1.4874e-1 ┆ -1.5651 ┆ … ┆ -0.021757  ┆ 3.2361e-2 ┆ 3.348443  ┆ 1.122394  │\n",
       "│            ┆         ┆ 8          ┆         ┆   ┆            ┆ 0         ┆           ┆           │\n",
       "│ 2025-09-12 ┆ USBRKA2 ┆ -1.4333e-1 ┆ -2.3752 ┆ … ┆ -0.012441  ┆ 1.7832e-2 ┆ 3.348443  ┆ 1.122394  │\n",
       "│            ┆         ┆ 8          ┆         ┆   ┆            ┆ 0         ┆           ┆           │\n",
       "└────────────┴─────────┴────────────┴─────────┴───┴────────────┴───────────┴───────────┴───────────┘"
      ]
     },
     "execution_count": 23,
     "metadata": {},
     "output_type": "execute_result"
    }
   ],
   "source": [
    "returns_meanrev = task_compute_returns(weights_meanrev, data)\n",
    "\n",
    "returns_meanrev"
   ]
  },
  {
   "cell_type": "code",
   "execution_count": 24,
   "id": "e5b483f6",
   "metadata": {},
   "outputs": [
    {
     "data": {
      "text/html": [
       "<div><style>\n",
       ".dataframe > thead > tr,\n",
       ".dataframe > tbody > tr {\n",
       "  text-align: right;\n",
       "  white-space: pre-wrap;\n",
       "}\n",
       "</style>\n",
       "<small>shape: (13_175_514, 9)</small><table border=\"1\" class=\"dataframe\"><thead><tr><th>date</th><th>barrid</th><th>weight</th><th>return</th><th>return_ratio</th><th>forward_return</th><th>daily_log_return</th><th>cum_log_return</th><th>average yearly return</th></tr><tr><td>date</td><td>str</td><td>f64</td><td>f64</td><td>f64</td><td>f64</td><td>f64</td><td>f64</td><td>f64</td></tr></thead><tbody><tr><td>2008-01-02</td><td>&quot;USA1151&quot;</td><td>-1.1298e-7</td><td>-1.3716</td><td>-0.013716</td><td>-0.018963</td><td>2.1424e-9</td><td>2.1424e-9</td><td>1.0</td></tr><tr><td>2008-01-02</td><td>&quot;USA11I1&quot;</td><td>-1.5955e-7</td><td>-2.1091</td><td>-0.021091</td><td>0.009849</td><td>-1.5714e-9</td><td>5.7098e-10</td><td>1.0</td></tr><tr><td>2008-01-02</td><td>&quot;USA11J1&quot;</td><td>-2.0474e-7</td><td>-1.7456</td><td>-0.017456</td><td>-0.000635</td><td>1.3001e-10</td><td>7.0099e-10</td><td>1.0</td></tr><tr><td>2008-01-02</td><td>&quot;USA11Q2&quot;</td><td>-1.1176e-7</td><td>-7.3542</td><td>-0.073542</td><td>-0.018051</td><td>2.0173e-9</td><td>2.7183e-9</td><td>1.0</td></tr><tr><td>2008-01-02</td><td>&quot;USA11V1&quot;</td><td>null</td><td>9.8291</td><td>0.098291</td><td>-0.025292</td><td>null</td><td>null</td><td>null</td></tr><tr><td>&hellip;</td><td>&hellip;</td><td>&hellip;</td><td>&hellip;</td><td>&hellip;</td><td>&hellip;</td><td>&hellip;</td><td>&hellip;</td><td>&hellip;</td></tr><tr><td>2025-09-12</td><td>&quot;USBQZR1&quot;</td><td>null</td><td>4.2226</td><td>0.042226</td><td>-0.041651</td><td>null</td><td>null</td><td>null</td></tr><tr><td>2025-09-12</td><td>&quot;USBRGT1&quot;</td><td>null</td><td>-3.7279</td><td>-0.037279</td><td>0.0</td><td>null</td><td>null</td><td>null</td></tr><tr><td>2025-09-12</td><td>&quot;USBRH21&quot;</td><td>null</td><td>-0.6405</td><td>-0.006405</td><td>0.011281</td><td>null</td><td>null</td><td>null</td></tr><tr><td>2025-09-12</td><td>&quot;USBRKA1&quot;</td><td>null</td><td>-1.5651</td><td>-0.015651</td><td>-0.021757</td><td>null</td><td>null</td><td>null</td></tr><tr><td>2025-09-12</td><td>&quot;USBRKA2&quot;</td><td>null</td><td>-2.3752</td><td>-0.023752</td><td>-0.012441</td><td>null</td><td>null</td><td>null</td></tr></tbody></table></div>"
      ],
      "text/plain": [
       "shape: (13_175_514, 9)\n",
       "┌────────────┬─────────┬────────────┬─────────┬───┬────────────┬───────────┬───────────┬───────────┐\n",
       "│ date       ┆ barrid  ┆ weight     ┆ return  ┆ … ┆ forward_re ┆ daily_log ┆ cum_log_r ┆ average   │\n",
       "│ ---        ┆ ---     ┆ ---        ┆ ---     ┆   ┆ turn       ┆ _return   ┆ eturn     ┆ yearly    │\n",
       "│ date       ┆ str     ┆ f64        ┆ f64     ┆   ┆ ---        ┆ ---       ┆ ---       ┆ return    │\n",
       "│            ┆         ┆            ┆         ┆   ┆ f64        ┆ f64       ┆ f64       ┆ ---       │\n",
       "│            ┆         ┆            ┆         ┆   ┆            ┆           ┆           ┆ f64       │\n",
       "╞════════════╪═════════╪════════════╪═════════╪═══╪════════════╪═══════════╪═══════════╪═══════════╡\n",
       "│ 2008-01-02 ┆ USA1151 ┆ -1.1298e-7 ┆ -1.3716 ┆ … ┆ -0.018963  ┆ 2.1424e-9 ┆ 2.1424e-9 ┆ 1.0       │\n",
       "│ 2008-01-02 ┆ USA11I1 ┆ -1.5955e-7 ┆ -2.1091 ┆ … ┆ 0.009849   ┆ -1.5714e- ┆ 5.7098e-1 ┆ 1.0       │\n",
       "│            ┆         ┆            ┆         ┆   ┆            ┆ 9         ┆ 0         ┆           │\n",
       "│ 2008-01-02 ┆ USA11J1 ┆ -2.0474e-7 ┆ -1.7456 ┆ … ┆ -0.000635  ┆ 1.3001e-1 ┆ 7.0099e-1 ┆ 1.0       │\n",
       "│            ┆         ┆            ┆         ┆   ┆            ┆ 0         ┆ 0         ┆           │\n",
       "│ 2008-01-02 ┆ USA11Q2 ┆ -1.1176e-7 ┆ -7.3542 ┆ … ┆ -0.018051  ┆ 2.0173e-9 ┆ 2.7183e-9 ┆ 1.0       │\n",
       "│ 2008-01-02 ┆ USA11V1 ┆ null       ┆ 9.8291  ┆ … ┆ -0.025292  ┆ null      ┆ null      ┆ null      │\n",
       "│ …          ┆ …       ┆ …          ┆ …       ┆ … ┆ …          ┆ …         ┆ …         ┆ …         │\n",
       "│ 2025-09-12 ┆ USBQZR1 ┆ null       ┆ 4.2226  ┆ … ┆ -0.041651  ┆ null      ┆ null      ┆ null      │\n",
       "│ 2025-09-12 ┆ USBRGT1 ┆ null       ┆ -3.7279 ┆ … ┆ 0.0        ┆ null      ┆ null      ┆ null      │\n",
       "│ 2025-09-12 ┆ USBRH21 ┆ null       ┆ -0.6405 ┆ … ┆ 0.011281   ┆ null      ┆ null      ┆ null      │\n",
       "│ 2025-09-12 ┆ USBRKA1 ┆ null       ┆ -1.5651 ┆ … ┆ -0.021757  ┆ null      ┆ null      ┆ null      │\n",
       "│ 2025-09-12 ┆ USBRKA2 ┆ null       ┆ -2.3752 ┆ … ┆ -0.012441  ┆ null      ┆ null      ┆ null      │\n",
       "└────────────┴─────────┴────────────┴─────────┴───┴────────────┴───────────┴───────────┴───────────┘"
      ]
     },
     "execution_count": 24,
     "metadata": {},
     "output_type": "execute_result"
    }
   ],
   "source": [
    "returns_momentum = task_compute_returns(weights_momentum, data)\n",
    "\n",
    "returns_momentum"
   ]
  },
  {
   "cell_type": "code",
   "execution_count": 25,
   "id": "06dca4a4",
   "metadata": {},
   "outputs": [
    {
     "data": {
      "image/png": "[encoded data removed]",
      "text/plain": [
       "<Figure size 1000x600 with 1 Axes>"
      ]
     },
     "metadata": {},
     "output_type": "display_data"
    }
   ],
   "source": [
    "plt.figure(figsize=(10, 6))\n",
    "\n",
    "# Plot each signal separately\n",
    "plt.plot(returns_bab[\"date\"], returns_bab[\"cum_log_return\"], label=\"bab\")\n",
    "plt.plot(returns_meanrev[\"date\"], returns_meanrev[\"cum_log_return\"], label=\"meanrev\")\n",
    "plt.plot(returns_momentum[\"date\"], returns_momentum[\"cum_log_return\"], label=\"momentum\")\n",
    "\n",
    "# Labels & legend\n",
    "plt.xlabel(None)\n",
    "plt.ylabel(\"Cumulative Log Return\")\n",
    "plt.title(\"Cumulative Log Returns by Signal\")\n",
    "plt.legend(loc=\"upper left\")\n",
    "plt.tight_layout()\n",
    "plt.show()"
   ]
  },
  {
   "cell_type": "code",
   "execution_count": null,
   "id": "be8e0f47",
   "metadata": {},
   "outputs": [],
   "source": []
  }
 ],
 "metadata": {
  "kernelspec": {
   "display_name": "orthogonal-alphas",
   "language": "python",
   "name": "python3"
  },
  "language_info": {
   "codemirror_mode": {
    "name": "ipython",
    "version": 3
   },
   "file_extension": ".py",
   "mimetype": "text/x-python",
   "name": "python",
   "nbconvert_exporter": "python",
   "pygments_lexer": "ipython3",
   "version": "3.13.7"
  }
 },
 "nbformat": 4,
 "nbformat_minor": 5
}
