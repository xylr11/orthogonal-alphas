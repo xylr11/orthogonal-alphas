{
 "cells": [
  {
   "cell_type": "code",
   "execution_count": 1,
   "id": "b136cd19",
   "metadata": {},
   "outputs": [],
   "source": [
    "# Import necessary packages\n",
    "\n",
    "import polars as pl\n",
    "import matplotlib.pyplot as plt\n",
    "import seaborn as sns"
   ]
  },
  {
   "cell_type": "code",
   "execution_count": 2,
   "id": "be38237d",
   "metadata": {},
   "outputs": [],
   "source": [
    "# Read weights\n",
    "\n",
    "weights = pl.read_parquet('../all_weights_pivot.parquet')\n",
    "data = pl.read_parquet('../russell_3000_daily.parquet')"
   ]
  },
  {
   "cell_type": "code",
   "execution_count": 49,
   "id": "3a9f5230",
   "metadata": {},
   "outputs": [
    {
     "data": {
      "text/html": [
       "<div><style>\n",
       ".dataframe > thead > tr,\n",
       ".dataframe > tbody > tr {\n",
       "  text-align: right;\n",
       "  white-space: pre-wrap;\n",
       "}\n",
       "</style>\n",
       "<small>shape: (22_363_472, 12)</small><table border=\"1\" class=\"dataframe\"><thead><tr><th>date</th><th>barrid</th><th>ticker</th><th>price</th><th>return</th><th>specific_return</th><th>specific_risk</th><th>historical_beta</th><th>predicted_beta</th><th>market_cap</th><th>daily_volume</th><th>bid_ask_spread</th></tr><tr><td>date</td><td>str</td><td>str</td><td>f64</td><td>f64</td><td>f64</td><td>f64</td><td>f64</td><td>f64</td><td>f64</td><td>f64</td><td>f64</td></tr></thead><tbody><tr><td>2013-07-31</td><td>&quot;USA06Z1&quot;</td><td>&quot;MDXG&quot;</td><td>6.26</td><td>-0.1595</td><td>-0.788</td><td>55.056916</td><td>0.328385</td><td>0.34349</td><td>6.006157e8</td><td>121693.0</td><td>0.01</td></tr><tr><td>2013-08-01</td><td>&quot;USA06Z1&quot;</td><td>&quot;MDXG&quot;</td><td>6.32</td><td>0.9585</td><td>0.365</td><td>55.028021</td><td>0.334989</td><td>0.353329</td><td>6.0865392e8</td><td>131728.0</td><td>0.01</td></tr><tr><td>2013-08-02</td><td>&quot;USA06Z1&quot;</td><td>&quot;MDXG&quot;</td><td>6.31</td><td>-0.1582</td><td>-0.731</td><td>54.807402</td><td>0.330713</td><td>0.363624</td><td>6.0769086e8</td><td>43252.0</td><td>0.01</td></tr><tr><td>2013-08-05</td><td>&quot;USA06Z1&quot;</td><td>&quot;MDXG&quot;</td><td>6.45</td><td>2.2187</td><td>1.936</td><td>54.76671</td><td>0.324494</td><td>0.356596</td><td>6.211737e8</td><td>70944.0</td><td>0.02</td></tr><tr><td>2013-08-06</td><td>&quot;USA06Z1&quot;</td><td>&quot;MDXG&quot;</td><td>6.29</td><td>-2.4806</td><td>-0.528</td><td>54.692162</td><td>0.366323</td><td>0.399196</td><td>6.0576474e8</td><td>77085.0</td><td>0.01</td></tr><tr><td>&hellip;</td><td>&hellip;</td><td>&hellip;</td><td>&hellip;</td><td>&hellip;</td><td>&hellip;</td><td>&hellip;</td><td>&hellip;</td><td>&hellip;</td><td>&hellip;</td><td>&hellip;</td><td>&hellip;</td></tr><tr><td>2025-09-09</td><td>&quot;USBRKA2&quot;</td><td>&quot;GLIBA&quot;</td><td>36.225</td><td>-0.4261</td><td>1.121</td><td>20.842679</td><td>0.236481</td><td>0.302514</td><td>1.3226e8</td><td>31025.0</td><td>0.11</td></tr><tr><td>2025-09-10</td><td>&quot;USBRKA2&quot;</td><td>&quot;GLIBA&quot;</td><td>36.24</td><td>0.0414</td><td>2.305</td><td>20.954701</td><td>0.252015</td><td>0.29845</td><td>1.3231e8</td><td>6298.0</td><td>0.21</td></tr><tr><td>2025-09-11</td><td>&quot;USBRKA2&quot;</td><td>&quot;GLIBA&quot;</td><td>37.05</td><td>2.2351</td><td>0.213</td><td>21.480703</td><td>0.256752</td><td>0.31384</td><td>1.3527e8</td><td>26857.0</td><td>0.25</td></tr><tr><td>2025-09-12</td><td>&quot;USBRKA2&quot;</td><td>&quot;GLIBA&quot;</td><td>36.17</td><td>-2.3752</td><td>-0.733</td><td>21.942939</td><td>0.257401</td><td>0.328961</td><td>1.3205e8</td><td>8983.0</td><td>0.16</td></tr><tr><td>2025-09-15</td><td>&quot;USBRKA2&quot;</td><td>&quot;GLIBA&quot;</td><td>35.72</td><td>-1.2441</td><td>-0.794</td><td>21.781675</td><td>0.252982</td><td>0.331983</td><td>1.3041e8</td><td>25995.0</td><td>0.13</td></tr></tbody></table></div>"
      ],
      "text/plain": [
       "shape: (22_363_472, 12)\n",
       "┌────────────┬─────────┬────────┬────────┬───┬─────────────┬─────────────┬────────────┬────────────┐\n",
       "│ date       ┆ barrid  ┆ ticker ┆ price  ┆ … ┆ predicted_b ┆ market_cap  ┆ daily_volu ┆ bid_ask_sp │\n",
       "│ ---        ┆ ---     ┆ ---    ┆ ---    ┆   ┆ eta         ┆ ---         ┆ me         ┆ read       │\n",
       "│ date       ┆ str     ┆ str    ┆ f64    ┆   ┆ ---         ┆ f64         ┆ ---        ┆ ---        │\n",
       "│            ┆         ┆        ┆        ┆   ┆ f64         ┆             ┆ f64        ┆ f64        │\n",
       "╞════════════╪═════════╪════════╪════════╪═══╪═════════════╪═════════════╪════════════╪════════════╡\n",
       "│ 2013-07-31 ┆ USA06Z1 ┆ MDXG   ┆ 6.26   ┆ … ┆ 0.34349     ┆ 6.006157e8  ┆ 121693.0   ┆ 0.01       │\n",
       "│ 2013-08-01 ┆ USA06Z1 ┆ MDXG   ┆ 6.32   ┆ … ┆ 0.353329    ┆ 6.0865392e8 ┆ 131728.0   ┆ 0.01       │\n",
       "│ 2013-08-02 ┆ USA06Z1 ┆ MDXG   ┆ 6.31   ┆ … ┆ 0.363624    ┆ 6.0769086e8 ┆ 43252.0    ┆ 0.01       │\n",
       "│ 2013-08-05 ┆ USA06Z1 ┆ MDXG   ┆ 6.45   ┆ … ┆ 0.356596    ┆ 6.211737e8  ┆ 70944.0    ┆ 0.02       │\n",
       "│ 2013-08-06 ┆ USA06Z1 ┆ MDXG   ┆ 6.29   ┆ … ┆ 0.399196    ┆ 6.0576474e8 ┆ 77085.0    ┆ 0.01       │\n",
       "│ …          ┆ …       ┆ …      ┆ …      ┆ … ┆ …           ┆ …           ┆ …          ┆ …          │\n",
       "│ 2025-09-09 ┆ USBRKA2 ┆ GLIBA  ┆ 36.225 ┆ … ┆ 0.302514    ┆ 1.3226e8    ┆ 31025.0    ┆ 0.11       │\n",
       "│ 2025-09-10 ┆ USBRKA2 ┆ GLIBA  ┆ 36.24  ┆ … ┆ 0.29845     ┆ 1.3231e8    ┆ 6298.0     ┆ 0.21       │\n",
       "│ 2025-09-11 ┆ USBRKA2 ┆ GLIBA  ┆ 37.05  ┆ … ┆ 0.31384     ┆ 1.3527e8    ┆ 26857.0    ┆ 0.25       │\n",
       "│ 2025-09-12 ┆ USBRKA2 ┆ GLIBA  ┆ 36.17  ┆ … ┆ 0.328961    ┆ 1.3205e8    ┆ 8983.0     ┆ 0.16       │\n",
       "│ 2025-09-15 ┆ USBRKA2 ┆ GLIBA  ┆ 35.72  ┆ … ┆ 0.331983    ┆ 1.3041e8    ┆ 25995.0    ┆ 0.13       │\n",
       "└────────────┴─────────┴────────┴────────┴───┴─────────────┴─────────────┴────────────┴────────────┘"
      ]
     },
     "execution_count": 49,
     "metadata": {},
     "output_type": "execute_result"
    }
   ],
   "source": [
    "data"
   ]
  },
  {
   "cell_type": "code",
   "execution_count": 50,
   "id": "2824cd54",
   "metadata": {},
   "outputs": [
    {
     "data": {
      "text/html": [
       "<div><style>\n",
       ".dataframe > thead > tr,\n",
       ".dataframe > tbody > tr {\n",
       "  text-align: right;\n",
       "  white-space: pre-wrap;\n",
       "}\n",
       "</style>\n",
       "<small>shape: (2_769, 5)</small><table border=\"1\" class=\"dataframe\"><thead><tr><th>date</th><th>barrid</th><th>bab_weight</th><th>meanrev_weight</th><th>momentum_weight</th></tr><tr><td>date</td><td>str</td><td>f64</td><td>f64</td><td>f64</td></tr></thead><tbody><tr><td>2013-10-11</td><td>&quot;USA0C11&quot;</td><td>1.9935e-21</td><td>-9.5434e-8</td><td>-1.3485e-7</td></tr><tr><td>2013-10-11</td><td>&quot;USA0SY1&quot;</td><td>8.8849e-22</td><td>-1.8276e-8</td><td>0.024917</td></tr><tr><td>2013-10-11</td><td>&quot;USA1151&quot;</td><td>-6.3155e-21</td><td>-5.1204e-8</td><td>-9.3629e-8</td></tr><tr><td>2013-10-11</td><td>&quot;USA11I1&quot;</td><td>-9.3740e-22</td><td>-9.6132e-8</td><td>-1.4429e-7</td></tr><tr><td>2013-10-11</td><td>&quot;USA11J1&quot;</td><td>-4.6836e-21</td><td>-4.1885e-8</td><td>-8.7556e-8</td></tr><tr><td>&hellip;</td><td>&hellip;</td><td>&hellip;</td><td>&hellip;</td><td>&hellip;</td></tr><tr><td>2013-10-11</td><td>&quot;USBBAE1&quot;</td><td>-6.9315e-21</td><td>-4.5408e-8</td><td>null</td></tr><tr><td>2013-10-11</td><td>&quot;USBBBA1&quot;</td><td>-3.1905e-21</td><td>-4.8787e-8</td><td>null</td></tr><tr><td>2013-10-11</td><td>&quot;USBBCJ1&quot;</td><td>-3.2700e-21</td><td>-1.4778e-8</td><td>null</td></tr><tr><td>2013-10-11</td><td>&quot;USBBEE1&quot;</td><td>-9.3947e-21</td><td>null</td><td>null</td></tr><tr><td>2013-10-11</td><td>&quot;USBBFK1&quot;</td><td>-7.7050e-21</td><td>null</td><td>null</td></tr></tbody></table></div>"
      ],
      "text/plain": [
       "shape: (2_769, 5)\n",
       "┌────────────┬─────────┬─────────────┬────────────────┬─────────────────┐\n",
       "│ date       ┆ barrid  ┆ bab_weight  ┆ meanrev_weight ┆ momentum_weight │\n",
       "│ ---        ┆ ---     ┆ ---         ┆ ---            ┆ ---             │\n",
       "│ date       ┆ str     ┆ f64         ┆ f64            ┆ f64             │\n",
       "╞════════════╪═════════╪═════════════╪════════════════╪═════════════════╡\n",
       "│ 2013-10-11 ┆ USA0C11 ┆ 1.9935e-21  ┆ -9.5434e-8     ┆ -1.3485e-7      │\n",
       "│ 2013-10-11 ┆ USA0SY1 ┆ 8.8849e-22  ┆ -1.8276e-8     ┆ 0.024917        │\n",
       "│ 2013-10-11 ┆ USA1151 ┆ -6.3155e-21 ┆ -5.1204e-8     ┆ -9.3629e-8      │\n",
       "│ 2013-10-11 ┆ USA11I1 ┆ -9.3740e-22 ┆ -9.6132e-8     ┆ -1.4429e-7      │\n",
       "│ 2013-10-11 ┆ USA11J1 ┆ -4.6836e-21 ┆ -4.1885e-8     ┆ -8.7556e-8      │\n",
       "│ …          ┆ …       ┆ …           ┆ …              ┆ …               │\n",
       "│ 2013-10-11 ┆ USBBAE1 ┆ -6.9315e-21 ┆ -4.5408e-8     ┆ null            │\n",
       "│ 2013-10-11 ┆ USBBBA1 ┆ -3.1905e-21 ┆ -4.8787e-8     ┆ null            │\n",
       "│ 2013-10-11 ┆ USBBCJ1 ┆ -3.2700e-21 ┆ -1.4778e-8     ┆ null            │\n",
       "│ 2013-10-11 ┆ USBBEE1 ┆ -9.3947e-21 ┆ null           ┆ null            │\n",
       "│ 2013-10-11 ┆ USBBFK1 ┆ -7.7050e-21 ┆ null           ┆ null            │\n",
       "└────────────┴─────────┴─────────────┴────────────────┴─────────────────┘"
      ]
     },
     "execution_count": 50,
     "metadata": {},
     "output_type": "execute_result"
    }
   ],
   "source": [
    "#weights.select(\n",
    "    #pl.col(\"date\").n_unique().alias(\"date_unique\"),\n",
    "    #pl.col(\"barrid\").n_unique().alias(\"barrid_unique\"),\n",
    "    #pl.len().alias(\"date\"),\n",
    "#)\n",
    "from datetime import date\n",
    "weights.filter(pl.col(\"date\") == date(2013, 10, 11))"
   ]
  },
  {
   "cell_type": "code",
   "execution_count": 3,
   "id": "0cff484d",
   "metadata": {},
   "outputs": [],
   "source": [
    "weights_bab = (\n",
    "    weights\n",
    "    .select([\"date\", \"barrid\", \"bab_weight\"])\n",
    "    .rename({\"bab_weight\": \"weight\"})\n",
    "    .filter(pl.col(\"weight\").is_not_null())\n",
    "    .with_columns(pl.lit(\"bab\").alias(\"signal\"))\n",
    ")\n",
    "\n",
    "weights_meanrev = (\n",
    "    weights\n",
    "    .select([\"date\", \"barrid\", \"meanrev_weight\"])\n",
    "    .rename({\"meanrev_weight\": \"weight\"})\n",
    "    .filter(pl.col(\"weight\").is_not_null())\n",
    "    .with_columns(pl.lit(\"meanrev\").alias(\"signal\"))\n",
    ")\n",
    "\n",
    "weights_momentum = (\n",
    "    weights\n",
    "    .select([\"date\", \"barrid\", \"momentum_weight\"])\n",
    "    .rename({\"momentum_weight\": \"weight\"})\n",
    "    .filter(pl.col(\"weight\").is_not_null())\n",
    "    .with_columns(pl.lit(\"momentum\").alias(\"signal\"))\n",
    ")"
   ]
  },
  {
   "cell_type": "code",
   "execution_count": null,
   "id": "d42951ae",
   "metadata": {},
   "outputs": [],
   "source": [
    "def task_compute_returns(weights: pl.DataFrame, data: pl.DataFrame) -> pl.DataFrame:\n",
    "    \"\"\" \n",
    "    Compute the optimal portfolio returns.\n",
    "\n",
    "    Args:\n",
    "        weights (pl.DataFrame): Data frame containing barrid, date, and weight columns.\n",
    "        data (pl.DataFrame): Data frame containing barrid, date, and return columns\n",
    "\n",
    "    Returns:\n",
    "        pl.DataFrame: Data frame containing date, fwd_return, and cumulative_fwd_return_columns\n",
    "    \"\"\"\n",
    "    return (                 \n",
    "        #this should be data joined onto weights because data is more consistently available than weights\n",
    "        data\n",
    "        .join(weights, on=['date', 'barrid'], how='left')\n",
    "        .select('date', 'barrid', 'weight', 'return')\n",
    "        .with_columns(\n",
    "            pl.col('return').truediv(100).alias('return_ratio')\n",
    "        )\n",
    "        .sort('barrid', 'date')\n",
    "        #shift signal weights forward in time to line them up with the return_ratios they will be combined with\n",
    "        .with_columns(\n",
    "            pl.col('weight').shift(1).over('barrid').alias('previous_weight')\n",
    "        )\n",
    "        #have to keep track of the day the signal is from \n",
    "        .with_columns(\n",
    "            pl.col('date').shift(1).over('barrid').alias('previous_weight_date')\n",
    "        )\n",
    "        .drop_nulls('previous_weight')\n",
    "        .with_columns(\n",
    "            pl.col('return_ratio').mul('previous_weight').alias('evaluated_return')\n",
    "        )\n",
    "        .group_by('date', 'previous_weight_date')\n",
    "        .agg(\n",
    "            #create candidate totals for every ('date', 'previous_weight_date') pair \n",
    "            pl.col('evaluated_return').sum().alias('daily_total_evaluated_return'),\n",
    "            #measure the distance from 1 of the weight sums of each ('date', 'previous_weight_date') pair \n",
    "            pl.col('weight').sum().sub(1).alias('total_weight_error')\n",
    "        )\n",
    "        .with_columns(\n",
    "            #check on whether weight sum error is pos or negative because it's weird \n",
    "            pl.col('total_weight_error').abs().alias('abs_weight_error')\n",
    "        )\n",
    "        #rank the abs_weight_error within each date and choose the row with the lowest error\n",
    "        .sort('date', 'abs_weight_error')\n",
    "        .with_columns(\n",
    "            pl.col('abs_weight_error').rank('ordinal').over('date').alias('error_rank')\n",
    "        )\n",
    "        .filter(pl.col('error_rank') == 1)\n",
    "        .sort('date')\n",
    "        .with_columns(\n",
    "            pl.col('daily_total_evaluated_return').add(1).cum_prod().sub(1).alias('cumulative_return')\n",
    "        )\n",
    "        .with_columns(\n",
    "            pl.col('daily_total_evaluated_return', 'cumulative_return').mul(100)\n",
    "        )   \n",
    "    )            "
   ]
  },
  {
   "cell_type": "code",
   "execution_count": 5,
   "id": "50923644",
   "metadata": {},
   "outputs": [
    {
     "data": {
      "text/html": [
       "<div><style>\n",
       ".dataframe > thead > tr,\n",
       ".dataframe > tbody > tr {\n",
       "  text-align: right;\n",
       "  white-space: pre-wrap;\n",
       "}\n",
       "</style>\n",
       "<small>shape: (7_601, 7)</small><table border=\"1\" class=\"dataframe\"><thead><tr><th>date</th><th>previous_weight_date</th><th>daily_total_evaluated_return</th><th>total_weight_error</th><th>abs_weight_error</th><th>error_rank</th><th>cumulative_return</th></tr><tr><td>date</td><td>date</td><td>f64</td><td>f64</td><td>f64</td><td>u32</td><td>f64</td></tr></thead><tbody><tr><td>1995-07-03</td><td>1995-06-30</td><td>0.339623</td><td>-1.8874e-15</td><td>1.8874e-15</td><td>1</td><td>0.339623</td></tr><tr><td>1995-07-05</td><td>1995-07-03</td><td>0.684813</td><td>-3.3307e-15</td><td>3.3307e-15</td><td>1</td><td>1.026762</td></tr><tr><td>1995-07-06</td><td>1995-07-05</td><td>1.576081</td><td>-4.6629e-15</td><td>4.6629e-15</td><td>1</td><td>2.619026</td></tr><tr><td>1995-07-07</td><td>1995-07-06</td><td>1.160609</td><td>-3.7748e-15</td><td>3.7748e-15</td><td>1</td><td>3.810031</td></tr><tr><td>1995-07-10</td><td>1995-07-07</td><td>0.716328</td><td>-0.012501</td><td>0.012501</td><td>1</td><td>4.553651</td></tr><tr><td>&hellip;</td><td>&hellip;</td><td>&hellip;</td><td>&hellip;</td><td>&hellip;</td><td>&hellip;</td><td>&hellip;</td></tr><tr><td>2025-09-09</td><td>2025-09-08</td><td>0.804319</td><td>-1.5543e-15</td><td>1.5543e-15</td><td>1</td><td>1851.314229</td></tr><tr><td>2025-09-10</td><td>2025-09-09</td><td>-0.161181</td><td>-1.7764e-15</td><td>1.7764e-15</td><td>1</td><td>1848.169075</td></tr><tr><td>2025-09-11</td><td>2025-09-10</td><td>1.411964</td><td>-1.3323e-15</td><td>1.3323e-15</td><td>1</td><td>1875.676529</td></tr><tr><td>2025-09-12</td><td>2025-09-11</td><td>-0.266634</td><td>-0.001356</td><td>0.001356</td><td>1</td><td>1870.40871</td></tr><tr><td>2025-09-15</td><td>2025-09-12</td><td>0.81124</td><td>-2.3315e-15</td><td>2.3315e-15</td><td>1</td><td>1886.393445</td></tr></tbody></table></div>"
      ],
      "text/plain": [
       "shape: (7_601, 7)\n",
       "┌────────────┬──────────────┬──────────────┬──────────────┬─────────────┬────────────┬─────────────┐\n",
       "│ date       ┆ previous_wei ┆ daily_total_ ┆ total_weight ┆ abs_weight_ ┆ error_rank ┆ cumulative_ │\n",
       "│ ---        ┆ ght_date     ┆ evaluated_re ┆ _error       ┆ error       ┆ ---        ┆ return      │\n",
       "│ date       ┆ ---          ┆ turn         ┆ ---          ┆ ---         ┆ u32        ┆ ---         │\n",
       "│            ┆ date         ┆ ---          ┆ f64          ┆ f64         ┆            ┆ f64         │\n",
       "│            ┆              ┆ f64          ┆              ┆             ┆            ┆             │\n",
       "╞════════════╪══════════════╪══════════════╪══════════════╪═════════════╪════════════╪═════════════╡\n",
       "│ 1995-07-03 ┆ 1995-06-30   ┆ 0.339623     ┆ -1.8874e-15  ┆ 1.8874e-15  ┆ 1          ┆ 0.339623    │\n",
       "│ 1995-07-05 ┆ 1995-07-03   ┆ 0.684813     ┆ -3.3307e-15  ┆ 3.3307e-15  ┆ 1          ┆ 1.026762    │\n",
       "│ 1995-07-06 ┆ 1995-07-05   ┆ 1.576081     ┆ -4.6629e-15  ┆ 4.6629e-15  ┆ 1          ┆ 2.619026    │\n",
       "│ 1995-07-07 ┆ 1995-07-06   ┆ 1.160609     ┆ -3.7748e-15  ┆ 3.7748e-15  ┆ 1          ┆ 3.810031    │\n",
       "│ 1995-07-10 ┆ 1995-07-07   ┆ 0.716328     ┆ -0.012501    ┆ 0.012501    ┆ 1          ┆ 4.553651    │\n",
       "│ …          ┆ …            ┆ …            ┆ …            ┆ …           ┆ …          ┆ …           │\n",
       "│ 2025-09-09 ┆ 2025-09-08   ┆ 0.804319     ┆ -1.5543e-15  ┆ 1.5543e-15  ┆ 1          ┆ 1851.314229 │\n",
       "│ 2025-09-10 ┆ 2025-09-09   ┆ -0.161181    ┆ -1.7764e-15  ┆ 1.7764e-15  ┆ 1          ┆ 1848.169075 │\n",
       "│ 2025-09-11 ┆ 2025-09-10   ┆ 1.411964     ┆ -1.3323e-15  ┆ 1.3323e-15  ┆ 1          ┆ 1875.676529 │\n",
       "│ 2025-09-12 ┆ 2025-09-11   ┆ -0.266634    ┆ -0.001356    ┆ 0.001356    ┆ 1          ┆ 1870.40871  │\n",
       "│ 2025-09-15 ┆ 2025-09-12   ┆ 0.81124      ┆ -2.3315e-15  ┆ 2.3315e-15  ┆ 1          ┆ 1886.393445 │\n",
       "└────────────┴──────────────┴──────────────┴──────────────┴─────────────┴────────────┴─────────────┘"
      ]
     },
     "execution_count": 5,
     "metadata": {},
     "output_type": "execute_result"
    }
   ],
   "source": [
    "returns_bab = task_compute_returns(weights_bab, data)\n",
    "\n",
    "returns_bab"
   ]
  },
  {
   "cell_type": "code",
   "execution_count": 6,
   "id": "9e05544b",
   "metadata": {},
   "outputs": [
    {
     "data": {
      "text/html": [
       "<div><style>\n",
       ".dataframe > thead > tr,\n",
       ".dataframe > tbody > tr {\n",
       "  text-align: right;\n",
       "  white-space: pre-wrap;\n",
       "}\n",
       "</style>\n",
       "<small>shape: (7_579, 7)</small><table border=\"1\" class=\"dataframe\"><thead><tr><th>date</th><th>previous_weight_date</th><th>daily_total_evaluated_return</th><th>total_weight_error</th><th>abs_weight_error</th><th>error_rank</th><th>cumulative_return</th></tr><tr><td>date</td><td>date</td><td>f64</td><td>f64</td><td>f64</td><td>u32</td><td>f64</td></tr></thead><tbody><tr><td>1995-08-03</td><td>1995-08-02</td><td>-2.080259</td><td>4.0634e-14</td><td>4.0634e-14</td><td>1</td><td>-2.080259</td></tr><tr><td>1995-08-04</td><td>1995-08-03</td><td>-1.923892</td><td>3.6637e-14</td><td>3.6637e-14</td><td>1</td><td>-3.96413</td></tr><tr><td>1995-08-07</td><td>1995-08-04</td><td>4.443093</td><td>2.2427e-14</td><td>2.2427e-14</td><td>1</td><td>0.302834</td></tr><tr><td>1995-08-08</td><td>1995-08-07</td><td>-2.399445</td><td>4.5297e-14</td><td>4.5297e-14</td><td>1</td><td>-2.103877</td></tr><tr><td>1995-08-09</td><td>1995-08-08</td><td>1.449727</td><td>-0.021862</td><td>0.021862</td><td>1</td><td>-0.684651</td></tr><tr><td>&hellip;</td><td>&hellip;</td><td>&hellip;</td><td>&hellip;</td><td>&hellip;</td><td>&hellip;</td><td>&hellip;</td></tr><tr><td>2025-09-09</td><td>2025-09-08</td><td>0.373996</td><td>9.9920e-15</td><td>9.9920e-15</td><td>1</td><td>263064.513363</td></tr><tr><td>2025-09-10</td><td>2025-09-09</td><td>-0.102559</td><td>7.3275e-15</td><td>7.3275e-15</td><td>1</td><td>262794.613289</td></tr><tr><td>2025-09-11</td><td>2025-09-10</td><td>1.568695</td><td>4.4409e-15</td><td>4.4409e-15</td><td>1</td><td>266918.628695</td></tr><tr><td>2025-09-12</td><td>2025-09-11</td><td>-0.506769</td><td>-0.040026</td><td>0.040026</td><td>1</td><td>265565.461389</td></tr><tr><td>2025-09-15</td><td>2025-09-12</td><td>-0.301642</td><td>4.4409e-16</td><td>4.4409e-16</td><td>1</td><td>264764.102882</td></tr></tbody></table></div>"
      ],
      "text/plain": [
       "shape: (7_579, 7)\n",
       "┌────────────┬──────────────┬──────────────┬──────────────┬─────────────┬────────────┬─────────────┐\n",
       "│ date       ┆ previous_wei ┆ daily_total_ ┆ total_weight ┆ abs_weight_ ┆ error_rank ┆ cumulative_ │\n",
       "│ ---        ┆ ght_date     ┆ evaluated_re ┆ _error       ┆ error       ┆ ---        ┆ return      │\n",
       "│ date       ┆ ---          ┆ turn         ┆ ---          ┆ ---         ┆ u32        ┆ ---         │\n",
       "│            ┆ date         ┆ ---          ┆ f64          ┆ f64         ┆            ┆ f64         │\n",
       "│            ┆              ┆ f64          ┆              ┆             ┆            ┆             │\n",
       "╞════════════╪══════════════╪══════════════╪══════════════╪═════════════╪════════════╪═════════════╡\n",
       "│ 1995-08-03 ┆ 1995-08-02   ┆ -2.080259    ┆ 4.0634e-14   ┆ 4.0634e-14  ┆ 1          ┆ -2.080259   │\n",
       "│ 1995-08-04 ┆ 1995-08-03   ┆ -1.923892    ┆ 3.6637e-14   ┆ 3.6637e-14  ┆ 1          ┆ -3.96413    │\n",
       "│ 1995-08-07 ┆ 1995-08-04   ┆ 4.443093     ┆ 2.2427e-14   ┆ 2.2427e-14  ┆ 1          ┆ 0.302834    │\n",
       "│ 1995-08-08 ┆ 1995-08-07   ┆ -2.399445    ┆ 4.5297e-14   ┆ 4.5297e-14  ┆ 1          ┆ -2.103877   │\n",
       "│ 1995-08-09 ┆ 1995-08-08   ┆ 1.449727     ┆ -0.021862    ┆ 0.021862    ┆ 1          ┆ -0.684651   │\n",
       "│ …          ┆ …            ┆ …            ┆ …            ┆ …           ┆ …          ┆ …           │\n",
       "│ 2025-09-09 ┆ 2025-09-08   ┆ 0.373996     ┆ 9.9920e-15   ┆ 9.9920e-15  ┆ 1          ┆ 263064.5133 │\n",
       "│            ┆              ┆              ┆              ┆             ┆            ┆ 63          │\n",
       "│ 2025-09-10 ┆ 2025-09-09   ┆ -0.102559    ┆ 7.3275e-15   ┆ 7.3275e-15  ┆ 1          ┆ 262794.6132 │\n",
       "│            ┆              ┆              ┆              ┆             ┆            ┆ 89          │\n",
       "│ 2025-09-11 ┆ 2025-09-10   ┆ 1.568695     ┆ 4.4409e-15   ┆ 4.4409e-15  ┆ 1          ┆ 266918.6286 │\n",
       "│            ┆              ┆              ┆              ┆             ┆            ┆ 95          │\n",
       "│ 2025-09-12 ┆ 2025-09-11   ┆ -0.506769    ┆ -0.040026    ┆ 0.040026    ┆ 1          ┆ 265565.4613 │\n",
       "│            ┆              ┆              ┆              ┆             ┆            ┆ 89          │\n",
       "│ 2025-09-15 ┆ 2025-09-12   ┆ -0.301642    ┆ 4.4409e-16   ┆ 4.4409e-16  ┆ 1          ┆ 264764.1028 │\n",
       "│            ┆              ┆              ┆              ┆             ┆            ┆ 82          │\n",
       "└────────────┴──────────────┴──────────────┴──────────────┴─────────────┴────────────┴─────────────┘"
      ]
     },
     "execution_count": 6,
     "metadata": {},
     "output_type": "execute_result"
    }
   ],
   "source": [
    "returns_meanrev = task_compute_returns(weights_meanrev, data)\n",
    "\n",
    "returns_meanrev"
   ]
  },
  {
   "cell_type": "code",
   "execution_count": 7,
   "id": "e5b483f6",
   "metadata": {},
   "outputs": [
    {
     "data": {
      "text/html": [
       "<div><style>\n",
       ".dataframe > thead > tr,\n",
       ".dataframe > tbody > tr {\n",
       "  text-align: right;\n",
       "  white-space: pre-wrap;\n",
       "}\n",
       "</style>\n",
       "<small>shape: (7_350, 7)</small><table border=\"1\" class=\"dataframe\"><thead><tr><th>date</th><th>previous_weight_date</th><th>daily_total_evaluated_return</th><th>total_weight_error</th><th>abs_weight_error</th><th>error_rank</th><th>cumulative_return</th></tr><tr><td>date</td><td>date</td><td>f64</td><td>f64</td><td>f64</td><td>u32</td><td>f64</td></tr></thead><tbody><tr><td>1996-06-28</td><td>1996-06-27</td><td>1.854144</td><td>1.0242e-7</td><td>1.0242e-7</td><td>1</td><td>1.854144</td></tr><tr><td>1996-07-01</td><td>1996-06-28</td><td>-0.199177</td><td>4.4404e-11</td><td>4.4404e-11</td><td>1</td><td>1.651274</td></tr><tr><td>1996-07-02</td><td>1996-07-01</td><td>0.344811</td><td>4.1710e-11</td><td>4.1710e-11</td><td>1</td><td>2.001778</td></tr><tr><td>1996-07-03</td><td>1996-07-02</td><td>-0.555719</td><td>-0.018976</td><td>0.018976</td><td>1</td><td>1.434935</td></tr><tr><td>1996-07-05</td><td>1996-07-03</td><td>-1.004611</td><td>4.5480e-11</td><td>4.5480e-11</td><td>1</td><td>0.415909</td></tr><tr><td>&hellip;</td><td>&hellip;</td><td>&hellip;</td><td>&hellip;</td><td>&hellip;</td><td>&hellip;</td><td>&hellip;</td></tr><tr><td>2025-09-09</td><td>2025-09-08</td><td>1.882739</td><td>1.1554e-7</td><td>1.1554e-7</td><td>1</td><td>2575.77835</td></tr><tr><td>2025-09-10</td><td>2025-09-09</td><td>-1.380558</td><td>7.0858e-8</td><td>7.0858e-8</td><td>1</td><td>2538.837666</td></tr><tr><td>2025-09-11</td><td>2025-09-10</td><td>2.117512</td><td>5.2479e-7</td><td>5.2479e-7</td><td>1</td><td>2594.71538</td></tr><tr><td>2025-09-12</td><td>2025-09-11</td><td>1.250673</td><td>-0.008127</td><td>0.008127</td><td>1</td><td>2628.417466</td></tr><tr><td>2025-09-15</td><td>2025-09-12</td><td>0.741769</td><td>1.8315e-7</td><td>1.8315e-7</td><td>1</td><td>2648.656011</td></tr></tbody></table></div>"
      ],
      "text/plain": [
       "shape: (7_350, 7)\n",
       "┌────────────┬──────────────┬──────────────┬──────────────┬─────────────┬────────────┬─────────────┐\n",
       "│ date       ┆ previous_wei ┆ daily_total_ ┆ total_weight ┆ abs_weight_ ┆ error_rank ┆ cumulative_ │\n",
       "│ ---        ┆ ght_date     ┆ evaluated_re ┆ _error       ┆ error       ┆ ---        ┆ return      │\n",
       "│ date       ┆ ---          ┆ turn         ┆ ---          ┆ ---         ┆ u32        ┆ ---         │\n",
       "│            ┆ date         ┆ ---          ┆ f64          ┆ f64         ┆            ┆ f64         │\n",
       "│            ┆              ┆ f64          ┆              ┆             ┆            ┆             │\n",
       "╞════════════╪══════════════╪══════════════╪══════════════╪═════════════╪════════════╪═════════════╡\n",
       "│ 1996-06-28 ┆ 1996-06-27   ┆ 1.854144     ┆ 1.0242e-7    ┆ 1.0242e-7   ┆ 1          ┆ 1.854144    │\n",
       "│ 1996-07-01 ┆ 1996-06-28   ┆ -0.199177    ┆ 4.4404e-11   ┆ 4.4404e-11  ┆ 1          ┆ 1.651274    │\n",
       "│ 1996-07-02 ┆ 1996-07-01   ┆ 0.344811     ┆ 4.1710e-11   ┆ 4.1710e-11  ┆ 1          ┆ 2.001778    │\n",
       "│ 1996-07-03 ┆ 1996-07-02   ┆ -0.555719    ┆ -0.018976    ┆ 0.018976    ┆ 1          ┆ 1.434935    │\n",
       "│ 1996-07-05 ┆ 1996-07-03   ┆ -1.004611    ┆ 4.5480e-11   ┆ 4.5480e-11  ┆ 1          ┆ 0.415909    │\n",
       "│ …          ┆ …            ┆ …            ┆ …            ┆ …           ┆ …          ┆ …           │\n",
       "│ 2025-09-09 ┆ 2025-09-08   ┆ 1.882739     ┆ 1.1554e-7    ┆ 1.1554e-7   ┆ 1          ┆ 2575.77835  │\n",
       "│ 2025-09-10 ┆ 2025-09-09   ┆ -1.380558    ┆ 7.0858e-8    ┆ 7.0858e-8   ┆ 1          ┆ 2538.837666 │\n",
       "│ 2025-09-11 ┆ 2025-09-10   ┆ 2.117512     ┆ 5.2479e-7    ┆ 5.2479e-7   ┆ 1          ┆ 2594.71538  │\n",
       "│ 2025-09-12 ┆ 2025-09-11   ┆ 1.250673     ┆ -0.008127    ┆ 0.008127    ┆ 1          ┆ 2628.417466 │\n",
       "│ 2025-09-15 ┆ 2025-09-12   ┆ 0.741769     ┆ 1.8315e-7    ┆ 1.8315e-7   ┆ 1          ┆ 2648.656011 │\n",
       "└────────────┴──────────────┴──────────────┴──────────────┴─────────────┴────────────┴─────────────┘"
      ]
     },
     "execution_count": 7,
     "metadata": {},
     "output_type": "execute_result"
    }
   ],
   "source": [
    "returns_momentum = task_compute_returns(weights_momentum, data)\n",
    "\n",
    "returns_momentum"
   ]
  },
  {
   "cell_type": "code",
   "execution_count": 13,
   "id": "06dca4a4",
   "metadata": {},
   "outputs": [
    {
     "data": {
      "image/png": "[encoded data removed]",
      "text/plain": [
       "<Figure size 1000x600 with 1 Axes>"
      ]
     },
     "metadata": {},
     "output_type": "display_data"
    }
   ],
   "source": [
    "plt.figure(figsize=(10, 6))\n",
    "\n",
    "# Plot each signal separately\n",
    "#plt.plot(returns_bab[\"date\"], returns_bab[\"cumulative_return\"], label=\"bab\")\n",
    "plt.plot(returns_meanrev[\"date\"], returns_meanrev[\"cumulative_return\"], label=\"meanrev\")\n",
    "#plt.plot(returns_momentum[\"date\"], returns_momentum[\"cumulative_return\"], label=\"momentum\")\n",
    "\n",
    "# Labels & legend\n",
    "plt.xlabel(None)\n",
    "plt.ylabel(\"Cumulative Return (%)\")\n",
    "plt.title(\"Cumulative Returns by Signal\")\n",
    "plt.legend()\n",
    "plt.tight_layout()\n",
    "plt.show()"
   ]
  },
  {
   "cell_type": "code",
   "execution_count": null,
   "id": "be8e0f47",
   "metadata": {},
   "outputs": [],
   "source": []
  }
 ],
 "metadata": {
  "kernelspec": {
   "display_name": "orthogonal-alphas",
   "language": "python",
   "name": "python3"
  },
  "language_info": {
   "codemirror_mode": {
    "name": "ipython",
    "version": 3
   },
   "file_extension": ".py",
   "mimetype": "text/x-python",
   "name": "python",
   "nbconvert_exporter": "python",
   "pygments_lexer": "ipython3",
   "version": "3.13.1"
  }
 },
 "nbformat": 4,
 "nbformat_minor": 5
}
