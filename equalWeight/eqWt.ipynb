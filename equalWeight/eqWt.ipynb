{
 "cells": [
  {
   "cell_type": "code",
   "execution_count": 2,
   "id": "b136cd19",
   "metadata": {},
   "outputs": [],
   "source": [
    "# Import necessary packages\n",
    "\n",
    "import polars as pl\n",
    "import matplotlib.pyplot as plt\n",
    "import seaborn as sns"
   ]
  },
  {
   "cell_type": "code",
   "execution_count": 3,
   "id": "be38237d",
   "metadata": {},
   "outputs": [],
   "source": [
    "# Read weights\n",
    "\n",
    "weights = pl.read_parquet('../all_weights_pivot.parquet')\n",
    "data = pl.read_parquet('../russell_3000_daily.parquet')"
   ]
  },
  {
   "cell_type": "code",
   "execution_count": 49,
   "id": "3a9f5230",
   "metadata": {},
   "outputs": [
    {
     "data": {
      "text/html": [
       "<div><style>\n",
       ".dataframe > thead > tr,\n",
       ".dataframe > tbody > tr {\n",
       "  text-align: right;\n",
       "  white-space: pre-wrap;\n",
       "}\n",
       "</style>\n",
       "<small>shape: (22_363_472, 12)</small><table border=\"1\" class=\"dataframe\"><thead><tr><th>date</th><th>barrid</th><th>ticker</th><th>price</th><th>return</th><th>specific_return</th><th>specific_risk</th><th>historical_beta</th><th>predicted_beta</th><th>market_cap</th><th>daily_volume</th><th>bid_ask_spread</th></tr><tr><td>date</td><td>str</td><td>str</td><td>f64</td><td>f64</td><td>f64</td><td>f64</td><td>f64</td><td>f64</td><td>f64</td><td>f64</td><td>f64</td></tr></thead><tbody><tr><td>2013-07-31</td><td>&quot;USA06Z1&quot;</td><td>&quot;MDXG&quot;</td><td>6.26</td><td>-0.1595</td><td>-0.788</td><td>55.056916</td><td>0.328385</td><td>0.34349</td><td>6.006157e8</td><td>121693.0</td><td>0.01</td></tr><tr><td>2013-08-01</td><td>&quot;USA06Z1&quot;</td><td>&quot;MDXG&quot;</td><td>6.32</td><td>0.9585</td><td>0.365</td><td>55.028021</td><td>0.334989</td><td>0.353329</td><td>6.0865392e8</td><td>131728.0</td><td>0.01</td></tr><tr><td>2013-08-02</td><td>&quot;USA06Z1&quot;</td><td>&quot;MDXG&quot;</td><td>6.31</td><td>-0.1582</td><td>-0.731</td><td>54.807402</td><td>0.330713</td><td>0.363624</td><td>6.0769086e8</td><td>43252.0</td><td>0.01</td></tr><tr><td>2013-08-05</td><td>&quot;USA06Z1&quot;</td><td>&quot;MDXG&quot;</td><td>6.45</td><td>2.2187</td><td>1.936</td><td>54.76671</td><td>0.324494</td><td>0.356596</td><td>6.211737e8</td><td>70944.0</td><td>0.02</td></tr><tr><td>2013-08-06</td><td>&quot;USA06Z1&quot;</td><td>&quot;MDXG&quot;</td><td>6.29</td><td>-2.4806</td><td>-0.528</td><td>54.692162</td><td>0.366323</td><td>0.399196</td><td>6.0576474e8</td><td>77085.0</td><td>0.01</td></tr><tr><td>&hellip;</td><td>&hellip;</td><td>&hellip;</td><td>&hellip;</td><td>&hellip;</td><td>&hellip;</td><td>&hellip;</td><td>&hellip;</td><td>&hellip;</td><td>&hellip;</td><td>&hellip;</td><td>&hellip;</td></tr><tr><td>2025-09-09</td><td>&quot;USBRKA2&quot;</td><td>&quot;GLIBA&quot;</td><td>36.225</td><td>-0.4261</td><td>1.121</td><td>20.842679</td><td>0.236481</td><td>0.302514</td><td>1.3226e8</td><td>31025.0</td><td>0.11</td></tr><tr><td>2025-09-10</td><td>&quot;USBRKA2&quot;</td><td>&quot;GLIBA&quot;</td><td>36.24</td><td>0.0414</td><td>2.305</td><td>20.954701</td><td>0.252015</td><td>0.29845</td><td>1.3231e8</td><td>6298.0</td><td>0.21</td></tr><tr><td>2025-09-11</td><td>&quot;USBRKA2&quot;</td><td>&quot;GLIBA&quot;</td><td>37.05</td><td>2.2351</td><td>0.213</td><td>21.480703</td><td>0.256752</td><td>0.31384</td><td>1.3527e8</td><td>26857.0</td><td>0.25</td></tr><tr><td>2025-09-12</td><td>&quot;USBRKA2&quot;</td><td>&quot;GLIBA&quot;</td><td>36.17</td><td>-2.3752</td><td>-0.733</td><td>21.942939</td><td>0.257401</td><td>0.328961</td><td>1.3205e8</td><td>8983.0</td><td>0.16</td></tr><tr><td>2025-09-15</td><td>&quot;USBRKA2&quot;</td><td>&quot;GLIBA&quot;</td><td>35.72</td><td>-1.2441</td><td>-0.794</td><td>21.781675</td><td>0.252982</td><td>0.331983</td><td>1.3041e8</td><td>25995.0</td><td>0.13</td></tr></tbody></table></div>"
      ],
      "text/plain": [
       "shape: (22_363_472, 12)\n",
       "┌────────────┬─────────┬────────┬────────┬───┬─────────────┬─────────────┬────────────┬────────────┐\n",
       "│ date       ┆ barrid  ┆ ticker ┆ price  ┆ … ┆ predicted_b ┆ market_cap  ┆ daily_volu ┆ bid_ask_sp │\n",
       "│ ---        ┆ ---     ┆ ---    ┆ ---    ┆   ┆ eta         ┆ ---         ┆ me         ┆ read       │\n",
       "│ date       ┆ str     ┆ str    ┆ f64    ┆   ┆ ---         ┆ f64         ┆ ---        ┆ ---        │\n",
       "│            ┆         ┆        ┆        ┆   ┆ f64         ┆             ┆ f64        ┆ f64        │\n",
       "╞════════════╪═════════╪════════╪════════╪═══╪═════════════╪═════════════╪════════════╪════════════╡\n",
       "│ 2013-07-31 ┆ USA06Z1 ┆ MDXG   ┆ 6.26   ┆ … ┆ 0.34349     ┆ 6.006157e8  ┆ 121693.0   ┆ 0.01       │\n",
       "│ 2013-08-01 ┆ USA06Z1 ┆ MDXG   ┆ 6.32   ┆ … ┆ 0.353329    ┆ 6.0865392e8 ┆ 131728.0   ┆ 0.01       │\n",
       "│ 2013-08-02 ┆ USA06Z1 ┆ MDXG   ┆ 6.31   ┆ … ┆ 0.363624    ┆ 6.0769086e8 ┆ 43252.0    ┆ 0.01       │\n",
       "│ 2013-08-05 ┆ USA06Z1 ┆ MDXG   ┆ 6.45   ┆ … ┆ 0.356596    ┆ 6.211737e8  ┆ 70944.0    ┆ 0.02       │\n",
       "│ 2013-08-06 ┆ USA06Z1 ┆ MDXG   ┆ 6.29   ┆ … ┆ 0.399196    ┆ 6.0576474e8 ┆ 77085.0    ┆ 0.01       │\n",
       "│ …          ┆ …       ┆ …      ┆ …      ┆ … ┆ …           ┆ …           ┆ …          ┆ …          │\n",
       "│ 2025-09-09 ┆ USBRKA2 ┆ GLIBA  ┆ 36.225 ┆ … ┆ 0.302514    ┆ 1.3226e8    ┆ 31025.0    ┆ 0.11       │\n",
       "│ 2025-09-10 ┆ USBRKA2 ┆ GLIBA  ┆ 36.24  ┆ … ┆ 0.29845     ┆ 1.3231e8    ┆ 6298.0     ┆ 0.21       │\n",
       "│ 2025-09-11 ┆ USBRKA2 ┆ GLIBA  ┆ 37.05  ┆ … ┆ 0.31384     ┆ 1.3527e8    ┆ 26857.0    ┆ 0.25       │\n",
       "│ 2025-09-12 ┆ USBRKA2 ┆ GLIBA  ┆ 36.17  ┆ … ┆ 0.328961    ┆ 1.3205e8    ┆ 8983.0     ┆ 0.16       │\n",
       "│ 2025-09-15 ┆ USBRKA2 ┆ GLIBA  ┆ 35.72  ┆ … ┆ 0.331983    ┆ 1.3041e8    ┆ 25995.0    ┆ 0.13       │\n",
       "└────────────┴─────────┴────────┴────────┴───┴─────────────┴─────────────┴────────────┴────────────┘"
      ]
     },
     "execution_count": 49,
     "metadata": {},
     "output_type": "execute_result"
    }
   ],
   "source": [
    "data"
   ]
  },
  {
   "cell_type": "code",
   "execution_count": 50,
   "id": "2824cd54",
   "metadata": {},
   "outputs": [
    {
     "data": {
      "text/html": [
       "<div><style>\n",
       ".dataframe > thead > tr,\n",
       ".dataframe > tbody > tr {\n",
       "  text-align: right;\n",
       "  white-space: pre-wrap;\n",
       "}\n",
       "</style>\n",
       "<small>shape: (2_769, 5)</small><table border=\"1\" class=\"dataframe\"><thead><tr><th>date</th><th>barrid</th><th>bab_weight</th><th>meanrev_weight</th><th>momentum_weight</th></tr><tr><td>date</td><td>str</td><td>f64</td><td>f64</td><td>f64</td></tr></thead><tbody><tr><td>2013-10-11</td><td>&quot;USA0C11&quot;</td><td>1.9935e-21</td><td>-9.5434e-8</td><td>-1.3485e-7</td></tr><tr><td>2013-10-11</td><td>&quot;USA0SY1&quot;</td><td>8.8849e-22</td><td>-1.8276e-8</td><td>0.024917</td></tr><tr><td>2013-10-11</td><td>&quot;USA1151&quot;</td><td>-6.3155e-21</td><td>-5.1204e-8</td><td>-9.3629e-8</td></tr><tr><td>2013-10-11</td><td>&quot;USA11I1&quot;</td><td>-9.3740e-22</td><td>-9.6132e-8</td><td>-1.4429e-7</td></tr><tr><td>2013-10-11</td><td>&quot;USA11J1&quot;</td><td>-4.6836e-21</td><td>-4.1885e-8</td><td>-8.7556e-8</td></tr><tr><td>&hellip;</td><td>&hellip;</td><td>&hellip;</td><td>&hellip;</td><td>&hellip;</td></tr><tr><td>2013-10-11</td><td>&quot;USBBAE1&quot;</td><td>-6.9315e-21</td><td>-4.5408e-8</td><td>null</td></tr><tr><td>2013-10-11</td><td>&quot;USBBBA1&quot;</td><td>-3.1905e-21</td><td>-4.8787e-8</td><td>null</td></tr><tr><td>2013-10-11</td><td>&quot;USBBCJ1&quot;</td><td>-3.2700e-21</td><td>-1.4778e-8</td><td>null</td></tr><tr><td>2013-10-11</td><td>&quot;USBBEE1&quot;</td><td>-9.3947e-21</td><td>null</td><td>null</td></tr><tr><td>2013-10-11</td><td>&quot;USBBFK1&quot;</td><td>-7.7050e-21</td><td>null</td><td>null</td></tr></tbody></table></div>"
      ],
      "text/plain": [
       "shape: (2_769, 5)\n",
       "┌────────────┬─────────┬─────────────┬────────────────┬─────────────────┐\n",
       "│ date       ┆ barrid  ┆ bab_weight  ┆ meanrev_weight ┆ momentum_weight │\n",
       "│ ---        ┆ ---     ┆ ---         ┆ ---            ┆ ---             │\n",
       "│ date       ┆ str     ┆ f64         ┆ f64            ┆ f64             │\n",
       "╞════════════╪═════════╪═════════════╪════════════════╪═════════════════╡\n",
       "│ 2013-10-11 ┆ USA0C11 ┆ 1.9935e-21  ┆ -9.5434e-8     ┆ -1.3485e-7      │\n",
       "│ 2013-10-11 ┆ USA0SY1 ┆ 8.8849e-22  ┆ -1.8276e-8     ┆ 0.024917        │\n",
       "│ 2013-10-11 ┆ USA1151 ┆ -6.3155e-21 ┆ -5.1204e-8     ┆ -9.3629e-8      │\n",
       "│ 2013-10-11 ┆ USA11I1 ┆ -9.3740e-22 ┆ -9.6132e-8     ┆ -1.4429e-7      │\n",
       "│ 2013-10-11 ┆ USA11J1 ┆ -4.6836e-21 ┆ -4.1885e-8     ┆ -8.7556e-8      │\n",
       "│ …          ┆ …       ┆ …           ┆ …              ┆ …               │\n",
       "│ 2013-10-11 ┆ USBBAE1 ┆ -6.9315e-21 ┆ -4.5408e-8     ┆ null            │\n",
       "│ 2013-10-11 ┆ USBBBA1 ┆ -3.1905e-21 ┆ -4.8787e-8     ┆ null            │\n",
       "│ 2013-10-11 ┆ USBBCJ1 ┆ -3.2700e-21 ┆ -1.4778e-8     ┆ null            │\n",
       "│ 2013-10-11 ┆ USBBEE1 ┆ -9.3947e-21 ┆ null           ┆ null            │\n",
       "│ 2013-10-11 ┆ USBBFK1 ┆ -7.7050e-21 ┆ null           ┆ null            │\n",
       "└────────────┴─────────┴─────────────┴────────────────┴─────────────────┘"
      ]
     },
     "execution_count": 50,
     "metadata": {},
     "output_type": "execute_result"
    }
   ],
   "source": [
    "#weights.select(\n",
    "    #pl.col(\"date\").n_unique().alias(\"date_unique\"),\n",
    "    #pl.col(\"barrid\").n_unique().alias(\"barrid_unique\"),\n",
    "    #pl.len().alias(\"date\"),\n",
    "#)\n",
    "from datetime import date\n",
    "weights.filter(pl.col(\"date\") == date(2013, 10, 11))"
   ]
  },
  {
   "cell_type": "code",
   "execution_count": 4,
   "id": "0cff484d",
   "metadata": {},
   "outputs": [],
   "source": [
    "weights_bab = (\n",
    "    weights\n",
    "    .select([\"date\", \"barrid\", \"bab_weight\"])\n",
    "    .rename({\"bab_weight\": \"weight\"})\n",
    "    .filter(pl.col(\"weight\").is_not_null())\n",
    "    .with_columns(pl.lit(\"bab\").alias(\"signal\"))\n",
    ")\n",
    "\n",
    "weights_meanrev = (\n",
    "    weights\n",
    "    .select([\"date\", \"barrid\", \"meanrev_weight\"])\n",
    "    .rename({\"meanrev_weight\": \"weight\"})\n",
    "    .filter(pl.col(\"weight\").is_not_null())\n",
    "    .with_columns(pl.lit(\"meanrev\").alias(\"signal\"))\n",
    ")\n",
    "\n",
    "weights_momentum = (\n",
    "    weights\n",
    "    .select([\"date\", \"barrid\", \"momentum_weight\"])\n",
    "    .rename({\"momentum_weight\": \"weight\"})\n",
    "    .filter(pl.col(\"weight\").is_not_null())\n",
    "    .with_columns(pl.lit(\"momentum\").alias(\"signal\"))\n",
    ")"
   ]
  },
  {
   "cell_type": "code",
   "execution_count": 30,
   "id": "d42951ae",
   "metadata": {},
   "outputs": [],
   "source": [
    "def task_compute_returns(weights: pl.DataFrame, data: pl.DataFrame) -> pl.DataFrame:\n",
    "    \"\"\" \n",
    "    Compute the optimal portfolio returns.\n",
    "\n",
    "    Args:\n",
    "        weights (pl.DataFrame): Data frame containing barrid, date, and weight columns.\n",
    "        data (pl.DataFrame): Data frame containing barrid, date, and return columns\n",
    "\n",
    "    Returns:\n",
    "        pl.DataFrame: Data frame containing date, fwd_return, and cumulative_fwd_return_columns\n",
    "    \"\"\"\n",
    "    return (                 \n",
    "        #this should be data joined onto weights because data is more consistently available than weights\n",
    "        data\n",
    "        .join(weights, on=['date', 'barrid'], how='left')\n",
    "        .select('date', 'barrid', 'weight', 'return')\n",
    "        .with_columns(\n",
    "            pl.col('return').truediv(100).alias('return_ratio')\n",
    "        )\n",
    "        .sort('barrid', 'date')\n",
    "        #shift signal weights forward in time to line them up with the return_ratios they will be combined with\n",
    "        .with_columns(\n",
    "            pl.col('weight').shift(1).over('barrid').alias('previous_weight')\n",
    "        )\n",
    "        #have to keep track of the day the signal is from \n",
    "        .with_columns(\n",
    "            pl.col('date').shift(1).over('barrid').alias('previous_weight_date')\n",
    "        )\n",
    "        .drop_nulls('previous_weight')\n",
    "        .with_columns(\n",
    "            pl.col('return_ratio').mul('previous_weight').alias('evaluated_return')\n",
    "        )\n",
    "        .group_by('date', 'previous_weight_date')\n",
    "        .agg(\n",
    "            #create candidate totals for every ('date', 'previous_weight_date') pair \n",
    "            pl.col('evaluated_return').sum().alias('daily_total_evaluated_return'),\n",
    "            #measure the distance from 1 of the weight sums of each ('date', 'previous_weight_date') pair \n",
    "            pl.col('weight').sum().sub(1).alias('total_weight_error')\n",
    "        )\n",
    "        .with_columns(\n",
    "            #check on whether weight sum error is pos or negative because it's weird \n",
    "            pl.col('total_weight_error').abs().alias('abs_weight_error')\n",
    "        )\n",
    "        #rank the abs_weight_error within each date and choose the row with the lowest error\n",
    "        .sort('date', 'abs_weight_error')\n",
    "        .with_columns(\n",
    "            pl.col('abs_weight_error').rank('ordinal').over('date').alias('error_rank')\n",
    "        )\n",
    "        .filter(pl.col('error_rank') == 1)\n",
    "        .sort('date')\n",
    "        .with_columns(\n",
    "            pl.col('daily_total_evaluated_return').add(1).cum_prod().sub(1).alias('cumulative_return')\n",
    "        )\n",
    "        .with_columns(\n",
    "            pl.col('daily_total_evaluated_return', 'cumulative_return').mul(100)\n",
    "        )   \n",
    "    )            "
   ]
  },
  {
   "cell_type": "code",
   "execution_count": 41,
   "id": "cc7dc3ac",
   "metadata": {},
   "outputs": [],
   "source": [
    "def task_compute_returns2(weights: pl.DataFrame, data: pl.DataFrame) -> pl.DataFrame:\n",
    "    \"\"\" \n",
    "    Compute the optimal portfolio returns.\n",
    "\n",
    "    Args:\n",
    "        weights (pl.DataFrame): Data frame containing barrid, date, and weight columns.\n",
    "        data (pl.DataFrame): Data frame containing barrid, date, and return columns\n",
    "\n",
    "    Returns:\n",
    "        pl.DataFrame: Data frame containing date, fwd_return, and cumulative_fwd_return_columns\n",
    "    \"\"\"\n",
    "    return (                 \n",
    "        #this should be data joined onto weights because data is more consistently available than weights\n",
    "        data\n",
    "        .join(weights, on=['date', 'barrid'], how='left')\n",
    "        .select('date', 'barrid', 'weight', 'return')\n",
    "        .with_columns(\n",
    "            pl.col('return').truediv(100).alias('return_ratio')\n",
    "        )\n",
    "        .sort('barrid', 'date')\n",
    "        #shift return_ratios back to line them up with the signal weights \n",
    "        .with_columns(\n",
    "            pl.col('return_ratio').shift(-1).over('barrid').alias('forward_return')\n",
    "        )\n",
    "        .drop_nulls('forward_return')\n",
    "        .sort('date')\n",
    "        .with_columns(\n",
    "            pl.col('forward_return').mul('weight').alias('daily_evaluated_return')\n",
    "        )\n",
    "        #.group_by('date')\n",
    "        #.agg(\n",
    "            #pl.col('weight').sum().alias('weight_sum')\n",
    "        #)\n",
    "        .with_columns(\n",
    "            pl.col('daily_evaluated_return').add(1).cum_prod().sub(1).alias('cumulative_return')\n",
    "        )\n",
    "        .with_columns(\n",
    "            pl.col('daily_evaluated_return', 'cumulative_return').mul(100)\n",
    "        )   \n",
    "    )  "
   ]
  },
  {
   "cell_type": "code",
   "execution_count": 39,
   "id": "50923644",
   "metadata": {},
   "outputs": [
    {
     "data": {
      "text/html": [
       "<div><style>\n",
       ".dataframe > thead > tr,\n",
       ".dataframe > tbody > tr {\n",
       "  text-align: right;\n",
       "  white-space: pre-wrap;\n",
       "}\n",
       "</style>\n",
       "<small>shape: (7_601, 2)</small><table border=\"1\" class=\"dataframe\"><thead><tr><th>date</th><th>weight_sum</th></tr><tr><td>date</td><td>f64</td></tr></thead><tbody><tr><td>1995-06-30</td><td>1.0</td></tr><tr><td>1995-07-03</td><td>1.0</td></tr><tr><td>1995-07-05</td><td>1.0</td></tr><tr><td>1995-07-06</td><td>1.0</td></tr><tr><td>1995-07-07</td><td>1.0</td></tr><tr><td>&hellip;</td><td>&hellip;</td></tr><tr><td>2025-09-08</td><td>1.0</td></tr><tr><td>2025-09-09</td><td>1.0</td></tr><tr><td>2025-09-10</td><td>1.0</td></tr><tr><td>2025-09-11</td><td>1.0</td></tr><tr><td>2025-09-12</td><td>1.0</td></tr></tbody></table></div>"
      ],
      "text/plain": [
       "shape: (7_601, 2)\n",
       "┌────────────┬────────────┐\n",
       "│ date       ┆ weight_sum │\n",
       "│ ---        ┆ ---        │\n",
       "│ date       ┆ f64        │\n",
       "╞════════════╪════════════╡\n",
       "│ 1995-06-30 ┆ 1.0        │\n",
       "│ 1995-07-03 ┆ 1.0        │\n",
       "│ 1995-07-05 ┆ 1.0        │\n",
       "│ 1995-07-06 ┆ 1.0        │\n",
       "│ 1995-07-07 ┆ 1.0        │\n",
       "│ …          ┆ …          │\n",
       "│ 2025-09-08 ┆ 1.0        │\n",
       "│ 2025-09-09 ┆ 1.0        │\n",
       "│ 2025-09-10 ┆ 1.0        │\n",
       "│ 2025-09-11 ┆ 1.0        │\n",
       "│ 2025-09-12 ┆ 1.0        │\n",
       "└────────────┴────────────┘"
      ]
     },
     "execution_count": 39,
     "metadata": {},
     "output_type": "execute_result"
    }
   ],
   "source": [
    "returns_bab = task_compute_returns2(weights_bab, data)\n",
    "\n",
    "returns_bab"
   ]
  },
  {
   "cell_type": "code",
   "execution_count": 42,
   "id": "9e05544b",
   "metadata": {},
   "outputs": [
    {
     "data": {
      "text/html": [
       "<div><style>\n",
       ".dataframe > thead > tr,\n",
       ".dataframe > tbody > tr {\n",
       "  text-align: right;\n",
       "  white-space: pre-wrap;\n",
       "}\n",
       "</style>\n",
       "<small>shape: (22_352_761, 8)</small><table border=\"1\" class=\"dataframe\"><thead><tr><th>date</th><th>barrid</th><th>weight</th><th>return</th><th>return_ratio</th><th>forward_return</th><th>daily_evaluated_return</th><th>cumulative_return</th></tr><tr><td>date</td><td>str</td><td>f64</td><td>f64</td><td>f64</td><td>f64</td><td>f64</td><td>f64</td></tr></thead><tbody><tr><td>1995-06-30</td><td>&quot;USAA191&quot;</td><td>null</td><td>5.1471</td><td>0.051471</td><td>-0.013986</td><td>null</td><td>null</td></tr><tr><td>1995-06-30</td><td>&quot;USAA1W1&quot;</td><td>null</td><td>5.7971</td><td>0.057971</td><td>0.0</td><td>null</td><td>null</td></tr><tr><td>1995-06-30</td><td>&quot;USAA1Y1&quot;</td><td>null</td><td>2.8777</td><td>0.028777</td><td>-0.017483</td><td>null</td><td>null</td></tr><tr><td>1995-06-30</td><td>&quot;USAA2L1&quot;</td><td>null</td><td>3.6585</td><td>0.036585</td><td>0.002941</td><td>null</td><td>null</td></tr><tr><td>1995-06-30</td><td>&quot;USAA311&quot;</td><td>null</td><td>2.0134</td><td>0.020134</td><td>-0.006579</td><td>null</td><td>null</td></tr><tr><td>&hellip;</td><td>&hellip;</td><td>&hellip;</td><td>&hellip;</td><td>&hellip;</td><td>&hellip;</td><td>&hellip;</td><td>&hellip;</td></tr><tr><td>2025-09-12</td><td>&quot;USBQZR1&quot;</td><td>-2.1191e-20</td><td>4.2226</td><td>0.042226</td><td>-0.041651</td><td>8.8264e-20</td><td>531832.744717</td></tr><tr><td>2025-09-12</td><td>&quot;USBRGT1&quot;</td><td>-9.4212e-19</td><td>-3.7279</td><td>-0.037279</td><td>0.0</td><td>-0.0</td><td>531832.744717</td></tr><tr><td>2025-09-12</td><td>&quot;USBRH21&quot;</td><td>-3.0491e-19</td><td>-0.6405</td><td>-0.006405</td><td>0.011281</td><td>-3.4397e-19</td><td>531832.744717</td></tr><tr><td>2025-09-12</td><td>&quot;USBRKA1&quot;</td><td>-1.4874e-18</td><td>-1.5651</td><td>-0.015651</td><td>-0.021757</td><td>3.2361e-18</td><td>531832.744717</td></tr><tr><td>2025-09-12</td><td>&quot;USBRKA2&quot;</td><td>-1.4333e-18</td><td>-2.3752</td><td>-0.023752</td><td>-0.012441</td><td>1.7832e-18</td><td>531832.744717</td></tr></tbody></table></div>"
      ],
      "text/plain": [
       "shape: (22_352_761, 8)\n",
       "┌────────────┬─────────┬─────────────┬─────────┬────────────┬────────────┬────────────┬────────────┐\n",
       "│ date       ┆ barrid  ┆ weight      ┆ return  ┆ return_rat ┆ forward_re ┆ daily_eval ┆ cumulative │\n",
       "│ ---        ┆ ---     ┆ ---         ┆ ---     ┆ io         ┆ turn       ┆ uated_retu ┆ _return    │\n",
       "│ date       ┆ str     ┆ f64         ┆ f64     ┆ ---        ┆ ---        ┆ rn         ┆ ---        │\n",
       "│            ┆         ┆             ┆         ┆ f64        ┆ f64        ┆ ---        ┆ f64        │\n",
       "│            ┆         ┆             ┆         ┆            ┆            ┆ f64        ┆            │\n",
       "╞════════════╪═════════╪═════════════╪═════════╪════════════╪════════════╪════════════╪════════════╡\n",
       "│ 1995-06-30 ┆ USAA191 ┆ null        ┆ 5.1471  ┆ 0.051471   ┆ -0.013986  ┆ null       ┆ null       │\n",
       "│ 1995-06-30 ┆ USAA1W1 ┆ null        ┆ 5.7971  ┆ 0.057971   ┆ 0.0        ┆ null       ┆ null       │\n",
       "│ 1995-06-30 ┆ USAA1Y1 ┆ null        ┆ 2.8777  ┆ 0.028777   ┆ -0.017483  ┆ null       ┆ null       │\n",
       "│ 1995-06-30 ┆ USAA2L1 ┆ null        ┆ 3.6585  ┆ 0.036585   ┆ 0.002941   ┆ null       ┆ null       │\n",
       "│ 1995-06-30 ┆ USAA311 ┆ null        ┆ 2.0134  ┆ 0.020134   ┆ -0.006579  ┆ null       ┆ null       │\n",
       "│ …          ┆ …       ┆ …           ┆ …       ┆ …          ┆ …          ┆ …          ┆ …          │\n",
       "│ 2025-09-12 ┆ USBQZR1 ┆ -2.1191e-20 ┆ 4.2226  ┆ 0.042226   ┆ -0.041651  ┆ 8.8264e-20 ┆ 531832.744 │\n",
       "│            ┆         ┆             ┆         ┆            ┆            ┆            ┆ 717        │\n",
       "│ 2025-09-12 ┆ USBRGT1 ┆ -9.4212e-19 ┆ -3.7279 ┆ -0.037279  ┆ 0.0        ┆ -0.0       ┆ 531832.744 │\n",
       "│            ┆         ┆             ┆         ┆            ┆            ┆            ┆ 717        │\n",
       "│ 2025-09-12 ┆ USBRH21 ┆ -3.0491e-19 ┆ -0.6405 ┆ -0.006405  ┆ 0.011281   ┆ -3.4397e-1 ┆ 531832.744 │\n",
       "│            ┆         ┆             ┆         ┆            ┆            ┆ 9          ┆ 717        │\n",
       "│ 2025-09-12 ┆ USBRKA1 ┆ -1.4874e-18 ┆ -1.5651 ┆ -0.015651  ┆ -0.021757  ┆ 3.2361e-18 ┆ 531832.744 │\n",
       "│            ┆         ┆             ┆         ┆            ┆            ┆            ┆ 717        │\n",
       "│ 2025-09-12 ┆ USBRKA2 ┆ -1.4333e-18 ┆ -2.3752 ┆ -0.023752  ┆ -0.012441  ┆ 1.7832e-18 ┆ 531832.744 │\n",
       "│            ┆         ┆             ┆         ┆            ┆            ┆            ┆ 717        │\n",
       "└────────────┴─────────┴─────────────┴─────────┴────────────┴────────────┴────────────┴────────────┘"
      ]
     },
     "execution_count": 42,
     "metadata": {},
     "output_type": "execute_result"
    }
   ],
   "source": [
    "returns_meanrev = task_compute_returns2(weights_meanrev, data)\n",
    "\n",
    "returns_meanrev"
   ]
  },
  {
   "cell_type": "code",
   "execution_count": 34,
   "id": "e5b483f6",
   "metadata": {},
   "outputs": [
    {
     "data": {
      "text/html": [
       "<div><style>\n",
       ".dataframe > thead > tr,\n",
       ".dataframe > tbody > tr {\n",
       "  text-align: right;\n",
       "  white-space: pre-wrap;\n",
       "}\n",
       "</style>\n",
       "<small>shape: (22_352_761, 8)</small><table border=\"1\" class=\"dataframe\"><thead><tr><th>date</th><th>barrid</th><th>weight</th><th>return</th><th>return_ratio</th><th>forward_return</th><th>daily_evaluated_return</th><th>cumulative_return</th></tr><tr><td>date</td><td>str</td><td>f64</td><td>f64</td><td>f64</td><td>f64</td><td>f64</td><td>f64</td></tr></thead><tbody><tr><td>1995-06-30</td><td>&quot;USAA191&quot;</td><td>null</td><td>5.1471</td><td>0.051471</td><td>-0.013986</td><td>null</td><td>null</td></tr><tr><td>1995-06-30</td><td>&quot;USAA1W1&quot;</td><td>null</td><td>5.7971</td><td>0.057971</td><td>0.0</td><td>null</td><td>null</td></tr><tr><td>1995-06-30</td><td>&quot;USAA1Y1&quot;</td><td>null</td><td>2.8777</td><td>0.028777</td><td>-0.017483</td><td>null</td><td>null</td></tr><tr><td>1995-06-30</td><td>&quot;USAA2L1&quot;</td><td>null</td><td>3.6585</td><td>0.036585</td><td>0.002941</td><td>null</td><td>null</td></tr><tr><td>1995-06-30</td><td>&quot;USAA311&quot;</td><td>null</td><td>2.0134</td><td>0.020134</td><td>-0.006579</td><td>null</td><td>null</td></tr><tr><td>&hellip;</td><td>&hellip;</td><td>&hellip;</td><td>&hellip;</td><td>&hellip;</td><td>&hellip;</td><td>&hellip;</td><td>&hellip;</td></tr><tr><td>2025-09-12</td><td>&quot;USBQZR1&quot;</td><td>null</td><td>4.2226</td><td>0.042226</td><td>-0.041651</td><td>null</td><td>null</td></tr><tr><td>2025-09-12</td><td>&quot;USBRGT1&quot;</td><td>null</td><td>-3.7279</td><td>-0.037279</td><td>0.0</td><td>null</td><td>null</td></tr><tr><td>2025-09-12</td><td>&quot;USBRH21&quot;</td><td>null</td><td>-0.6405</td><td>-0.006405</td><td>0.011281</td><td>null</td><td>null</td></tr><tr><td>2025-09-12</td><td>&quot;USBRKA1&quot;</td><td>null</td><td>-1.5651</td><td>-0.015651</td><td>-0.021757</td><td>null</td><td>null</td></tr><tr><td>2025-09-12</td><td>&quot;USBRKA2&quot;</td><td>null</td><td>-2.3752</td><td>-0.023752</td><td>-0.012441</td><td>null</td><td>null</td></tr></tbody></table></div>"
      ],
      "text/plain": [
       "shape: (22_352_761, 8)\n",
       "┌────────────┬─────────┬────────┬─────────┬──────────────┬─────────────┬─────────────┬─────────────┐\n",
       "│ date       ┆ barrid  ┆ weight ┆ return  ┆ return_ratio ┆ forward_ret ┆ daily_evalu ┆ cumulative_ │\n",
       "│ ---        ┆ ---     ┆ ---    ┆ ---     ┆ ---          ┆ urn         ┆ ated_return ┆ return      │\n",
       "│ date       ┆ str     ┆ f64    ┆ f64     ┆ f64          ┆ ---         ┆ ---         ┆ ---         │\n",
       "│            ┆         ┆        ┆         ┆              ┆ f64         ┆ f64         ┆ f64         │\n",
       "╞════════════╪═════════╪════════╪═════════╪══════════════╪═════════════╪═════════════╪═════════════╡\n",
       "│ 1995-06-30 ┆ USAA191 ┆ null   ┆ 5.1471  ┆ 0.051471     ┆ -0.013986   ┆ null        ┆ null        │\n",
       "│ 1995-06-30 ┆ USAA1W1 ┆ null   ┆ 5.7971  ┆ 0.057971     ┆ 0.0         ┆ null        ┆ null        │\n",
       "│ 1995-06-30 ┆ USAA1Y1 ┆ null   ┆ 2.8777  ┆ 0.028777     ┆ -0.017483   ┆ null        ┆ null        │\n",
       "│ 1995-06-30 ┆ USAA2L1 ┆ null   ┆ 3.6585  ┆ 0.036585     ┆ 0.002941    ┆ null        ┆ null        │\n",
       "│ 1995-06-30 ┆ USAA311 ┆ null   ┆ 2.0134  ┆ 0.020134     ┆ -0.006579   ┆ null        ┆ null        │\n",
       "│ …          ┆ …       ┆ …      ┆ …       ┆ …            ┆ …           ┆ …           ┆ …           │\n",
       "│ 2025-09-12 ┆ USBQZR1 ┆ null   ┆ 4.2226  ┆ 0.042226     ┆ -0.041651   ┆ null        ┆ null        │\n",
       "│ 2025-09-12 ┆ USBRGT1 ┆ null   ┆ -3.7279 ┆ -0.037279    ┆ 0.0         ┆ null        ┆ null        │\n",
       "│ 2025-09-12 ┆ USBRH21 ┆ null   ┆ -0.6405 ┆ -0.006405    ┆ 0.011281    ┆ null        ┆ null        │\n",
       "│ 2025-09-12 ┆ USBRKA1 ┆ null   ┆ -1.5651 ┆ -0.015651    ┆ -0.021757   ┆ null        ┆ null        │\n",
       "│ 2025-09-12 ┆ USBRKA2 ┆ null   ┆ -2.3752 ┆ -0.023752    ┆ -0.012441   ┆ null        ┆ null        │\n",
       "└────────────┴─────────┴────────┴─────────┴──────────────┴─────────────┴─────────────┴─────────────┘"
      ]
     },
     "execution_count": 34,
     "metadata": {},
     "output_type": "execute_result"
    }
   ],
   "source": [
    "returns_momentum = task_compute_returns2(weights_momentum, data)\n",
    "\n",
    "returns_momentum"
   ]
  },
  {
   "cell_type": "code",
   "execution_count": null,
   "id": "06dca4a4",
   "metadata": {},
   "outputs": [
    {
     "name": "stderr",
     "output_type": "stream",
     "text": [
      "/Users/jaroldeen/Code/orthogonal-alphas/.venv/lib/python3.13/site-packages/IPython/core/pylabtools.py:170: UserWarning: Creating legend with loc=\"best\" can be slow with large amounts of data.\n",
      "  fig.canvas.print_figure(bytes_io, **kw)\n"
     ]
    },
    {
     "data": {
      "image/png": "[encoded data removed]",
      "text/plain": [
       "<Figure size 1000x600 with 1 Axes>"
      ]
     },
     "metadata": {},
     "output_type": "display_data"
    }
   ],
   "source": [
    "plt.figure(figsize=(10, 6))\n",
    "\n",
    "# Plot each signal separately\n",
    "# plt.plot(returns_bab[\"date\"], returns_bab[\"cumulative_return\"], label=\"bab\")\n",
    "plt.plot(returns_meanrev[\"date\"], returns_meanrev[\"cumulative_return\"], label=\"meanrev\")\n",
    "# plt.plot(returns_momentum[\"date\"], returns_momentum[\"cumulative_return\"], label=\"momentum\")\n",
    "\n",
    "# Labels & legend\n",
    "plt.xlabel(None)\n",
    "plt.ylabel(\"Cumulative Return (%)\")\n",
    "plt.title(\"Cumulative Returns by Signal\")\n",
    "plt.legend()\n",
    "plt.tight_layout()\n",
    "plt.show()"
   ]
  },
  {
   "cell_type": "code",
   "execution_count": null,
   "id": "be8e0f47",
   "metadata": {},
   "outputs": [],
   "source": []
  }
 ],
 "metadata": {
  "kernelspec": {
   "display_name": "orthogonal-alphas",
   "language": "python",
   "name": "python3"
  },
  "language_info": {
   "codemirror_mode": {
    "name": "ipython",
    "version": 3
   },
   "file_extension": ".py",
   "mimetype": "text/x-python",
   "name": "python",
   "nbconvert_exporter": "python",
   "pygments_lexer": "ipython3",
   "version": "3.13.1"
  }
 },
 "nbformat": 4,
 "nbformat_minor": 5
}
