{
 "cells": [
  {
   "cell_type": "code",
   "execution_count": null,
   "id": "d315eba7",
   "metadata": {},
   "outputs": [
    {
     "name": "stderr",
     "output_type": "stream",
     "text": [
      "/home/kylecm11/silver_fund/orthogonal-alphas/.venv/lib/python3.13/site-packages/tqdm/auto.py:21: TqdmWarning: IProgress not found. Please update jupyter and ipywidgets. See https://ipywidgets.readthedocs.io/en/stable/user_install.html\n",
      "  from .autonotebook import tqdm as notebook_tqdm\n",
      "2025-09-27 10:53:51,704\tINFO util.py:154 -- Missing packages: ['ipywidgets']. Run `pip install -U ipywidgets`, then restart the notebook server for rich notebook output.\n"
     ]
    }
   ],
   "source": [
    "import sf_quant.data as sfd\n",
    "import sf_quant.optimizer as sfo\n",
    "import sf_quant.backtester as sfb\n",
    "import sf_quant.performance as sfp\n",
    "import polars as pl\n",
    "import datetime as dt\n",
    "import tqdm"
   ]
  },
  {
   "cell_type": "code",
   "execution_count": 3,
   "id": "79e9fd83",
   "metadata": {},
   "outputs": [],
   "source": [
    "df = pl.read_parquet('../russell_3000_daily.parquet')"
   ]
  },
  {
   "cell_type": "code",
   "execution_count": 5,
   "id": "9bad91aa",
   "metadata": {},
   "outputs": [],
   "source": [
    "IC = 0.05\n",
    "\n",
    "df = (\n",
    "    df.lazy()\n",
    "    .sort([\"barrid\", \"date\"])\n",
    "    .with_columns([ # Convert nasty percents to nice fractions\n",
    "        pl.col('specific_risk').truediv(100),\n",
    "        pl.col('return').truediv(100),\n",
    "        pl.col('specific_return').truediv(100)\n",
    "    ])\n",
    "    .with_columns(\n",
    "        pl.col('return').log1p().alias('log_return')\n",
    "    )\n",
    "    .with_columns(\n",
    "        pl.col(\"log_return\")\n",
    "            .rolling_sum(230)\n",
    "            .over(\"barrid\")\n",
    "            .alias(\"momentum_temp\")\n",
    "    )\n",
    "    .with_columns(\n",
    "        pl.col(\"momentum_temp\").shift(22).over(\"barrid\").alias(\"momentum\")\n",
    "    )\n",
    "    .with_columns(\n",
    "        pl.col(\"log_return\")\n",
    "            .rolling_sum(22)\n",
    "            .over(\"barrid\")\n",
    "            .alias(\"meanrev_temp\")\n",
    "    )\n",
    "    .with_columns(\n",
    "        (-pl.col(\"meanrev_temp\").shift(1).over(\"barrid\")).alias(\"meanrev\")\n",
    "    )\n",
    "    .with_columns(\n",
    "        (-pl.col(\"predicted_beta\")).alias(\"bab\")\n",
    "    )\n",
    "    .with_columns([ # Add signal z-scores\n",
    "        ((pl.col(\"momentum\") - pl.col(\"momentum\").mean().over(\"date\")) \n",
    "     / pl.col(\"momentum\").std().over(\"date\")).alias(\"momentum_z\"),\n",
    "        ((pl.col(\"meanrev\") - pl.col(\"meanrev\").mean().over(\"date\")) \n",
    "     / pl.col(\"meanrev\").std().over(\"date\")).alias(\"meanrev_z\"),\n",
    "        ((pl.col(\"bab\") - pl.col(\"bab\").mean().over(\"date\")) \n",
    "     / pl.col(\"bab\").std().over(\"date\")).alias(\"bab_z\")\n",
    "    ])\n",
    "    .with_columns([ # Add signal alphas, using alpha = IC * specific_risk * z-score\n",
    "        (IC * pl.col(\"specific_risk\") * pl.col(\"momentum_z\")).alias(\"momentum_alpha\"),\n",
    "        (IC * pl.col(\"specific_risk\") * pl.col(\"meanrev_z\")).alias(\"meanrev_alpha\"),\n",
    "        (IC * pl.col(\"specific_risk\") * pl.col(\"bab_z\")).alias(\"bab_alpha\")\n",
    "    ])\n",
    "    .drop([\"momentum_temp\", \"meanrev_temp\"])\n",
    "    .collect()\n",
    ")"
   ]
  },
  {
   "cell_type": "code",
   "execution_count": 6,
   "id": "b47d8702",
   "metadata": {},
   "outputs": [
    {
     "name": "stdout",
     "output_type": "stream",
     "text": [
      "(22363472, 22)\n",
      "(18411839, 22)\n"
     ]
    }
   ],
   "source": [
    "# Need to add filter here to drop nulls, low prices, etc.\n",
    "print(df.shape)\n",
    "\n",
    "df = (df.sort('barrid', 'date')\n",
    "        .with_columns(\n",
    "            pl.col('price').shift(1).over('barrid').alias('price_lag')\n",
    "        )\n",
    "        .filter(\n",
    "            pl.col('price').gt(5),\n",
    "            pl.col('momentum').is_not_null(),\n",
    "            pl.col('meanrev').is_not_null(),\n",
    "            pl.col('bab').is_not_null()\n",
    "        )\n",
    "        .sort('barrid', 'date')\n",
    "        .drop('price_lag')\n",
    "    )\n",
    "\n",
    "print(df.shape)\n"
   ]
  },
  {
   "cell_type": "code",
   "execution_count": 7,
   "id": "04326c7a",
   "metadata": {},
   "outputs": [],
   "source": [
    "df.write_parquet('signal_data.parquet')"
   ]
  },
  {
   "cell_type": "code",
   "execution_count": null,
   "id": "fe880dc2",
   "metadata": {},
   "outputs": [
    {
     "name": "stderr",
     "output_type": "stream",
     "text": [
      "2025-09-27 10:56:02,358\tINFO worker.py:1951 -- Started a local Ray instance.\n"
     ]
    }
   ],
   "source": [
    "constraints = [\n",
    "    sfo.FullInvestment(),\n",
    "    sfo.LongOnly(),\n",
    "    sfo.NoBuyingOnMargin(),\n",
    "    sfo.UnitBeta()\n",
    "]\n",
    "\n",
    "momentum_weights = sfb.backtest_parallel(df.rename({'momentum_alpha': 'alpha'}), constraints, 2)"
   ]
  }
 ],
 "metadata": {
  "kernelspec": {
   "display_name": "orthogonal-alphas",
   "language": "python",
   "name": "python3"
  },
  "language_info": {
   "codemirror_mode": {
    "name": "ipython",
    "version": 3
   },
   "file_extension": ".py",
   "mimetype": "text/x-python",
   "name": "python",
   "nbconvert_exporter": "python",
   "pygments_lexer": "ipython3",
   "version": "3.13.7"
  }
 },
 "nbformat": 4,
 "nbformat_minor": 5
}
