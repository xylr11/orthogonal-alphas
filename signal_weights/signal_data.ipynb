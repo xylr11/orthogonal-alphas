{
 "cells": [
  {
   "cell_type": "code",
   "execution_count": 1,
   "id": "d315eba7",
   "metadata": {},
   "outputs": [
    {
     "name": "stderr",
     "output_type": "stream",
     "text": [
      "/home/kylecm11/silver_fund/orthogonal-alphas/.venv/lib/python3.13/site-packages/tqdm/auto.py:21: TqdmWarning: IProgress not found. Please update jupyter and ipywidgets. See https://ipywidgets.readthedocs.io/en/stable/user_install.html\n",
      "  from .autonotebook import tqdm as notebook_tqdm\n",
      "2025-10-08 16:35:49,477\tINFO util.py:154 -- Missing packages: ['ipywidgets']. Run `pip install -U ipywidgets`, then restart the notebook server for rich notebook output.\n"
     ]
    }
   ],
   "source": [
    "import sf_quant.data as sfd\n",
    "import sf_quant.optimizer as sfo\n",
    "import sf_quant.backtester as sfb\n",
    "import sf_quant.performance as sfp\n",
    "import polars as pl\n",
    "import datetime as dt\n",
    "import tqdm"
   ]
  },
  {
   "cell_type": "code",
   "execution_count": 4,
   "id": "7db7bb28",
   "metadata": {},
   "outputs": [],
   "source": [
    "bl = pl.read_parquet('bl_weights/bl_weights_pivot.parquet')"
   ]
  },
  {
   "cell_type": "code",
   "execution_count": 5,
   "id": "2eec42e0",
   "metadata": {},
   "outputs": [
    {
     "data": {
      "text/html": [
       "<div><style>\n",
       ".dataframe > thead > tr,\n",
       ".dataframe > tbody > tr {\n",
       "  text-align: right;\n",
       "  white-space: pre-wrap;\n",
       "}\n",
       "</style>\n",
       "<small>shape: (21_077_080, 3)</small><table border=\"1\" class=\"dataframe\"><thead><tr><th>date</th><th>barrid</th><th>weight</th></tr><tr><td>date</td><td>str</td><td>f64</td></tr></thead><tbody><tr><td>1996-07-16</td><td>&quot;USAA191&quot;</td><td>-2.3810e-7</td></tr><tr><td>1996-07-16</td><td>&quot;USAA1Y1&quot;</td><td>0.000382</td></tr><tr><td>1996-07-16</td><td>&quot;USAA251&quot;</td><td>-7.3626e-8</td></tr><tr><td>1996-07-16</td><td>&quot;USAA311&quot;</td><td>0.000317</td></tr><tr><td>1996-07-16</td><td>&quot;USAA3I1&quot;</td><td>-1.4242e-7</td></tr><tr><td>&hellip;</td><td>&hellip;</td><td>&hellip;</td></tr><tr><td>2024-12-31</td><td>&quot;USBQNC1&quot;</td><td>8.8906e-8</td></tr><tr><td>2024-12-31</td><td>&quot;USBQND1&quot;</td><td>1.4242e-8</td></tr><tr><td>2024-12-31</td><td>&quot;USBQO11&quot;</td><td>0.000009</td></tr><tr><td>2024-12-31</td><td>&quot;USBQOE1&quot;</td><td>0.000049</td></tr><tr><td>2024-12-31</td><td>&quot;USBQOR1&quot;</td><td>0.000079</td></tr></tbody></table></div>"
      ],
      "text/plain": [
       "shape: (21_077_080, 3)\n",
       "┌────────────┬─────────┬────────────┐\n",
       "│ date       ┆ barrid  ┆ weight     │\n",
       "│ ---        ┆ ---     ┆ ---        │\n",
       "│ date       ┆ str     ┆ f64        │\n",
       "╞════════════╪═════════╪════════════╡\n",
       "│ 1996-07-16 ┆ USAA191 ┆ -2.3810e-7 │\n",
       "│ 1996-07-16 ┆ USAA1Y1 ┆ 0.000382   │\n",
       "│ 1996-07-16 ┆ USAA251 ┆ -7.3626e-8 │\n",
       "│ 1996-07-16 ┆ USAA311 ┆ 0.000317   │\n",
       "│ 1996-07-16 ┆ USAA3I1 ┆ -1.4242e-7 │\n",
       "│ …          ┆ …       ┆ …          │\n",
       "│ 2024-12-31 ┆ USBQNC1 ┆ 8.8906e-8  │\n",
       "│ 2024-12-31 ┆ USBQND1 ┆ 1.4242e-8  │\n",
       "│ 2024-12-31 ┆ USBQO11 ┆ 0.000009   │\n",
       "│ 2024-12-31 ┆ USBQOE1 ┆ 0.000049   │\n",
       "│ 2024-12-31 ┆ USBQOR1 ┆ 0.000079   │\n",
       "└────────────┴─────────┴────────────┘"
      ]
     },
     "execution_count": 5,
     "metadata": {},
     "output_type": "execute_result"
    }
   ],
   "source": [
    "bl"
   ]
  },
  {
   "cell_type": "code",
   "execution_count": 3,
   "id": "79e9fd83",
   "metadata": {},
   "outputs": [],
   "source": [
    "df = pl.read_parquet('../russell_3000_daily.parquet')"
   ]
  },
  {
   "cell_type": "code",
   "execution_count": null,
   "id": "9bad91aa",
   "metadata": {},
   "outputs": [],
   "source": [
    "IC = 0.05\n",
    "\n",
    "df = (\n",
    "    df.lazy()\n",
    "    .sort([\"barrid\", \"date\"])\n",
    "    .with_columns([ # Convert nasty percents to nice fractions\n",
    "        pl.col('specific_risk').truediv(100),\n",
    "        pl.col('return').truediv(100),\n",
    "        pl.col('specific_return').truediv(100)\n",
    "    ])\n",
    "    .with_columns(\n",
    "        pl.col('return').log1p().alias('log_return')\n",
    "    )\n",
    "    .with_columns(\n",
    "        pl.col(\"log_return\")\n",
    "            .rolling_sum(230)\n",
    "            .over(\"barrid\")\n",
    "            .alias(\"momentum_temp\")\n",
    "    )\n",
    "    .with_columns(\n",
    "        pl.col(\"momentum_temp\").shift(22).over(\"barrid\").alias(\"momentum\")\n",
    "    )\n",
    "    .with_columns(\n",
    "        pl.col(\"log_return\")\n",
    "            .rolling_sum(22)\n",
    "            .over(\"barrid\")\n",
    "            .alias(\"meanrev_temp\")\n",
    "    )\n",
    "    .with_columns(\n",
    "        (-pl.col(\"meanrev_temp\")).alias(\"meanrev\")\n",
    "    )\n",
    "    .with_columns(\n",
    "        (-pl.col(\"predicted_beta\")).alias(\"bab\")\n",
    "    )\n",
    "    .with_columns([ # Add signal z-scores\n",
    "        ((pl.col(\"momentum\") - pl.col(\"momentum\").mean().over(\"date\")) \n",
    "     / pl.col(\"momentum\").std().over(\"date\")).alias(\"momentum_z\"),\n",
    "        ((pl.col(\"meanrev\") - pl.col(\"meanrev\").mean().over(\"date\")) \n",
    "     / pl.col(\"meanrev\").std().over(\"date\")).alias(\"meanrev_z\"),\n",
    "        ((pl.col(\"bab\") - pl.col(\"bab\").mean().over(\"date\")) \n",
    "     / pl.col(\"bab\").std().over(\"date\")).alias(\"bab_z\")\n",
    "    ])\n",
    "    .with_columns([ # Add signal alphas, using alpha = IC * specific_risk * z-score\n",
    "        (IC * pl.col(\"specific_risk\") * pl.col(\"momentum_z\")).alias(\"momentum_alpha\"),\n",
    "        (IC * pl.col(\"specific_risk\") * pl.col(\"meanrev_z\")).alias(\"meanrev_alpha\"),\n",
    "        (IC * pl.col(\"specific_risk\") * pl.col(\"bab_z\")).alias(\"bab_alpha\")\n",
    "    ])\n",
    "    .drop([\"momentum_temp\", \"meanrev_temp\"])\n",
    "    .collect()\n",
    ")"
   ]
  },
  {
   "cell_type": "code",
   "execution_count": null,
   "id": "b47d8702",
   "metadata": {},
   "outputs": [
    {
     "name": "stdout",
     "output_type": "stream",
     "text": [
      "(22363472, 22)\n",
      "(20764025, 22)\n"
     ]
    }
   ],
   "source": [
    "print(df.shape)\n",
    "df = (\n",
    "    df.sort('barrid', 'date')\n",
    "      .filter(\n",
    "          pl.col('price').gt(5),\n",
    "          (\n",
    "              pl.col('momentum').is_not_null()\n",
    "              | pl.col('meanrev').is_not_null()\n",
    "              | pl.col('bab').is_not_null()\n",
    "          )\n",
    "      )\n",
    "      .sort('barrid', 'date')\n",
    ")\n",
    "\n",
    "print(df.shape)\n"
   ]
  },
  {
   "cell_type": "code",
   "execution_count": 7,
   "id": "8d2614a9",
   "metadata": {},
   "outputs": [
    {
     "name": "stdout",
     "output_type": "stream",
     "text": [
      "['1995-06-30'] ['2025-09-15']\n"
     ]
    }
   ],
   "source": [
    "print(df.sort('date').select('date').unique().to_numpy()[0], df.sort('date').select('date').unique().to_numpy()[-1])"
   ]
  },
  {
   "cell_type": "code",
   "execution_count": 8,
   "id": "04326c7a",
   "metadata": {},
   "outputs": [],
   "source": [
    "df.write_parquet('signal_data.parquet')"
   ]
  },
  {
   "cell_type": "code",
   "execution_count": 9,
   "id": "63316f02",
   "metadata": {},
   "outputs": [
    {
     "data": {
      "text/html": [
       "<div><style>\n",
       ".dataframe > thead > tr,\n",
       ".dataframe > tbody > tr {\n",
       "  text-align: right;\n",
       "  white-space: pre-wrap;\n",
       "}\n",
       "</style>\n",
       "<small>shape: (20_764_025, 22)</small><table border=\"1\" class=\"dataframe\"><thead><tr><th>date</th><th>barrid</th><th>ticker</th><th>price</th><th>return</th><th>specific_return</th><th>specific_risk</th><th>historical_beta</th><th>predicted_beta</th><th>market_cap</th><th>daily_volume</th><th>bid_ask_spread</th><th>log_return</th><th>momentum</th><th>meanrev</th><th>bab</th><th>momentum_z</th><th>meanrev_z</th><th>bab_z</th><th>momentum_alpha</th><th>meanrev_alpha</th><th>bab_alpha</th></tr><tr><td>date</td><td>str</td><td>str</td><td>f64</td><td>f64</td><td>f64</td><td>f64</td><td>f64</td><td>f64</td><td>f64</td><td>f64</td><td>f64</td><td>f64</td><td>f64</td><td>f64</td><td>f64</td><td>f64</td><td>f64</td><td>f64</td><td>f64</td><td>f64</td><td>f64</td></tr></thead><tbody><tr><td>2013-07-31</td><td>&quot;USA06Z1&quot;</td><td>&quot;MDXG&quot;</td><td>6.26</td><td>-0.001595</td><td>-0.00788</td><td>0.550569</td><td>0.328385</td><td>0.34349</td><td>6.006157e8</td><td>121693.0</td><td>0.01</td><td>-0.001596</td><td>null</td><td>null</td><td>-0.34349</td><td>null</td><td>null</td><td>2.149267</td><td>null</td><td>null</td><td>0.059166</td></tr><tr><td>2013-08-01</td><td>&quot;USA06Z1&quot;</td><td>&quot;MDXG&quot;</td><td>6.32</td><td>0.009585</td><td>0.00365</td><td>0.55028</td><td>0.334989</td><td>0.353329</td><td>6.0865392e8</td><td>131728.0</td><td>0.01</td><td>0.009539</td><td>null</td><td>null</td><td>-0.353329</td><td>null</td><td>null</td><td>2.111728</td><td>null</td><td>null</td><td>0.058102</td></tr><tr><td>2013-08-02</td><td>&quot;USA06Z1&quot;</td><td>&quot;MDXG&quot;</td><td>6.31</td><td>-0.001582</td><td>-0.00731</td><td>0.548074</td><td>0.330713</td><td>0.363624</td><td>6.0769086e8</td><td>43252.0</td><td>0.01</td><td>-0.001583</td><td>null</td><td>null</td><td>-0.363624</td><td>null</td><td>null</td><td>2.086144</td><td>null</td><td>null</td><td>0.057168</td></tr><tr><td>2013-08-05</td><td>&quot;USA06Z1&quot;</td><td>&quot;MDXG&quot;</td><td>6.45</td><td>0.022187</td><td>0.01936</td><td>0.547667</td><td>0.324494</td><td>0.356596</td><td>6.211737e8</td><td>70944.0</td><td>0.02</td><td>0.021944</td><td>null</td><td>null</td><td>-0.356596</td><td>null</td><td>null</td><td>2.098288</td><td>null</td><td>null</td><td>0.057458</td></tr><tr><td>2013-08-06</td><td>&quot;USA06Z1&quot;</td><td>&quot;MDXG&quot;</td><td>6.29</td><td>-0.024806</td><td>-0.00528</td><td>0.546922</td><td>0.366323</td><td>0.399196</td><td>6.0576474e8</td><td>77085.0</td><td>0.01</td><td>-0.025119</td><td>null</td><td>null</td><td>-0.399196</td><td>null</td><td>null</td><td>2.001238</td><td>null</td><td>null</td><td>0.054726</td></tr><tr><td>&hellip;</td><td>&hellip;</td><td>&hellip;</td><td>&hellip;</td><td>&hellip;</td><td>&hellip;</td><td>&hellip;</td><td>&hellip;</td><td>&hellip;</td><td>&hellip;</td><td>&hellip;</td><td>&hellip;</td><td>&hellip;</td><td>&hellip;</td><td>&hellip;</td><td>&hellip;</td><td>&hellip;</td><td>&hellip;</td><td>&hellip;</td><td>&hellip;</td><td>&hellip;</td><td>&hellip;</td></tr><tr><td>2025-09-09</td><td>&quot;USBRKA2&quot;</td><td>&quot;GLIBA&quot;</td><td>36.225</td><td>-0.004261</td><td>0.01121</td><td>0.208427</td><td>0.236481</td><td>0.302514</td><td>1.3226e8</td><td>31025.0</td><td>0.11</td><td>-0.00427</td><td>null</td><td>-0.007341</td><td>-0.302514</td><td>null</td><td>0.37369</td><td>2.013268</td><td>null</td><td>0.003894</td><td>0.020981</td></tr><tr><td>2025-09-10</td><td>&quot;USBRKA2&quot;</td><td>&quot;GLIBA&quot;</td><td>36.24</td><td>0.000414</td><td>0.02305</td><td>0.209547</td><td>0.252015</td><td>0.29845</td><td>1.3231e8</td><td>6298.0</td><td>0.21</td><td>0.000414</td><td>null</td><td>-0.020066</td><td>-0.29845</td><td>null</td><td>0.247624</td><td>2.007619</td><td>null</td><td>0.002594</td><td>0.021035</td></tr><tr><td>2025-09-11</td><td>&quot;USBRKA2&quot;</td><td>&quot;GLIBA&quot;</td><td>37.05</td><td>0.022351</td><td>0.00213</td><td>0.214807</td><td>0.256752</td><td>0.31384</td><td>1.3527e8</td><td>26857.0</td><td>0.25</td><td>0.022105</td><td>null</td><td>-0.065239</td><td>-0.31384</td><td>null</td><td>0.07841</td><td>1.987568</td><td>null</td><td>0.000842</td><td>0.021347</td></tr><tr><td>2025-09-12</td><td>&quot;USBRKA2&quot;</td><td>&quot;GLIBA&quot;</td><td>36.17</td><td>-0.023752</td><td>-0.00733</td><td>0.219429</td><td>0.257401</td><td>0.328961</td><td>1.3205e8</td><td>8983.0</td><td>0.16</td><td>-0.024039</td><td>null</td><td>-0.043797</td><td>-0.328961</td><td>null</td><td>-0.046662</td><td>1.958489</td><td>null</td><td>-0.000512</td><td>0.021488</td></tr><tr><td>2025-09-15</td><td>&quot;USBRKA2&quot;</td><td>&quot;GLIBA&quot;</td><td>35.72</td><td>-0.012441</td><td>-0.00794</td><td>0.217817</td><td>0.252982</td><td>0.331983</td><td>1.3041e8</td><td>25995.0</td><td>0.13</td><td>-0.012519</td><td>null</td><td>-0.051115</td><td>-0.331983</td><td>null</td><td>-0.258525</td><td>1.932001</td><td>null</td><td>-0.002816</td><td>0.021041</td></tr></tbody></table></div>"
      ],
      "text/plain": [
       "shape: (20_764_025, 22)\n",
       "┌────────────┬─────────┬────────┬────────┬───┬──────────┬───────────────┬──────────────┬───────────┐\n",
       "│ date       ┆ barrid  ┆ ticker ┆ price  ┆ … ┆ bab_z    ┆ momentum_alph ┆ meanrev_alph ┆ bab_alpha │\n",
       "│ ---        ┆ ---     ┆ ---    ┆ ---    ┆   ┆ ---      ┆ a             ┆ a            ┆ ---       │\n",
       "│ date       ┆ str     ┆ str    ┆ f64    ┆   ┆ f64      ┆ ---           ┆ ---          ┆ f64       │\n",
       "│            ┆         ┆        ┆        ┆   ┆          ┆ f64           ┆ f64          ┆           │\n",
       "╞════════════╪═════════╪════════╪════════╪═══╪══════════╪═══════════════╪══════════════╪═══════════╡\n",
       "│ 2013-07-31 ┆ USA06Z1 ┆ MDXG   ┆ 6.26   ┆ … ┆ 2.149267 ┆ null          ┆ null         ┆ 0.059166  │\n",
       "│ 2013-08-01 ┆ USA06Z1 ┆ MDXG   ┆ 6.32   ┆ … ┆ 2.111728 ┆ null          ┆ null         ┆ 0.058102  │\n",
       "│ 2013-08-02 ┆ USA06Z1 ┆ MDXG   ┆ 6.31   ┆ … ┆ 2.086144 ┆ null          ┆ null         ┆ 0.057168  │\n",
       "│ 2013-08-05 ┆ USA06Z1 ┆ MDXG   ┆ 6.45   ┆ … ┆ 2.098288 ┆ null          ┆ null         ┆ 0.057458  │\n",
       "│ 2013-08-06 ┆ USA06Z1 ┆ MDXG   ┆ 6.29   ┆ … ┆ 2.001238 ┆ null          ┆ null         ┆ 0.054726  │\n",
       "│ …          ┆ …       ┆ …      ┆ …      ┆ … ┆ …        ┆ …             ┆ …            ┆ …         │\n",
       "│ 2025-09-09 ┆ USBRKA2 ┆ GLIBA  ┆ 36.225 ┆ … ┆ 2.013268 ┆ null          ┆ 0.003894     ┆ 0.020981  │\n",
       "│ 2025-09-10 ┆ USBRKA2 ┆ GLIBA  ┆ 36.24  ┆ … ┆ 2.007619 ┆ null          ┆ 0.002594     ┆ 0.021035  │\n",
       "│ 2025-09-11 ┆ USBRKA2 ┆ GLIBA  ┆ 37.05  ┆ … ┆ 1.987568 ┆ null          ┆ 0.000842     ┆ 0.021347  │\n",
       "│ 2025-09-12 ┆ USBRKA2 ┆ GLIBA  ┆ 36.17  ┆ … ┆ 1.958489 ┆ null          ┆ -0.000512    ┆ 0.021488  │\n",
       "│ 2025-09-15 ┆ USBRKA2 ┆ GLIBA  ┆ 35.72  ┆ … ┆ 1.932001 ┆ null          ┆ -0.002816    ┆ 0.021041  │\n",
       "└────────────┴─────────┴────────┴────────┴───┴──────────┴───────────────┴──────────────┴───────────┘"
      ]
     },
     "execution_count": 9,
     "metadata": {},
     "output_type": "execute_result"
    }
   ],
   "source": [
    "df"
   ]
  },
  {
   "cell_type": "code",
   "execution_count": 8,
   "id": "09633b1a",
   "metadata": {},
   "outputs": [],
   "source": [
    "one_year_weights = pl.read_parquet('weights/momentum_weights_2023-06-27_2024-06-26.parquet')"
   ]
  },
  {
   "cell_type": "code",
   "execution_count": 9,
   "id": "e67fce3b",
   "metadata": {},
   "outputs": [
    {
     "name": "stdout",
     "output_type": "stream",
     "text": [
      "251.99999998255518\n"
     ]
    }
   ],
   "source": [
    "print(one_year_weights['weight'].sum())"
   ]
  },
  {
   "cell_type": "code",
   "execution_count": 3,
   "id": "747391f1",
   "metadata": {},
   "outputs": [
    {
     "data": {
      "text/html": [
       "<div><style>\n",
       ".dataframe > thead > tr,\n",
       ".dataframe > tbody > tr {\n",
       "  text-align: right;\n",
       "  white-space: pre-wrap;\n",
       "}\n",
       "</style>\n",
       "<small>shape: (1_994, 3)</small><table border=\"1\" class=\"dataframe\"><thead><tr><th>date</th><th>barrid</th><th>price</th></tr><tr><td>date</td><td>str</td><td>f64</td></tr></thead><tbody><tr><td>2013-07-31</td><td>&quot;USA06Z1&quot;</td><td>6.26</td></tr><tr><td>2013-08-01</td><td>&quot;USA06Z1&quot;</td><td>6.32</td></tr><tr><td>2013-08-02</td><td>&quot;USA06Z1&quot;</td><td>6.31</td></tr><tr><td>2013-08-05</td><td>&quot;USA06Z1&quot;</td><td>6.45</td></tr><tr><td>2013-08-06</td><td>&quot;USA06Z1&quot;</td><td>6.29</td></tr><tr><td>&hellip;</td><td>&hellip;</td><td>&hellip;</td></tr><tr><td>2025-09-09</td><td>&quot;USA06Z1&quot;</td><td>7.12</td></tr><tr><td>2025-09-10</td><td>&quot;USA06Z1&quot;</td><td>6.89</td></tr><tr><td>2025-09-11</td><td>&quot;USA06Z1&quot;</td><td>7.14</td></tr><tr><td>2025-09-12</td><td>&quot;USA06Z1&quot;</td><td>6.94</td></tr><tr><td>2025-09-15</td><td>&quot;USA06Z1&quot;</td><td>6.97</td></tr></tbody></table></div>"
      ],
      "text/plain": [
       "shape: (1_994, 3)\n",
       "┌────────────┬─────────┬───────┐\n",
       "│ date       ┆ barrid  ┆ price │\n",
       "│ ---        ┆ ---     ┆ ---   │\n",
       "│ date       ┆ str     ┆ f64   │\n",
       "╞════════════╪═════════╪═══════╡\n",
       "│ 2013-07-31 ┆ USA06Z1 ┆ 6.26  │\n",
       "│ 2013-08-01 ┆ USA06Z1 ┆ 6.32  │\n",
       "│ 2013-08-02 ┆ USA06Z1 ┆ 6.31  │\n",
       "│ 2013-08-05 ┆ USA06Z1 ┆ 6.45  │\n",
       "│ 2013-08-06 ┆ USA06Z1 ┆ 6.29  │\n",
       "│ …          ┆ …       ┆ …     │\n",
       "│ 2025-09-09 ┆ USA06Z1 ┆ 7.12  │\n",
       "│ 2025-09-10 ┆ USA06Z1 ┆ 6.89  │\n",
       "│ 2025-09-11 ┆ USA06Z1 ┆ 7.14  │\n",
       "│ 2025-09-12 ┆ USA06Z1 ┆ 6.94  │\n",
       "│ 2025-09-15 ┆ USA06Z1 ┆ 6.97  │\n",
       "└────────────┴─────────┴───────┘"
      ]
     },
     "execution_count": 3,
     "metadata": {},
     "output_type": "execute_result"
    }
   ],
   "source": [
    "df = pl.read_parquet(\"signal_data.parquet\").filter(pl.col('barrid').eq(\"USA06Z1\")).select(['date', 'barrid', 'price'])\n",
    "\n",
    "df"
   ]
  },
  {
   "cell_type": "code",
   "execution_count": 5,
   "id": "afd74965",
   "metadata": {},
   "outputs": [
    {
     "data": {
      "text/html": [
       "<div><style>\n",
       ".dataframe > thead > tr,\n",
       ".dataframe > tbody > tr {\n",
       "  text-align: right;\n",
       "  white-space: pre-wrap;\n",
       "}\n",
       "</style>\n",
       "<small>shape: (1_994, 3)</small><table border=\"1\" class=\"dataframe\"><thead><tr><th>date</th><th>barrid</th><th>price</th></tr><tr><td>date</td><td>str</td><td>f64</td></tr></thead><tbody><tr><td>2013-07-31</td><td>&quot;USA06Z1&quot;</td><td>6.26</td></tr><tr><td>2013-08-01</td><td>&quot;USA06Z1&quot;</td><td>6.32</td></tr><tr><td>2013-08-02</td><td>&quot;USA06Z1&quot;</td><td>6.31</td></tr><tr><td>2013-08-05</td><td>&quot;USA06Z1&quot;</td><td>6.45</td></tr><tr><td>2013-08-06</td><td>&quot;USA06Z1&quot;</td><td>6.29</td></tr><tr><td>&hellip;</td><td>&hellip;</td><td>&hellip;</td></tr><tr><td>2025-09-09</td><td>&quot;USA06Z1&quot;</td><td>7.12</td></tr><tr><td>2025-09-10</td><td>&quot;USA06Z1&quot;</td><td>6.89</td></tr><tr><td>2025-09-11</td><td>&quot;USA06Z1&quot;</td><td>7.14</td></tr><tr><td>2025-09-12</td><td>&quot;USA06Z1&quot;</td><td>6.94</td></tr><tr><td>2025-09-15</td><td>&quot;USA06Z1&quot;</td><td>6.97</td></tr></tbody></table></div>"
      ],
      "text/plain": [
       "shape: (1_994, 3)\n",
       "┌────────────┬─────────┬───────┐\n",
       "│ date       ┆ barrid  ┆ price │\n",
       "│ ---        ┆ ---     ┆ ---   │\n",
       "│ date       ┆ str     ┆ f64   │\n",
       "╞════════════╪═════════╪═══════╡\n",
       "│ 2013-07-31 ┆ USA06Z1 ┆ 6.26  │\n",
       "│ 2013-08-01 ┆ USA06Z1 ┆ 6.32  │\n",
       "│ 2013-08-02 ┆ USA06Z1 ┆ 6.31  │\n",
       "│ 2013-08-05 ┆ USA06Z1 ┆ 6.45  │\n",
       "│ 2013-08-06 ┆ USA06Z1 ┆ 6.29  │\n",
       "│ …          ┆ …       ┆ …     │\n",
       "│ 2025-09-09 ┆ USA06Z1 ┆ 7.12  │\n",
       "│ 2025-09-10 ┆ USA06Z1 ┆ 6.89  │\n",
       "│ 2025-09-11 ┆ USA06Z1 ┆ 7.14  │\n",
       "│ 2025-09-12 ┆ USA06Z1 ┆ 6.94  │\n",
       "│ 2025-09-15 ┆ USA06Z1 ┆ 6.97  │\n",
       "└────────────┴─────────┴───────┘"
      ]
     },
     "execution_count": 5,
     "metadata": {},
     "output_type": "execute_result"
    }
   ],
   "source": [
    "df = pl.scan_parquet(\"signal_data.parquet\").filter(pl.col('barrid').eq(\"USA06Z1\")).select(['date', 'barrid', 'price']).collect()\n",
    "\n",
    "df"
   ]
  }
 ],
 "metadata": {
  "kernelspec": {
   "display_name": "orthogonal-alphas",
   "language": "python",
   "name": "python3"
  },
  "language_info": {
   "codemirror_mode": {
    "name": "ipython",
    "version": 3
   },
   "file_extension": ".py",
   "mimetype": "text/x-python",
   "name": "python",
   "nbconvert_exporter": "python",
   "pygments_lexer": "ipython3",
   "version": "3.13.7"
  }
 },
 "nbformat": 4,
 "nbformat_minor": 5
}
