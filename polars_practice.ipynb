{
 "cells": [
  {
   "cell_type": "code",
   "execution_count": 1,
   "id": "2c59599b",
   "metadata": {},
   "outputs": [
    {
     "name": "stderr",
     "output_type": "stream",
     "text": [
      "/home/kylecm11/silver_fund/orthogonal-alphas/.venv/lib/python3.13/site-packages/tqdm/auto.py:21: TqdmWarning: IProgress not found. Please update jupyter and ipywidgets. See https://ipywidgets.readthedocs.io/en/stable/user_install.html\n",
      "  from .autonotebook import tqdm as notebook_tqdm\n",
      "2025-09-18 22:04:30,620\tINFO util.py:154 -- Missing packages: ['ipywidgets']. Run `pip install -U ipywidgets`, then restart the notebook server for rich notebook output.\n"
     ]
    }
   ],
   "source": [
    "import sf_quant as sf\n",
    "import polars as pl\n",
    "import datetime as dt"
   ]
  },
  {
   "cell_type": "code",
   "execution_count": 2,
   "id": "f0703495",
   "metadata": {},
   "outputs": [
    {
     "data": {
      "text/html": [
       "<div><style>\n",
       ".dataframe > thead > tr,\n",
       ".dataframe > tbody > tr {\n",
       "  text-align: right;\n",
       "  white-space: pre-wrap;\n",
       "}\n",
       "</style>\n",
       "<small>shape: (21_469_928, 4)</small><table border=\"1\" class=\"dataframe\"><thead><tr><th>date</th><th>barrid</th><th>return</th><th>price</th></tr><tr><td>date</td><td>str</td><td>f64</td><td>f64</td></tr></thead><tbody><tr><td>2013-07-31</td><td>&quot;USA06Z1&quot;</td><td>-0.1595</td><td>6.26</td></tr><tr><td>2013-08-01</td><td>&quot;USA06Z1&quot;</td><td>0.9585</td><td>6.32</td></tr><tr><td>2013-08-02</td><td>&quot;USA06Z1&quot;</td><td>-0.1582</td><td>6.31</td></tr><tr><td>2013-08-05</td><td>&quot;USA06Z1&quot;</td><td>2.2187</td><td>6.45</td></tr><tr><td>2013-08-06</td><td>&quot;USA06Z1&quot;</td><td>-2.4806</td><td>6.29</td></tr><tr><td>&hellip;</td><td>&hellip;</td><td>&hellip;</td><td>&hellip;</td></tr><tr><td>2024-12-24</td><td>&quot;USBQOR1&quot;</td><td>2.5872</td><td>70.58</td></tr><tr><td>2024-12-26</td><td>&quot;USBQOR1&quot;</td><td>4.293</td><td>73.61</td></tr><tr><td>2024-12-27</td><td>&quot;USBQOR1&quot;</td><td>-5.108</td><td>69.85</td></tr><tr><td>2024-12-30</td><td>&quot;USBQOR1&quot;</td><td>-4.2663</td><td>66.87</td></tr><tr><td>2024-12-31</td><td>&quot;USBQOR1&quot;</td><td>-1.6749</td><td>65.75</td></tr></tbody></table></div>"
      ],
      "text/plain": [
       "shape: (21_469_928, 4)\n",
       "┌────────────┬─────────┬─────────┬───────┐\n",
       "│ date       ┆ barrid  ┆ return  ┆ price │\n",
       "│ ---        ┆ ---     ┆ ---     ┆ ---   │\n",
       "│ date       ┆ str     ┆ f64     ┆ f64   │\n",
       "╞════════════╪═════════╪═════════╪═══════╡\n",
       "│ 2013-07-31 ┆ USA06Z1 ┆ -0.1595 ┆ 6.26  │\n",
       "│ 2013-08-01 ┆ USA06Z1 ┆ 0.9585  ┆ 6.32  │\n",
       "│ 2013-08-02 ┆ USA06Z1 ┆ -0.1582 ┆ 6.31  │\n",
       "│ 2013-08-05 ┆ USA06Z1 ┆ 2.2187  ┆ 6.45  │\n",
       "│ 2013-08-06 ┆ USA06Z1 ┆ -2.4806 ┆ 6.29  │\n",
       "│ …          ┆ …       ┆ …       ┆ …     │\n",
       "│ 2024-12-24 ┆ USBQOR1 ┆ 2.5872  ┆ 70.58 │\n",
       "│ 2024-12-26 ┆ USBQOR1 ┆ 4.293   ┆ 73.61 │\n",
       "│ 2024-12-27 ┆ USBQOR1 ┆ -5.108  ┆ 69.85 │\n",
       "│ 2024-12-30 ┆ USBQOR1 ┆ -4.2663 ┆ 66.87 │\n",
       "│ 2024-12-31 ┆ USBQOR1 ┆ -1.6749 ┆ 65.75 │\n",
       "└────────────┴─────────┴─────────┴───────┘"
      ]
     },
     "execution_count": 2,
     "metadata": {},
     "output_type": "execute_result"
    }
   ],
   "source": [
    "start = dt.date(1996, 1, 1)\n",
    "end = dt.date(2024, 12, 31)\n",
    "\n",
    "columns = [\n",
    "    'date',\n",
    "    'barrid',\n",
    "    'return',\n",
    "    'price'\n",
    "]\n",
    "\n",
    "df = sf.data.load_assets(\n",
    "    start=start,\n",
    "    end=end,\n",
    "    in_universe=True,\n",
    "    columns=columns\n",
    ")\n",
    "\n",
    "df"
   ]
  }
 ],
 "metadata": {
  "kernelspec": {
   "display_name": "orthogonal-alphas",
   "language": "python",
   "name": "python3"
  },
  "language_info": {
   "codemirror_mode": {
    "name": "ipython",
    "version": 3
   },
   "file_extension": ".py",
   "mimetype": "text/x-python",
   "name": "python",
   "nbconvert_exporter": "python",
   "pygments_lexer": "ipython3",
   "version": "3.13.7"
  }
 },
 "nbformat": 4,
 "nbformat_minor": 5
}
