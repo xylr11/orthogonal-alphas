{
 "cells": [
  {
   "cell_type": "code",
   "execution_count": 10,
   "id": "d315eba7",
   "metadata": {},
   "outputs": [],
   "source": [
    "import sf_quant.data as sfd\n",
    "import sf_quant.optimizer as sfo\n",
    "import sf_quant.backtester as sfb\n",
    "import sf_quant.performance as sfp\n",
    "import polars as pl\n",
    "import datetime as dt\n",
    "import matplotlib.pyplot as plt\n",
    "import seaborn as sns\n",
    "import tqdm"
   ]
  },
  {
   "cell_type": "code",
   "execution_count": 2,
   "id": "79e9fd83",
   "metadata": {},
   "outputs": [],
   "source": [
    "df = pl.read_parquet('russell_3000_daily.parquet')"
   ]
  },
  {
   "cell_type": "code",
   "execution_count": 8,
   "id": "9bad91aa",
   "metadata": {},
   "outputs": [],
   "source": [
    "IC = 0.05\n",
    "\n",
    "df = (\n",
    "    df.lazy()\n",
    "    .sort([\"barrid\", \"date\"])\n",
    "    .with_columns([ # Convert nasty percents to nice fractions\n",
    "        pl.col('specific_risk').truediv(100),\n",
    "        pl.col('return').truediv(100),\n",
    "        pl.col('specific_return').truediv(100)\n",
    "    ])\n",
    "    .with_columns(\n",
    "        pl.col('return').log1p().alias('log_return')\n",
    "    )\n",
    "    .with_columns(\n",
    "        pl.col(\"log_return\")\n",
    "            .rolling_sum(230)\n",
    "            .over(\"barrid\")\n",
    "            .alias(\"momentum_temp\")\n",
    "    )\n",
    "    .with_columns(\n",
    "        pl.col(\"momentum_temp\").shift(22).over(\"barrid\").alias(\"momentum\")\n",
    "    )\n",
    "    .with_columns(\n",
    "        pl.col(\"log_return\")\n",
    "            .rolling_sum(22)\n",
    "            .over(\"barrid\")\n",
    "            .alias(\"meanrev_temp\")\n",
    "    )\n",
    "    .with_columns(\n",
    "        (-pl.col(\"meanrev_temp\").shift(1).over(\"barrid\")).alias(\"meanrev\")\n",
    "    )\n",
    "    .with_columns(\n",
    "        (-pl.col(\"predicted_beta\")).alias(\"bab\")\n",
    "    )\n",
    "    .with_columns([ # Add signal z-scores\n",
    "        ((pl.col(\"momentum\") - pl.col(\"momentum\").mean().over(\"date\")) \n",
    "     / pl.col(\"momentum\").std().over(\"date\")).alias(\"momentum_z\"),\n",
    "        ((pl.col(\"meanrev\") - pl.col(\"meanrev\").mean().over(\"date\")) \n",
    "     / pl.col(\"meanrev\").std().over(\"date\")).alias(\"meanrev_z\"),\n",
    "        ((pl.col(\"bab\") - pl.col(\"bab\").mean().over(\"date\")) \n",
    "     / pl.col(\"bab\").std().over(\"date\")).alias(\"bab_z\")\n",
    "    ])\n",
    "    .with_columns([ # Add signal alphas, using alpha = IC * specific_risk * z-score\n",
    "        (IC * pl.col(\"specific_risk\") * pl.col(\"momentum_z\")).alias(\"momentum_alpha\"),\n",
    "        (IC * pl.col(\"specific_risk\") * pl.col(\"meanrev_z\")).alias(\"meanrev_alpha\"),\n",
    "        (IC * pl.col(\"specific_risk\") * pl.col(\"bab_z\")).alias(\"bab_alpha\")\n",
    "    ])\n",
    "    .drop([\"momentum_temp\", \"meanrev_temp\"])\n",
    "    .collect()\n",
    ")"
   ]
  },
  {
   "cell_type": "code",
   "execution_count": null,
   "id": "b47d8702",
   "metadata": {},
   "outputs": [],
   "source": [
    "# Need to add filter here to drop nulls, low prices, etc."
   ]
  },
  {
   "cell_type": "code",
   "execution_count": 12,
   "id": "8db01e41",
   "metadata": {},
   "outputs": [
    {
     "name": "stderr",
     "output_type": "stream",
     "text": [
      "Computing portfolios:   0%|          | 0/7602 [02:23<?, ?it/s]"
     ]
    },
    {
     "name": "stdout",
     "output_type": "stream",
     "text": [
      "Solver interrupted\n"
     ]
    },
    {
     "name": "stderr",
     "output_type": "stream",
     "text": [
      "\n"
     ]
    },
    {
     "ename": "SolverError",
     "evalue": "Solver 'OSQP' failed. Try another solver, or solve with verbose=True for more information.",
     "output_type": "error",
     "traceback": [
      "\u001b[31m---------------------------------------------------------------------------\u001b[39m",
      "\u001b[31mSolverError\u001b[39m                               Traceback (most recent call last)",
      "\u001b[36mCell\u001b[39m\u001b[36m \u001b[39m\u001b[32mIn[12]\u001b[39m\u001b[32m, line 24\u001b[39m\n\u001b[32m     20\u001b[39m betas_np = subset[\u001b[33m'\u001b[39m\u001b[33mpredicted_beta\u001b[39m\u001b[33m'\u001b[39m].to_numpy()\n\u001b[32m     22\u001b[39m cov_mat = sfd.construct_covariance_matrix(date_, barrids).drop(\u001b[33m'\u001b[39m\u001b[33mbarrid\u001b[39m\u001b[33m'\u001b[39m).to_numpy()\n\u001b[32m---> \u001b[39m\u001b[32m24\u001b[39m portfolio = \u001b[43msfo\u001b[49m\u001b[43m.\u001b[49m\u001b[43mmve_optimizer\u001b[49m\u001b[43m(\u001b[49m\n\u001b[32m     25\u001b[39m \u001b[43m    \u001b[49m\u001b[43mids\u001b[49m\u001b[43m=\u001b[49m\u001b[43mbarrids\u001b[49m\u001b[43m,\u001b[49m\n\u001b[32m     26\u001b[39m \u001b[43m    \u001b[49m\u001b[43malphas\u001b[49m\u001b[43m=\u001b[49m\u001b[43malphas_np\u001b[49m\u001b[43m,\u001b[49m\n\u001b[32m     27\u001b[39m \u001b[43m    \u001b[49m\u001b[43mcovariance_matrix\u001b[49m\u001b[43m=\u001b[49m\u001b[43mcov_mat\u001b[49m\u001b[43m,\u001b[49m\n\u001b[32m     28\u001b[39m \u001b[43m    \u001b[49m\u001b[43mconstraints\u001b[49m\u001b[43m=\u001b[49m\u001b[43mconstraints\u001b[49m\u001b[43m,\u001b[49m\n\u001b[32m     29\u001b[39m \u001b[43m    \u001b[49m\u001b[43mgamma\u001b[49m\u001b[43m=\u001b[49m\u001b[32;43m10\u001b[39;49m\u001b[43m,\u001b[49m\n\u001b[32m     30\u001b[39m \u001b[43m    \u001b[49m\u001b[43mbetas\u001b[49m\u001b[43m=\u001b[49m\u001b[43mbetas_np\u001b[49m\n\u001b[32m     31\u001b[39m \u001b[43m\u001b[49m\u001b[43m)\u001b[49m\n\u001b[32m     33\u001b[39m portfolio = portfolio.with_columns(\n\u001b[32m     34\u001b[39m     pl.lit(date_).alias(\u001b[33m'\u001b[39m\u001b[33mdate\u001b[39m\u001b[33m'\u001b[39m)\n\u001b[32m     35\u001b[39m )\n\u001b[32m     37\u001b[39m portfolio_list.append(portfolio)\n",
      "\u001b[36mFile \u001b[39m\u001b[32m~/silver_fund/orthogonal-alphas/.venv/lib/python3.13/site-packages/sf_quant/optimizer/optimizers.py:96\u001b[39m, in \u001b[36mmve_optimizer\u001b[39m\u001b[34m(ids, alphas, covariance_matrix, constraints, gamma, betas)\u001b[39m\n\u001b[32m     39\u001b[39m \u001b[38;5;250m\u001b[39m\u001b[33;03m\"\"\"\u001b[39;00m\n\u001b[32m     40\u001b[39m \u001b[33;03mMean-variance optimizer with constraints.\u001b[39;00m\n\u001b[32m     41\u001b[39m \n\u001b[32m   (...)\u001b[39m\u001b[32m     92\u001b[39m \u001b[33;03m└────────┴────────┘\u001b[39;00m\n\u001b[32m     93\u001b[39m \u001b[33;03m\"\"\"\u001b[39;00m\n\u001b[32m     94\u001b[39m constraints = _construct_constraints(constraints, betas=betas)\n\u001b[32m---> \u001b[39m\u001b[32m96\u001b[39m optimal_weights = \u001b[43m_quadratic_program\u001b[49m\u001b[43m(\u001b[49m\n\u001b[32m     97\u001b[39m \u001b[43m    \u001b[49m\u001b[43malphas\u001b[49m\u001b[43m=\u001b[49m\u001b[43malphas\u001b[49m\u001b[43m,\u001b[49m\n\u001b[32m     98\u001b[39m \u001b[43m    \u001b[49m\u001b[43mcovariance_matrix\u001b[49m\u001b[43m=\u001b[49m\u001b[43mcovariance_matrix\u001b[49m\u001b[43m,\u001b[49m\n\u001b[32m     99\u001b[39m \u001b[43m    \u001b[49m\u001b[43mgamma\u001b[49m\u001b[43m=\u001b[49m\u001b[43mgamma\u001b[49m\u001b[43m,\u001b[49m\n\u001b[32m    100\u001b[39m \u001b[43m    \u001b[49m\u001b[43mconstraints\u001b[49m\u001b[43m=\u001b[49m\u001b[43mconstraints\u001b[49m\u001b[43m,\u001b[49m\n\u001b[32m    101\u001b[39m \u001b[43m\u001b[49m\u001b[43m)\u001b[49m\n\u001b[32m    103\u001b[39m weights = pl.DataFrame({\u001b[33m\"\u001b[39m\u001b[33mbarrid\u001b[39m\u001b[33m\"\u001b[39m: ids, \u001b[33m\"\u001b[39m\u001b[33mweight\u001b[39m\u001b[33m\"\u001b[39m: optimal_weights})\n\u001b[32m    105\u001b[39m \u001b[38;5;28;01mreturn\u001b[39;00m weights\n",
      "\u001b[36mFile \u001b[39m\u001b[32m~/silver_fund/orthogonal-alphas/.venv/lib/python3.13/site-packages/sf_quant/optimizer/optimizers.py:26\u001b[39m, in \u001b[36m_quadratic_program\u001b[39m\u001b[34m(alphas, covariance_matrix, gamma, constraints)\u001b[39m\n\u001b[32m     23\u001b[39m objective = cp.Maximize(portfolio_return - \u001b[32m0.5\u001b[39m * gamma * portfolio_variance)\n\u001b[32m     25\u001b[39m problem = cp.Problem(objective, constraints)\n\u001b[32m---> \u001b[39m\u001b[32m26\u001b[39m \u001b[43mproblem\u001b[49m\u001b[43m.\u001b[49m\u001b[43msolve\u001b[49m\u001b[43m(\u001b[49m\u001b[43msolver\u001b[49m\u001b[43m=\u001b[49m\u001b[33;43m\"\u001b[39;49m\u001b[33;43mOSQP\u001b[39;49m\u001b[33;43m\"\u001b[39;49m\u001b[43m)\u001b[49m\n\u001b[32m     28\u001b[39m \u001b[38;5;28;01mreturn\u001b[39;00m weights.value\n",
      "\u001b[36mFile \u001b[39m\u001b[32m~/silver_fund/orthogonal-alphas/.venv/lib/python3.13/site-packages/cvxpy/problems/problem.py:609\u001b[39m, in \u001b[36mProblem.solve\u001b[39m\u001b[34m(self, *args, **kwargs)\u001b[39m\n\u001b[32m    606\u001b[39m         \u001b[38;5;28;01mraise\u001b[39;00m \u001b[38;5;167;01mValueError\u001b[39;00m(\n\u001b[32m    607\u001b[39m             \u001b[33m\"\u001b[39m\u001b[33mCannot specify both \u001b[39m\u001b[33m'\u001b[39m\u001b[33msolver\u001b[39m\u001b[33m'\u001b[39m\u001b[33m and \u001b[39m\u001b[33m'\u001b[39m\u001b[33msolver_path\u001b[39m\u001b[33m'\u001b[39m\u001b[33m. Please choose one.\u001b[39m\u001b[33m\"\u001b[39m)\n\u001b[32m    608\u001b[39m     \u001b[38;5;28;01mreturn\u001b[39;00m \u001b[38;5;28mself\u001b[39m._solve_solver_path(solve_func,solver_path, args, kwargs)\n\u001b[32m--> \u001b[39m\u001b[32m609\u001b[39m \u001b[38;5;28;01mreturn\u001b[39;00m \u001b[43msolve_func\u001b[49m\u001b[43m(\u001b[49m\u001b[38;5;28;43mself\u001b[39;49m\u001b[43m,\u001b[49m\u001b[43m \u001b[49m\u001b[43m*\u001b[49m\u001b[43margs\u001b[49m\u001b[43m,\u001b[49m\u001b[43m \u001b[49m\u001b[43m*\u001b[49m\u001b[43m*\u001b[49m\u001b[43mkwargs\u001b[49m\u001b[43m)\u001b[49m\n",
      "\u001b[36mFile \u001b[39m\u001b[32m~/silver_fund/orthogonal-alphas/.venv/lib/python3.13/site-packages/cvxpy/problems/problem.py:1222\u001b[39m, in \u001b[36mProblem._solve\u001b[39m\u001b[34m(self, solver, warm_start, verbose, bibtex, gp, qcp, requires_grad, enforce_dpp, ignore_dpp, canon_backend, **kwargs)\u001b[39m\n\u001b[32m   1220\u001b[39m end = time.time()\n\u001b[32m   1221\u001b[39m \u001b[38;5;28mself\u001b[39m._solve_time = end - start\n\u001b[32m-> \u001b[39m\u001b[32m1222\u001b[39m \u001b[38;5;28;43mself\u001b[39;49m\u001b[43m.\u001b[49m\u001b[43munpack_results\u001b[49m\u001b[43m(\u001b[49m\u001b[43msolution\u001b[49m\u001b[43m,\u001b[49m\u001b[43m \u001b[49m\u001b[43msolving_chain\u001b[49m\u001b[43m,\u001b[49m\u001b[43m \u001b[49m\u001b[43minverse_data\u001b[49m\u001b[43m)\u001b[49m\n\u001b[32m   1223\u001b[39m \u001b[38;5;28;01mif\u001b[39;00m verbose:\n\u001b[32m   1224\u001b[39m     \u001b[38;5;28mprint\u001b[39m(_FOOTER)\n",
      "\u001b[36mFile \u001b[39m\u001b[32m~/silver_fund/orthogonal-alphas/.venv/lib/python3.13/site-packages/cvxpy/problems/problem.py:1547\u001b[39m, in \u001b[36mProblem.unpack_results\u001b[39m\u001b[34m(self, solution, chain, inverse_data)\u001b[39m\n\u001b[32m   1545\u001b[39m     warnings.warn(INF_OR_UNB_MESSAGE)\n\u001b[32m   1546\u001b[39m \u001b[38;5;28;01mif\u001b[39;00m solution.status \u001b[38;5;129;01min\u001b[39;00m s.ERROR:\n\u001b[32m-> \u001b[39m\u001b[32m1547\u001b[39m     \u001b[38;5;28;01mraise\u001b[39;00m error.SolverError(\n\u001b[32m   1548\u001b[39m             \u001b[33m\"\u001b[39m\u001b[33mSolver \u001b[39m\u001b[33m'\u001b[39m\u001b[38;5;132;01m%s\u001b[39;00m\u001b[33m'\u001b[39m\u001b[33m failed. \u001b[39m\u001b[33m\"\u001b[39m % chain.solver.name() +\n\u001b[32m   1549\u001b[39m             \u001b[33m\"\u001b[39m\u001b[33mTry another solver, or solve with verbose=True for more \u001b[39m\u001b[33m\"\u001b[39m\n\u001b[32m   1550\u001b[39m             \u001b[33m\"\u001b[39m\u001b[33minformation.\u001b[39m\u001b[33m\"\u001b[39m)\n\u001b[32m   1552\u001b[39m \u001b[38;5;28mself\u001b[39m.unpack(solution)\n\u001b[32m   1553\u001b[39m \u001b[38;5;28mself\u001b[39m._solver_stats = SolverStats.from_dict(\u001b[38;5;28mself\u001b[39m._solution.attr,\n\u001b[32m   1554\u001b[39m                                  chain.solver.name())\n",
      "\u001b[31mSolverError\u001b[39m: Solver 'OSQP' failed. Try another solver, or solve with verbose=True for more information."
     ]
    }
   ],
   "source": [
    "dates = df['date'].unique().sort().to_list()\n",
    "\n",
    "constraints = [\n",
    "    sfo.FullInvestment(),\n",
    "    sfo.LongOnly(),\n",
    "    sfo.NoBuyingOnMargin(),\n",
    "    sfo.UnitBeta()\n",
    "]\n",
    "\n",
    "portfolio_list = []\n",
    "for date_ in tqdm.tqdm(dates, \"Computing portfolios\"):\n",
    "    subset = (\n",
    "        df.filter(\n",
    "            pl.col('date').eq(date_)\n",
    "        )\n",
    "        .sort('barrid')\n",
    "    )\n",
    "    barrids = subset['barrid'].to_list()\n",
    "    alphas_np = subset['momentum_alpha'].to_numpy()\n",
    "    betas_np = subset['predicted_beta'].to_numpy()\n",
    "\n",
    "    cov_mat = sfd.construct_covariance_matrix(date_, barrids).drop('barrid').to_numpy()\n",
    "\n",
    "    portfolio = sfo.mve_optimizer(\n",
    "        ids=barrids,\n",
    "        alphas=alphas_np,\n",
    "        covariance_matrix=cov_mat,\n",
    "        constraints=constraints,\n",
    "        gamma=10,\n",
    "        betas=betas_np\n",
    "    )\n",
    "\n",
    "    portfolio = portfolio.with_columns(\n",
    "        pl.lit(date_).alias('date')\n",
    "    )\n",
    "\n",
    "    portfolio_list.append(portfolio)\n",
    "\n",
    "weights = pl.concat(portfolio_list)"
   ]
  },
  {
   "cell_type": "code",
   "execution_count": null,
   "id": "8c49f2bb",
   "metadata": {},
   "outputs": [],
   "source": [
    "weights"
   ]
  },
  {
   "cell_type": "code",
   "execution_count": 9,
   "id": "4e08e514",
   "metadata": {},
   "outputs": [
    {
     "data": {
      "text/html": [
       "<div><style>\n",
       ".dataframe > thead > tr,\n",
       ".dataframe > tbody > tr {\n",
       "  text-align: right;\n",
       "  white-space: pre-wrap;\n",
       "}\n",
       "</style>\n",
       "<small>shape: (22_363_472, 22)</small><table border=\"1\" class=\"dataframe\"><thead><tr><th>date</th><th>barrid</th><th>ticker</th><th>price</th><th>return</th><th>specific_return</th><th>specific_risk</th><th>historical_beta</th><th>predicted_beta</th><th>market_cap</th><th>daily_volume</th><th>bid_ask_spread</th><th>log_return</th><th>momentum</th><th>meanrev</th><th>bab</th><th>momentum_z</th><th>meanrev_z</th><th>bab_z</th><th>momentum_alpha</th><th>meanrev_alpha</th><th>bab_alpha</th></tr><tr><td>date</td><td>str</td><td>str</td><td>f64</td><td>f64</td><td>f64</td><td>f64</td><td>f64</td><td>f64</td><td>f64</td><td>f64</td><td>f64</td><td>f64</td><td>f64</td><td>f64</td><td>f64</td><td>f64</td><td>f64</td><td>f64</td><td>f64</td><td>f64</td><td>f64</td></tr></thead><tbody><tr><td>2013-07-31</td><td>&quot;USA06Z1&quot;</td><td>&quot;MDXG&quot;</td><td>6.26</td><td>-0.000016</td><td>-0.000079</td><td>0.005506</td><td>0.328385</td><td>0.34349</td><td>6.006157e8</td><td>121693.0</td><td>0.01</td><td>-0.000016</td><td>null</td><td>null</td><td>-0.34349</td><td>null</td><td>null</td><td>2.149267</td><td>null</td><td>null</td><td>0.000592</td></tr><tr><td>2013-08-01</td><td>&quot;USA06Z1&quot;</td><td>&quot;MDXG&quot;</td><td>6.32</td><td>0.000096</td><td>0.0000365</td><td>0.005503</td><td>0.334989</td><td>0.353329</td><td>6.0865392e8</td><td>131728.0</td><td>0.01</td><td>0.000096</td><td>null</td><td>null</td><td>-0.353329</td><td>null</td><td>null</td><td>2.111728</td><td>null</td><td>null</td><td>0.000581</td></tr><tr><td>2013-08-02</td><td>&quot;USA06Z1&quot;</td><td>&quot;MDXG&quot;</td><td>6.31</td><td>-0.000016</td><td>-0.000073</td><td>0.005481</td><td>0.330713</td><td>0.363624</td><td>6.0769086e8</td><td>43252.0</td><td>0.01</td><td>-0.000016</td><td>null</td><td>null</td><td>-0.363624</td><td>null</td><td>null</td><td>2.086144</td><td>null</td><td>null</td><td>0.000572</td></tr><tr><td>2013-08-05</td><td>&quot;USA06Z1&quot;</td><td>&quot;MDXG&quot;</td><td>6.45</td><td>0.000222</td><td>0.0001936</td><td>0.005477</td><td>0.324494</td><td>0.356596</td><td>6.211737e8</td><td>70944.0</td><td>0.02</td><td>0.000222</td><td>null</td><td>null</td><td>-0.356596</td><td>null</td><td>null</td><td>2.098288</td><td>null</td><td>null</td><td>0.000575</td></tr><tr><td>2013-08-06</td><td>&quot;USA06Z1&quot;</td><td>&quot;MDXG&quot;</td><td>6.29</td><td>-0.000248</td><td>-0.000053</td><td>0.005469</td><td>0.366323</td><td>0.399196</td><td>6.0576474e8</td><td>77085.0</td><td>0.01</td><td>-0.000248</td><td>null</td><td>null</td><td>-0.399196</td><td>null</td><td>null</td><td>2.001238</td><td>null</td><td>null</td><td>0.000547</td></tr><tr><td>&hellip;</td><td>&hellip;</td><td>&hellip;</td><td>&hellip;</td><td>&hellip;</td><td>&hellip;</td><td>&hellip;</td><td>&hellip;</td><td>&hellip;</td><td>&hellip;</td><td>&hellip;</td><td>&hellip;</td><td>&hellip;</td><td>&hellip;</td><td>&hellip;</td><td>&hellip;</td><td>&hellip;</td><td>&hellip;</td><td>&hellip;</td><td>&hellip;</td><td>&hellip;</td><td>&hellip;</td></tr><tr><td>2025-09-09</td><td>&quot;USBRKA2&quot;</td><td>&quot;GLIBA&quot;</td><td>36.225</td><td>-0.000043</td><td>0.0001121</td><td>0.002084</td><td>0.236481</td><td>0.302514</td><td>1.3226e8</td><td>31025.0</td><td>0.11</td><td>-0.000043</td><td>null</td><td>-0.000583</td><td>-0.302514</td><td>null</td><td>0.100295</td><td>2.013268</td><td>null</td><td>0.00001</td><td>0.00021</td></tr><tr><td>2025-09-10</td><td>&quot;USBRKA2&quot;</td><td>&quot;GLIBA&quot;</td><td>36.24</td><td>0.000004</td><td>0.000231</td><td>0.002095</td><td>0.252015</td><td>0.29845</td><td>1.3231e8</td><td>6298.0</td><td>0.21</td><td>0.000004</td><td>null</td><td>-0.000102</td><td>-0.29845</td><td>null</td><td>0.428666</td><td>2.007619</td><td>null</td><td>0.000045</td><td>0.00021</td></tr><tr><td>2025-09-11</td><td>&quot;USBRKA2&quot;</td><td>&quot;GLIBA&quot;</td><td>37.05</td><td>0.000224</td><td>0.0000213</td><td>0.002148</td><td>0.256752</td><td>0.31384</td><td>1.3527e8</td><td>26857.0</td><td>0.25</td><td>0.000223</td><td>null</td><td>-0.000229</td><td>-0.31384</td><td>null</td><td>0.301627</td><td>1.987568</td><td>null</td><td>0.000032</td><td>0.000213</td></tr><tr><td>2025-09-12</td><td>&quot;USBRKA2&quot;</td><td>&quot;GLIBA&quot;</td><td>36.17</td><td>-0.000238</td><td>-0.000073</td><td>0.002194</td><td>0.257401</td><td>0.328961</td><td>1.3205e8</td><td>8983.0</td><td>0.16</td><td>-0.000238</td><td>null</td><td>-0.00068</td><td>-0.328961</td><td>null</td><td>0.133838</td><td>1.958489</td><td>null</td><td>0.000015</td><td>0.000215</td></tr><tr><td>2025-09-15</td><td>&quot;USBRKA2&quot;</td><td>&quot;GLIBA&quot;</td><td>35.72</td><td>-0.000124</td><td>-0.000079</td><td>0.002178</td><td>0.252982</td><td>0.331983</td><td>1.3041e8</td><td>25995.0</td><td>0.13</td><td>-0.000124</td><td>null</td><td>-0.000469</td><td>-0.331983</td><td>null</td><td>0.005203</td><td>1.932001</td><td>null</td><td>5.6663e-7</td><td>0.00021</td></tr></tbody></table></div>"
      ],
      "text/plain": [
       "shape: (22_363_472, 22)\n",
       "┌────────────┬─────────┬────────┬────────┬───┬──────────┬───────────────┬──────────────┬───────────┐\n",
       "│ date       ┆ barrid  ┆ ticker ┆ price  ┆ … ┆ bab_z    ┆ momentum_alph ┆ meanrev_alph ┆ bab_alpha │\n",
       "│ ---        ┆ ---     ┆ ---    ┆ ---    ┆   ┆ ---      ┆ a             ┆ a            ┆ ---       │\n",
       "│ date       ┆ str     ┆ str    ┆ f64    ┆   ┆ f64      ┆ ---           ┆ ---          ┆ f64       │\n",
       "│            ┆         ┆        ┆        ┆   ┆          ┆ f64           ┆ f64          ┆           │\n",
       "╞════════════╪═════════╪════════╪════════╪═══╪══════════╪═══════════════╪══════════════╪═══════════╡\n",
       "│ 2013-07-31 ┆ USA06Z1 ┆ MDXG   ┆ 6.26   ┆ … ┆ 2.149267 ┆ null          ┆ null         ┆ 0.000592  │\n",
       "│ 2013-08-01 ┆ USA06Z1 ┆ MDXG   ┆ 6.32   ┆ … ┆ 2.111728 ┆ null          ┆ null         ┆ 0.000581  │\n",
       "│ 2013-08-02 ┆ USA06Z1 ┆ MDXG   ┆ 6.31   ┆ … ┆ 2.086144 ┆ null          ┆ null         ┆ 0.000572  │\n",
       "│ 2013-08-05 ┆ USA06Z1 ┆ MDXG   ┆ 6.45   ┆ … ┆ 2.098288 ┆ null          ┆ null         ┆ 0.000575  │\n",
       "│ 2013-08-06 ┆ USA06Z1 ┆ MDXG   ┆ 6.29   ┆ … ┆ 2.001238 ┆ null          ┆ null         ┆ 0.000547  │\n",
       "│ …          ┆ …       ┆ …      ┆ …      ┆ … ┆ …        ┆ …             ┆ …            ┆ …         │\n",
       "│ 2025-09-09 ┆ USBRKA2 ┆ GLIBA  ┆ 36.225 ┆ … ┆ 2.013268 ┆ null          ┆ 0.00001      ┆ 0.00021   │\n",
       "│ 2025-09-10 ┆ USBRKA2 ┆ GLIBA  ┆ 36.24  ┆ … ┆ 2.007619 ┆ null          ┆ 0.000045     ┆ 0.00021   │\n",
       "│ 2025-09-11 ┆ USBRKA2 ┆ GLIBA  ┆ 37.05  ┆ … ┆ 1.987568 ┆ null          ┆ 0.000032     ┆ 0.000213  │\n",
       "│ 2025-09-12 ┆ USBRKA2 ┆ GLIBA  ┆ 36.17  ┆ … ┆ 1.958489 ┆ null          ┆ 0.000015     ┆ 0.000215  │\n",
       "│ 2025-09-15 ┆ USBRKA2 ┆ GLIBA  ┆ 35.72  ┆ … ┆ 1.932001 ┆ null          ┆ 5.6663e-7    ┆ 0.00021   │\n",
       "└────────────┴─────────┴────────┴────────┴───┴──────────┴───────────────┴──────────────┴───────────┘"
      ]
     },
     "execution_count": 9,
     "metadata": {},
     "output_type": "execute_result"
    }
   ],
   "source": [
    "df"
   ]
  }
 ],
 "metadata": {
  "kernelspec": {
   "display_name": "orthogonal-alphas",
   "language": "python",
   "name": "python3"
  },
  "language_info": {
   "codemirror_mode": {
    "name": "ipython",
    "version": 3
   },
   "file_extension": ".py",
   "mimetype": "text/x-python",
   "name": "python",
   "nbconvert_exporter": "python",
   "pygments_lexer": "ipython3",
   "version": "3.13.7"
  }
 },
 "nbformat": 4,
 "nbformat_minor": 5
}
