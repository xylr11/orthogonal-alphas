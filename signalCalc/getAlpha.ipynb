{
 "cells": [
  {
   "cell_type": "code",
   "execution_count": 1,
   "id": "054f64cf",
   "metadata": {},
   "outputs": [
    {
     "name": "stderr",
     "output_type": "stream",
     "text": [
      "/home/jaic007/.local/lib/python3.11/site-packages/tqdm/auto.py:21: TqdmWarning: IProgress not found. Please update jupyter and ipywidgets. See https://ipywidgets.readthedocs.io/en/stable/user_install.html\n",
      "  from .autonotebook import tqdm as notebook_tqdm\n",
      "2025-10-01 00:32:14,196\tINFO util.py:154 -- Missing packages: ['ipywidgets']. Run `pip install -U ipywidgets`, then restart the notebook server for rich notebook output.\n"
     ]
    }
   ],
   "source": [
    "# Import necessary packages\n",
    "\n",
    "import sf_quant.data as sfd\n",
    "import polars as pl\n",
    "import datetime as dt"
   ]
  },
  {
   "cell_type": "code",
   "execution_count": 2,
   "id": "33118f4a",
   "metadata": {},
   "outputs": [
    {
     "data": {
      "text/html": [
       "<div><style>\n",
       ".dataframe > thead > tr,\n",
       ".dataframe > tbody > tr {\n",
       "  text-align: right;\n",
       "  white-space: pre-wrap;\n",
       "}\n",
       "</style>\n",
       "<small>shape: (21_845_639, 7)</small><table border=\"1\" class=\"dataframe\"><thead><tr><th>date</th><th>barrid</th><th>ticker</th><th>price</th><th>return</th><th>specific_risk</th><th>predicted_beta</th></tr><tr><td>date</td><td>str</td><td>str</td><td>f64</td><td>f64</td><td>f64</td><td>f64</td></tr></thead><tbody><tr><td>2013-07-31</td><td>&quot;USA06Z1&quot;</td><td>&quot;MDXG&quot;</td><td>6.26</td><td>-0.1595</td><td>55.056916</td><td>0.34349</td></tr><tr><td>2013-08-01</td><td>&quot;USA06Z1&quot;</td><td>&quot;MDXG&quot;</td><td>6.32</td><td>0.9585</td><td>55.028021</td><td>0.353329</td></tr><tr><td>2013-08-02</td><td>&quot;USA06Z1&quot;</td><td>&quot;MDXG&quot;</td><td>6.31</td><td>-0.1582</td><td>54.807402</td><td>0.363624</td></tr><tr><td>2013-08-05</td><td>&quot;USA06Z1&quot;</td><td>&quot;MDXG&quot;</td><td>6.45</td><td>2.2187</td><td>54.76671</td><td>0.356596</td></tr><tr><td>2013-08-06</td><td>&quot;USA06Z1&quot;</td><td>&quot;MDXG&quot;</td><td>6.29</td><td>-2.4806</td><td>54.692162</td><td>0.399196</td></tr><tr><td>&hellip;</td><td>&hellip;</td><td>&hellip;</td><td>&hellip;</td><td>&hellip;</td><td>&hellip;</td><td>&hellip;</td></tr><tr><td>2024-12-24</td><td>&quot;USBQOR1&quot;</td><td>&quot;ECG&quot;</td><td>70.58</td><td>2.5872</td><td>26.800417</td><td>1.287294</td></tr><tr><td>2024-12-26</td><td>&quot;USBQOR1&quot;</td><td>&quot;ECG&quot;</td><td>73.61</td><td>4.293</td><td>27.172284</td><td>1.288943</td></tr><tr><td>2024-12-27</td><td>&quot;USBQOR1&quot;</td><td>&quot;ECG&quot;</td><td>69.85</td><td>-5.108</td><td>27.468053</td><td>1.294801</td></tr><tr><td>2024-12-30</td><td>&quot;USBQOR1&quot;</td><td>&quot;ECG&quot;</td><td>66.87</td><td>-4.2663</td><td>27.353407</td><td>1.272111</td></tr><tr><td>2024-12-31</td><td>&quot;USBQOR1&quot;</td><td>&quot;ECG&quot;</td><td>65.75</td><td>-1.6749</td><td>27.144772</td><td>1.271267</td></tr></tbody></table></div>"
      ],
      "text/plain": [
       "shape: (21_845_639, 7)\n",
       "┌────────────┬─────────┬────────┬───────┬─────────┬───────────────┬────────────────┐\n",
       "│ date       ┆ barrid  ┆ ticker ┆ price ┆ return  ┆ specific_risk ┆ predicted_beta │\n",
       "│ ---        ┆ ---     ┆ ---    ┆ ---   ┆ ---     ┆ ---           ┆ ---            │\n",
       "│ date       ┆ str     ┆ str    ┆ f64   ┆ f64     ┆ f64           ┆ f64            │\n",
       "╞════════════╪═════════╪════════╪═══════╪═════════╪═══════════════╪════════════════╡\n",
       "│ 2013-07-31 ┆ USA06Z1 ┆ MDXG   ┆ 6.26  ┆ -0.1595 ┆ 55.056916     ┆ 0.34349        │\n",
       "│ 2013-08-01 ┆ USA06Z1 ┆ MDXG   ┆ 6.32  ┆ 0.9585  ┆ 55.028021     ┆ 0.353329       │\n",
       "│ 2013-08-02 ┆ USA06Z1 ┆ MDXG   ┆ 6.31  ┆ -0.1582 ┆ 54.807402     ┆ 0.363624       │\n",
       "│ 2013-08-05 ┆ USA06Z1 ┆ MDXG   ┆ 6.45  ┆ 2.2187  ┆ 54.76671      ┆ 0.356596       │\n",
       "│ 2013-08-06 ┆ USA06Z1 ┆ MDXG   ┆ 6.29  ┆ -2.4806 ┆ 54.692162     ┆ 0.399196       │\n",
       "│ …          ┆ …       ┆ …      ┆ …     ┆ …       ┆ …             ┆ …              │\n",
       "│ 2024-12-24 ┆ USBQOR1 ┆ ECG    ┆ 70.58 ┆ 2.5872  ┆ 26.800417     ┆ 1.287294       │\n",
       "│ 2024-12-26 ┆ USBQOR1 ┆ ECG    ┆ 73.61 ┆ 4.293   ┆ 27.172284     ┆ 1.288943       │\n",
       "│ 2024-12-27 ┆ USBQOR1 ┆ ECG    ┆ 69.85 ┆ -5.108  ┆ 27.468053     ┆ 1.294801       │\n",
       "│ 2024-12-30 ┆ USBQOR1 ┆ ECG    ┆ 66.87 ┆ -4.2663 ┆ 27.353407     ┆ 1.272111       │\n",
       "│ 2024-12-31 ┆ USBQOR1 ┆ ECG    ┆ 65.75 ┆ -1.6749 ┆ 27.144772     ┆ 1.271267       │\n",
       "└────────────┴─────────┴────────┴───────┴─────────┴───────────────┴────────────────┘"
      ]
     },
     "execution_count": 2,
     "metadata": {},
     "output_type": "execute_result"
    }
   ],
   "source": [
    "start = dt.date(1995, 6, 30)\n",
    "end = dt.date(2024, 12, 31)\n",
    "\n",
    "columns = [\n",
    "    'date',\n",
    "    'barrid',\n",
    "    'ticker',\n",
    "    'price',\n",
    "    'return',\n",
    "    'specific_risk',\n",
    "    'predicted_beta'\n",
    "]\n",
    "\n",
    "data = sfd.load_assets(\n",
    "    start=start,\n",
    "    end=end,\n",
    "    in_universe=True,\n",
    "    columns=columns\n",
    ")\n",
    "\n",
    "data"
   ]
  },
  {
   "cell_type": "code",
   "execution_count": 3,
   "id": "f7664e69",
   "metadata": {},
   "outputs": [],
   "source": [
    "def computeFactors(data: pl.DataFrame) -> pl.LazyFrame:\n",
    "    \"\"\"\n",
    "    Compute factor signals (12m momentum, 1m mean reversion, simple BAB)\n",
    "    and volatility-adjust them using Barra's specific_risk column.\n",
    "    \"\"\"\n",
    "    df = (\n",
    "        data.lazy()\n",
    "        .sort([\"barrid\", \"date\"])\n",
    "        # --- Converting return and specific risk into fractional space ---\n",
    "        .with_columns(\n",
    "            pl.col('specific_risk').truediv(100)\n",
    "        )\n",
    "        .with_columns(\n",
    "            pl.col('return').truediv(100)\n",
    "        )\n",
    "        .with_columns(\n",
    "            pl.col('return').log1p().alias('log_return')\n",
    "        )\n",
    "        # --- 12-month momentum (t-12 to t-2) ---\n",
    "        .with_columns([\n",
    "            pl.col(\"log_return\")\n",
    "              .rolling_sum(window_size=230)\n",
    "              .over(\"barrid\")\n",
    "              .alias(\"momentum_temp\")\n",
    "        ])\n",
    "        .with_columns([\n",
    "            pl.col(\"momentum_temp\").shift(22).over(\"barrid\").alias(\"momentum_12m\")\n",
    "        ])\n",
    "        # --- 1-month mean reversion ---\n",
    "        .with_columns([\n",
    "            pl.col(\"log_return\")\n",
    "              .rolling_sum(window_size=22)\n",
    "              .over(\"barrid\")\n",
    "              .alias(\"meanrev_temp\")\n",
    "        ])\n",
    "        .with_columns([\n",
    "            (-pl.col(\"meanrev_temp\").shift(1).over(\"barrid\")).alias(\"meanrev_1m\")\n",
    "        ])\n",
    "        # --- BAB = -predicted_beta ---\n",
    "        .with_columns([\n",
    "            (-pl.col(\"predicted_beta\")).alias(\"bab\")\n",
    "        ])\n",
    "        # --- Vol adjustment using Barra's specific_risk ---\n",
    "        .with_columns([\n",
    "            (pl.col(\"momentum_12m\") / pl.col(\"specific_risk\")).alias(\"momentum_12m_voladj\"),\n",
    "            (pl.col(\"meanrev_1m\") / pl.col(\"specific_risk\")).alias(\"meanrev_1m_voladj\"),\n",
    "            (pl.col(\"bab\") / pl.col(\"specific_risk\")).alias(\"bab_voladj\")\n",
    "        ])\n",
    "        # Keep all original columns and add only the vol-adjusted factors\n",
    "        .drop([\"momentum_temp\", \"meanrev_temp\", \"log_return\", \"momentum_12m\", \"meanrev_1m\", \"bab\"])  # Remove temporary and intermediate columns\n",
    "    )\n",
    "    return df"
   ]
  },
  {
   "cell_type": "code",
   "execution_count": 4,
   "id": "8f83db43",
   "metadata": {},
   "outputs": [
    {
     "data": {
      "text/html": [
       "<div><style>\n",
       ".dataframe > thead > tr,\n",
       ".dataframe > tbody > tr {\n",
       "  text-align: right;\n",
       "  white-space: pre-wrap;\n",
       "}\n",
       "</style>\n",
       "<small>shape: (21_845_639, 10)</small><table border=\"1\" class=\"dataframe\"><thead><tr><th>date</th><th>barrid</th><th>ticker</th><th>price</th><th>return</th><th>specific_risk</th><th>predicted_beta</th><th>momentum_12m_voladj</th><th>meanrev_1m_voladj</th><th>bab_voladj</th></tr><tr><td>date</td><td>str</td><td>str</td><td>f64</td><td>f64</td><td>f64</td><td>f64</td><td>f64</td><td>f64</td><td>f64</td></tr></thead><tbody><tr><td>2013-07-31</td><td>&quot;USA06Z1&quot;</td><td>&quot;MDXG&quot;</td><td>6.26</td><td>-0.001595</td><td>0.550569</td><td>0.34349</td><td>null</td><td>null</td><td>-0.623882</td></tr><tr><td>2013-08-01</td><td>&quot;USA06Z1&quot;</td><td>&quot;MDXG&quot;</td><td>6.32</td><td>0.009585</td><td>0.55028</td><td>0.353329</td><td>null</td><td>null</td><td>-0.642089</td></tr><tr><td>2013-08-02</td><td>&quot;USA06Z1&quot;</td><td>&quot;MDXG&quot;</td><td>6.31</td><td>-0.001582</td><td>0.548074</td><td>0.363624</td><td>null</td><td>null</td><td>-0.663458</td></tr><tr><td>2013-08-05</td><td>&quot;USA06Z1&quot;</td><td>&quot;MDXG&quot;</td><td>6.45</td><td>0.022187</td><td>0.547667</td><td>0.356596</td><td>null</td><td>null</td><td>-0.651118</td></tr><tr><td>2013-08-06</td><td>&quot;USA06Z1&quot;</td><td>&quot;MDXG&quot;</td><td>6.29</td><td>-0.024806</td><td>0.546922</td><td>0.399196</td><td>null</td><td>null</td><td>-0.729896</td></tr><tr><td>&hellip;</td><td>&hellip;</td><td>&hellip;</td><td>&hellip;</td><td>&hellip;</td><td>&hellip;</td><td>&hellip;</td><td>&hellip;</td><td>&hellip;</td><td>&hellip;</td></tr><tr><td>2024-12-24</td><td>&quot;USBQOR1&quot;</td><td>&quot;ECG&quot;</td><td>70.58</td><td>0.025872</td><td>0.268004</td><td>1.287294</td><td>null</td><td>null</td><td>-4.803261</td></tr><tr><td>2024-12-26</td><td>&quot;USBQOR1&quot;</td><td>&quot;ECG&quot;</td><td>73.61</td><td>0.04293</td><td>0.271723</td><td>1.288943</td><td>null</td><td>null</td><td>-4.743595</td></tr><tr><td>2024-12-27</td><td>&quot;USBQOR1&quot;</td><td>&quot;ECG&quot;</td><td>69.85</td><td>-0.05108</td><td>0.274681</td><td>1.294801</td><td>null</td><td>null</td><td>-4.713843</td></tr><tr><td>2024-12-30</td><td>&quot;USBQOR1&quot;</td><td>&quot;ECG&quot;</td><td>66.87</td><td>-0.042663</td><td>0.273534</td><td>1.272111</td><td>null</td><td>null</td><td>-4.650649</td></tr><tr><td>2024-12-31</td><td>&quot;USBQOR1&quot;</td><td>&quot;ECG&quot;</td><td>65.75</td><td>-0.016749</td><td>0.271448</td><td>1.271267</td><td>null</td><td>null</td><td>-4.683285</td></tr></tbody></table></div>"
      ],
      "text/plain": [
       "shape: (21_845_639, 10)\n",
       "┌────────────┬─────────┬────────┬───────┬───┬─────────────┬─────────────┬─────────────┬────────────┐\n",
       "│ date       ┆ barrid  ┆ ticker ┆ price ┆ … ┆ predicted_b ┆ momentum_12 ┆ meanrev_1m_ ┆ bab_voladj │\n",
       "│ ---        ┆ ---     ┆ ---    ┆ ---   ┆   ┆ eta         ┆ m_voladj    ┆ voladj      ┆ ---        │\n",
       "│ date       ┆ str     ┆ str    ┆ f64   ┆   ┆ ---         ┆ ---         ┆ ---         ┆ f64        │\n",
       "│            ┆         ┆        ┆       ┆   ┆ f64         ┆ f64         ┆ f64         ┆            │\n",
       "╞════════════╪═════════╪════════╪═══════╪═══╪═════════════╪═════════════╪═════════════╪════════════╡\n",
       "│ 2013-07-31 ┆ USA06Z1 ┆ MDXG   ┆ 6.26  ┆ … ┆ 0.34349     ┆ null        ┆ null        ┆ -0.623882  │\n",
       "│ 2013-08-01 ┆ USA06Z1 ┆ MDXG   ┆ 6.32  ┆ … ┆ 0.353329    ┆ null        ┆ null        ┆ -0.642089  │\n",
       "│ 2013-08-02 ┆ USA06Z1 ┆ MDXG   ┆ 6.31  ┆ … ┆ 0.363624    ┆ null        ┆ null        ┆ -0.663458  │\n",
       "│ 2013-08-05 ┆ USA06Z1 ┆ MDXG   ┆ 6.45  ┆ … ┆ 0.356596    ┆ null        ┆ null        ┆ -0.651118  │\n",
       "│ 2013-08-06 ┆ USA06Z1 ┆ MDXG   ┆ 6.29  ┆ … ┆ 0.399196    ┆ null        ┆ null        ┆ -0.729896  │\n",
       "│ …          ┆ …       ┆ …      ┆ …     ┆ … ┆ …           ┆ …           ┆ …           ┆ …          │\n",
       "│ 2024-12-24 ┆ USBQOR1 ┆ ECG    ┆ 70.58 ┆ … ┆ 1.287294    ┆ null        ┆ null        ┆ -4.803261  │\n",
       "│ 2024-12-26 ┆ USBQOR1 ┆ ECG    ┆ 73.61 ┆ … ┆ 1.288943    ┆ null        ┆ null        ┆ -4.743595  │\n",
       "│ 2024-12-27 ┆ USBQOR1 ┆ ECG    ┆ 69.85 ┆ … ┆ 1.294801    ┆ null        ┆ null        ┆ -4.713843  │\n",
       "│ 2024-12-30 ┆ USBQOR1 ┆ ECG    ┆ 66.87 ┆ … ┆ 1.272111    ┆ null        ┆ null        ┆ -4.650649  │\n",
       "│ 2024-12-31 ┆ USBQOR1 ┆ ECG    ┆ 65.75 ┆ … ┆ 1.271267    ┆ null        ┆ null        ┆ -4.683285  │\n",
       "└────────────┴─────────┴────────┴───────┴───┴─────────────┴─────────────┴─────────────┴────────────┘"
      ]
     },
     "execution_count": 4,
     "metadata": {},
     "output_type": "execute_result"
    }
   ],
   "source": [
    "# computeFactors returns a LazyFrame\n",
    "lazy_factors = computeFactors(data)\n",
    "\n",
    "# trigger execution\n",
    "factors = lazy_factors.collect()\n",
    "\n",
    "factors"
   ]
  },
  {
   "cell_type": "code",
   "execution_count": 5,
   "id": "a0c5dc95",
   "metadata": {},
   "outputs": [],
   "source": [
    "# BAB factor\n",
    "factors_bab = (\n",
    "    factors\n",
    "    .select([\"date\", \"barrid\", \"ticker\", \"price\", \"return\", \"specific_risk\", \"predicted_beta\", \"bab_voladj\"])\n",
    "    .rename({\"bab_voladj\": \"signal_value\"})\n",
    ")\n",
    "\n",
    "# Momentum factor\n",
    "factors_mom = (\n",
    "    factors\n",
    "    .select([\"date\", \"barrid\", \"ticker\", \"price\", \"return\", \"specific_risk\", \"predicted_beta\", \"momentum_12m_voladj\"])\n",
    "    .rename({\"momentum_12m_voladj\": \"signal_value\"})\n",
    ")\n",
    "\n",
    "# Mean reversion factor\n",
    "factors_meanrev = (\n",
    "    factors\n",
    "    .select([\"date\", \"barrid\", \"ticker\", \"price\", \"return\", \"specific_risk\", \"predicted_beta\", \"meanrev_1m_voladj\"])\n",
    "    .rename({\"meanrev_1m_voladj\": \"signal_value\"})\n",
    ")"
   ]
  },
  {
   "cell_type": "code",
   "execution_count": 7,
   "id": "97baadac",
   "metadata": {},
   "outputs": [],
   "source": [
    "def task_compute_alphas(signal: pl.DataFrame) -> pl.DataFrame:\n",
    "    \"\"\" \n",
    "    Compute the alphas for each security and date combo.\n",
    "\n",
    "    Args:\n",
    "        momentum (pl.DataFrame): Data frame containing barrid, date, specific_risk, and momentum columns.\n",
    "    \n",
    "    Returns:\n",
    "        pl.DataFrame: Data frame containing barrid, date, specific_risk, momentum, score, and alpha columns.\n",
    "    \"\"\"\n",
    "    return (\n",
    "        signal\n",
    "        .sort('barrid', 'date')\n",
    "        .with_columns(\n",
    "            pl.col('specific_risk').fill_null(strategy='forward').over('barrid')\n",
    "        )\n",
    "        .with_columns(\n",
    "            pl.col('signal_value')\n",
    "            .sub(pl.col('signal_value').mean())\n",
    "            .truediv(pl.col('signal_value').std())\n",
    "            .over('date')\n",
    "            .alias('score')\n",
    "        )\n",
    "        .with_columns(\n",
    "            pl.lit(0.05).mul('score').mul('specific_risk').alias('alpha')\n",
    "        )\n",
    "        .sort('barrid', 'date')\n",
    "        .drop([\"price\", \"return\", \"ticker\", \"score\", \"signal_value\", \"specific_risk\"])\n",
    "\n",
    "    )\n",
    "\n",
    "mom_alpha = task_compute_alphas(factors_mom)\n",
    "\n",
    "meanrev_alpha = task_compute_alphas(factors_meanrev)\n",
    "\n",
    "bab_alpha = task_compute_alphas(factors_bab)"
   ]
  },
  {
   "cell_type": "code",
   "execution_count": null,
   "id": "03ff3ada",
   "metadata": {},
   "outputs": [],
   "source": [
    "# meanrev_alpha.write_parquet(\"meanrev_alpha.parquet\")\n",
    "# mom_alpha.write_parquet(\"mom_alpha.parquet\")\n",
    "# bab_alpha.write_parquet(\"bab_alpha.parquet\")"
   ]
  },
  {
   "cell_type": "code",
   "execution_count": null,
   "id": "90a70b3f",
   "metadata": {},
   "outputs": [],
   "source": []
  }
 ],
 "metadata": {
  "kernelspec": {
   "display_name": "sf_quant",
   "language": "python",
   "name": "python3"
  },
  "language_info": {
   "codemirror_mode": {
    "name": "ipython",
    "version": 3
   },
   "file_extension": ".py",
   "mimetype": "text/x-python",
   "name": "python",
   "nbconvert_exporter": "python",
   "pygments_lexer": "ipython3",
   "version": "3.11.13"
  }
 },
 "nbformat": 4,
 "nbformat_minor": 5
}
